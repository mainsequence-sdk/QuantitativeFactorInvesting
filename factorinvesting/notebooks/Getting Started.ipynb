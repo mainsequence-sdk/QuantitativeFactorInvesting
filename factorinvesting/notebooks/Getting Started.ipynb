{
 "cells": [
  {
   "metadata": {},
   "cell_type": "code",
   "source": [
    "\n",
    "#comment out for local testing out of Main Sequence Platform\n",
    "import dotenv\n",
    "dotenv.load_dotenv('../../.env')\n",
    "\n",
    "from mainsequence.virtualfundbuilder.portfolio_interface import PortfolioInterface\n",
    "from mainsequence.virtualfundbuilder.agent_interface import TDAGAgent"
   ],
   "id": "8c9bb090157e4c1a",
   "outputs": [],
   "execution_count": null
  },
  {
   "metadata": {},
   "cell_type": "markdown",
   "source": "# Connect to the TDAG-LLM Agent",
   "id": "67f98089503b1773"
  },
  {
   "metadata": {},
   "cell_type": "code",
   "source": "tdag_agent = TDAGAgent()",
   "id": "33b3e037285a8d82",
   "outputs": [],
   "execution_count": null
  },
  {
   "metadata": {},
   "cell_type": "markdown",
   "source": "# Get the configuration for the full portfolio based on our strategy",
   "id": "22e3d24a3bbc1ef5"
  },
  {
   "metadata": {},
   "cell_type": "code",
   "source": "PortfolioInterface.list_configurations()",
   "id": "82d82eb8b40cfce9",
   "outputs": [],
   "execution_count": null
  },
  {
   "cell_type": "code",
   "id": "initial_id",
   "metadata": {
    "collapsed": true
   },
   "source": [
    "from mainsequence.virtualfundbuilder.contrib.time_series import MarketCap\n",
    "\n",
    "portfolio = tdag_agent.generate_portfolio(MarketCap, signal_description=\"Create me a market cap portfolio using MAG 7 assets\")"
   ],
   "outputs": [],
   "execution_count": null
  },
  {
   "metadata": {},
   "cell_type": "markdown",
   "source": "# Run the strategy",
   "id": "942a3a9a3448b48f"
  },
  {
   "metadata": {},
   "cell_type": "code",
   "source": [
    "res = portfolio.run()\n",
    "res.head()"
   ],
   "id": "7fa00114d7ef0b8",
   "outputs": [],
   "execution_count": null
  },
  {
   "metadata": {},
   "cell_type": "markdown",
   "source": "# Plot the portfolio results",
   "id": "c8168bc319a2969a"
  },
  {
   "metadata": {},
   "cell_type": "code",
   "source": [
    "import plotly.graph_objects as go\n",
    "import pandas as pd\n",
    "\n",
    "# Create the plot\n",
    "fig = go.Figure()\n",
    "\n",
    "fig.add_trace(\n",
    "    go.Scatter(\n",
    "        x=res.index, \n",
    "        y=res[\"close\"], \n",
    "        mode=\"lines+markers\",\n",
    "        name=\"Portfolio Value\",\n",
    "        line=dict(color='blue', width=1),\n",
    "        marker=dict(size=2)\n",
    "    )\n",
    ")\n",
    "\n",
    "# Customize layout\n",
    "fig.update_layout(\n",
    "    title=\"Portfolio Value Over Time\",\n",
    "    xaxis_title=\"Date\",\n",
    "    yaxis_title=\"Portfolio Value\",\n",
    "    template=\"plotly_white\",\n",
    "    hovermode=\"x unified\"\n",
    ")\n",
    "\n",
    "# Show the plot\n",
    "fig.show()"
   ],
   "id": "5e4a64ab6030cb60",
   "outputs": [],
   "execution_count": null
  },
  {
   "metadata": {},
   "cell_type": "code",
   "source": "",
   "id": "9cb1bc6a12b9e8a6",
   "outputs": [],
   "execution_count": null
  }
 ],
 "metadata": {
  "kernelspec": {
   "display_name": "Python 3",
   "language": "python",
   "name": "python3"
  },
  "language_info": {
   "codemirror_mode": {
    "name": "ipython",
    "version": 2
   },
   "file_extension": ".py",
   "mimetype": "text/x-python",
   "name": "python",
   "nbconvert_exporter": "python",
   "pygments_lexer": "ipython2",
   "version": "2.7.6"
  }
 },
 "nbformat": 4,
 "nbformat_minor": 5
}
