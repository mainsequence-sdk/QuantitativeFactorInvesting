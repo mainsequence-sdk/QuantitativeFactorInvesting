{
 "cells": [
  {
   "cell_type": "markdown",
   "id": "0bf5257a",
   "metadata": {},
   "source": [
    "# Example Portfolio Factor Analysis\n",
    "This notebook walks through the modular steps of **PortfolioFactorAnalysis**, illustrating each analysis with `plotly` visualizations.\n"
   ]
  },
  {
   "cell_type": "markdown",
   "id": "404ce33a",
   "metadata": {},
   "source": [
    "## 1. Imports and Setup\n",
    "We import required libraries, load the `PortfolioFactorAnalysis` class, and set up our date range and (optional) portfolio weights."
   ]
  },
  {
   "metadata": {
    "ExecuteTime": {
     "end_time": "2025-08-11T10:11:54.892223Z",
     "start_time": "2025-08-11T10:11:40.431254Z"
    }
   },
   "cell_type": "code",
   "source": [
    "\n",
    "#comment out for local testing out of Main Sequence Platform\n",
    "import dotenv\n",
    "import numpy as np\n",
    "dotenv.load_dotenv('../../.env')\n",
    "\n",
    "\n",
    "import datetime\n",
    "import pandas as pd\n",
    "import plotly.express as px\n",
    "import mainsequence.client as ms_client\n",
    "import os\n",
    "os.environ[\"LOG_LEVEL_STDOUT\"]=\"INFO\" #override info level for notebook\n",
    "# Import the analysis class and time-series helpers\n",
    "from factorinvesting.data_nodes.factors_time_series import (FactorReturnsDataNodes,\n",
    "                                                            )\n",
    "from factorinvesting.src.analysis import PortfolioFactorAnalysis\n",
    "\n",
    "market_asset = ms_client.Asset.get(ticker=\"IVV\",\n",
    "                                   security_type=ms_client.MARKETS_CONSTANTS.FIGI_SECURITY_TYPE_ETP,\n",
    "                                   security_market_sector=ms_client.MARKETS_CONSTANTS.FIGI_MARKET_SECTOR_EQUITY,\n",
    "                                   )\n",
    "factor_returns_ts = FactorReturnsDataNodes(assets_category_unique_id='s&p500_constitutents',\n",
    "                                                market_beta_asset_proxy=market_asset,\n",
    "                                                )\n",
    "# Specify analysis date range\n",
    "start = datetime.datetime(2022, 1, 1)\n",
    "end = datetime.datetime(2025, 1, 30)\n",
    "\n",
    "\n",
    "portfolio_weights = PortfolioFactorAnalysis.create_random_portfolio()\n",
    "# Instantiate and run all analyses\n",
    "pfa = PortfolioFactorAnalysis(\n",
    "    factor_returns_ts=factor_returns_ts,\n",
    "    portfolio_weights=portfolio_weights,\n",
    "    start_date=start,\n",
    "    end_date=end\n",
    ")"
   ],
   "id": "fd5a2f5fec402ded",
   "outputs": [
    {
     "name": "stderr",
     "output_type": "stream",
     "text": [
      "python-dotenv could not parse statement starting at line 3\n",
      "python-dotenv could not parse statement starting at line 4\n",
      "python-dotenv could not parse statement starting at line 5\n",
      "python-dotenv could not parse statement starting at line 6\n",
      "python-dotenv could not parse statement starting at line 7\n",
      "python-dotenv could not parse statement starting at line 8\n",
      "\u001B[2m2025-08-11T10:11:41.594052Z\u001B[0m [\u001B[32m\u001B[1minfo     \u001B[0m] \u001B[1mSet remote data source to orm_class='DataSource' id=2 display_name='Default DB' organization=2 class_type='timescale_db' status='AVAILABLE' extra_arguments=None\u001B[0m \u001B[36mapplication_name\u001B[0m=\u001B[35mms-sdk\u001B[0m \u001B[36mcommand_id\u001B[0m=\u001B[35mNone\u001B[0m \u001B[36mdata_source_id\u001B[0m=\u001B[35m2\u001B[0m \u001B[36mjob_run_id\u001B[0m=\u001B[35mNone\u001B[0m \u001B[36mproject_id\u001B[0m=\u001B[35m1\u001B[0m (at models_tdag.py:1996 in set_remote_db())\n"
     ]
    },
    {
     "name": "stdout",
     "output_type": "stream",
     "text": [
      "Get pod configuration\n",
      "Executing Script: \n",
      "# -- Auto-generated imports for time_series --\n",
      "# -- Auto-generated imports for rebalance_strategies --\n",
      "# -- Auto-generated imports for apps --\n",
      "\n",
      "from mainsequence.virtualfundbuilder.agent_interface import TDAGAgent\n",
      "print('Initialize TDAGAgent')\n",
      "tdag_agent = TDAGAgent()\n",
      "Initialize TDAGAgent\n"
     ]
    },
    {
     "name": "stderr",
     "output_type": "stream",
     "text": [
      "\u001B[2m2025-08-11T10:11:50.678288Z\u001B[0m [\u001B[32m\u001B[1minfo     \u001B[0m] \u001B[1mSetup TDAG Agent successfull  \u001B[0m \u001B[36mapplication_name\u001B[0m=\u001B[35mms-sdk\u001B[0m \u001B[36mcommand_id\u001B[0m=\u001B[35mNone\u001B[0m \u001B[36mdata_source_id\u001B[0m=\u001B[35m2\u001B[0m \u001B[36mjob_run_id\u001B[0m=\u001B[35mNone\u001B[0m \u001B[36mproject_id\u001B[0m=\u001B[35m1\u001B[0m (at agent_interface.py:28 in __init__())\n"
     ]
    },
    {
     "name": "stdout",
     "output_type": "stream",
     "text": [
      "Inspecting polygon package contents:\n",
      "['AuthError', 'BadResponse', 'RESTClient', 'WebSocketClient', '__builtins__', '__cached__', '__doc__', '__file__', '__loader__', '__name__', '__package__', '__path__', '__spec__', '__version__', 'exceptions', 'logging', 'modelclass', 'rest', 'version', 'websocket']\n"
     ]
    }
   ],
   "execution_count": 1
  },
  {
   "cell_type": "markdown",
   "id": "5fb6800a",
   "metadata": {},
   "source": [
    "## 2. Load Exposures\n",
    "Load per-asset factor exposures into `exposures_df`.\n",
    "\n",
    "$$ X_{i,f}(t) = \\text{exposure of asset }i\\text{ to factor }f \\text{ at time }t$$"
   ]
  },
  {
   "metadata": {
    "ExecuteTime": {
     "end_time": "2025-08-11T10:11:54.902593Z",
     "start_time": "2025-08-11T10:11:54.898561Z"
    }
   },
   "cell_type": "code",
   "source": "pfa.portfolio_weights",
   "id": "4ae4388172248125",
   "outputs": [
    {
     "data": {
      "text/plain": [
       "BBG000N9MNX3    0.074286\n",
       "BBG000B9XRY4    0.098472\n",
       "BBG000BVPV84    0.161695\n",
       "BBG009S39JX6    0.218856\n",
       "BBG000BBJQV0    0.194392\n",
       "BBG000BPH459    0.208248\n",
       "BBG000MM2P62    0.044051\n",
       "Name: weight, dtype: float64"
      ]
     },
     "execution_count": 2,
     "metadata": {},
     "output_type": "execute_result"
    }
   ],
   "execution_count": 2
  },
  {
   "metadata": {},
   "cell_type": "markdown",
   "source": [
    "## 3. Compute Portfolio Exposures Over Time\n",
    "Aggregate asset exposures into portfolio exposures:\n",
    "\n",
    "$$ x_f(t) = \\sum_i w_i \\, X_{i,f}(t) $$"
   ],
   "id": "6faaa54399f44c36"
  },
  {
   "metadata": {
    "ExecuteTime": {
     "end_time": "2025-08-11T10:13:03.844500Z",
     "start_time": "2025-08-11T10:11:55.675977Z"
    }
   },
   "cell_type": "code",
   "source": [
    "# 3. Compute portfolio exposures\n",
    "port_expo = pfa.portfolio_exposure_df.reset_index().melt(\n",
    "    id_vars='time_index', var_name='Factor', value_name='Exposure'\n",
    ")\n",
    "fig = px.line(port_expo, x='time_index', y='Exposure', color='Factor',\n",
    "              title='Portfolio Factor Exposures Over Time')\n",
    "fig.show()"
   ],
   "id": "6f3770d715456b95",
   "outputs": [
    {
     "data": {
      "application/vnd.plotly.v1+json": {
       "data": [
        {
         "hovertemplate": "Factor=lncap<br>time_index=%{x}<br>Exposure=%{y}<extra></extra>",
         "legendgroup": "lncap",
         "line": {
          "color": "#636efa",
          "dash": "solid"
         },
         "marker": {
          "symbol": "circle"
         },
         "mode": "lines",
         "name": "lncap",
         "showlegend": true,
         "x": [
          "2022-01-03T00:00:00",
          "2022-01-04T00:00:00",
          "2022-01-05T00:00:00",
          "2022-01-06T00:00:00",
          "2022-01-07T00:00:00",
          "2022-01-10T00:00:00",
          "2022-01-11T00:00:00",
          "2022-01-12T00:00:00",
          "2022-01-13T00:00:00",
          "2022-01-14T00:00:00",
          "2022-01-18T00:00:00",
          "2022-01-19T00:00:00",
          "2022-01-20T00:00:00",
          "2022-01-21T00:00:00",
          "2022-01-24T00:00:00",
          "2022-01-25T00:00:00",
          "2022-01-26T00:00:00",
          "2022-01-27T00:00:00",
          "2022-01-28T00:00:00",
          "2022-01-31T00:00:00",
          "2022-02-01T00:00:00",
          "2022-02-02T00:00:00",
          "2022-02-03T00:00:00",
          "2022-02-04T00:00:00",
          "2022-02-07T00:00:00",
          "2022-02-08T00:00:00",
          "2022-02-09T00:00:00",
          "2022-02-10T00:00:00",
          "2022-02-11T00:00:00",
          "2022-02-14T00:00:00",
          "2022-02-15T00:00:00",
          "2022-02-16T00:00:00",
          "2022-02-17T00:00:00",
          "2022-02-18T00:00:00",
          "2022-02-22T00:00:00",
          "2022-02-23T00:00:00",
          "2022-02-24T00:00:00",
          "2022-02-25T00:00:00",
          "2022-02-28T00:00:00",
          "2022-03-01T00:00:00",
          "2022-03-02T00:00:00",
          "2022-03-03T00:00:00",
          "2022-03-04T00:00:00",
          "2022-03-07T00:00:00",
          "2022-03-08T00:00:00",
          "2022-03-09T00:00:00",
          "2022-03-10T00:00:00",
          "2022-03-11T00:00:00",
          "2022-03-14T00:00:00",
          "2022-03-15T00:00:00",
          "2022-03-16T00:00:00",
          "2022-03-17T00:00:00",
          "2022-03-18T00:00:00",
          "2022-03-21T00:00:00",
          "2022-03-22T00:00:00",
          "2022-03-23T00:00:00",
          "2022-03-24T00:00:00",
          "2022-03-25T00:00:00",
          "2022-03-28T00:00:00",
          "2022-03-29T00:00:00",
          "2022-03-30T00:00:00",
          "2022-03-31T00:00:00",
          "2022-04-01T00:00:00",
          "2022-04-04T00:00:00",
          "2022-04-05T00:00:00",
          "2022-04-06T00:00:00",
          "2022-04-07T00:00:00",
          "2022-04-08T00:00:00",
          "2022-04-11T00:00:00",
          "2022-04-12T00:00:00",
          "2022-04-13T00:00:00",
          "2022-04-14T00:00:00",
          "2022-04-18T00:00:00",
          "2022-04-19T00:00:00",
          "2022-04-20T00:00:00",
          "2022-04-21T00:00:00",
          "2022-04-22T00:00:00",
          "2022-04-25T00:00:00",
          "2022-04-26T00:00:00",
          "2022-04-27T00:00:00",
          "2022-04-28T00:00:00",
          "2022-04-29T00:00:00",
          "2022-05-02T00:00:00",
          "2022-05-03T00:00:00",
          "2022-05-04T00:00:00",
          "2022-05-05T00:00:00",
          "2022-05-06T00:00:00",
          "2022-05-09T00:00:00",
          "2022-05-10T00:00:00",
          "2022-05-11T00:00:00",
          "2022-05-12T00:00:00",
          "2022-05-13T00:00:00",
          "2022-05-16T00:00:00",
          "2022-05-17T00:00:00",
          "2022-05-18T00:00:00",
          "2022-05-19T00:00:00",
          "2022-05-20T00:00:00",
          "2022-05-23T00:00:00",
          "2022-05-24T00:00:00",
          "2022-05-25T00:00:00",
          "2022-05-26T00:00:00",
          "2022-05-27T00:00:00",
          "2022-05-31T00:00:00",
          "2022-06-01T00:00:00",
          "2022-06-02T00:00:00",
          "2022-06-03T00:00:00",
          "2022-06-06T00:00:00",
          "2022-06-07T00:00:00",
          "2022-06-08T00:00:00",
          "2022-06-09T00:00:00",
          "2022-06-10T00:00:00",
          "2022-06-13T00:00:00",
          "2022-06-14T00:00:00",
          "2022-06-15T00:00:00",
          "2022-06-16T00:00:00",
          "2022-06-17T00:00:00",
          "2022-06-21T00:00:00",
          "2022-06-22T00:00:00",
          "2022-06-23T00:00:00",
          "2022-06-24T00:00:00",
          "2022-06-27T00:00:00",
          "2022-06-28T00:00:00",
          "2022-06-29T00:00:00",
          "2022-06-30T00:00:00",
          "2022-07-01T00:00:00",
          "2022-07-05T00:00:00",
          "2022-07-06T00:00:00",
          "2022-07-07T00:00:00",
          "2022-07-08T00:00:00",
          "2022-07-11T00:00:00",
          "2022-07-12T00:00:00",
          "2022-07-13T00:00:00",
          "2022-07-14T00:00:00",
          "2022-07-15T00:00:00",
          "2022-07-18T00:00:00",
          "2022-07-19T00:00:00",
          "2022-07-20T00:00:00",
          "2022-07-21T00:00:00",
          "2022-07-22T00:00:00",
          "2022-07-25T00:00:00",
          "2022-07-26T00:00:00",
          "2022-07-27T00:00:00",
          "2022-07-28T00:00:00",
          "2022-07-29T00:00:00",
          "2022-08-01T00:00:00",
          "2022-08-02T00:00:00",
          "2022-08-03T00:00:00",
          "2022-08-04T00:00:00",
          "2022-08-05T00:00:00",
          "2022-08-08T00:00:00",
          "2022-08-09T00:00:00",
          "2022-08-10T00:00:00",
          "2022-08-11T00:00:00",
          "2022-08-12T00:00:00",
          "2022-08-15T00:00:00",
          "2022-08-16T00:00:00",
          "2022-08-17T00:00:00",
          "2022-08-18T00:00:00",
          "2022-08-19T00:00:00",
          "2022-08-22T00:00:00",
          "2022-08-23T00:00:00",
          "2022-08-24T00:00:00",
          "2022-08-25T00:00:00",
          "2022-08-26T00:00:00",
          "2022-08-29T00:00:00",
          "2022-08-30T00:00:00",
          "2022-08-31T00:00:00",
          "2022-09-01T00:00:00",
          "2022-09-02T00:00:00",
          "2022-09-06T00:00:00",
          "2022-09-07T00:00:00",
          "2022-09-08T00:00:00",
          "2022-09-09T00:00:00",
          "2022-09-12T00:00:00",
          "2022-09-13T00:00:00",
          "2022-09-14T00:00:00",
          "2022-09-15T00:00:00",
          "2022-09-16T00:00:00",
          "2022-09-19T00:00:00",
          "2022-09-20T00:00:00",
          "2022-09-21T00:00:00",
          "2022-09-22T00:00:00",
          "2022-09-23T00:00:00",
          "2022-09-26T00:00:00",
          "2022-09-27T00:00:00",
          "2022-09-28T00:00:00",
          "2022-09-29T00:00:00",
          "2022-09-30T00:00:00",
          "2022-10-03T00:00:00",
          "2022-10-04T00:00:00",
          "2022-10-05T00:00:00",
          "2022-10-06T00:00:00",
          "2022-10-07T00:00:00",
          "2022-10-10T00:00:00",
          "2022-10-11T00:00:00",
          "2022-10-12T00:00:00",
          "2022-10-13T00:00:00",
          "2022-10-14T00:00:00",
          "2022-10-17T00:00:00",
          "2022-10-18T00:00:00",
          "2022-10-19T00:00:00",
          "2022-10-20T00:00:00",
          "2022-10-21T00:00:00",
          "2022-10-24T00:00:00",
          "2022-10-25T00:00:00",
          "2022-10-26T00:00:00",
          "2022-10-27T00:00:00",
          "2022-10-28T00:00:00",
          "2022-10-31T00:00:00",
          "2022-11-01T00:00:00",
          "2022-11-02T00:00:00",
          "2022-11-03T00:00:00",
          "2022-11-04T00:00:00",
          "2022-11-07T00:00:00",
          "2022-11-08T00:00:00",
          "2022-11-09T00:00:00",
          "2022-11-10T00:00:00",
          "2022-11-11T00:00:00",
          "2022-11-14T00:00:00",
          "2022-11-15T00:00:00",
          "2022-11-16T00:00:00",
          "2022-11-17T00:00:00",
          "2022-11-18T00:00:00",
          "2022-11-21T00:00:00",
          "2022-11-22T00:00:00",
          "2022-11-23T00:00:00",
          "2022-11-25T00:00:00",
          "2022-11-28T00:00:00",
          "2022-11-29T00:00:00",
          "2022-11-30T00:00:00",
          "2022-12-01T00:00:00",
          "2022-12-02T00:00:00",
          "2022-12-05T00:00:00",
          "2022-12-06T00:00:00",
          "2022-12-07T00:00:00",
          "2022-12-08T00:00:00",
          "2022-12-09T00:00:00",
          "2022-12-12T00:00:00",
          "2022-12-13T00:00:00",
          "2022-12-14T00:00:00",
          "2022-12-15T00:00:00",
          "2022-12-16T00:00:00",
          "2022-12-19T00:00:00",
          "2022-12-20T00:00:00",
          "2022-12-21T00:00:00",
          "2022-12-22T00:00:00",
          "2022-12-23T00:00:00",
          "2022-12-27T00:00:00",
          "2022-12-28T00:00:00",
          "2022-12-29T00:00:00",
          "2022-12-30T00:00:00",
          "2023-01-03T00:00:00",
          "2023-01-04T00:00:00",
          "2023-01-05T00:00:00",
          "2023-01-06T00:00:00",
          "2023-01-09T00:00:00",
          "2023-01-10T00:00:00",
          "2023-01-11T00:00:00",
          "2023-01-12T00:00:00",
          "2023-01-13T00:00:00",
          "2023-01-17T00:00:00",
          "2023-01-18T00:00:00",
          "2023-01-19T00:00:00",
          "2023-01-20T00:00:00",
          "2023-01-23T00:00:00",
          "2023-01-24T00:00:00",
          "2023-01-25T00:00:00",
          "2023-01-26T00:00:00",
          "2023-01-27T00:00:00",
          "2023-01-30T00:00:00",
          "2023-01-31T00:00:00",
          "2023-02-01T00:00:00",
          "2023-02-02T00:00:00",
          "2023-02-03T00:00:00",
          "2023-02-06T00:00:00",
          "2023-02-07T00:00:00",
          "2023-02-08T00:00:00",
          "2023-02-09T00:00:00",
          "2023-02-10T00:00:00",
          "2023-02-13T00:00:00",
          "2023-02-14T00:00:00",
          "2023-02-15T00:00:00",
          "2023-02-16T00:00:00",
          "2023-02-17T00:00:00",
          "2023-02-21T00:00:00",
          "2023-02-22T00:00:00",
          "2023-02-23T00:00:00",
          "2023-02-24T00:00:00",
          "2023-02-27T00:00:00",
          "2023-02-28T00:00:00",
          "2023-03-01T00:00:00",
          "2023-03-02T00:00:00",
          "2023-03-03T00:00:00",
          "2023-03-06T00:00:00",
          "2023-03-07T00:00:00",
          "2023-03-08T00:00:00",
          "2023-03-09T00:00:00",
          "2023-03-10T00:00:00",
          "2023-03-13T00:00:00",
          "2023-03-14T00:00:00",
          "2023-03-15T00:00:00",
          "2023-03-16T00:00:00",
          "2023-03-17T00:00:00",
          "2023-03-20T00:00:00",
          "2023-03-21T00:00:00",
          "2023-03-22T00:00:00",
          "2023-03-23T00:00:00",
          "2023-03-24T00:00:00",
          "2023-03-27T00:00:00",
          "2023-03-28T00:00:00",
          "2023-03-29T00:00:00",
          "2023-03-30T00:00:00",
          "2023-03-31T00:00:00",
          "2023-04-03T00:00:00",
          "2023-04-04T00:00:00",
          "2023-04-05T00:00:00",
          "2023-04-06T00:00:00",
          "2023-04-10T00:00:00",
          "2023-04-11T00:00:00",
          "2023-04-12T00:00:00",
          "2023-04-13T00:00:00",
          "2023-04-14T00:00:00",
          "2023-04-17T00:00:00",
          "2023-04-18T00:00:00",
          "2023-04-19T00:00:00",
          "2023-04-20T00:00:00",
          "2023-04-21T00:00:00",
          "2023-04-24T00:00:00",
          "2023-04-25T00:00:00",
          "2023-04-26T00:00:00",
          "2023-04-27T00:00:00",
          "2023-04-28T00:00:00",
          "2023-05-01T00:00:00",
          "2023-05-02T00:00:00",
          "2023-05-03T00:00:00",
          "2023-05-04T00:00:00",
          "2023-05-05T00:00:00",
          "2023-05-08T00:00:00",
          "2023-05-09T00:00:00",
          "2023-05-10T00:00:00",
          "2023-05-11T00:00:00",
          "2023-05-12T00:00:00",
          "2023-05-15T00:00:00",
          "2023-05-16T00:00:00",
          "2023-05-17T00:00:00",
          "2023-05-18T00:00:00",
          "2023-05-19T00:00:00",
          "2023-05-22T00:00:00",
          "2023-05-23T00:00:00",
          "2023-05-24T00:00:00",
          "2023-05-25T00:00:00",
          "2023-05-26T00:00:00",
          "2023-05-30T00:00:00",
          "2023-05-31T00:00:00",
          "2023-06-01T00:00:00",
          "2023-06-02T00:00:00",
          "2023-06-05T00:00:00",
          "2023-06-06T00:00:00",
          "2023-06-07T00:00:00",
          "2023-06-08T00:00:00",
          "2023-06-09T00:00:00",
          "2023-06-12T00:00:00",
          "2023-06-13T00:00:00",
          "2023-06-14T00:00:00",
          "2023-06-15T00:00:00",
          "2023-06-16T00:00:00",
          "2023-06-20T00:00:00",
          "2023-06-21T00:00:00",
          "2023-06-22T00:00:00",
          "2023-06-23T00:00:00",
          "2023-06-26T00:00:00",
          "2023-06-27T00:00:00",
          "2023-06-28T00:00:00",
          "2023-06-29T00:00:00",
          "2023-06-30T00:00:00",
          "2023-07-03T00:00:00",
          "2023-07-05T00:00:00",
          "2023-07-06T00:00:00",
          "2023-07-07T00:00:00",
          "2023-07-10T00:00:00",
          "2023-07-11T00:00:00",
          "2023-07-12T00:00:00",
          "2023-07-13T00:00:00",
          "2023-07-14T00:00:00",
          "2023-07-17T00:00:00",
          "2023-07-18T00:00:00",
          "2023-07-19T00:00:00",
          "2023-07-20T00:00:00",
          "2023-07-21T00:00:00",
          "2023-07-24T00:00:00",
          "2023-07-25T00:00:00",
          "2023-07-26T00:00:00",
          "2023-07-27T00:00:00",
          "2023-07-28T00:00:00",
          "2023-07-31T00:00:00",
          "2023-08-01T00:00:00",
          "2023-08-02T00:00:00",
          "2023-08-03T00:00:00",
          "2023-08-04T00:00:00",
          "2023-08-07T00:00:00",
          "2023-08-08T00:00:00",
          "2023-08-09T00:00:00",
          "2023-08-10T00:00:00",
          "2023-08-11T00:00:00",
          "2023-08-14T00:00:00",
          "2023-08-15T00:00:00",
          "2023-08-16T00:00:00",
          "2023-08-17T00:00:00",
          "2023-08-18T00:00:00",
          "2023-08-21T00:00:00",
          "2023-08-22T00:00:00",
          "2023-08-23T00:00:00",
          "2023-08-24T00:00:00",
          "2023-08-25T00:00:00",
          "2023-08-28T00:00:00",
          "2023-08-29T00:00:00",
          "2023-08-30T00:00:00",
          "2023-08-31T00:00:00",
          "2023-09-01T00:00:00",
          "2023-09-05T00:00:00",
          "2023-09-06T00:00:00",
          "2023-09-07T00:00:00",
          "2023-09-08T00:00:00",
          "2023-09-11T00:00:00",
          "2023-09-12T00:00:00",
          "2023-09-13T00:00:00",
          "2023-09-14T00:00:00",
          "2023-09-15T00:00:00",
          "2023-09-18T00:00:00",
          "2023-09-19T00:00:00",
          "2023-09-20T00:00:00",
          "2023-09-21T00:00:00",
          "2023-09-22T00:00:00",
          "2023-09-25T00:00:00",
          "2023-09-26T00:00:00",
          "2023-09-27T00:00:00",
          "2023-09-28T00:00:00",
          "2023-09-29T00:00:00",
          "2023-10-02T00:00:00",
          "2023-10-03T00:00:00",
          "2023-10-04T00:00:00",
          "2023-10-05T00:00:00",
          "2023-10-06T00:00:00",
          "2023-10-09T00:00:00",
          "2023-10-10T00:00:00",
          "2023-10-11T00:00:00",
          "2023-10-12T00:00:00",
          "2023-10-13T00:00:00",
          "2023-10-16T00:00:00",
          "2023-10-17T00:00:00",
          "2023-10-18T00:00:00",
          "2023-10-19T00:00:00",
          "2023-10-20T00:00:00",
          "2023-10-23T00:00:00",
          "2023-10-24T00:00:00",
          "2023-10-25T00:00:00",
          "2023-10-26T00:00:00",
          "2023-10-27T00:00:00",
          "2023-10-30T00:00:00",
          "2023-10-31T00:00:00",
          "2023-11-01T00:00:00",
          "2023-11-02T00:00:00",
          "2023-11-03T00:00:00",
          "2023-11-06T00:00:00",
          "2023-11-07T00:00:00",
          "2023-11-08T00:00:00",
          "2023-11-09T00:00:00",
          "2023-11-10T00:00:00",
          "2023-11-13T00:00:00",
          "2023-11-14T00:00:00",
          "2023-11-15T00:00:00",
          "2023-11-16T00:00:00",
          "2023-11-17T00:00:00",
          "2023-11-20T00:00:00",
          "2023-11-21T00:00:00",
          "2023-11-22T00:00:00",
          "2023-11-24T00:00:00",
          "2023-11-27T00:00:00",
          "2023-11-28T00:00:00",
          "2023-11-29T00:00:00",
          "2023-11-30T00:00:00",
          "2023-12-01T00:00:00",
          "2023-12-04T00:00:00",
          "2023-12-05T00:00:00",
          "2023-12-06T00:00:00",
          "2023-12-07T00:00:00",
          "2023-12-08T00:00:00",
          "2023-12-11T00:00:00",
          "2023-12-12T00:00:00",
          "2023-12-13T00:00:00",
          "2023-12-14T00:00:00",
          "2023-12-15T00:00:00",
          "2023-12-18T00:00:00",
          "2023-12-19T00:00:00",
          "2023-12-20T00:00:00",
          "2023-12-21T00:00:00",
          "2023-12-22T00:00:00",
          "2023-12-26T00:00:00",
          "2023-12-27T00:00:00",
          "2023-12-28T00:00:00",
          "2023-12-29T00:00:00",
          "2024-01-02T00:00:00",
          "2024-01-03T00:00:00",
          "2024-01-04T00:00:00",
          "2024-01-05T00:00:00",
          "2024-01-08T00:00:00",
          "2024-01-09T00:00:00",
          "2024-01-10T00:00:00",
          "2024-01-11T00:00:00",
          "2024-01-12T00:00:00",
          "2024-01-16T00:00:00",
          "2024-01-17T00:00:00",
          "2024-01-18T00:00:00",
          "2024-01-19T00:00:00",
          "2024-01-22T00:00:00",
          "2024-01-23T00:00:00",
          "2024-01-24T00:00:00",
          "2024-01-25T00:00:00",
          "2024-01-26T00:00:00",
          "2024-01-29T00:00:00",
          "2024-01-30T00:00:00",
          "2024-01-31T00:00:00",
          "2024-02-01T00:00:00",
          "2024-02-02T00:00:00",
          "2024-02-05T00:00:00",
          "2024-02-06T00:00:00",
          "2024-02-07T00:00:00",
          "2024-02-08T00:00:00",
          "2024-02-09T00:00:00",
          "2024-02-12T00:00:00",
          "2024-02-13T00:00:00",
          "2024-02-14T00:00:00",
          "2024-02-15T00:00:00",
          "2024-02-16T00:00:00",
          "2024-02-20T00:00:00",
          "2024-02-21T00:00:00",
          "2024-02-22T00:00:00",
          "2024-02-23T00:00:00",
          "2024-02-26T00:00:00",
          "2024-02-27T00:00:00",
          "2024-02-28T00:00:00",
          "2024-02-29T00:00:00",
          "2024-03-01T00:00:00",
          "2024-03-04T00:00:00",
          "2024-03-05T00:00:00",
          "2024-03-06T00:00:00",
          "2024-03-07T00:00:00",
          "2024-03-08T00:00:00",
          "2024-03-11T00:00:00",
          "2024-03-12T00:00:00",
          "2024-03-13T00:00:00",
          "2024-03-14T00:00:00",
          "2024-03-15T00:00:00",
          "2024-03-18T00:00:00",
          "2024-03-19T00:00:00",
          "2024-03-20T00:00:00",
          "2024-03-21T00:00:00",
          "2024-03-22T00:00:00",
          "2024-03-25T00:00:00",
          "2024-03-26T00:00:00",
          "2024-03-27T00:00:00",
          "2024-03-28T00:00:00",
          "2024-04-01T00:00:00",
          "2024-04-02T00:00:00",
          "2024-04-03T00:00:00",
          "2024-04-04T00:00:00",
          "2024-04-05T00:00:00",
          "2024-04-08T00:00:00",
          "2024-04-09T00:00:00",
          "2024-04-10T00:00:00",
          "2024-04-11T00:00:00",
          "2024-04-12T00:00:00",
          "2024-04-15T00:00:00",
          "2024-04-16T00:00:00",
          "2024-04-17T00:00:00",
          "2024-04-18T00:00:00",
          "2024-04-19T00:00:00",
          "2024-04-22T00:00:00",
          "2024-04-23T00:00:00",
          "2024-04-24T00:00:00",
          "2024-04-25T00:00:00",
          "2024-04-26T00:00:00",
          "2024-04-29T00:00:00",
          "2024-04-30T00:00:00",
          "2024-05-01T00:00:00",
          "2024-05-02T00:00:00",
          "2024-05-03T00:00:00",
          "2024-05-06T00:00:00",
          "2024-05-07T00:00:00",
          "2024-05-08T00:00:00",
          "2024-05-09T00:00:00",
          "2024-05-10T00:00:00",
          "2024-05-13T00:00:00",
          "2024-05-14T00:00:00",
          "2024-05-15T00:00:00",
          "2024-05-16T00:00:00",
          "2024-05-17T00:00:00",
          "2024-05-20T00:00:00",
          "2024-05-21T00:00:00",
          "2024-05-22T00:00:00",
          "2024-05-23T00:00:00",
          "2024-05-24T00:00:00",
          "2024-05-28T00:00:00",
          "2024-05-29T00:00:00",
          "2024-05-30T00:00:00",
          "2024-05-31T00:00:00",
          "2024-06-03T00:00:00",
          "2024-06-04T00:00:00",
          "2024-06-05T00:00:00",
          "2024-06-06T00:00:00",
          "2024-06-07T00:00:00",
          "2024-06-10T00:00:00",
          "2024-06-11T00:00:00",
          "2024-06-12T00:00:00",
          "2024-06-13T00:00:00",
          "2024-06-14T00:00:00",
          "2024-06-17T00:00:00",
          "2024-06-18T00:00:00",
          "2024-06-20T00:00:00",
          "2024-06-21T00:00:00",
          "2024-06-24T00:00:00",
          "2024-06-25T00:00:00",
          "2024-06-26T00:00:00",
          "2024-06-27T00:00:00",
          "2024-06-28T00:00:00",
          "2024-07-01T00:00:00",
          "2024-07-02T00:00:00",
          "2024-07-03T00:00:00",
          "2024-07-05T00:00:00",
          "2024-07-08T00:00:00",
          "2024-07-09T00:00:00",
          "2024-07-10T00:00:00",
          "2024-07-11T00:00:00",
          "2024-07-12T00:00:00",
          "2024-07-15T00:00:00",
          "2024-07-16T00:00:00",
          "2024-07-17T00:00:00",
          "2024-07-18T00:00:00",
          "2024-07-19T00:00:00",
          "2024-07-22T00:00:00",
          "2024-07-23T00:00:00",
          "2024-07-24T00:00:00",
          "2024-07-25T00:00:00",
          "2024-07-26T00:00:00",
          "2024-07-29T00:00:00",
          "2024-07-30T00:00:00",
          "2024-07-31T00:00:00",
          "2024-08-01T00:00:00",
          "2024-08-02T00:00:00",
          "2024-08-05T00:00:00",
          "2024-08-06T00:00:00",
          "2024-08-07T00:00:00",
          "2024-08-08T00:00:00",
          "2024-08-09T00:00:00",
          "2024-08-12T00:00:00",
          "2024-08-13T00:00:00",
          "2024-08-14T00:00:00",
          "2024-08-15T00:00:00",
          "2024-08-16T00:00:00",
          "2024-08-19T00:00:00",
          "2024-08-20T00:00:00",
          "2024-08-21T00:00:00",
          "2024-08-22T00:00:00",
          "2024-08-23T00:00:00",
          "2024-08-26T00:00:00",
          "2024-08-27T00:00:00",
          "2024-08-28T00:00:00",
          "2024-08-29T00:00:00",
          "2024-08-30T00:00:00",
          "2024-09-03T00:00:00",
          "2024-09-04T00:00:00",
          "2024-09-05T00:00:00",
          "2024-09-06T00:00:00",
          "2024-09-09T00:00:00",
          "2024-09-10T00:00:00",
          "2024-09-11T00:00:00",
          "2024-09-12T00:00:00",
          "2024-09-13T00:00:00",
          "2024-09-16T00:00:00",
          "2024-09-17T00:00:00",
          "2024-09-18T00:00:00",
          "2024-09-19T00:00:00",
          "2024-09-20T00:00:00",
          "2024-09-23T00:00:00",
          "2024-09-24T00:00:00",
          "2024-09-25T00:00:00",
          "2024-09-26T00:00:00",
          "2024-09-27T00:00:00",
          "2024-09-30T00:00:00",
          "2024-10-01T00:00:00",
          "2024-10-02T00:00:00",
          "2024-10-03T00:00:00",
          "2024-10-04T00:00:00",
          "2024-10-07T00:00:00",
          "2024-10-08T00:00:00",
          "2024-10-09T00:00:00",
          "2024-10-10T00:00:00",
          "2024-10-11T00:00:00",
          "2024-10-14T00:00:00",
          "2024-10-15T00:00:00",
          "2024-10-16T00:00:00",
          "2024-10-17T00:00:00",
          "2024-10-18T00:00:00",
          "2024-10-21T00:00:00",
          "2024-10-22T00:00:00",
          "2024-10-23T00:00:00",
          "2024-10-24T00:00:00",
          "2024-10-25T00:00:00",
          "2024-10-28T00:00:00",
          "2024-10-29T00:00:00",
          "2024-10-30T00:00:00",
          "2024-10-31T00:00:00",
          "2024-11-01T00:00:00",
          "2024-11-04T00:00:00",
          "2024-11-05T00:00:00",
          "2024-11-06T00:00:00",
          "2024-11-07T00:00:00",
          "2024-11-08T00:00:00",
          "2024-11-11T00:00:00",
          "2024-11-12T00:00:00",
          "2024-11-13T00:00:00",
          "2024-11-14T00:00:00",
          "2024-11-15T00:00:00",
          "2024-11-18T00:00:00",
          "2024-11-19T00:00:00",
          "2024-11-20T00:00:00",
          "2024-11-21T00:00:00",
          "2024-11-22T00:00:00",
          "2024-11-25T00:00:00",
          "2024-11-26T00:00:00",
          "2024-11-27T00:00:00",
          "2024-11-29T00:00:00",
          "2024-12-02T00:00:00",
          "2024-12-03T00:00:00",
          "2024-12-04T00:00:00",
          "2024-12-05T00:00:00",
          "2024-12-06T00:00:00",
          "2024-12-09T00:00:00",
          "2024-12-10T00:00:00",
          "2024-12-11T00:00:00",
          "2024-12-12T00:00:00",
          "2024-12-13T00:00:00",
          "2024-12-16T00:00:00",
          "2024-12-17T00:00:00",
          "2024-12-18T00:00:00",
          "2024-12-19T00:00:00",
          "2024-12-20T00:00:00",
          "2024-12-23T00:00:00",
          "2024-12-24T00:00:00",
          "2024-12-26T00:00:00",
          "2024-12-27T00:00:00",
          "2024-12-30T00:00:00",
          "2024-12-31T00:00:00",
          "2025-01-02T00:00:00",
          "2025-01-03T00:00:00",
          "2025-01-06T00:00:00",
          "2025-01-07T00:00:00",
          "2025-01-08T00:00:00",
          "2025-01-09T00:00:00",
          "2025-01-10T00:00:00",
          "2025-01-13T00:00:00",
          "2025-01-14T00:00:00",
          "2025-01-15T00:00:00",
          "2025-01-16T00:00:00",
          "2025-01-17T00:00:00",
          "2025-01-21T00:00:00",
          "2025-01-22T00:00:00",
          "2025-01-23T00:00:00",
          "2025-01-24T00:00:00",
          "2025-01-27T00:00:00",
          "2025-01-28T00:00:00",
          "2025-01-29T00:00:00"
         ],
         "xaxis": "x",
         "y": {
          "dtype": "f8",
          "bdata": "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"
         },
         "yaxis": "y",
         "type": "scattergl"
        },
        {
         "hovertemplate": "Factor=lncap2<br>time_index=%{x}<br>Exposure=%{y}<extra></extra>",
         "legendgroup": "lncap2",
         "line": {
          "color": "#EF553B",
          "dash": "solid"
         },
         "marker": {
          "symbol": "circle"
         },
         "mode": "lines",
         "name": "lncap2",
         "showlegend": true,
         "x": [
          "2022-01-03T00:00:00",
          "2022-01-04T00:00:00",
          "2022-01-05T00:00:00",
          "2022-01-06T00:00:00",
          "2022-01-07T00:00:00",
          "2022-01-10T00:00:00",
          "2022-01-11T00:00:00",
          "2022-01-12T00:00:00",
          "2022-01-13T00:00:00",
          "2022-01-14T00:00:00",
          "2022-01-18T00:00:00",
          "2022-01-19T00:00:00",
          "2022-01-20T00:00:00",
          "2022-01-21T00:00:00",
          "2022-01-24T00:00:00",
          "2022-01-25T00:00:00",
          "2022-01-26T00:00:00",
          "2022-01-27T00:00:00",
          "2022-01-28T00:00:00",
          "2022-01-31T00:00:00",
          "2022-02-01T00:00:00",
          "2022-02-02T00:00:00",
          "2022-02-03T00:00:00",
          "2022-02-04T00:00:00",
          "2022-02-07T00:00:00",
          "2022-02-08T00:00:00",
          "2022-02-09T00:00:00",
          "2022-02-10T00:00:00",
          "2022-02-11T00:00:00",
          "2022-02-14T00:00:00",
          "2022-02-15T00:00:00",
          "2022-02-16T00:00:00",
          "2022-02-17T00:00:00",
          "2022-02-18T00:00:00",
          "2022-02-22T00:00:00",
          "2022-02-23T00:00:00",
          "2022-02-24T00:00:00",
          "2022-02-25T00:00:00",
          "2022-02-28T00:00:00",
          "2022-03-01T00:00:00",
          "2022-03-02T00:00:00",
          "2022-03-03T00:00:00",
          "2022-03-04T00:00:00",
          "2022-03-07T00:00:00",
          "2022-03-08T00:00:00",
          "2022-03-09T00:00:00",
          "2022-03-10T00:00:00",
          "2022-03-11T00:00:00",
          "2022-03-14T00:00:00",
          "2022-03-15T00:00:00",
          "2022-03-16T00:00:00",
          "2022-03-17T00:00:00",
          "2022-03-18T00:00:00",
          "2022-03-21T00:00:00",
          "2022-03-22T00:00:00",
          "2022-03-23T00:00:00",
          "2022-03-24T00:00:00",
          "2022-03-25T00:00:00",
          "2022-03-28T00:00:00",
          "2022-03-29T00:00:00",
          "2022-03-30T00:00:00",
          "2022-03-31T00:00:00",
          "2022-04-01T00:00:00",
          "2022-04-04T00:00:00",
          "2022-04-05T00:00:00",
          "2022-04-06T00:00:00",
          "2022-04-07T00:00:00",
          "2022-04-08T00:00:00",
          "2022-04-11T00:00:00",
          "2022-04-12T00:00:00",
          "2022-04-13T00:00:00",
          "2022-04-14T00:00:00",
          "2022-04-18T00:00:00",
          "2022-04-19T00:00:00",
          "2022-04-20T00:00:00",
          "2022-04-21T00:00:00",
          "2022-04-22T00:00:00",
          "2022-04-25T00:00:00",
          "2022-04-26T00:00:00",
          "2022-04-27T00:00:00",
          "2022-04-28T00:00:00",
          "2022-04-29T00:00:00",
          "2022-05-02T00:00:00",
          "2022-05-03T00:00:00",
          "2022-05-04T00:00:00",
          "2022-05-05T00:00:00",
          "2022-05-06T00:00:00",
          "2022-05-09T00:00:00",
          "2022-05-10T00:00:00",
          "2022-05-11T00:00:00",
          "2022-05-12T00:00:00",
          "2022-05-13T00:00:00",
          "2022-05-16T00:00:00",
          "2022-05-17T00:00:00",
          "2022-05-18T00:00:00",
          "2022-05-19T00:00:00",
          "2022-05-20T00:00:00",
          "2022-05-23T00:00:00",
          "2022-05-24T00:00:00",
          "2022-05-25T00:00:00",
          "2022-05-26T00:00:00",
          "2022-05-27T00:00:00",
          "2022-05-31T00:00:00",
          "2022-06-01T00:00:00",
          "2022-06-02T00:00:00",
          "2022-06-03T00:00:00",
          "2022-06-06T00:00:00",
          "2022-06-07T00:00:00",
          "2022-06-08T00:00:00",
          "2022-06-09T00:00:00",
          "2022-06-10T00:00:00",
          "2022-06-13T00:00:00",
          "2022-06-14T00:00:00",
          "2022-06-15T00:00:00",
          "2022-06-16T00:00:00",
          "2022-06-17T00:00:00",
          "2022-06-21T00:00:00",
          "2022-06-22T00:00:00",
          "2022-06-23T00:00:00",
          "2022-06-24T00:00:00",
          "2022-06-27T00:00:00",
          "2022-06-28T00:00:00",
          "2022-06-29T00:00:00",
          "2022-06-30T00:00:00",
          "2022-07-01T00:00:00",
          "2022-07-05T00:00:00",
          "2022-07-06T00:00:00",
          "2022-07-07T00:00:00",
          "2022-07-08T00:00:00",
          "2022-07-11T00:00:00",
          "2022-07-12T00:00:00",
          "2022-07-13T00:00:00",
          "2022-07-14T00:00:00",
          "2022-07-15T00:00:00",
          "2022-07-18T00:00:00",
          "2022-07-19T00:00:00",
          "2022-07-20T00:00:00",
          "2022-07-21T00:00:00",
          "2022-07-22T00:00:00",
          "2022-07-25T00:00:00",
          "2022-07-26T00:00:00",
          "2022-07-27T00:00:00",
          "2022-07-28T00:00:00",
          "2022-07-29T00:00:00",
          "2022-08-01T00:00:00",
          "2022-08-02T00:00:00",
          "2022-08-03T00:00:00",
          "2022-08-04T00:00:00",
          "2022-08-05T00:00:00",
          "2022-08-08T00:00:00",
          "2022-08-09T00:00:00",
          "2022-08-10T00:00:00",
          "2022-08-11T00:00:00",
          "2022-08-12T00:00:00",
          "2022-08-15T00:00:00",
          "2022-08-16T00:00:00",
          "2022-08-17T00:00:00",
          "2022-08-18T00:00:00",
          "2022-08-19T00:00:00",
          "2022-08-22T00:00:00",
          "2022-08-23T00:00:00",
          "2022-08-24T00:00:00",
          "2022-08-25T00:00:00",
          "2022-08-26T00:00:00",
          "2022-08-29T00:00:00",
          "2022-08-30T00:00:00",
          "2022-08-31T00:00:00",
          "2022-09-01T00:00:00",
          "2022-09-02T00:00:00",
          "2022-09-06T00:00:00",
          "2022-09-07T00:00:00",
          "2022-09-08T00:00:00",
          "2022-09-09T00:00:00",
          "2022-09-12T00:00:00",
          "2022-09-13T00:00:00",
          "2022-09-14T00:00:00",
          "2022-09-15T00:00:00",
          "2022-09-16T00:00:00",
          "2022-09-19T00:00:00",
          "2022-09-20T00:00:00",
          "2022-09-21T00:00:00",
          "2022-09-22T00:00:00",
          "2022-09-23T00:00:00",
          "2022-09-26T00:00:00",
          "2022-09-27T00:00:00",
          "2022-09-28T00:00:00",
          "2022-09-29T00:00:00",
          "2022-09-30T00:00:00",
          "2022-10-03T00:00:00",
          "2022-10-04T00:00:00",
          "2022-10-05T00:00:00",
          "2022-10-06T00:00:00",
          "2022-10-07T00:00:00",
          "2022-10-10T00:00:00",
          "2022-10-11T00:00:00",
          "2022-10-12T00:00:00",
          "2022-10-13T00:00:00",
          "2022-10-14T00:00:00",
          "2022-10-17T00:00:00",
          "2022-10-18T00:00:00",
          "2022-10-19T00:00:00",
          "2022-10-20T00:00:00",
          "2022-10-21T00:00:00",
          "2022-10-24T00:00:00",
          "2022-10-25T00:00:00",
          "2022-10-26T00:00:00",
          "2022-10-27T00:00:00",
          "2022-10-28T00:00:00",
          "2022-10-31T00:00:00",
          "2022-11-01T00:00:00",
          "2022-11-02T00:00:00",
          "2022-11-03T00:00:00",
          "2022-11-04T00:00:00",
          "2022-11-07T00:00:00",
          "2022-11-08T00:00:00",
          "2022-11-09T00:00:00",
          "2022-11-10T00:00:00",
          "2022-11-11T00:00:00",
          "2022-11-14T00:00:00",
          "2022-11-15T00:00:00",
          "2022-11-16T00:00:00",
          "2022-11-17T00:00:00",
          "2022-11-18T00:00:00",
          "2022-11-21T00:00:00",
          "2022-11-22T00:00:00",
          "2022-11-23T00:00:00",
          "2022-11-25T00:00:00",
          "2022-11-28T00:00:00",
          "2022-11-29T00:00:00",
          "2022-11-30T00:00:00",
          "2022-12-01T00:00:00",
          "2022-12-02T00:00:00",
          "2022-12-05T00:00:00",
          "2022-12-06T00:00:00",
          "2022-12-07T00:00:00",
          "2022-12-08T00:00:00",
          "2022-12-09T00:00:00",
          "2022-12-12T00:00:00",
          "2022-12-13T00:00:00",
          "2022-12-14T00:00:00",
          "2022-12-15T00:00:00",
          "2022-12-16T00:00:00",
          "2022-12-19T00:00:00",
          "2022-12-20T00:00:00",
          "2022-12-21T00:00:00",
          "2022-12-22T00:00:00",
          "2022-12-23T00:00:00",
          "2022-12-27T00:00:00",
          "2022-12-28T00:00:00",
          "2022-12-29T00:00:00",
          "2022-12-30T00:00:00",
          "2023-01-03T00:00:00",
          "2023-01-04T00:00:00",
          "2023-01-05T00:00:00",
          "2023-01-06T00:00:00",
          "2023-01-09T00:00:00",
          "2023-01-10T00:00:00",
          "2023-01-11T00:00:00",
          "2023-01-12T00:00:00",
          "2023-01-13T00:00:00",
          "2023-01-17T00:00:00",
          "2023-01-18T00:00:00",
          "2023-01-19T00:00:00",
          "2023-01-20T00:00:00",
          "2023-01-23T00:00:00",
          "2023-01-24T00:00:00",
          "2023-01-25T00:00:00",
          "2023-01-26T00:00:00",
          "2023-01-27T00:00:00",
          "2023-01-30T00:00:00",
          "2023-01-31T00:00:00",
          "2023-02-01T00:00:00",
          "2023-02-02T00:00:00",
          "2023-02-03T00:00:00",
          "2023-02-06T00:00:00",
          "2023-02-07T00:00:00",
          "2023-02-08T00:00:00",
          "2023-02-09T00:00:00",
          "2023-02-10T00:00:00",
          "2023-02-13T00:00:00",
          "2023-02-14T00:00:00",
          "2023-02-15T00:00:00",
          "2023-02-16T00:00:00",
          "2023-02-17T00:00:00",
          "2023-02-21T00:00:00",
          "2023-02-22T00:00:00",
          "2023-02-23T00:00:00",
          "2023-02-24T00:00:00",
          "2023-02-27T00:00:00",
          "2023-02-28T00:00:00",
          "2023-03-01T00:00:00",
          "2023-03-02T00:00:00",
          "2023-03-03T00:00:00",
          "2023-03-06T00:00:00",
          "2023-03-07T00:00:00",
          "2023-03-08T00:00:00",
          "2023-03-09T00:00:00",
          "2023-03-10T00:00:00",
          "2023-03-13T00:00:00",
          "2023-03-14T00:00:00",
          "2023-03-15T00:00:00",
          "2023-03-16T00:00:00",
          "2023-03-17T00:00:00",
          "2023-03-20T00:00:00",
          "2023-03-21T00:00:00",
          "2023-03-22T00:00:00",
          "2023-03-23T00:00:00",
          "2023-03-24T00:00:00",
          "2023-03-27T00:00:00",
          "2023-03-28T00:00:00",
          "2023-03-29T00:00:00",
          "2023-03-30T00:00:00",
          "2023-03-31T00:00:00",
          "2023-04-03T00:00:00",
          "2023-04-04T00:00:00",
          "2023-04-05T00:00:00",
          "2023-04-06T00:00:00",
          "2023-04-10T00:00:00",
          "2023-04-11T00:00:00",
          "2023-04-12T00:00:00",
          "2023-04-13T00:00:00",
          "2023-04-14T00:00:00",
          "2023-04-17T00:00:00",
          "2023-04-18T00:00:00",
          "2023-04-19T00:00:00",
          "2023-04-20T00:00:00",
          "2023-04-21T00:00:00",
          "2023-04-24T00:00:00",
          "2023-04-25T00:00:00",
          "2023-04-26T00:00:00",
          "2023-04-27T00:00:00",
          "2023-04-28T00:00:00",
          "2023-05-01T00:00:00",
          "2023-05-02T00:00:00",
          "2023-05-03T00:00:00",
          "2023-05-04T00:00:00",
          "2023-05-05T00:00:00",
          "2023-05-08T00:00:00",
          "2023-05-09T00:00:00",
          "2023-05-10T00:00:00",
          "2023-05-11T00:00:00",
          "2023-05-12T00:00:00",
          "2023-05-15T00:00:00",
          "2023-05-16T00:00:00",
          "2023-05-17T00:00:00",
          "2023-05-18T00:00:00",
          "2023-05-19T00:00:00",
          "2023-05-22T00:00:00",
          "2023-05-23T00:00:00",
          "2023-05-24T00:00:00",
          "2023-05-25T00:00:00",
          "2023-05-26T00:00:00",
          "2023-05-30T00:00:00",
          "2023-05-31T00:00:00",
          "2023-06-01T00:00:00",
          "2023-06-02T00:00:00",
          "2023-06-05T00:00:00",
          "2023-06-06T00:00:00",
          "2023-06-07T00:00:00",
          "2023-06-08T00:00:00",
          "2023-06-09T00:00:00",
          "2023-06-12T00:00:00",
          "2023-06-13T00:00:00",
          "2023-06-14T00:00:00",
          "2023-06-15T00:00:00",
          "2023-06-16T00:00:00",
          "2023-06-20T00:00:00",
          "2023-06-21T00:00:00",
          "2023-06-22T00:00:00",
          "2023-06-23T00:00:00",
          "2023-06-26T00:00:00",
          "2023-06-27T00:00:00",
          "2023-06-28T00:00:00",
          "2023-06-29T00:00:00",
          "2023-06-30T00:00:00",
          "2023-07-03T00:00:00",
          "2023-07-05T00:00:00",
          "2023-07-06T00:00:00",
          "2023-07-07T00:00:00",
          "2023-07-10T00:00:00",
          "2023-07-11T00:00:00",
          "2023-07-12T00:00:00",
          "2023-07-13T00:00:00",
          "2023-07-14T00:00:00",
          "2023-07-17T00:00:00",
          "2023-07-18T00:00:00",
          "2023-07-19T00:00:00",
          "2023-07-20T00:00:00",
          "2023-07-21T00:00:00",
          "2023-07-24T00:00:00",
          "2023-07-25T00:00:00",
          "2023-07-26T00:00:00",
          "2023-07-27T00:00:00",
          "2023-07-28T00:00:00",
          "2023-07-31T00:00:00",
          "2023-08-01T00:00:00",
          "2023-08-02T00:00:00",
          "2023-08-03T00:00:00",
          "2023-08-04T00:00:00",
          "2023-08-07T00:00:00",
          "2023-08-08T00:00:00",
          "2023-08-09T00:00:00",
          "2023-08-10T00:00:00",
          "2023-08-11T00:00:00",
          "2023-08-14T00:00:00",
          "2023-08-15T00:00:00",
          "2023-08-16T00:00:00",
          "2023-08-17T00:00:00",
          "2023-08-18T00:00:00",
          "2023-08-21T00:00:00",
          "2023-08-22T00:00:00",
          "2023-08-23T00:00:00",
          "2023-08-24T00:00:00",
          "2023-08-25T00:00:00",
          "2023-08-28T00:00:00",
          "2023-08-29T00:00:00",
          "2023-08-30T00:00:00",
          "2023-08-31T00:00:00",
          "2023-09-01T00:00:00",
          "2023-09-05T00:00:00",
          "2023-09-06T00:00:00",
          "2023-09-07T00:00:00",
          "2023-09-08T00:00:00",
          "2023-09-11T00:00:00",
          "2023-09-12T00:00:00",
          "2023-09-13T00:00:00",
          "2023-09-14T00:00:00",
          "2023-09-15T00:00:00",
          "2023-09-18T00:00:00",
          "2023-09-19T00:00:00",
          "2023-09-20T00:00:00",
          "2023-09-21T00:00:00",
          "2023-09-22T00:00:00",
          "2023-09-25T00:00:00",
          "2023-09-26T00:00:00",
          "2023-09-27T00:00:00",
          "2023-09-28T00:00:00",
          "2023-09-29T00:00:00",
          "2023-10-02T00:00:00",
          "2023-10-03T00:00:00",
          "2023-10-04T00:00:00",
          "2023-10-05T00:00:00",
          "2023-10-06T00:00:00",
          "2023-10-09T00:00:00",
          "2023-10-10T00:00:00",
          "2023-10-11T00:00:00",
          "2023-10-12T00:00:00",
          "2023-10-13T00:00:00",
          "2023-10-16T00:00:00",
          "2023-10-17T00:00:00",
          "2023-10-18T00:00:00",
          "2023-10-19T00:00:00",
          "2023-10-20T00:00:00",
          "2023-10-23T00:00:00",
          "2023-10-24T00:00:00",
          "2023-10-25T00:00:00",
          "2023-10-26T00:00:00",
          "2023-10-27T00:00:00",
          "2023-10-30T00:00:00",
          "2023-10-31T00:00:00",
          "2023-11-01T00:00:00",
          "2023-11-02T00:00:00",
          "2023-11-03T00:00:00",
          "2023-11-06T00:00:00",
          "2023-11-07T00:00:00",
          "2023-11-08T00:00:00",
          "2023-11-09T00:00:00",
          "2023-11-10T00:00:00",
          "2023-11-13T00:00:00",
          "2023-11-14T00:00:00",
          "2023-11-15T00:00:00",
          "2023-11-16T00:00:00",
          "2023-11-17T00:00:00",
          "2023-11-20T00:00:00",
          "2023-11-21T00:00:00",
          "2023-11-22T00:00:00",
          "2023-11-24T00:00:00",
          "2023-11-27T00:00:00",
          "2023-11-28T00:00:00",
          "2023-11-29T00:00:00",
          "2023-11-30T00:00:00",
          "2023-12-01T00:00:00",
          "2023-12-04T00:00:00",
          "2023-12-05T00:00:00",
          "2023-12-06T00:00:00",
          "2023-12-07T00:00:00",
          "2023-12-08T00:00:00",
          "2023-12-11T00:00:00",
          "2023-12-12T00:00:00",
          "2023-12-13T00:00:00",
          "2023-12-14T00:00:00",
          "2023-12-15T00:00:00",
          "2023-12-18T00:00:00",
          "2023-12-19T00:00:00",
          "2023-12-20T00:00:00",
          "2023-12-21T00:00:00",
          "2023-12-22T00:00:00",
          "2023-12-26T00:00:00",
          "2023-12-27T00:00:00",
          "2023-12-28T00:00:00",
          "2023-12-29T00:00:00",
          "2024-01-02T00:00:00",
          "2024-01-03T00:00:00",
          "2024-01-04T00:00:00",
          "2024-01-05T00:00:00",
          "2024-01-08T00:00:00",
          "2024-01-09T00:00:00",
          "2024-01-10T00:00:00",
          "2024-01-11T00:00:00",
          "2024-01-12T00:00:00",
          "2024-01-16T00:00:00",
          "2024-01-17T00:00:00",
          "2024-01-18T00:00:00",
          "2024-01-19T00:00:00",
          "2024-01-22T00:00:00",
          "2024-01-23T00:00:00",
          "2024-01-24T00:00:00",
          "2024-01-25T00:00:00",
          "2024-01-26T00:00:00",
          "2024-01-29T00:00:00",
          "2024-01-30T00:00:00",
          "2024-01-31T00:00:00",
          "2024-02-01T00:00:00",
          "2024-02-02T00:00:00",
          "2024-02-05T00:00:00",
          "2024-02-06T00:00:00",
          "2024-02-07T00:00:00",
          "2024-02-08T00:00:00",
          "2024-02-09T00:00:00",
          "2024-02-12T00:00:00",
          "2024-02-13T00:00:00",
          "2024-02-14T00:00:00",
          "2024-02-15T00:00:00",
          "2024-02-16T00:00:00",
          "2024-02-20T00:00:00",
          "2024-02-21T00:00:00",
          "2024-02-22T00:00:00",
          "2024-02-23T00:00:00",
          "2024-02-26T00:00:00",
          "2024-02-27T00:00:00",
          "2024-02-28T00:00:00",
          "2024-02-29T00:00:00",
          "2024-03-01T00:00:00",
          "2024-03-04T00:00:00",
          "2024-03-05T00:00:00",
          "2024-03-06T00:00:00",
          "2024-03-07T00:00:00",
          "2024-03-08T00:00:00",
          "2024-03-11T00:00:00",
          "2024-03-12T00:00:00",
          "2024-03-13T00:00:00",
          "2024-03-14T00:00:00",
          "2024-03-15T00:00:00",
          "2024-03-18T00:00:00",
          "2024-03-19T00:00:00",
          "2024-03-20T00:00:00",
          "2024-03-21T00:00:00",
          "2024-03-22T00:00:00",
          "2024-03-25T00:00:00",
          "2024-03-26T00:00:00",
          "2024-03-27T00:00:00",
          "2024-03-28T00:00:00",
          "2024-04-01T00:00:00",
          "2024-04-02T00:00:00",
          "2024-04-03T00:00:00",
          "2024-04-04T00:00:00",
          "2024-04-05T00:00:00",
          "2024-04-08T00:00:00",
          "2024-04-09T00:00:00",
          "2024-04-10T00:00:00",
          "2024-04-11T00:00:00",
          "2024-04-12T00:00:00",
          "2024-04-15T00:00:00",
          "2024-04-16T00:00:00",
          "2024-04-17T00:00:00",
          "2024-04-18T00:00:00",
          "2024-04-19T00:00:00",
          "2024-04-22T00:00:00",
          "2024-04-23T00:00:00",
          "2024-04-24T00:00:00",
          "2024-04-25T00:00:00",
          "2024-04-26T00:00:00",
          "2024-04-29T00:00:00",
          "2024-04-30T00:00:00",
          "2024-05-01T00:00:00",
          "2024-05-02T00:00:00",
          "2024-05-03T00:00:00",
          "2024-05-06T00:00:00",
          "2024-05-07T00:00:00",
          "2024-05-08T00:00:00",
          "2024-05-09T00:00:00",
          "2024-05-10T00:00:00",
          "2024-05-13T00:00:00",
          "2024-05-14T00:00:00",
          "2024-05-15T00:00:00",
          "2024-05-16T00:00:00",
          "2024-05-17T00:00:00",
          "2024-05-20T00:00:00",
          "2024-05-21T00:00:00",
          "2024-05-22T00:00:00",
          "2024-05-23T00:00:00",
          "2024-05-24T00:00:00",
          "2024-05-28T00:00:00",
          "2024-05-29T00:00:00",
          "2024-05-30T00:00:00",
          "2024-05-31T00:00:00",
          "2024-06-03T00:00:00",
          "2024-06-04T00:00:00",
          "2024-06-05T00:00:00",
          "2024-06-06T00:00:00",
          "2024-06-07T00:00:00",
          "2024-06-10T00:00:00",
          "2024-06-11T00:00:00",
          "2024-06-12T00:00:00",
          "2024-06-13T00:00:00",
          "2024-06-14T00:00:00",
          "2024-06-17T00:00:00",
          "2024-06-18T00:00:00",
          "2024-06-20T00:00:00",
          "2024-06-21T00:00:00",
          "2024-06-24T00:00:00",
          "2024-06-25T00:00:00",
          "2024-06-26T00:00:00",
          "2024-06-27T00:00:00",
          "2024-06-28T00:00:00",
          "2024-07-01T00:00:00",
          "2024-07-02T00:00:00",
          "2024-07-03T00:00:00",
          "2024-07-05T00:00:00",
          "2024-07-08T00:00:00",
          "2024-07-09T00:00:00",
          "2024-07-10T00:00:00",
          "2024-07-11T00:00:00",
          "2024-07-12T00:00:00",
          "2024-07-15T00:00:00",
          "2024-07-16T00:00:00",
          "2024-07-17T00:00:00",
          "2024-07-18T00:00:00",
          "2024-07-19T00:00:00",
          "2024-07-22T00:00:00",
          "2024-07-23T00:00:00",
          "2024-07-24T00:00:00",
          "2024-07-25T00:00:00",
          "2024-07-26T00:00:00",
          "2024-07-29T00:00:00",
          "2024-07-30T00:00:00",
          "2024-07-31T00:00:00",
          "2024-08-01T00:00:00",
          "2024-08-02T00:00:00",
          "2024-08-05T00:00:00",
          "2024-08-06T00:00:00",
          "2024-08-07T00:00:00",
          "2024-08-08T00:00:00",
          "2024-08-09T00:00:00",
          "2024-08-12T00:00:00",
          "2024-08-13T00:00:00",
          "2024-08-14T00:00:00",
          "2024-08-15T00:00:00",
          "2024-08-16T00:00:00",
          "2024-08-19T00:00:00",
          "2024-08-20T00:00:00",
          "2024-08-21T00:00:00",
          "2024-08-22T00:00:00",
          "2024-08-23T00:00:00",
          "2024-08-26T00:00:00",
          "2024-08-27T00:00:00",
          "2024-08-28T00:00:00",
          "2024-08-29T00:00:00",
          "2024-08-30T00:00:00",
          "2024-09-03T00:00:00",
          "2024-09-04T00:00:00",
          "2024-09-05T00:00:00",
          "2024-09-06T00:00:00",
          "2024-09-09T00:00:00",
          "2024-09-10T00:00:00",
          "2024-09-11T00:00:00",
          "2024-09-12T00:00:00",
          "2024-09-13T00:00:00",
          "2024-09-16T00:00:00",
          "2024-09-17T00:00:00",
          "2024-09-18T00:00:00",
          "2024-09-19T00:00:00",
          "2024-09-20T00:00:00",
          "2024-09-23T00:00:00",
          "2024-09-24T00:00:00",
          "2024-09-25T00:00:00",
          "2024-09-26T00:00:00",
          "2024-09-27T00:00:00",
          "2024-09-30T00:00:00",
          "2024-10-01T00:00:00",
          "2024-10-02T00:00:00",
          "2024-10-03T00:00:00",
          "2024-10-04T00:00:00",
          "2024-10-07T00:00:00",
          "2024-10-08T00:00:00",
          "2024-10-09T00:00:00",
          "2024-10-10T00:00:00",
          "2024-10-11T00:00:00",
          "2024-10-14T00:00:00",
          "2024-10-15T00:00:00",
          "2024-10-16T00:00:00",
          "2024-10-17T00:00:00",
          "2024-10-18T00:00:00",
          "2024-10-21T00:00:00",
          "2024-10-22T00:00:00",
          "2024-10-23T00:00:00",
          "2024-10-24T00:00:00",
          "2024-10-25T00:00:00",
          "2024-10-28T00:00:00",
          "2024-10-29T00:00:00",
          "2024-10-30T00:00:00",
          "2024-10-31T00:00:00",
          "2024-11-01T00:00:00",
          "2024-11-04T00:00:00",
          "2024-11-05T00:00:00",
          "2024-11-06T00:00:00",
          "2024-11-07T00:00:00",
          "2024-11-08T00:00:00",
          "2024-11-11T00:00:00",
          "2024-11-12T00:00:00",
          "2024-11-13T00:00:00",
          "2024-11-14T00:00:00",
          "2024-11-15T00:00:00",
          "2024-11-18T00:00:00",
          "2024-11-19T00:00:00",
          "2024-11-20T00:00:00",
          "2024-11-21T00:00:00",
          "2024-11-22T00:00:00",
          "2024-11-25T00:00:00",
          "2024-11-26T00:00:00",
          "2024-11-27T00:00:00",
          "2024-11-29T00:00:00",
          "2024-12-02T00:00:00",
          "2024-12-03T00:00:00",
          "2024-12-04T00:00:00",
          "2024-12-05T00:00:00",
          "2024-12-06T00:00:00",
          "2024-12-09T00:00:00",
          "2024-12-10T00:00:00",
          "2024-12-11T00:00:00",
          "2024-12-12T00:00:00",
          "2024-12-13T00:00:00",
          "2024-12-16T00:00:00",
          "2024-12-17T00:00:00",
          "2024-12-18T00:00:00",
          "2024-12-19T00:00:00",
          "2024-12-20T00:00:00",
          "2024-12-23T00:00:00",
          "2024-12-24T00:00:00",
          "2024-12-26T00:00:00",
          "2024-12-27T00:00:00",
          "2024-12-30T00:00:00",
          "2024-12-31T00:00:00",
          "2025-01-02T00:00:00",
          "2025-01-03T00:00:00",
          "2025-01-06T00:00:00",
          "2025-01-07T00:00:00",
          "2025-01-08T00:00:00",
          "2025-01-09T00:00:00",
          "2025-01-10T00:00:00",
          "2025-01-13T00:00:00",
          "2025-01-14T00:00:00",
          "2025-01-15T00:00:00",
          "2025-01-16T00:00:00",
          "2025-01-17T00:00:00",
          "2025-01-21T00:00:00",
          "2025-01-22T00:00:00",
          "2025-01-23T00:00:00",
          "2025-01-24T00:00:00",
          "2025-01-27T00:00:00",
          "2025-01-28T00:00:00",
          "2025-01-29T00:00:00"
         ],
         "xaxis": "x",
         "y": {
          "dtype": "f8",
          "bdata": "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"
         },
         "yaxis": "y",
         "type": "scattergl"
        },
        {
         "hovertemplate": "Factor=beta<br>time_index=%{x}<br>Exposure=%{y}<extra></extra>",
         "legendgroup": "beta",
         "line": {
          "color": "#00cc96",
          "dash": "solid"
         },
         "marker": {
          "symbol": "circle"
         },
         "mode": "lines",
         "name": "beta",
         "showlegend": true,
         "x": [
          "2022-01-03T00:00:00",
          "2022-01-04T00:00:00",
          "2022-01-05T00:00:00",
          "2022-01-06T00:00:00",
          "2022-01-07T00:00:00",
          "2022-01-10T00:00:00",
          "2022-01-11T00:00:00",
          "2022-01-12T00:00:00",
          "2022-01-13T00:00:00",
          "2022-01-14T00:00:00",
          "2022-01-18T00:00:00",
          "2022-01-19T00:00:00",
          "2022-01-20T00:00:00",
          "2022-01-21T00:00:00",
          "2022-01-24T00:00:00",
          "2022-01-25T00:00:00",
          "2022-01-26T00:00:00",
          "2022-01-27T00:00:00",
          "2022-01-28T00:00:00",
          "2022-01-31T00:00:00",
          "2022-02-01T00:00:00",
          "2022-02-02T00:00:00",
          "2022-02-03T00:00:00",
          "2022-02-04T00:00:00",
          "2022-02-07T00:00:00",
          "2022-02-08T00:00:00",
          "2022-02-09T00:00:00",
          "2022-02-10T00:00:00",
          "2022-02-11T00:00:00",
          "2022-02-14T00:00:00",
          "2022-02-15T00:00:00",
          "2022-02-16T00:00:00",
          "2022-02-17T00:00:00",
          "2022-02-18T00:00:00",
          "2022-02-22T00:00:00",
          "2022-02-23T00:00:00",
          "2022-02-24T00:00:00",
          "2022-02-25T00:00:00",
          "2022-02-28T00:00:00",
          "2022-03-01T00:00:00",
          "2022-03-02T00:00:00",
          "2022-03-03T00:00:00",
          "2022-03-04T00:00:00",
          "2022-03-07T00:00:00",
          "2022-03-08T00:00:00",
          "2022-03-09T00:00:00",
          "2022-03-10T00:00:00",
          "2022-03-11T00:00:00",
          "2022-03-14T00:00:00",
          "2022-03-15T00:00:00",
          "2022-03-16T00:00:00",
          "2022-03-17T00:00:00",
          "2022-03-18T00:00:00",
          "2022-03-21T00:00:00",
          "2022-03-22T00:00:00",
          "2022-03-23T00:00:00",
          "2022-03-24T00:00:00",
          "2022-03-25T00:00:00",
          "2022-03-28T00:00:00",
          "2022-03-29T00:00:00",
          "2022-03-30T00:00:00",
          "2022-03-31T00:00:00",
          "2022-04-01T00:00:00",
          "2022-04-04T00:00:00",
          "2022-04-05T00:00:00",
          "2022-04-06T00:00:00",
          "2022-04-07T00:00:00",
          "2022-04-08T00:00:00",
          "2022-04-11T00:00:00",
          "2022-04-12T00:00:00",
          "2022-04-13T00:00:00",
          "2022-04-14T00:00:00",
          "2022-04-18T00:00:00",
          "2022-04-19T00:00:00",
          "2022-04-20T00:00:00",
          "2022-04-21T00:00:00",
          "2022-04-22T00:00:00",
          "2022-04-25T00:00:00",
          "2022-04-26T00:00:00",
          "2022-04-27T00:00:00",
          "2022-04-28T00:00:00",
          "2022-04-29T00:00:00",
          "2022-05-02T00:00:00",
          "2022-05-03T00:00:00",
          "2022-05-04T00:00:00",
          "2022-05-05T00:00:00",
          "2022-05-06T00:00:00",
          "2022-05-09T00:00:00",
          "2022-05-10T00:00:00",
          "2022-05-11T00:00:00",
          "2022-05-12T00:00:00",
          "2022-05-13T00:00:00",
          "2022-05-16T00:00:00",
          "2022-05-17T00:00:00",
          "2022-05-18T00:00:00",
          "2022-05-19T00:00:00",
          "2022-05-20T00:00:00",
          "2022-05-23T00:00:00",
          "2022-05-24T00:00:00",
          "2022-05-25T00:00:00",
          "2022-05-26T00:00:00",
          "2022-05-27T00:00:00",
          "2022-05-31T00:00:00",
          "2022-06-01T00:00:00",
          "2022-06-02T00:00:00",
          "2022-06-03T00:00:00",
          "2022-06-06T00:00:00",
          "2022-06-07T00:00:00",
          "2022-06-08T00:00:00",
          "2022-06-09T00:00:00",
          "2022-06-10T00:00:00",
          "2022-06-13T00:00:00",
          "2022-06-14T00:00:00",
          "2022-06-15T00:00:00",
          "2022-06-16T00:00:00",
          "2022-06-17T00:00:00",
          "2022-06-21T00:00:00",
          "2022-06-22T00:00:00",
          "2022-06-23T00:00:00",
          "2022-06-24T00:00:00",
          "2022-06-27T00:00:00",
          "2022-06-28T00:00:00",
          "2022-06-29T00:00:00",
          "2022-06-30T00:00:00",
          "2022-07-01T00:00:00",
          "2022-07-05T00:00:00",
          "2022-07-06T00:00:00",
          "2022-07-07T00:00:00",
          "2022-07-08T00:00:00",
          "2022-07-11T00:00:00",
          "2022-07-12T00:00:00",
          "2022-07-13T00:00:00",
          "2022-07-14T00:00:00",
          "2022-07-15T00:00:00",
          "2022-07-18T00:00:00",
          "2022-07-19T00:00:00",
          "2022-07-20T00:00:00",
          "2022-07-21T00:00:00",
          "2022-07-22T00:00:00",
          "2022-07-25T00:00:00",
          "2022-07-26T00:00:00",
          "2022-07-27T00:00:00",
          "2022-07-28T00:00:00",
          "2022-07-29T00:00:00",
          "2022-08-01T00:00:00",
          "2022-08-02T00:00:00",
          "2022-08-03T00:00:00",
          "2022-08-04T00:00:00",
          "2022-08-05T00:00:00",
          "2022-08-08T00:00:00",
          "2022-08-09T00:00:00",
          "2022-08-10T00:00:00",
          "2022-08-11T00:00:00",
          "2022-08-12T00:00:00",
          "2022-08-15T00:00:00",
          "2022-08-16T00:00:00",
          "2022-08-17T00:00:00",
          "2022-08-18T00:00:00",
          "2022-08-19T00:00:00",
          "2022-08-22T00:00:00",
          "2022-08-23T00:00:00",
          "2022-08-24T00:00:00",
          "2022-08-25T00:00:00",
          "2022-08-26T00:00:00",
          "2022-08-29T00:00:00",
          "2022-08-30T00:00:00",
          "2022-08-31T00:00:00",
          "2022-09-01T00:00:00",
          "2022-09-02T00:00:00",
          "2022-09-06T00:00:00",
          "2022-09-07T00:00:00",
          "2022-09-08T00:00:00",
          "2022-09-09T00:00:00",
          "2022-09-12T00:00:00",
          "2022-09-13T00:00:00",
          "2022-09-14T00:00:00",
          "2022-09-15T00:00:00",
          "2022-09-16T00:00:00",
          "2022-09-19T00:00:00",
          "2022-09-20T00:00:00",
          "2022-09-21T00:00:00",
          "2022-09-22T00:00:00",
          "2022-09-23T00:00:00",
          "2022-09-26T00:00:00",
          "2022-09-27T00:00:00",
          "2022-09-28T00:00:00",
          "2022-09-29T00:00:00",
          "2022-09-30T00:00:00",
          "2022-10-03T00:00:00",
          "2022-10-04T00:00:00",
          "2022-10-05T00:00:00",
          "2022-10-06T00:00:00",
          "2022-10-07T00:00:00",
          "2022-10-10T00:00:00",
          "2022-10-11T00:00:00",
          "2022-10-12T00:00:00",
          "2022-10-13T00:00:00",
          "2022-10-14T00:00:00",
          "2022-10-17T00:00:00",
          "2022-10-18T00:00:00",
          "2022-10-19T00:00:00",
          "2022-10-20T00:00:00",
          "2022-10-21T00:00:00",
          "2022-10-24T00:00:00",
          "2022-10-25T00:00:00",
          "2022-10-26T00:00:00",
          "2022-10-27T00:00:00",
          "2022-10-28T00:00:00",
          "2022-10-31T00:00:00",
          "2022-11-01T00:00:00",
          "2022-11-02T00:00:00",
          "2022-11-03T00:00:00",
          "2022-11-04T00:00:00",
          "2022-11-07T00:00:00",
          "2022-11-08T00:00:00",
          "2022-11-09T00:00:00",
          "2022-11-10T00:00:00",
          "2022-11-11T00:00:00",
          "2022-11-14T00:00:00",
          "2022-11-15T00:00:00",
          "2022-11-16T00:00:00",
          "2022-11-17T00:00:00",
          "2022-11-18T00:00:00",
          "2022-11-21T00:00:00",
          "2022-11-22T00:00:00",
          "2022-11-23T00:00:00",
          "2022-11-25T00:00:00",
          "2022-11-28T00:00:00",
          "2022-11-29T00:00:00",
          "2022-11-30T00:00:00",
          "2022-12-01T00:00:00",
          "2022-12-02T00:00:00",
          "2022-12-05T00:00:00",
          "2022-12-06T00:00:00",
          "2022-12-07T00:00:00",
          "2022-12-08T00:00:00",
          "2022-12-09T00:00:00",
          "2022-12-12T00:00:00",
          "2022-12-13T00:00:00",
          "2022-12-14T00:00:00",
          "2022-12-15T00:00:00",
          "2022-12-16T00:00:00",
          "2022-12-19T00:00:00",
          "2022-12-20T00:00:00",
          "2022-12-21T00:00:00",
          "2022-12-22T00:00:00",
          "2022-12-23T00:00:00",
          "2022-12-27T00:00:00",
          "2022-12-28T00:00:00",
          "2022-12-29T00:00:00",
          "2022-12-30T00:00:00",
          "2023-01-03T00:00:00",
          "2023-01-04T00:00:00",
          "2023-01-05T00:00:00",
          "2023-01-06T00:00:00",
          "2023-01-09T00:00:00",
          "2023-01-10T00:00:00",
          "2023-01-11T00:00:00",
          "2023-01-12T00:00:00",
          "2023-01-13T00:00:00",
          "2023-01-17T00:00:00",
          "2023-01-18T00:00:00",
          "2023-01-19T00:00:00",
          "2023-01-20T00:00:00",
          "2023-01-23T00:00:00",
          "2023-01-24T00:00:00",
          "2023-01-25T00:00:00",
          "2023-01-26T00:00:00",
          "2023-01-27T00:00:00",
          "2023-01-30T00:00:00",
          "2023-01-31T00:00:00",
          "2023-02-01T00:00:00",
          "2023-02-02T00:00:00",
          "2023-02-03T00:00:00",
          "2023-02-06T00:00:00",
          "2023-02-07T00:00:00",
          "2023-02-08T00:00:00",
          "2023-02-09T00:00:00",
          "2023-02-10T00:00:00",
          "2023-02-13T00:00:00",
          "2023-02-14T00:00:00",
          "2023-02-15T00:00:00",
          "2023-02-16T00:00:00",
          "2023-02-17T00:00:00",
          "2023-02-21T00:00:00",
          "2023-02-22T00:00:00",
          "2023-02-23T00:00:00",
          "2023-02-24T00:00:00",
          "2023-02-27T00:00:00",
          "2023-02-28T00:00:00",
          "2023-03-01T00:00:00",
          "2023-03-02T00:00:00",
          "2023-03-03T00:00:00",
          "2023-03-06T00:00:00",
          "2023-03-07T00:00:00",
          "2023-03-08T00:00:00",
          "2023-03-09T00:00:00",
          "2023-03-10T00:00:00",
          "2023-03-13T00:00:00",
          "2023-03-14T00:00:00",
          "2023-03-15T00:00:00",
          "2023-03-16T00:00:00",
          "2023-03-17T00:00:00",
          "2023-03-20T00:00:00",
          "2023-03-21T00:00:00",
          "2023-03-22T00:00:00",
          "2023-03-23T00:00:00",
          "2023-03-24T00:00:00",
          "2023-03-27T00:00:00",
          "2023-03-28T00:00:00",
          "2023-03-29T00:00:00",
          "2023-03-30T00:00:00",
          "2023-03-31T00:00:00",
          "2023-04-03T00:00:00",
          "2023-04-04T00:00:00",
          "2023-04-05T00:00:00",
          "2023-04-06T00:00:00",
          "2023-04-10T00:00:00",
          "2023-04-11T00:00:00",
          "2023-04-12T00:00:00",
          "2023-04-13T00:00:00",
          "2023-04-14T00:00:00",
          "2023-04-17T00:00:00",
          "2023-04-18T00:00:00",
          "2023-04-19T00:00:00",
          "2023-04-20T00:00:00",
          "2023-04-21T00:00:00",
          "2023-04-24T00:00:00",
          "2023-04-25T00:00:00",
          "2023-04-26T00:00:00",
          "2023-04-27T00:00:00",
          "2023-04-28T00:00:00",
          "2023-05-01T00:00:00",
          "2023-05-02T00:00:00",
          "2023-05-03T00:00:00",
          "2023-05-04T00:00:00",
          "2023-05-05T00:00:00",
          "2023-05-08T00:00:00",
          "2023-05-09T00:00:00",
          "2023-05-10T00:00:00",
          "2023-05-11T00:00:00",
          "2023-05-12T00:00:00",
          "2023-05-15T00:00:00",
          "2023-05-16T00:00:00",
          "2023-05-17T00:00:00",
          "2023-05-18T00:00:00",
          "2023-05-19T00:00:00",
          "2023-05-22T00:00:00",
          "2023-05-23T00:00:00",
          "2023-05-24T00:00:00",
          "2023-05-25T00:00:00",
          "2023-05-26T00:00:00",
          "2023-05-30T00:00:00",
          "2023-05-31T00:00:00",
          "2023-06-01T00:00:00",
          "2023-06-02T00:00:00",
          "2023-06-05T00:00:00",
          "2023-06-06T00:00:00",
          "2023-06-07T00:00:00",
          "2023-06-08T00:00:00",
          "2023-06-09T00:00:00",
          "2023-06-12T00:00:00",
          "2023-06-13T00:00:00",
          "2023-06-14T00:00:00",
          "2023-06-15T00:00:00",
          "2023-06-16T00:00:00",
          "2023-06-20T00:00:00",
          "2023-06-21T00:00:00",
          "2023-06-22T00:00:00",
          "2023-06-23T00:00:00",
          "2023-06-26T00:00:00",
          "2023-06-27T00:00:00",
          "2023-06-28T00:00:00",
          "2023-06-29T00:00:00",
          "2023-06-30T00:00:00",
          "2023-07-03T00:00:00",
          "2023-07-05T00:00:00",
          "2023-07-06T00:00:00",
          "2023-07-07T00:00:00",
          "2023-07-10T00:00:00",
          "2023-07-11T00:00:00",
          "2023-07-12T00:00:00",
          "2023-07-13T00:00:00",
          "2023-07-14T00:00:00",
          "2023-07-17T00:00:00",
          "2023-07-18T00:00:00",
          "2023-07-19T00:00:00",
          "2023-07-20T00:00:00",
          "2023-07-21T00:00:00",
          "2023-07-24T00:00:00",
          "2023-07-25T00:00:00",
          "2023-07-26T00:00:00",
          "2023-07-27T00:00:00",
          "2023-07-28T00:00:00",
          "2023-07-31T00:00:00",
          "2023-08-01T00:00:00",
          "2023-08-02T00:00:00",
          "2023-08-03T00:00:00",
          "2023-08-04T00:00:00",
          "2023-08-07T00:00:00",
          "2023-08-08T00:00:00",
          "2023-08-09T00:00:00",
          "2023-08-10T00:00:00",
          "2023-08-11T00:00:00",
          "2023-08-14T00:00:00",
          "2023-08-15T00:00:00",
          "2023-08-16T00:00:00",
          "2023-08-17T00:00:00",
          "2023-08-18T00:00:00",
          "2023-08-21T00:00:00",
          "2023-08-22T00:00:00",
          "2023-08-23T00:00:00",
          "2023-08-24T00:00:00",
          "2023-08-25T00:00:00",
          "2023-08-28T00:00:00",
          "2023-08-29T00:00:00",
          "2023-08-30T00:00:00",
          "2023-08-31T00:00:00",
          "2023-09-01T00:00:00",
          "2023-09-05T00:00:00",
          "2023-09-06T00:00:00",
          "2023-09-07T00:00:00",
          "2023-09-08T00:00:00",
          "2023-09-11T00:00:00",
          "2023-09-12T00:00:00",
          "2023-09-13T00:00:00",
          "2023-09-14T00:00:00",
          "2023-09-15T00:00:00",
          "2023-09-18T00:00:00",
          "2023-09-19T00:00:00",
          "2023-09-20T00:00:00",
          "2023-09-21T00:00:00",
          "2023-09-22T00:00:00",
          "2023-09-25T00:00:00",
          "2023-09-26T00:00:00",
          "2023-09-27T00:00:00",
          "2023-09-28T00:00:00",
          "2023-09-29T00:00:00",
          "2023-10-02T00:00:00",
          "2023-10-03T00:00:00",
          "2023-10-04T00:00:00",
          "2023-10-05T00:00:00",
          "2023-10-06T00:00:00",
          "2023-10-09T00:00:00",
          "2023-10-10T00:00:00",
          "2023-10-11T00:00:00",
          "2023-10-12T00:00:00",
          "2023-10-13T00:00:00",
          "2023-10-16T00:00:00",
          "2023-10-17T00:00:00",
          "2023-10-18T00:00:00",
          "2023-10-19T00:00:00",
          "2023-10-20T00:00:00",
          "2023-10-23T00:00:00",
          "2023-10-24T00:00:00",
          "2023-10-25T00:00:00",
          "2023-10-26T00:00:00",
          "2023-10-27T00:00:00",
          "2023-10-30T00:00:00",
          "2023-10-31T00:00:00",
          "2023-11-01T00:00:00",
          "2023-11-02T00:00:00",
          "2023-11-03T00:00:00",
          "2023-11-06T00:00:00",
          "2023-11-07T00:00:00",
          "2023-11-08T00:00:00",
          "2023-11-09T00:00:00",
          "2023-11-10T00:00:00",
          "2023-11-13T00:00:00",
          "2023-11-14T00:00:00",
          "2023-11-15T00:00:00",
          "2023-11-16T00:00:00",
          "2023-11-17T00:00:00",
          "2023-11-20T00:00:00",
          "2023-11-21T00:00:00",
          "2023-11-22T00:00:00",
          "2023-11-24T00:00:00",
          "2023-11-27T00:00:00",
          "2023-11-28T00:00:00",
          "2023-11-29T00:00:00",
          "2023-11-30T00:00:00",
          "2023-12-01T00:00:00",
          "2023-12-04T00:00:00",
          "2023-12-05T00:00:00",
          "2023-12-06T00:00:00",
          "2023-12-07T00:00:00",
          "2023-12-08T00:00:00",
          "2023-12-11T00:00:00",
          "2023-12-12T00:00:00",
          "2023-12-13T00:00:00",
          "2023-12-14T00:00:00",
          "2023-12-15T00:00:00",
          "2023-12-18T00:00:00",
          "2023-12-19T00:00:00",
          "2023-12-20T00:00:00",
          "2023-12-21T00:00:00",
          "2023-12-22T00:00:00",
          "2023-12-26T00:00:00",
          "2023-12-27T00:00:00",
          "2023-12-28T00:00:00",
          "2023-12-29T00:00:00",
          "2024-01-02T00:00:00",
          "2024-01-03T00:00:00",
          "2024-01-04T00:00:00",
          "2024-01-05T00:00:00",
          "2024-01-08T00:00:00",
          "2024-01-09T00:00:00",
          "2024-01-10T00:00:00",
          "2024-01-11T00:00:00",
          "2024-01-12T00:00:00",
          "2024-01-16T00:00:00",
          "2024-01-17T00:00:00",
          "2024-01-18T00:00:00",
          "2024-01-19T00:00:00",
          "2024-01-22T00:00:00",
          "2024-01-23T00:00:00",
          "2024-01-24T00:00:00",
          "2024-01-25T00:00:00",
          "2024-01-26T00:00:00",
          "2024-01-29T00:00:00",
          "2024-01-30T00:00:00",
          "2024-01-31T00:00:00",
          "2024-02-01T00:00:00",
          "2024-02-02T00:00:00",
          "2024-02-05T00:00:00",
          "2024-02-06T00:00:00",
          "2024-02-07T00:00:00",
          "2024-02-08T00:00:00",
          "2024-02-09T00:00:00",
          "2024-02-12T00:00:00",
          "2024-02-13T00:00:00",
          "2024-02-14T00:00:00",
          "2024-02-15T00:00:00",
          "2024-02-16T00:00:00",
          "2024-02-20T00:00:00",
          "2024-02-21T00:00:00",
          "2024-02-22T00:00:00",
          "2024-02-23T00:00:00",
          "2024-02-26T00:00:00",
          "2024-02-27T00:00:00",
          "2024-02-28T00:00:00",
          "2024-02-29T00:00:00",
          "2024-03-01T00:00:00",
          "2024-03-04T00:00:00",
          "2024-03-05T00:00:00",
          "2024-03-06T00:00:00",
          "2024-03-07T00:00:00",
          "2024-03-08T00:00:00",
          "2024-03-11T00:00:00",
          "2024-03-12T00:00:00",
          "2024-03-13T00:00:00",
          "2024-03-14T00:00:00",
          "2024-03-15T00:00:00",
          "2024-03-18T00:00:00",
          "2024-03-19T00:00:00",
          "2024-03-20T00:00:00",
          "2024-03-21T00:00:00",
          "2024-03-22T00:00:00",
          "2024-03-25T00:00:00",
          "2024-03-26T00:00:00",
          "2024-03-27T00:00:00",
          "2024-03-28T00:00:00",
          "2024-04-01T00:00:00",
          "2024-04-02T00:00:00",
          "2024-04-03T00:00:00",
          "2024-04-04T00:00:00",
          "2024-04-05T00:00:00",
          "2024-04-08T00:00:00",
          "2024-04-09T00:00:00",
          "2024-04-10T00:00:00",
          "2024-04-11T00:00:00",
          "2024-04-12T00:00:00",
          "2024-04-15T00:00:00",
          "2024-04-16T00:00:00",
          "2024-04-17T00:00:00",
          "2024-04-18T00:00:00",
          "2024-04-19T00:00:00",
          "2024-04-22T00:00:00",
          "2024-04-23T00:00:00",
          "2024-04-24T00:00:00",
          "2024-04-25T00:00:00",
          "2024-04-26T00:00:00",
          "2024-04-29T00:00:00",
          "2024-04-30T00:00:00",
          "2024-05-01T00:00:00",
          "2024-05-02T00:00:00",
          "2024-05-03T00:00:00",
          "2024-05-06T00:00:00",
          "2024-05-07T00:00:00",
          "2024-05-08T00:00:00",
          "2024-05-09T00:00:00",
          "2024-05-10T00:00:00",
          "2024-05-13T00:00:00",
          "2024-05-14T00:00:00",
          "2024-05-15T00:00:00",
          "2024-05-16T00:00:00",
          "2024-05-17T00:00:00",
          "2024-05-20T00:00:00",
          "2024-05-21T00:00:00",
          "2024-05-22T00:00:00",
          "2024-05-23T00:00:00",
          "2024-05-24T00:00:00",
          "2024-05-28T00:00:00",
          "2024-05-29T00:00:00",
          "2024-05-30T00:00:00",
          "2024-05-31T00:00:00",
          "2024-06-03T00:00:00",
          "2024-06-04T00:00:00",
          "2024-06-05T00:00:00",
          "2024-06-06T00:00:00",
          "2024-06-07T00:00:00",
          "2024-06-10T00:00:00",
          "2024-06-11T00:00:00",
          "2024-06-12T00:00:00",
          "2024-06-13T00:00:00",
          "2024-06-14T00:00:00",
          "2024-06-17T00:00:00",
          "2024-06-18T00:00:00",
          "2024-06-20T00:00:00",
          "2024-06-21T00:00:00",
          "2024-06-24T00:00:00",
          "2024-06-25T00:00:00",
          "2024-06-26T00:00:00",
          "2024-06-27T00:00:00",
          "2024-06-28T00:00:00",
          "2024-07-01T00:00:00",
          "2024-07-02T00:00:00",
          "2024-07-03T00:00:00",
          "2024-07-05T00:00:00",
          "2024-07-08T00:00:00",
          "2024-07-09T00:00:00",
          "2024-07-10T00:00:00",
          "2024-07-11T00:00:00",
          "2024-07-12T00:00:00",
          "2024-07-15T00:00:00",
          "2024-07-16T00:00:00",
          "2024-07-17T00:00:00",
          "2024-07-18T00:00:00",
          "2024-07-19T00:00:00",
          "2024-07-22T00:00:00",
          "2024-07-23T00:00:00",
          "2024-07-24T00:00:00",
          "2024-07-25T00:00:00",
          "2024-07-26T00:00:00",
          "2024-07-29T00:00:00",
          "2024-07-30T00:00:00",
          "2024-07-31T00:00:00",
          "2024-08-01T00:00:00",
          "2024-08-02T00:00:00",
          "2024-08-05T00:00:00",
          "2024-08-06T00:00:00",
          "2024-08-07T00:00:00",
          "2024-08-08T00:00:00",
          "2024-08-09T00:00:00",
          "2024-08-12T00:00:00",
          "2024-08-13T00:00:00",
          "2024-08-14T00:00:00",
          "2024-08-15T00:00:00",
          "2024-08-16T00:00:00",
          "2024-08-19T00:00:00",
          "2024-08-20T00:00:00",
          "2024-08-21T00:00:00",
          "2024-08-22T00:00:00",
          "2024-08-23T00:00:00",
          "2024-08-26T00:00:00",
          "2024-08-27T00:00:00",
          "2024-08-28T00:00:00",
          "2024-08-29T00:00:00",
          "2024-08-30T00:00:00",
          "2024-09-03T00:00:00",
          "2024-09-04T00:00:00",
          "2024-09-05T00:00:00",
          "2024-09-06T00:00:00",
          "2024-09-09T00:00:00",
          "2024-09-10T00:00:00",
          "2024-09-11T00:00:00",
          "2024-09-12T00:00:00",
          "2024-09-13T00:00:00",
          "2024-09-16T00:00:00",
          "2024-09-17T00:00:00",
          "2024-09-18T00:00:00",
          "2024-09-19T00:00:00",
          "2024-09-20T00:00:00",
          "2024-09-23T00:00:00",
          "2024-09-24T00:00:00",
          "2024-09-25T00:00:00",
          "2024-09-26T00:00:00",
          "2024-09-27T00:00:00",
          "2024-09-30T00:00:00",
          "2024-10-01T00:00:00",
          "2024-10-02T00:00:00",
          "2024-10-03T00:00:00",
          "2024-10-04T00:00:00",
          "2024-10-07T00:00:00",
          "2024-10-08T00:00:00",
          "2024-10-09T00:00:00",
          "2024-10-10T00:00:00",
          "2024-10-11T00:00:00",
          "2024-10-14T00:00:00",
          "2024-10-15T00:00:00",
          "2024-10-16T00:00:00",
          "2024-10-17T00:00:00",
          "2024-10-18T00:00:00",
          "2024-10-21T00:00:00",
          "2024-10-22T00:00:00",
          "2024-10-23T00:00:00",
          "2024-10-24T00:00:00",
          "2024-10-25T00:00:00",
          "2024-10-28T00:00:00",
          "2024-10-29T00:00:00",
          "2024-10-30T00:00:00",
          "2024-10-31T00:00:00",
          "2024-11-01T00:00:00",
          "2024-11-04T00:00:00",
          "2024-11-05T00:00:00",
          "2024-11-06T00:00:00",
          "2024-11-07T00:00:00",
          "2024-11-08T00:00:00",
          "2024-11-11T00:00:00",
          "2024-11-12T00:00:00",
          "2024-11-13T00:00:00",
          "2024-11-14T00:00:00",
          "2024-11-15T00:00:00",
          "2024-11-18T00:00:00",
          "2024-11-19T00:00:00",
          "2024-11-20T00:00:00",
          "2024-11-21T00:00:00",
          "2024-11-22T00:00:00",
          "2024-11-25T00:00:00",
          "2024-11-26T00:00:00",
          "2024-11-27T00:00:00",
          "2024-11-29T00:00:00",
          "2024-12-02T00:00:00",
          "2024-12-03T00:00:00",
          "2024-12-04T00:00:00",
          "2024-12-05T00:00:00",
          "2024-12-06T00:00:00",
          "2024-12-09T00:00:00",
          "2024-12-10T00:00:00",
          "2024-12-11T00:00:00",
          "2024-12-12T00:00:00",
          "2024-12-13T00:00:00",
          "2024-12-16T00:00:00",
          "2024-12-17T00:00:00",
          "2024-12-18T00:00:00",
          "2024-12-19T00:00:00",
          "2024-12-20T00:00:00",
          "2024-12-23T00:00:00",
          "2024-12-24T00:00:00",
          "2024-12-26T00:00:00",
          "2024-12-27T00:00:00",
          "2024-12-30T00:00:00",
          "2024-12-31T00:00:00",
          "2025-01-02T00:00:00",
          "2025-01-03T00:00:00",
          "2025-01-06T00:00:00",
          "2025-01-07T00:00:00",
          "2025-01-08T00:00:00",
          "2025-01-09T00:00:00",
          "2025-01-10T00:00:00",
          "2025-01-13T00:00:00",
          "2025-01-14T00:00:00",
          "2025-01-15T00:00:00",
          "2025-01-16T00:00:00",
          "2025-01-17T00:00:00",
          "2025-01-21T00:00:00",
          "2025-01-22T00:00:00",
          "2025-01-23T00:00:00",
          "2025-01-24T00:00:00",
          "2025-01-27T00:00:00",
          "2025-01-28T00:00:00",
          "2025-01-29T00:00:00"
         ],
         "xaxis": "x",
         "y": {
          "dtype": "f8",
          "bdata": "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"
         },
         "yaxis": "y",
         "type": "scattergl"
        },
        {
         "hovertemplate": "Factor=nl_beta<br>time_index=%{x}<br>Exposure=%{y}<extra></extra>",
         "legendgroup": "nl_beta",
         "line": {
          "color": "#ab63fa",
          "dash": "solid"
         },
         "marker": {
          "symbol": "circle"
         },
         "mode": "lines",
         "name": "nl_beta",
         "showlegend": true,
         "x": [
          "2022-01-03T00:00:00",
          "2022-01-04T00:00:00",
          "2022-01-05T00:00:00",
          "2022-01-06T00:00:00",
          "2022-01-07T00:00:00",
          "2022-01-10T00:00:00",
          "2022-01-11T00:00:00",
          "2022-01-12T00:00:00",
          "2022-01-13T00:00:00",
          "2022-01-14T00:00:00",
          "2022-01-18T00:00:00",
          "2022-01-19T00:00:00",
          "2022-01-20T00:00:00",
          "2022-01-21T00:00:00",
          "2022-01-24T00:00:00",
          "2022-01-25T00:00:00",
          "2022-01-26T00:00:00",
          "2022-01-27T00:00:00",
          "2022-01-28T00:00:00",
          "2022-01-31T00:00:00",
          "2022-02-01T00:00:00",
          "2022-02-02T00:00:00",
          "2022-02-03T00:00:00",
          "2022-02-04T00:00:00",
          "2022-02-07T00:00:00",
          "2022-02-08T00:00:00",
          "2022-02-09T00:00:00",
          "2022-02-10T00:00:00",
          "2022-02-11T00:00:00",
          "2022-02-14T00:00:00",
          "2022-02-15T00:00:00",
          "2022-02-16T00:00:00",
          "2022-02-17T00:00:00",
          "2022-02-18T00:00:00",
          "2022-02-22T00:00:00",
          "2022-02-23T00:00:00",
          "2022-02-24T00:00:00",
          "2022-02-25T00:00:00",
          "2022-02-28T00:00:00",
          "2022-03-01T00:00:00",
          "2022-03-02T00:00:00",
          "2022-03-03T00:00:00",
          "2022-03-04T00:00:00",
          "2022-03-07T00:00:00",
          "2022-03-08T00:00:00",
          "2022-03-09T00:00:00",
          "2022-03-10T00:00:00",
          "2022-03-11T00:00:00",
          "2022-03-14T00:00:00",
          "2022-03-15T00:00:00",
          "2022-03-16T00:00:00",
          "2022-03-17T00:00:00",
          "2022-03-18T00:00:00",
          "2022-03-21T00:00:00",
          "2022-03-22T00:00:00",
          "2022-03-23T00:00:00",
          "2022-03-24T00:00:00",
          "2022-03-25T00:00:00",
          "2022-03-28T00:00:00",
          "2022-03-29T00:00:00",
          "2022-03-30T00:00:00",
          "2022-03-31T00:00:00",
          "2022-04-01T00:00:00",
          "2022-04-04T00:00:00",
          "2022-04-05T00:00:00",
          "2022-04-06T00:00:00",
          "2022-04-07T00:00:00",
          "2022-04-08T00:00:00",
          "2022-04-11T00:00:00",
          "2022-04-12T00:00:00",
          "2022-04-13T00:00:00",
          "2022-04-14T00:00:00",
          "2022-04-18T00:00:00",
          "2022-04-19T00:00:00",
          "2022-04-20T00:00:00",
          "2022-04-21T00:00:00",
          "2022-04-22T00:00:00",
          "2022-04-25T00:00:00",
          "2022-04-26T00:00:00",
          "2022-04-27T00:00:00",
          "2022-04-28T00:00:00",
          "2022-04-29T00:00:00",
          "2022-05-02T00:00:00",
          "2022-05-03T00:00:00",
          "2022-05-04T00:00:00",
          "2022-05-05T00:00:00",
          "2022-05-06T00:00:00",
          "2022-05-09T00:00:00",
          "2022-05-10T00:00:00",
          "2022-05-11T00:00:00",
          "2022-05-12T00:00:00",
          "2022-05-13T00:00:00",
          "2022-05-16T00:00:00",
          "2022-05-17T00:00:00",
          "2022-05-18T00:00:00",
          "2022-05-19T00:00:00",
          "2022-05-20T00:00:00",
          "2022-05-23T00:00:00",
          "2022-05-24T00:00:00",
          "2022-05-25T00:00:00",
          "2022-05-26T00:00:00",
          "2022-05-27T00:00:00",
          "2022-05-31T00:00:00",
          "2022-06-01T00:00:00",
          "2022-06-02T00:00:00",
          "2022-06-03T00:00:00",
          "2022-06-06T00:00:00",
          "2022-06-07T00:00:00",
          "2022-06-08T00:00:00",
          "2022-06-09T00:00:00",
          "2022-06-10T00:00:00",
          "2022-06-13T00:00:00",
          "2022-06-14T00:00:00",
          "2022-06-15T00:00:00",
          "2022-06-16T00:00:00",
          "2022-06-17T00:00:00",
          "2022-06-21T00:00:00",
          "2022-06-22T00:00:00",
          "2022-06-23T00:00:00",
          "2022-06-24T00:00:00",
          "2022-06-27T00:00:00",
          "2022-06-28T00:00:00",
          "2022-06-29T00:00:00",
          "2022-06-30T00:00:00",
          "2022-07-01T00:00:00",
          "2022-07-05T00:00:00",
          "2022-07-06T00:00:00",
          "2022-07-07T00:00:00",
          "2022-07-08T00:00:00",
          "2022-07-11T00:00:00",
          "2022-07-12T00:00:00",
          "2022-07-13T00:00:00",
          "2022-07-14T00:00:00",
          "2022-07-15T00:00:00",
          "2022-07-18T00:00:00",
          "2022-07-19T00:00:00",
          "2022-07-20T00:00:00",
          "2022-07-21T00:00:00",
          "2022-07-22T00:00:00",
          "2022-07-25T00:00:00",
          "2022-07-26T00:00:00",
          "2022-07-27T00:00:00",
          "2022-07-28T00:00:00",
          "2022-07-29T00:00:00",
          "2022-08-01T00:00:00",
          "2022-08-02T00:00:00",
          "2022-08-03T00:00:00",
          "2022-08-04T00:00:00",
          "2022-08-05T00:00:00",
          "2022-08-08T00:00:00",
          "2022-08-09T00:00:00",
          "2022-08-10T00:00:00",
          "2022-08-11T00:00:00",
          "2022-08-12T00:00:00",
          "2022-08-15T00:00:00",
          "2022-08-16T00:00:00",
          "2022-08-17T00:00:00",
          "2022-08-18T00:00:00",
          "2022-08-19T00:00:00",
          "2022-08-22T00:00:00",
          "2022-08-23T00:00:00",
          "2022-08-24T00:00:00",
          "2022-08-25T00:00:00",
          "2022-08-26T00:00:00",
          "2022-08-29T00:00:00",
          "2022-08-30T00:00:00",
          "2022-08-31T00:00:00",
          "2022-09-01T00:00:00",
          "2022-09-02T00:00:00",
          "2022-09-06T00:00:00",
          "2022-09-07T00:00:00",
          "2022-09-08T00:00:00",
          "2022-09-09T00:00:00",
          "2022-09-12T00:00:00",
          "2022-09-13T00:00:00",
          "2022-09-14T00:00:00",
          "2022-09-15T00:00:00",
          "2022-09-16T00:00:00",
          "2022-09-19T00:00:00",
          "2022-09-20T00:00:00",
          "2022-09-21T00:00:00",
          "2022-09-22T00:00:00",
          "2022-09-23T00:00:00",
          "2022-09-26T00:00:00",
          "2022-09-27T00:00:00",
          "2022-09-28T00:00:00",
          "2022-09-29T00:00:00",
          "2022-09-30T00:00:00",
          "2022-10-03T00:00:00",
          "2022-10-04T00:00:00",
          "2022-10-05T00:00:00",
          "2022-10-06T00:00:00",
          "2022-10-07T00:00:00",
          "2022-10-10T00:00:00",
          "2022-10-11T00:00:00",
          "2022-10-12T00:00:00",
          "2022-10-13T00:00:00",
          "2022-10-14T00:00:00",
          "2022-10-17T00:00:00",
          "2022-10-18T00:00:00",
          "2022-10-19T00:00:00",
          "2022-10-20T00:00:00",
          "2022-10-21T00:00:00",
          "2022-10-24T00:00:00",
          "2022-10-25T00:00:00",
          "2022-10-26T00:00:00",
          "2022-10-27T00:00:00",
          "2022-10-28T00:00:00",
          "2022-10-31T00:00:00",
          "2022-11-01T00:00:00",
          "2022-11-02T00:00:00",
          "2022-11-03T00:00:00",
          "2022-11-04T00:00:00",
          "2022-11-07T00:00:00",
          "2022-11-08T00:00:00",
          "2022-11-09T00:00:00",
          "2022-11-10T00:00:00",
          "2022-11-11T00:00:00",
          "2022-11-14T00:00:00",
          "2022-11-15T00:00:00",
          "2022-11-16T00:00:00",
          "2022-11-17T00:00:00",
          "2022-11-18T00:00:00",
          "2022-11-21T00:00:00",
          "2022-11-22T00:00:00",
          "2022-11-23T00:00:00",
          "2022-11-25T00:00:00",
          "2022-11-28T00:00:00",
          "2022-11-29T00:00:00",
          "2022-11-30T00:00:00",
          "2022-12-01T00:00:00",
          "2022-12-02T00:00:00",
          "2022-12-05T00:00:00",
          "2022-12-06T00:00:00",
          "2022-12-07T00:00:00",
          "2022-12-08T00:00:00",
          "2022-12-09T00:00:00",
          "2022-12-12T00:00:00",
          "2022-12-13T00:00:00",
          "2022-12-14T00:00:00",
          "2022-12-15T00:00:00",
          "2022-12-16T00:00:00",
          "2022-12-19T00:00:00",
          "2022-12-20T00:00:00",
          "2022-12-21T00:00:00",
          "2022-12-22T00:00:00",
          "2022-12-23T00:00:00",
          "2022-12-27T00:00:00",
          "2022-12-28T00:00:00",
          "2022-12-29T00:00:00",
          "2022-12-30T00:00:00",
          "2023-01-03T00:00:00",
          "2023-01-04T00:00:00",
          "2023-01-05T00:00:00",
          "2023-01-06T00:00:00",
          "2023-01-09T00:00:00",
          "2023-01-10T00:00:00",
          "2023-01-11T00:00:00",
          "2023-01-12T00:00:00",
          "2023-01-13T00:00:00",
          "2023-01-17T00:00:00",
          "2023-01-18T00:00:00",
          "2023-01-19T00:00:00",
          "2023-01-20T00:00:00",
          "2023-01-23T00:00:00",
          "2023-01-24T00:00:00",
          "2023-01-25T00:00:00",
          "2023-01-26T00:00:00",
          "2023-01-27T00:00:00",
          "2023-01-30T00:00:00",
          "2023-01-31T00:00:00",
          "2023-02-01T00:00:00",
          "2023-02-02T00:00:00",
          "2023-02-03T00:00:00",
          "2023-02-06T00:00:00",
          "2023-02-07T00:00:00",
          "2023-02-08T00:00:00",
          "2023-02-09T00:00:00",
          "2023-02-10T00:00:00",
          "2023-02-13T00:00:00",
          "2023-02-14T00:00:00",
          "2023-02-15T00:00:00",
          "2023-02-16T00:00:00",
          "2023-02-17T00:00:00",
          "2023-02-21T00:00:00",
          "2023-02-22T00:00:00",
          "2023-02-23T00:00:00",
          "2023-02-24T00:00:00",
          "2023-02-27T00:00:00",
          "2023-02-28T00:00:00",
          "2023-03-01T00:00:00",
          "2023-03-02T00:00:00",
          "2023-03-03T00:00:00",
          "2023-03-06T00:00:00",
          "2023-03-07T00:00:00",
          "2023-03-08T00:00:00",
          "2023-03-09T00:00:00",
          "2023-03-10T00:00:00",
          "2023-03-13T00:00:00",
          "2023-03-14T00:00:00",
          "2023-03-15T00:00:00",
          "2023-03-16T00:00:00",
          "2023-03-17T00:00:00",
          "2023-03-20T00:00:00",
          "2023-03-21T00:00:00",
          "2023-03-22T00:00:00",
          "2023-03-23T00:00:00",
          "2023-03-24T00:00:00",
          "2023-03-27T00:00:00",
          "2023-03-28T00:00:00",
          "2023-03-29T00:00:00",
          "2023-03-30T00:00:00",
          "2023-03-31T00:00:00",
          "2023-04-03T00:00:00",
          "2023-04-04T00:00:00",
          "2023-04-05T00:00:00",
          "2023-04-06T00:00:00",
          "2023-04-10T00:00:00",
          "2023-04-11T00:00:00",
          "2023-04-12T00:00:00",
          "2023-04-13T00:00:00",
          "2023-04-14T00:00:00",
          "2023-04-17T00:00:00",
          "2023-04-18T00:00:00",
          "2023-04-19T00:00:00",
          "2023-04-20T00:00:00",
          "2023-04-21T00:00:00",
          "2023-04-24T00:00:00",
          "2023-04-25T00:00:00",
          "2023-04-26T00:00:00",
          "2023-04-27T00:00:00",
          "2023-04-28T00:00:00",
          "2023-05-01T00:00:00",
          "2023-05-02T00:00:00",
          "2023-05-03T00:00:00",
          "2023-05-04T00:00:00",
          "2023-05-05T00:00:00",
          "2023-05-08T00:00:00",
          "2023-05-09T00:00:00",
          "2023-05-10T00:00:00",
          "2023-05-11T00:00:00",
          "2023-05-12T00:00:00",
          "2023-05-15T00:00:00",
          "2023-05-16T00:00:00",
          "2023-05-17T00:00:00",
          "2023-05-18T00:00:00",
          "2023-05-19T00:00:00",
          "2023-05-22T00:00:00",
          "2023-05-23T00:00:00",
          "2023-05-24T00:00:00",
          "2023-05-25T00:00:00",
          "2023-05-26T00:00:00",
          "2023-05-30T00:00:00",
          "2023-05-31T00:00:00",
          "2023-06-01T00:00:00",
          "2023-06-02T00:00:00",
          "2023-06-05T00:00:00",
          "2023-06-06T00:00:00",
          "2023-06-07T00:00:00",
          "2023-06-08T00:00:00",
          "2023-06-09T00:00:00",
          "2023-06-12T00:00:00",
          "2023-06-13T00:00:00",
          "2023-06-14T00:00:00",
          "2023-06-15T00:00:00",
          "2023-06-16T00:00:00",
          "2023-06-20T00:00:00",
          "2023-06-21T00:00:00",
          "2023-06-22T00:00:00",
          "2023-06-23T00:00:00",
          "2023-06-26T00:00:00",
          "2023-06-27T00:00:00",
          "2023-06-28T00:00:00",
          "2023-06-29T00:00:00",
          "2023-06-30T00:00:00",
          "2023-07-03T00:00:00",
          "2023-07-05T00:00:00",
          "2023-07-06T00:00:00",
          "2023-07-07T00:00:00",
          "2023-07-10T00:00:00",
          "2023-07-11T00:00:00",
          "2023-07-12T00:00:00",
          "2023-07-13T00:00:00",
          "2023-07-14T00:00:00",
          "2023-07-17T00:00:00",
          "2023-07-18T00:00:00",
          "2023-07-19T00:00:00",
          "2023-07-20T00:00:00",
          "2023-07-21T00:00:00",
          "2023-07-24T00:00:00",
          "2023-07-25T00:00:00",
          "2023-07-26T00:00:00",
          "2023-07-27T00:00:00",
          "2023-07-28T00:00:00",
          "2023-07-31T00:00:00",
          "2023-08-01T00:00:00",
          "2023-08-02T00:00:00",
          "2023-08-03T00:00:00",
          "2023-08-04T00:00:00",
          "2023-08-07T00:00:00",
          "2023-08-08T00:00:00",
          "2023-08-09T00:00:00",
          "2023-08-10T00:00:00",
          "2023-08-11T00:00:00",
          "2023-08-14T00:00:00",
          "2023-08-15T00:00:00",
          "2023-08-16T00:00:00",
          "2023-08-17T00:00:00",
          "2023-08-18T00:00:00",
          "2023-08-21T00:00:00",
          "2023-08-22T00:00:00",
          "2023-08-23T00:00:00",
          "2023-08-24T00:00:00",
          "2023-08-25T00:00:00",
          "2023-08-28T00:00:00",
          "2023-08-29T00:00:00",
          "2023-08-30T00:00:00",
          "2023-08-31T00:00:00",
          "2023-09-01T00:00:00",
          "2023-09-05T00:00:00",
          "2023-09-06T00:00:00",
          "2023-09-07T00:00:00",
          "2023-09-08T00:00:00",
          "2023-09-11T00:00:00",
          "2023-09-12T00:00:00",
          "2023-09-13T00:00:00",
          "2023-09-14T00:00:00",
          "2023-09-15T00:00:00",
          "2023-09-18T00:00:00",
          "2023-09-19T00:00:00",
          "2023-09-20T00:00:00",
          "2023-09-21T00:00:00",
          "2023-09-22T00:00:00",
          "2023-09-25T00:00:00",
          "2023-09-26T00:00:00",
          "2023-09-27T00:00:00",
          "2023-09-28T00:00:00",
          "2023-09-29T00:00:00",
          "2023-10-02T00:00:00",
          "2023-10-03T00:00:00",
          "2023-10-04T00:00:00",
          "2023-10-05T00:00:00",
          "2023-10-06T00:00:00",
          "2023-10-09T00:00:00",
          "2023-10-10T00:00:00",
          "2023-10-11T00:00:00",
          "2023-10-12T00:00:00",
          "2023-10-13T00:00:00",
          "2023-10-16T00:00:00",
          "2023-10-17T00:00:00",
          "2023-10-18T00:00:00",
          "2023-10-19T00:00:00",
          "2023-10-20T00:00:00",
          "2023-10-23T00:00:00",
          "2023-10-24T00:00:00",
          "2023-10-25T00:00:00",
          "2023-10-26T00:00:00",
          "2023-10-27T00:00:00",
          "2023-10-30T00:00:00",
          "2023-10-31T00:00:00",
          "2023-11-01T00:00:00",
          "2023-11-02T00:00:00",
          "2023-11-03T00:00:00",
          "2023-11-06T00:00:00",
          "2023-11-07T00:00:00",
          "2023-11-08T00:00:00",
          "2023-11-09T00:00:00",
          "2023-11-10T00:00:00",
          "2023-11-13T00:00:00",
          "2023-11-14T00:00:00",
          "2023-11-15T00:00:00",
          "2023-11-16T00:00:00",
          "2023-11-17T00:00:00",
          "2023-11-20T00:00:00",
          "2023-11-21T00:00:00",
          "2023-11-22T00:00:00",
          "2023-11-24T00:00:00",
          "2023-11-27T00:00:00",
          "2023-11-28T00:00:00",
          "2023-11-29T00:00:00",
          "2023-11-30T00:00:00",
          "2023-12-01T00:00:00",
          "2023-12-04T00:00:00",
          "2023-12-05T00:00:00",
          "2023-12-06T00:00:00",
          "2023-12-07T00:00:00",
          "2023-12-08T00:00:00",
          "2023-12-11T00:00:00",
          "2023-12-12T00:00:00",
          "2023-12-13T00:00:00",
          "2023-12-14T00:00:00",
          "2023-12-15T00:00:00",
          "2023-12-18T00:00:00",
          "2023-12-19T00:00:00",
          "2023-12-20T00:00:00",
          "2023-12-21T00:00:00",
          "2023-12-22T00:00:00",
          "2023-12-26T00:00:00",
          "2023-12-27T00:00:00",
          "2023-12-28T00:00:00",
          "2023-12-29T00:00:00",
          "2024-01-02T00:00:00",
          "2024-01-03T00:00:00",
          "2024-01-04T00:00:00",
          "2024-01-05T00:00:00",
          "2024-01-08T00:00:00",
          "2024-01-09T00:00:00",
          "2024-01-10T00:00:00",
          "2024-01-11T00:00:00",
          "2024-01-12T00:00:00",
          "2024-01-16T00:00:00",
          "2024-01-17T00:00:00",
          "2024-01-18T00:00:00",
          "2024-01-19T00:00:00",
          "2024-01-22T00:00:00",
          "2024-01-23T00:00:00",
          "2024-01-24T00:00:00",
          "2024-01-25T00:00:00",
          "2024-01-26T00:00:00",
          "2024-01-29T00:00:00",
          "2024-01-30T00:00:00",
          "2024-01-31T00:00:00",
          "2024-02-01T00:00:00",
          "2024-02-02T00:00:00",
          "2024-02-05T00:00:00",
          "2024-02-06T00:00:00",
          "2024-02-07T00:00:00",
          "2024-02-08T00:00:00",
          "2024-02-09T00:00:00",
          "2024-02-12T00:00:00",
          "2024-02-13T00:00:00",
          "2024-02-14T00:00:00",
          "2024-02-15T00:00:00",
          "2024-02-16T00:00:00",
          "2024-02-20T00:00:00",
          "2024-02-21T00:00:00",
          "2024-02-22T00:00:00",
          "2024-02-23T00:00:00",
          "2024-02-26T00:00:00",
          "2024-02-27T00:00:00",
          "2024-02-28T00:00:00",
          "2024-02-29T00:00:00",
          "2024-03-01T00:00:00",
          "2024-03-04T00:00:00",
          "2024-03-05T00:00:00",
          "2024-03-06T00:00:00",
          "2024-03-07T00:00:00",
          "2024-03-08T00:00:00",
          "2024-03-11T00:00:00",
          "2024-03-12T00:00:00",
          "2024-03-13T00:00:00",
          "2024-03-14T00:00:00",
          "2024-03-15T00:00:00",
          "2024-03-18T00:00:00",
          "2024-03-19T00:00:00",
          "2024-03-20T00:00:00",
          "2024-03-21T00:00:00",
          "2024-03-22T00:00:00",
          "2024-03-25T00:00:00",
          "2024-03-26T00:00:00",
          "2024-03-27T00:00:00",
          "2024-03-28T00:00:00",
          "2024-04-01T00:00:00",
          "2024-04-02T00:00:00",
          "2024-04-03T00:00:00",
          "2024-04-04T00:00:00",
          "2024-04-05T00:00:00",
          "2024-04-08T00:00:00",
          "2024-04-09T00:00:00",
          "2024-04-10T00:00:00",
          "2024-04-11T00:00:00",
          "2024-04-12T00:00:00",
          "2024-04-15T00:00:00",
          "2024-04-16T00:00:00",
          "2024-04-17T00:00:00",
          "2024-04-18T00:00:00",
          "2024-04-19T00:00:00",
          "2024-04-22T00:00:00",
          "2024-04-23T00:00:00",
          "2024-04-24T00:00:00",
          "2024-04-25T00:00:00",
          "2024-04-26T00:00:00",
          "2024-04-29T00:00:00",
          "2024-04-30T00:00:00",
          "2024-05-01T00:00:00",
          "2024-05-02T00:00:00",
          "2024-05-03T00:00:00",
          "2024-05-06T00:00:00",
          "2024-05-07T00:00:00",
          "2024-05-08T00:00:00",
          "2024-05-09T00:00:00",
          "2024-05-10T00:00:00",
          "2024-05-13T00:00:00",
          "2024-05-14T00:00:00",
          "2024-05-15T00:00:00",
          "2024-05-16T00:00:00",
          "2024-05-17T00:00:00",
          "2024-05-20T00:00:00",
          "2024-05-21T00:00:00",
          "2024-05-22T00:00:00",
          "2024-05-23T00:00:00",
          "2024-05-24T00:00:00",
          "2024-05-28T00:00:00",
          "2024-05-29T00:00:00",
          "2024-05-30T00:00:00",
          "2024-05-31T00:00:00",
          "2024-06-03T00:00:00",
          "2024-06-04T00:00:00",
          "2024-06-05T00:00:00",
          "2024-06-06T00:00:00",
          "2024-06-07T00:00:00",
          "2024-06-10T00:00:00",
          "2024-06-11T00:00:00",
          "2024-06-12T00:00:00",
          "2024-06-13T00:00:00",
          "2024-06-14T00:00:00",
          "2024-06-17T00:00:00",
          "2024-06-18T00:00:00",
          "2024-06-20T00:00:00",
          "2024-06-21T00:00:00",
          "2024-06-24T00:00:00",
          "2024-06-25T00:00:00",
          "2024-06-26T00:00:00",
          "2024-06-27T00:00:00",
          "2024-06-28T00:00:00",
          "2024-07-01T00:00:00",
          "2024-07-02T00:00:00",
          "2024-07-03T00:00:00",
          "2024-07-05T00:00:00",
          "2024-07-08T00:00:00",
          "2024-07-09T00:00:00",
          "2024-07-10T00:00:00",
          "2024-07-11T00:00:00",
          "2024-07-12T00:00:00",
          "2024-07-15T00:00:00",
          "2024-07-16T00:00:00",
          "2024-07-17T00:00:00",
          "2024-07-18T00:00:00",
          "2024-07-19T00:00:00",
          "2024-07-22T00:00:00",
          "2024-07-23T00:00:00",
          "2024-07-24T00:00:00",
          "2024-07-25T00:00:00",
          "2024-07-26T00:00:00",
          "2024-07-29T00:00:00",
          "2024-07-30T00:00:00",
          "2024-07-31T00:00:00",
          "2024-08-01T00:00:00",
          "2024-08-02T00:00:00",
          "2024-08-05T00:00:00",
          "2024-08-06T00:00:00",
          "2024-08-07T00:00:00",
          "2024-08-08T00:00:00",
          "2024-08-09T00:00:00",
          "2024-08-12T00:00:00",
          "2024-08-13T00:00:00",
          "2024-08-14T00:00:00",
          "2024-08-15T00:00:00",
          "2024-08-16T00:00:00",
          "2024-08-19T00:00:00",
          "2024-08-20T00:00:00",
          "2024-08-21T00:00:00",
          "2024-08-22T00:00:00",
          "2024-08-23T00:00:00",
          "2024-08-26T00:00:00",
          "2024-08-27T00:00:00",
          "2024-08-28T00:00:00",
          "2024-08-29T00:00:00",
          "2024-08-30T00:00:00",
          "2024-09-03T00:00:00",
          "2024-09-04T00:00:00",
          "2024-09-05T00:00:00",
          "2024-09-06T00:00:00",
          "2024-09-09T00:00:00",
          "2024-09-10T00:00:00",
          "2024-09-11T00:00:00",
          "2024-09-12T00:00:00",
          "2024-09-13T00:00:00",
          "2024-09-16T00:00:00",
          "2024-09-17T00:00:00",
          "2024-09-18T00:00:00",
          "2024-09-19T00:00:00",
          "2024-09-20T00:00:00",
          "2024-09-23T00:00:00",
          "2024-09-24T00:00:00",
          "2024-09-25T00:00:00",
          "2024-09-26T00:00:00",
          "2024-09-27T00:00:00",
          "2024-09-30T00:00:00",
          "2024-10-01T00:00:00",
          "2024-10-02T00:00:00",
          "2024-10-03T00:00:00",
          "2024-10-04T00:00:00",
          "2024-10-07T00:00:00",
          "2024-10-08T00:00:00",
          "2024-10-09T00:00:00",
          "2024-10-10T00:00:00",
          "2024-10-11T00:00:00",
          "2024-10-14T00:00:00",
          "2024-10-15T00:00:00",
          "2024-10-16T00:00:00",
          "2024-10-17T00:00:00",
          "2024-10-18T00:00:00",
          "2024-10-21T00:00:00",
          "2024-10-22T00:00:00",
          "2024-10-23T00:00:00",
          "2024-10-24T00:00:00",
          "2024-10-25T00:00:00",
          "2024-10-28T00:00:00",
          "2024-10-29T00:00:00",
          "2024-10-30T00:00:00",
          "2024-10-31T00:00:00",
          "2024-11-01T00:00:00",
          "2024-11-04T00:00:00",
          "2024-11-05T00:00:00",
          "2024-11-06T00:00:00",
          "2024-11-07T00:00:00",
          "2024-11-08T00:00:00",
          "2024-11-11T00:00:00",
          "2024-11-12T00:00:00",
          "2024-11-13T00:00:00",
          "2024-11-14T00:00:00",
          "2024-11-15T00:00:00",
          "2024-11-18T00:00:00",
          "2024-11-19T00:00:00",
          "2024-11-20T00:00:00",
          "2024-11-21T00:00:00",
          "2024-11-22T00:00:00",
          "2024-11-25T00:00:00",
          "2024-11-26T00:00:00",
          "2024-11-27T00:00:00",
          "2024-11-29T00:00:00",
          "2024-12-02T00:00:00",
          "2024-12-03T00:00:00",
          "2024-12-04T00:00:00",
          "2024-12-05T00:00:00",
          "2024-12-06T00:00:00",
          "2024-12-09T00:00:00",
          "2024-12-10T00:00:00",
          "2024-12-11T00:00:00",
          "2024-12-12T00:00:00",
          "2024-12-13T00:00:00",
          "2024-12-16T00:00:00",
          "2024-12-17T00:00:00",
          "2024-12-18T00:00:00",
          "2024-12-19T00:00:00",
          "2024-12-20T00:00:00",
          "2024-12-23T00:00:00",
          "2024-12-24T00:00:00",
          "2024-12-26T00:00:00",
          "2024-12-27T00:00:00",
          "2024-12-30T00:00:00",
          "2024-12-31T00:00:00",
          "2025-01-02T00:00:00",
          "2025-01-03T00:00:00",
          "2025-01-06T00:00:00",
          "2025-01-07T00:00:00",
          "2025-01-08T00:00:00",
          "2025-01-09T00:00:00",
          "2025-01-10T00:00:00",
          "2025-01-13T00:00:00",
          "2025-01-14T00:00:00",
          "2025-01-15T00:00:00",
          "2025-01-16T00:00:00",
          "2025-01-17T00:00:00",
          "2025-01-21T00:00:00",
          "2025-01-22T00:00:00",
          "2025-01-23T00:00:00",
          "2025-01-24T00:00:00",
          "2025-01-27T00:00:00",
          "2025-01-28T00:00:00",
          "2025-01-29T00:00:00"
         ],
         "xaxis": "x",
         "y": {
          "dtype": "f8",
          "bdata": "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"
         },
         "yaxis": "y",
         "type": "scattergl"
        },
        {
         "hovertemplate": "Factor=mom_12_1<br>time_index=%{x}<br>Exposure=%{y}<extra></extra>",
         "legendgroup": "mom_12_1",
         "line": {
          "color": "#FFA15A",
          "dash": "solid"
         },
         "marker": {
          "symbol": "circle"
         },
         "mode": "lines",
         "name": "mom_12_1",
         "showlegend": true,
         "x": [
          "2022-01-03T00:00:00",
          "2022-01-04T00:00:00",
          "2022-01-05T00:00:00",
          "2022-01-06T00:00:00",
          "2022-01-07T00:00:00",
          "2022-01-10T00:00:00",
          "2022-01-11T00:00:00",
          "2022-01-12T00:00:00",
          "2022-01-13T00:00:00",
          "2022-01-14T00:00:00",
          "2022-01-18T00:00:00",
          "2022-01-19T00:00:00",
          "2022-01-20T00:00:00",
          "2022-01-21T00:00:00",
          "2022-01-24T00:00:00",
          "2022-01-25T00:00:00",
          "2022-01-26T00:00:00",
          "2022-01-27T00:00:00",
          "2022-01-28T00:00:00",
          "2022-01-31T00:00:00",
          "2022-02-01T00:00:00",
          "2022-02-02T00:00:00",
          "2022-02-03T00:00:00",
          "2022-02-04T00:00:00",
          "2022-02-07T00:00:00",
          "2022-02-08T00:00:00",
          "2022-02-09T00:00:00",
          "2022-02-10T00:00:00",
          "2022-02-11T00:00:00",
          "2022-02-14T00:00:00",
          "2022-02-15T00:00:00",
          "2022-02-16T00:00:00",
          "2022-02-17T00:00:00",
          "2022-02-18T00:00:00",
          "2022-02-22T00:00:00",
          "2022-02-23T00:00:00",
          "2022-02-24T00:00:00",
          "2022-02-25T00:00:00",
          "2022-02-28T00:00:00",
          "2022-03-01T00:00:00",
          "2022-03-02T00:00:00",
          "2022-03-03T00:00:00",
          "2022-03-04T00:00:00",
          "2022-03-07T00:00:00",
          "2022-03-08T00:00:00",
          "2022-03-09T00:00:00",
          "2022-03-10T00:00:00",
          "2022-03-11T00:00:00",
          "2022-03-14T00:00:00",
          "2022-03-15T00:00:00",
          "2022-03-16T00:00:00",
          "2022-03-17T00:00:00",
          "2022-03-18T00:00:00",
          "2022-03-21T00:00:00",
          "2022-03-22T00:00:00",
          "2022-03-23T00:00:00",
          "2022-03-24T00:00:00",
          "2022-03-25T00:00:00",
          "2022-03-28T00:00:00",
          "2022-03-29T00:00:00",
          "2022-03-30T00:00:00",
          "2022-03-31T00:00:00",
          "2022-04-01T00:00:00",
          "2022-04-04T00:00:00",
          "2022-04-05T00:00:00",
          "2022-04-06T00:00:00",
          "2022-04-07T00:00:00",
          "2022-04-08T00:00:00",
          "2022-04-11T00:00:00",
          "2022-04-12T00:00:00",
          "2022-04-13T00:00:00",
          "2022-04-14T00:00:00",
          "2022-04-18T00:00:00",
          "2022-04-19T00:00:00",
          "2022-04-20T00:00:00",
          "2022-04-21T00:00:00",
          "2022-04-22T00:00:00",
          "2022-04-25T00:00:00",
          "2022-04-26T00:00:00",
          "2022-04-27T00:00:00",
          "2022-04-28T00:00:00",
          "2022-04-29T00:00:00",
          "2022-05-02T00:00:00",
          "2022-05-03T00:00:00",
          "2022-05-04T00:00:00",
          "2022-05-05T00:00:00",
          "2022-05-06T00:00:00",
          "2022-05-09T00:00:00",
          "2022-05-10T00:00:00",
          "2022-05-11T00:00:00",
          "2022-05-12T00:00:00",
          "2022-05-13T00:00:00",
          "2022-05-16T00:00:00",
          "2022-05-17T00:00:00",
          "2022-05-18T00:00:00",
          "2022-05-19T00:00:00",
          "2022-05-20T00:00:00",
          "2022-05-23T00:00:00",
          "2022-05-24T00:00:00",
          "2022-05-25T00:00:00",
          "2022-05-26T00:00:00",
          "2022-05-27T00:00:00",
          "2022-05-31T00:00:00",
          "2022-06-01T00:00:00",
          "2022-06-02T00:00:00",
          "2022-06-03T00:00:00",
          "2022-06-06T00:00:00",
          "2022-06-07T00:00:00",
          "2022-06-08T00:00:00",
          "2022-06-09T00:00:00",
          "2022-06-10T00:00:00",
          "2022-06-13T00:00:00",
          "2022-06-14T00:00:00",
          "2022-06-15T00:00:00",
          "2022-06-16T00:00:00",
          "2022-06-17T00:00:00",
          "2022-06-21T00:00:00",
          "2022-06-22T00:00:00",
          "2022-06-23T00:00:00",
          "2022-06-24T00:00:00",
          "2022-06-27T00:00:00",
          "2022-06-28T00:00:00",
          "2022-06-29T00:00:00",
          "2022-06-30T00:00:00",
          "2022-07-01T00:00:00",
          "2022-07-05T00:00:00",
          "2022-07-06T00:00:00",
          "2022-07-07T00:00:00",
          "2022-07-08T00:00:00",
          "2022-07-11T00:00:00",
          "2022-07-12T00:00:00",
          "2022-07-13T00:00:00",
          "2022-07-14T00:00:00",
          "2022-07-15T00:00:00",
          "2022-07-18T00:00:00",
          "2022-07-19T00:00:00",
          "2022-07-20T00:00:00",
          "2022-07-21T00:00:00",
          "2022-07-22T00:00:00",
          "2022-07-25T00:00:00",
          "2022-07-26T00:00:00",
          "2022-07-27T00:00:00",
          "2022-07-28T00:00:00",
          "2022-07-29T00:00:00",
          "2022-08-01T00:00:00",
          "2022-08-02T00:00:00",
          "2022-08-03T00:00:00",
          "2022-08-04T00:00:00",
          "2022-08-05T00:00:00",
          "2022-08-08T00:00:00",
          "2022-08-09T00:00:00",
          "2022-08-10T00:00:00",
          "2022-08-11T00:00:00",
          "2022-08-12T00:00:00",
          "2022-08-15T00:00:00",
          "2022-08-16T00:00:00",
          "2022-08-17T00:00:00",
          "2022-08-18T00:00:00",
          "2022-08-19T00:00:00",
          "2022-08-22T00:00:00",
          "2022-08-23T00:00:00",
          "2022-08-24T00:00:00",
          "2022-08-25T00:00:00",
          "2022-08-26T00:00:00",
          "2022-08-29T00:00:00",
          "2022-08-30T00:00:00",
          "2022-08-31T00:00:00",
          "2022-09-01T00:00:00",
          "2022-09-02T00:00:00",
          "2022-09-06T00:00:00",
          "2022-09-07T00:00:00",
          "2022-09-08T00:00:00",
          "2022-09-09T00:00:00",
          "2022-09-12T00:00:00",
          "2022-09-13T00:00:00",
          "2022-09-14T00:00:00",
          "2022-09-15T00:00:00",
          "2022-09-16T00:00:00",
          "2022-09-19T00:00:00",
          "2022-09-20T00:00:00",
          "2022-09-21T00:00:00",
          "2022-09-22T00:00:00",
          "2022-09-23T00:00:00",
          "2022-09-26T00:00:00",
          "2022-09-27T00:00:00",
          "2022-09-28T00:00:00",
          "2022-09-29T00:00:00",
          "2022-09-30T00:00:00",
          "2022-10-03T00:00:00",
          "2022-10-04T00:00:00",
          "2022-10-05T00:00:00",
          "2022-10-06T00:00:00",
          "2022-10-07T00:00:00",
          "2022-10-10T00:00:00",
          "2022-10-11T00:00:00",
          "2022-10-12T00:00:00",
          "2022-10-13T00:00:00",
          "2022-10-14T00:00:00",
          "2022-10-17T00:00:00",
          "2022-10-18T00:00:00",
          "2022-10-19T00:00:00",
          "2022-10-20T00:00:00",
          "2022-10-21T00:00:00",
          "2022-10-24T00:00:00",
          "2022-10-25T00:00:00",
          "2022-10-26T00:00:00",
          "2022-10-27T00:00:00",
          "2022-10-28T00:00:00",
          "2022-10-31T00:00:00",
          "2022-11-01T00:00:00",
          "2022-11-02T00:00:00",
          "2022-11-03T00:00:00",
          "2022-11-04T00:00:00",
          "2022-11-07T00:00:00",
          "2022-11-08T00:00:00",
          "2022-11-09T00:00:00",
          "2022-11-10T00:00:00",
          "2022-11-11T00:00:00",
          "2022-11-14T00:00:00",
          "2022-11-15T00:00:00",
          "2022-11-16T00:00:00",
          "2022-11-17T00:00:00",
          "2022-11-18T00:00:00",
          "2022-11-21T00:00:00",
          "2022-11-22T00:00:00",
          "2022-11-23T00:00:00",
          "2022-11-25T00:00:00",
          "2022-11-28T00:00:00",
          "2022-11-29T00:00:00",
          "2022-11-30T00:00:00",
          "2022-12-01T00:00:00",
          "2022-12-02T00:00:00",
          "2022-12-05T00:00:00",
          "2022-12-06T00:00:00",
          "2022-12-07T00:00:00",
          "2022-12-08T00:00:00",
          "2022-12-09T00:00:00",
          "2022-12-12T00:00:00",
          "2022-12-13T00:00:00",
          "2022-12-14T00:00:00",
          "2022-12-15T00:00:00",
          "2022-12-16T00:00:00",
          "2022-12-19T00:00:00",
          "2022-12-20T00:00:00",
          "2022-12-21T00:00:00",
          "2022-12-22T00:00:00",
          "2022-12-23T00:00:00",
          "2022-12-27T00:00:00",
          "2022-12-28T00:00:00",
          "2022-12-29T00:00:00",
          "2022-12-30T00:00:00",
          "2023-01-03T00:00:00",
          "2023-01-04T00:00:00",
          "2023-01-05T00:00:00",
          "2023-01-06T00:00:00",
          "2023-01-09T00:00:00",
          "2023-01-10T00:00:00",
          "2023-01-11T00:00:00",
          "2023-01-12T00:00:00",
          "2023-01-13T00:00:00",
          "2023-01-17T00:00:00",
          "2023-01-18T00:00:00",
          "2023-01-19T00:00:00",
          "2023-01-20T00:00:00",
          "2023-01-23T00:00:00",
          "2023-01-24T00:00:00",
          "2023-01-25T00:00:00",
          "2023-01-26T00:00:00",
          "2023-01-27T00:00:00",
          "2023-01-30T00:00:00",
          "2023-01-31T00:00:00",
          "2023-02-01T00:00:00",
          "2023-02-02T00:00:00",
          "2023-02-03T00:00:00",
          "2023-02-06T00:00:00",
          "2023-02-07T00:00:00",
          "2023-02-08T00:00:00",
          "2023-02-09T00:00:00",
          "2023-02-10T00:00:00",
          "2023-02-13T00:00:00",
          "2023-02-14T00:00:00",
          "2023-02-15T00:00:00",
          "2023-02-16T00:00:00",
          "2023-02-17T00:00:00",
          "2023-02-21T00:00:00",
          "2023-02-22T00:00:00",
          "2023-02-23T00:00:00",
          "2023-02-24T00:00:00",
          "2023-02-27T00:00:00",
          "2023-02-28T00:00:00",
          "2023-03-01T00:00:00",
          "2023-03-02T00:00:00",
          "2023-03-03T00:00:00",
          "2023-03-06T00:00:00",
          "2023-03-07T00:00:00",
          "2023-03-08T00:00:00",
          "2023-03-09T00:00:00",
          "2023-03-10T00:00:00",
          "2023-03-13T00:00:00",
          "2023-03-14T00:00:00",
          "2023-03-15T00:00:00",
          "2023-03-16T00:00:00",
          "2023-03-17T00:00:00",
          "2023-03-20T00:00:00",
          "2023-03-21T00:00:00",
          "2023-03-22T00:00:00",
          "2023-03-23T00:00:00",
          "2023-03-24T00:00:00",
          "2023-03-27T00:00:00",
          "2023-03-28T00:00:00",
          "2023-03-29T00:00:00",
          "2023-03-30T00:00:00",
          "2023-03-31T00:00:00",
          "2023-04-03T00:00:00",
          "2023-04-04T00:00:00",
          "2023-04-05T00:00:00",
          "2023-04-06T00:00:00",
          "2023-04-10T00:00:00",
          "2023-04-11T00:00:00",
          "2023-04-12T00:00:00",
          "2023-04-13T00:00:00",
          "2023-04-14T00:00:00",
          "2023-04-17T00:00:00",
          "2023-04-18T00:00:00",
          "2023-04-19T00:00:00",
          "2023-04-20T00:00:00",
          "2023-04-21T00:00:00",
          "2023-04-24T00:00:00",
          "2023-04-25T00:00:00",
          "2023-04-26T00:00:00",
          "2023-04-27T00:00:00",
          "2023-04-28T00:00:00",
          "2023-05-01T00:00:00",
          "2023-05-02T00:00:00",
          "2023-05-03T00:00:00",
          "2023-05-04T00:00:00",
          "2023-05-05T00:00:00",
          "2023-05-08T00:00:00",
          "2023-05-09T00:00:00",
          "2023-05-10T00:00:00",
          "2023-05-11T00:00:00",
          "2023-05-12T00:00:00",
          "2023-05-15T00:00:00",
          "2023-05-16T00:00:00",
          "2023-05-17T00:00:00",
          "2023-05-18T00:00:00",
          "2023-05-19T00:00:00",
          "2023-05-22T00:00:00",
          "2023-05-23T00:00:00",
          "2023-05-24T00:00:00",
          "2023-05-25T00:00:00",
          "2023-05-26T00:00:00",
          "2023-05-30T00:00:00",
          "2023-05-31T00:00:00",
          "2023-06-01T00:00:00",
          "2023-06-02T00:00:00",
          "2023-06-05T00:00:00",
          "2023-06-06T00:00:00",
          "2023-06-07T00:00:00",
          "2023-06-08T00:00:00",
          "2023-06-09T00:00:00",
          "2023-06-12T00:00:00",
          "2023-06-13T00:00:00",
          "2023-06-14T00:00:00",
          "2023-06-15T00:00:00",
          "2023-06-16T00:00:00",
          "2023-06-20T00:00:00",
          "2023-06-21T00:00:00",
          "2023-06-22T00:00:00",
          "2023-06-23T00:00:00",
          "2023-06-26T00:00:00",
          "2023-06-27T00:00:00",
          "2023-06-28T00:00:00",
          "2023-06-29T00:00:00",
          "2023-06-30T00:00:00",
          "2023-07-03T00:00:00",
          "2023-07-05T00:00:00",
          "2023-07-06T00:00:00",
          "2023-07-07T00:00:00",
          "2023-07-10T00:00:00",
          "2023-07-11T00:00:00",
          "2023-07-12T00:00:00",
          "2023-07-13T00:00:00",
          "2023-07-14T00:00:00",
          "2023-07-17T00:00:00",
          "2023-07-18T00:00:00",
          "2023-07-19T00:00:00",
          "2023-07-20T00:00:00",
          "2023-07-21T00:00:00",
          "2023-07-24T00:00:00",
          "2023-07-25T00:00:00",
          "2023-07-26T00:00:00",
          "2023-07-27T00:00:00",
          "2023-07-28T00:00:00",
          "2023-07-31T00:00:00",
          "2023-08-01T00:00:00",
          "2023-08-02T00:00:00",
          "2023-08-03T00:00:00",
          "2023-08-04T00:00:00",
          "2023-08-07T00:00:00",
          "2023-08-08T00:00:00",
          "2023-08-09T00:00:00",
          "2023-08-10T00:00:00",
          "2023-08-11T00:00:00",
          "2023-08-14T00:00:00",
          "2023-08-15T00:00:00",
          "2023-08-16T00:00:00",
          "2023-08-17T00:00:00",
          "2023-08-18T00:00:00",
          "2023-08-21T00:00:00",
          "2023-08-22T00:00:00",
          "2023-08-23T00:00:00",
          "2023-08-24T00:00:00",
          "2023-08-25T00:00:00",
          "2023-08-28T00:00:00",
          "2023-08-29T00:00:00",
          "2023-08-30T00:00:00",
          "2023-08-31T00:00:00",
          "2023-09-01T00:00:00",
          "2023-09-05T00:00:00",
          "2023-09-06T00:00:00",
          "2023-09-07T00:00:00",
          "2023-09-08T00:00:00",
          "2023-09-11T00:00:00",
          "2023-09-12T00:00:00",
          "2023-09-13T00:00:00",
          "2023-09-14T00:00:00",
          "2023-09-15T00:00:00",
          "2023-09-18T00:00:00",
          "2023-09-19T00:00:00",
          "2023-09-20T00:00:00",
          "2023-09-21T00:00:00",
          "2023-09-22T00:00:00",
          "2023-09-25T00:00:00",
          "2023-09-26T00:00:00",
          "2023-09-27T00:00:00",
          "2023-09-28T00:00:00",
          "2023-09-29T00:00:00",
          "2023-10-02T00:00:00",
          "2023-10-03T00:00:00",
          "2023-10-04T00:00:00",
          "2023-10-05T00:00:00",
          "2023-10-06T00:00:00",
          "2023-10-09T00:00:00",
          "2023-10-10T00:00:00",
          "2023-10-11T00:00:00",
          "2023-10-12T00:00:00",
          "2023-10-13T00:00:00",
          "2023-10-16T00:00:00",
          "2023-10-17T00:00:00",
          "2023-10-18T00:00:00",
          "2023-10-19T00:00:00",
          "2023-10-20T00:00:00",
          "2023-10-23T00:00:00",
          "2023-10-24T00:00:00",
          "2023-10-25T00:00:00",
          "2023-10-26T00:00:00",
          "2023-10-27T00:00:00",
          "2023-10-30T00:00:00",
          "2023-10-31T00:00:00",
          "2023-11-01T00:00:00",
          "2023-11-02T00:00:00",
          "2023-11-03T00:00:00",
          "2023-11-06T00:00:00",
          "2023-11-07T00:00:00",
          "2023-11-08T00:00:00",
          "2023-11-09T00:00:00",
          "2023-11-10T00:00:00",
          "2023-11-13T00:00:00",
          "2023-11-14T00:00:00",
          "2023-11-15T00:00:00",
          "2023-11-16T00:00:00",
          "2023-11-17T00:00:00",
          "2023-11-20T00:00:00",
          "2023-11-21T00:00:00",
          "2023-11-22T00:00:00",
          "2023-11-24T00:00:00",
          "2023-11-27T00:00:00",
          "2023-11-28T00:00:00",
          "2023-11-29T00:00:00",
          "2023-11-30T00:00:00",
          "2023-12-01T00:00:00",
          "2023-12-04T00:00:00",
          "2023-12-05T00:00:00",
          "2023-12-06T00:00:00",
          "2023-12-07T00:00:00",
          "2023-12-08T00:00:00",
          "2023-12-11T00:00:00",
          "2023-12-12T00:00:00",
          "2023-12-13T00:00:00",
          "2023-12-14T00:00:00",
          "2023-12-15T00:00:00",
          "2023-12-18T00:00:00",
          "2023-12-19T00:00:00",
          "2023-12-20T00:00:00",
          "2023-12-21T00:00:00",
          "2023-12-22T00:00:00",
          "2023-12-26T00:00:00",
          "2023-12-27T00:00:00",
          "2023-12-28T00:00:00",
          "2023-12-29T00:00:00",
          "2024-01-02T00:00:00",
          "2024-01-03T00:00:00",
          "2024-01-04T00:00:00",
          "2024-01-05T00:00:00",
          "2024-01-08T00:00:00",
          "2024-01-09T00:00:00",
          "2024-01-10T00:00:00",
          "2024-01-11T00:00:00",
          "2024-01-12T00:00:00",
          "2024-01-16T00:00:00",
          "2024-01-17T00:00:00",
          "2024-01-18T00:00:00",
          "2024-01-19T00:00:00",
          "2024-01-22T00:00:00",
          "2024-01-23T00:00:00",
          "2024-01-24T00:00:00",
          "2024-01-25T00:00:00",
          "2024-01-26T00:00:00",
          "2024-01-29T00:00:00",
          "2024-01-30T00:00:00",
          "2024-01-31T00:00:00",
          "2024-02-01T00:00:00",
          "2024-02-02T00:00:00",
          "2024-02-05T00:00:00",
          "2024-02-06T00:00:00",
          "2024-02-07T00:00:00",
          "2024-02-08T00:00:00",
          "2024-02-09T00:00:00",
          "2024-02-12T00:00:00",
          "2024-02-13T00:00:00",
          "2024-02-14T00:00:00",
          "2024-02-15T00:00:00",
          "2024-02-16T00:00:00",
          "2024-02-20T00:00:00",
          "2024-02-21T00:00:00",
          "2024-02-22T00:00:00",
          "2024-02-23T00:00:00",
          "2024-02-26T00:00:00",
          "2024-02-27T00:00:00",
          "2024-02-28T00:00:00",
          "2024-02-29T00:00:00",
          "2024-03-01T00:00:00",
          "2024-03-04T00:00:00",
          "2024-03-05T00:00:00",
          "2024-03-06T00:00:00",
          "2024-03-07T00:00:00",
          "2024-03-08T00:00:00",
          "2024-03-11T00:00:00",
          "2024-03-12T00:00:00",
          "2024-03-13T00:00:00",
          "2024-03-14T00:00:00",
          "2024-03-15T00:00:00",
          "2024-03-18T00:00:00",
          "2024-03-19T00:00:00",
          "2024-03-20T00:00:00",
          "2024-03-21T00:00:00",
          "2024-03-22T00:00:00",
          "2024-03-25T00:00:00",
          "2024-03-26T00:00:00",
          "2024-03-27T00:00:00",
          "2024-03-28T00:00:00",
          "2024-04-01T00:00:00",
          "2024-04-02T00:00:00",
          "2024-04-03T00:00:00",
          "2024-04-04T00:00:00",
          "2024-04-05T00:00:00",
          "2024-04-08T00:00:00",
          "2024-04-09T00:00:00",
          "2024-04-10T00:00:00",
          "2024-04-11T00:00:00",
          "2024-04-12T00:00:00",
          "2024-04-15T00:00:00",
          "2024-04-16T00:00:00",
          "2024-04-17T00:00:00",
          "2024-04-18T00:00:00",
          "2024-04-19T00:00:00",
          "2024-04-22T00:00:00",
          "2024-04-23T00:00:00",
          "2024-04-24T00:00:00",
          "2024-04-25T00:00:00",
          "2024-04-26T00:00:00",
          "2024-04-29T00:00:00",
          "2024-04-30T00:00:00",
          "2024-05-01T00:00:00",
          "2024-05-02T00:00:00",
          "2024-05-03T00:00:00",
          "2024-05-06T00:00:00",
          "2024-05-07T00:00:00",
          "2024-05-08T00:00:00",
          "2024-05-09T00:00:00",
          "2024-05-10T00:00:00",
          "2024-05-13T00:00:00",
          "2024-05-14T00:00:00",
          "2024-05-15T00:00:00",
          "2024-05-16T00:00:00",
          "2024-05-17T00:00:00",
          "2024-05-20T00:00:00",
          "2024-05-21T00:00:00",
          "2024-05-22T00:00:00",
          "2024-05-23T00:00:00",
          "2024-05-24T00:00:00",
          "2024-05-28T00:00:00",
          "2024-05-29T00:00:00",
          "2024-05-30T00:00:00",
          "2024-05-31T00:00:00",
          "2024-06-03T00:00:00",
          "2024-06-04T00:00:00",
          "2024-06-05T00:00:00",
          "2024-06-06T00:00:00",
          "2024-06-07T00:00:00",
          "2024-06-10T00:00:00",
          "2024-06-11T00:00:00",
          "2024-06-12T00:00:00",
          "2024-06-13T00:00:00",
          "2024-06-14T00:00:00",
          "2024-06-17T00:00:00",
          "2024-06-18T00:00:00",
          "2024-06-20T00:00:00",
          "2024-06-21T00:00:00",
          "2024-06-24T00:00:00",
          "2024-06-25T00:00:00",
          "2024-06-26T00:00:00",
          "2024-06-27T00:00:00",
          "2024-06-28T00:00:00",
          "2024-07-01T00:00:00",
          "2024-07-02T00:00:00",
          "2024-07-03T00:00:00",
          "2024-07-05T00:00:00",
          "2024-07-08T00:00:00",
          "2024-07-09T00:00:00",
          "2024-07-10T00:00:00",
          "2024-07-11T00:00:00",
          "2024-07-12T00:00:00",
          "2024-07-15T00:00:00",
          "2024-07-16T00:00:00",
          "2024-07-17T00:00:00",
          "2024-07-18T00:00:00",
          "2024-07-19T00:00:00",
          "2024-07-22T00:00:00",
          "2024-07-23T00:00:00",
          "2024-07-24T00:00:00",
          "2024-07-25T00:00:00",
          "2024-07-26T00:00:00",
          "2024-07-29T00:00:00",
          "2024-07-30T00:00:00",
          "2024-07-31T00:00:00",
          "2024-08-01T00:00:00",
          "2024-08-02T00:00:00",
          "2024-08-05T00:00:00",
          "2024-08-06T00:00:00",
          "2024-08-07T00:00:00",
          "2024-08-08T00:00:00",
          "2024-08-09T00:00:00",
          "2024-08-12T00:00:00",
          "2024-08-13T00:00:00",
          "2024-08-14T00:00:00",
          "2024-08-15T00:00:00",
          "2024-08-16T00:00:00",
          "2024-08-19T00:00:00",
          "2024-08-20T00:00:00",
          "2024-08-21T00:00:00",
          "2024-08-22T00:00:00",
          "2024-08-23T00:00:00",
          "2024-08-26T00:00:00",
          "2024-08-27T00:00:00",
          "2024-08-28T00:00:00",
          "2024-08-29T00:00:00",
          "2024-08-30T00:00:00",
          "2024-09-03T00:00:00",
          "2024-09-04T00:00:00",
          "2024-09-05T00:00:00",
          "2024-09-06T00:00:00",
          "2024-09-09T00:00:00",
          "2024-09-10T00:00:00",
          "2024-09-11T00:00:00",
          "2024-09-12T00:00:00",
          "2024-09-13T00:00:00",
          "2024-09-16T00:00:00",
          "2024-09-17T00:00:00",
          "2024-09-18T00:00:00",
          "2024-09-19T00:00:00",
          "2024-09-20T00:00:00",
          "2024-09-23T00:00:00",
          "2024-09-24T00:00:00",
          "2024-09-25T00:00:00",
          "2024-09-26T00:00:00",
          "2024-09-27T00:00:00",
          "2024-09-30T00:00:00",
          "2024-10-01T00:00:00",
          "2024-10-02T00:00:00",
          "2024-10-03T00:00:00",
          "2024-10-04T00:00:00",
          "2024-10-07T00:00:00",
          "2024-10-08T00:00:00",
          "2024-10-09T00:00:00",
          "2024-10-10T00:00:00",
          "2024-10-11T00:00:00",
          "2024-10-14T00:00:00",
          "2024-10-15T00:00:00",
          "2024-10-16T00:00:00",
          "2024-10-17T00:00:00",
          "2024-10-18T00:00:00",
          "2024-10-21T00:00:00",
          "2024-10-22T00:00:00",
          "2024-10-23T00:00:00",
          "2024-10-24T00:00:00",
          "2024-10-25T00:00:00",
          "2024-10-28T00:00:00",
          "2024-10-29T00:00:00",
          "2024-10-30T00:00:00",
          "2024-10-31T00:00:00",
          "2024-11-01T00:00:00",
          "2024-11-04T00:00:00",
          "2024-11-05T00:00:00",
          "2024-11-06T00:00:00",
          "2024-11-07T00:00:00",
          "2024-11-08T00:00:00",
          "2024-11-11T00:00:00",
          "2024-11-12T00:00:00",
          "2024-11-13T00:00:00",
          "2024-11-14T00:00:00",
          "2024-11-15T00:00:00",
          "2024-11-18T00:00:00",
          "2024-11-19T00:00:00",
          "2024-11-20T00:00:00",
          "2024-11-21T00:00:00",
          "2024-11-22T00:00:00",
          "2024-11-25T00:00:00",
          "2024-11-26T00:00:00",
          "2024-11-27T00:00:00",
          "2024-11-29T00:00:00",
          "2024-12-02T00:00:00",
          "2024-12-03T00:00:00",
          "2024-12-04T00:00:00",
          "2024-12-05T00:00:00",
          "2024-12-06T00:00:00",
          "2024-12-09T00:00:00",
          "2024-12-10T00:00:00",
          "2024-12-11T00:00:00",
          "2024-12-12T00:00:00",
          "2024-12-13T00:00:00",
          "2024-12-16T00:00:00",
          "2024-12-17T00:00:00",
          "2024-12-18T00:00:00",
          "2024-12-19T00:00:00",
          "2024-12-20T00:00:00",
          "2024-12-23T00:00:00",
          "2024-12-24T00:00:00",
          "2024-12-26T00:00:00",
          "2024-12-27T00:00:00",
          "2024-12-30T00:00:00",
          "2024-12-31T00:00:00",
          "2025-01-02T00:00:00",
          "2025-01-03T00:00:00",
          "2025-01-06T00:00:00",
          "2025-01-07T00:00:00",
          "2025-01-08T00:00:00",
          "2025-01-09T00:00:00",
          "2025-01-10T00:00:00",
          "2025-01-13T00:00:00",
          "2025-01-14T00:00:00",
          "2025-01-15T00:00:00",
          "2025-01-16T00:00:00",
          "2025-01-17T00:00:00",
          "2025-01-21T00:00:00",
          "2025-01-22T00:00:00",
          "2025-01-23T00:00:00",
          "2025-01-24T00:00:00",
          "2025-01-27T00:00:00",
          "2025-01-28T00:00:00",
          "2025-01-29T00:00:00"
         ],
         "xaxis": "x",
         "y": {
          "dtype": "f8",
          "bdata": "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"
         },
         "yaxis": "y",
         "type": "scattergl"
        },
        {
         "hovertemplate": "Factor=mom_1m<br>time_index=%{x}<br>Exposure=%{y}<extra></extra>",
         "legendgroup": "mom_1m",
         "line": {
          "color": "#19d3f3",
          "dash": "solid"
         },
         "marker": {
          "symbol": "circle"
         },
         "mode": "lines",
         "name": "mom_1m",
         "showlegend": true,
         "x": [
          "2022-01-03T00:00:00",
          "2022-01-04T00:00:00",
          "2022-01-05T00:00:00",
          "2022-01-06T00:00:00",
          "2022-01-07T00:00:00",
          "2022-01-10T00:00:00",
          "2022-01-11T00:00:00",
          "2022-01-12T00:00:00",
          "2022-01-13T00:00:00",
          "2022-01-14T00:00:00",
          "2022-01-18T00:00:00",
          "2022-01-19T00:00:00",
          "2022-01-20T00:00:00",
          "2022-01-21T00:00:00",
          "2022-01-24T00:00:00",
          "2022-01-25T00:00:00",
          "2022-01-26T00:00:00",
          "2022-01-27T00:00:00",
          "2022-01-28T00:00:00",
          "2022-01-31T00:00:00",
          "2022-02-01T00:00:00",
          "2022-02-02T00:00:00",
          "2022-02-03T00:00:00",
          "2022-02-04T00:00:00",
          "2022-02-07T00:00:00",
          "2022-02-08T00:00:00",
          "2022-02-09T00:00:00",
          "2022-02-10T00:00:00",
          "2022-02-11T00:00:00",
          "2022-02-14T00:00:00",
          "2022-02-15T00:00:00",
          "2022-02-16T00:00:00",
          "2022-02-17T00:00:00",
          "2022-02-18T00:00:00",
          "2022-02-22T00:00:00",
          "2022-02-23T00:00:00",
          "2022-02-24T00:00:00",
          "2022-02-25T00:00:00",
          "2022-02-28T00:00:00",
          "2022-03-01T00:00:00",
          "2022-03-02T00:00:00",
          "2022-03-03T00:00:00",
          "2022-03-04T00:00:00",
          "2022-03-07T00:00:00",
          "2022-03-08T00:00:00",
          "2022-03-09T00:00:00",
          "2022-03-10T00:00:00",
          "2022-03-11T00:00:00",
          "2022-03-14T00:00:00",
          "2022-03-15T00:00:00",
          "2022-03-16T00:00:00",
          "2022-03-17T00:00:00",
          "2022-03-18T00:00:00",
          "2022-03-21T00:00:00",
          "2022-03-22T00:00:00",
          "2022-03-23T00:00:00",
          "2022-03-24T00:00:00",
          "2022-03-25T00:00:00",
          "2022-03-28T00:00:00",
          "2022-03-29T00:00:00",
          "2022-03-30T00:00:00",
          "2022-03-31T00:00:00",
          "2022-04-01T00:00:00",
          "2022-04-04T00:00:00",
          "2022-04-05T00:00:00",
          "2022-04-06T00:00:00",
          "2022-04-07T00:00:00",
          "2022-04-08T00:00:00",
          "2022-04-11T00:00:00",
          "2022-04-12T00:00:00",
          "2022-04-13T00:00:00",
          "2022-04-14T00:00:00",
          "2022-04-18T00:00:00",
          "2022-04-19T00:00:00",
          "2022-04-20T00:00:00",
          "2022-04-21T00:00:00",
          "2022-04-22T00:00:00",
          "2022-04-25T00:00:00",
          "2022-04-26T00:00:00",
          "2022-04-27T00:00:00",
          "2022-04-28T00:00:00",
          "2022-04-29T00:00:00",
          "2022-05-02T00:00:00",
          "2022-05-03T00:00:00",
          "2022-05-04T00:00:00",
          "2022-05-05T00:00:00",
          "2022-05-06T00:00:00",
          "2022-05-09T00:00:00",
          "2022-05-10T00:00:00",
          "2022-05-11T00:00:00",
          "2022-05-12T00:00:00",
          "2022-05-13T00:00:00",
          "2022-05-16T00:00:00",
          "2022-05-17T00:00:00",
          "2022-05-18T00:00:00",
          "2022-05-19T00:00:00",
          "2022-05-20T00:00:00",
          "2022-05-23T00:00:00",
          "2022-05-24T00:00:00",
          "2022-05-25T00:00:00",
          "2022-05-26T00:00:00",
          "2022-05-27T00:00:00",
          "2022-05-31T00:00:00",
          "2022-06-01T00:00:00",
          "2022-06-02T00:00:00",
          "2022-06-03T00:00:00",
          "2022-06-06T00:00:00",
          "2022-06-07T00:00:00",
          "2022-06-08T00:00:00",
          "2022-06-09T00:00:00",
          "2022-06-10T00:00:00",
          "2022-06-13T00:00:00",
          "2022-06-14T00:00:00",
          "2022-06-15T00:00:00",
          "2022-06-16T00:00:00",
          "2022-06-17T00:00:00",
          "2022-06-21T00:00:00",
          "2022-06-22T00:00:00",
          "2022-06-23T00:00:00",
          "2022-06-24T00:00:00",
          "2022-06-27T00:00:00",
          "2022-06-28T00:00:00",
          "2022-06-29T00:00:00",
          "2022-06-30T00:00:00",
          "2022-07-01T00:00:00",
          "2022-07-05T00:00:00",
          "2022-07-06T00:00:00",
          "2022-07-07T00:00:00",
          "2022-07-08T00:00:00",
          "2022-07-11T00:00:00",
          "2022-07-12T00:00:00",
          "2022-07-13T00:00:00",
          "2022-07-14T00:00:00",
          "2022-07-15T00:00:00",
          "2022-07-18T00:00:00",
          "2022-07-19T00:00:00",
          "2022-07-20T00:00:00",
          "2022-07-21T00:00:00",
          "2022-07-22T00:00:00",
          "2022-07-25T00:00:00",
          "2022-07-26T00:00:00",
          "2022-07-27T00:00:00",
          "2022-07-28T00:00:00",
          "2022-07-29T00:00:00",
          "2022-08-01T00:00:00",
          "2022-08-02T00:00:00",
          "2022-08-03T00:00:00",
          "2022-08-04T00:00:00",
          "2022-08-05T00:00:00",
          "2022-08-08T00:00:00",
          "2022-08-09T00:00:00",
          "2022-08-10T00:00:00",
          "2022-08-11T00:00:00",
          "2022-08-12T00:00:00",
          "2022-08-15T00:00:00",
          "2022-08-16T00:00:00",
          "2022-08-17T00:00:00",
          "2022-08-18T00:00:00",
          "2022-08-19T00:00:00",
          "2022-08-22T00:00:00",
          "2022-08-23T00:00:00",
          "2022-08-24T00:00:00",
          "2022-08-25T00:00:00",
          "2022-08-26T00:00:00",
          "2022-08-29T00:00:00",
          "2022-08-30T00:00:00",
          "2022-08-31T00:00:00",
          "2022-09-01T00:00:00",
          "2022-09-02T00:00:00",
          "2022-09-06T00:00:00",
          "2022-09-07T00:00:00",
          "2022-09-08T00:00:00",
          "2022-09-09T00:00:00",
          "2022-09-12T00:00:00",
          "2022-09-13T00:00:00",
          "2022-09-14T00:00:00",
          "2022-09-15T00:00:00",
          "2022-09-16T00:00:00",
          "2022-09-19T00:00:00",
          "2022-09-20T00:00:00",
          "2022-09-21T00:00:00",
          "2022-09-22T00:00:00",
          "2022-09-23T00:00:00",
          "2022-09-26T00:00:00",
          "2022-09-27T00:00:00",
          "2022-09-28T00:00:00",
          "2022-09-29T00:00:00",
          "2022-09-30T00:00:00",
          "2022-10-03T00:00:00",
          "2022-10-04T00:00:00",
          "2022-10-05T00:00:00",
          "2022-10-06T00:00:00",
          "2022-10-07T00:00:00",
          "2022-10-10T00:00:00",
          "2022-10-11T00:00:00",
          "2022-10-12T00:00:00",
          "2022-10-13T00:00:00",
          "2022-10-14T00:00:00",
          "2022-10-17T00:00:00",
          "2022-10-18T00:00:00",
          "2022-10-19T00:00:00",
          "2022-10-20T00:00:00",
          "2022-10-21T00:00:00",
          "2022-10-24T00:00:00",
          "2022-10-25T00:00:00",
          "2022-10-26T00:00:00",
          "2022-10-27T00:00:00",
          "2022-10-28T00:00:00",
          "2022-10-31T00:00:00",
          "2022-11-01T00:00:00",
          "2022-11-02T00:00:00",
          "2022-11-03T00:00:00",
          "2022-11-04T00:00:00",
          "2022-11-07T00:00:00",
          "2022-11-08T00:00:00",
          "2022-11-09T00:00:00",
          "2022-11-10T00:00:00",
          "2022-11-11T00:00:00",
          "2022-11-14T00:00:00",
          "2022-11-15T00:00:00",
          "2022-11-16T00:00:00",
          "2022-11-17T00:00:00",
          "2022-11-18T00:00:00",
          "2022-11-21T00:00:00",
          "2022-11-22T00:00:00",
          "2022-11-23T00:00:00",
          "2022-11-25T00:00:00",
          "2022-11-28T00:00:00",
          "2022-11-29T00:00:00",
          "2022-11-30T00:00:00",
          "2022-12-01T00:00:00",
          "2022-12-02T00:00:00",
          "2022-12-05T00:00:00",
          "2022-12-06T00:00:00",
          "2022-12-07T00:00:00",
          "2022-12-08T00:00:00",
          "2022-12-09T00:00:00",
          "2022-12-12T00:00:00",
          "2022-12-13T00:00:00",
          "2022-12-14T00:00:00",
          "2022-12-15T00:00:00",
          "2022-12-16T00:00:00",
          "2022-12-19T00:00:00",
          "2022-12-20T00:00:00",
          "2022-12-21T00:00:00",
          "2022-12-22T00:00:00",
          "2022-12-23T00:00:00",
          "2022-12-27T00:00:00",
          "2022-12-28T00:00:00",
          "2022-12-29T00:00:00",
          "2022-12-30T00:00:00",
          "2023-01-03T00:00:00",
          "2023-01-04T00:00:00",
          "2023-01-05T00:00:00",
          "2023-01-06T00:00:00",
          "2023-01-09T00:00:00",
          "2023-01-10T00:00:00",
          "2023-01-11T00:00:00",
          "2023-01-12T00:00:00",
          "2023-01-13T00:00:00",
          "2023-01-17T00:00:00",
          "2023-01-18T00:00:00",
          "2023-01-19T00:00:00",
          "2023-01-20T00:00:00",
          "2023-01-23T00:00:00",
          "2023-01-24T00:00:00",
          "2023-01-25T00:00:00",
          "2023-01-26T00:00:00",
          "2023-01-27T00:00:00",
          "2023-01-30T00:00:00",
          "2023-01-31T00:00:00",
          "2023-02-01T00:00:00",
          "2023-02-02T00:00:00",
          "2023-02-03T00:00:00",
          "2023-02-06T00:00:00",
          "2023-02-07T00:00:00",
          "2023-02-08T00:00:00",
          "2023-02-09T00:00:00",
          "2023-02-10T00:00:00",
          "2023-02-13T00:00:00",
          "2023-02-14T00:00:00",
          "2023-02-15T00:00:00",
          "2023-02-16T00:00:00",
          "2023-02-17T00:00:00",
          "2023-02-21T00:00:00",
          "2023-02-22T00:00:00",
          "2023-02-23T00:00:00",
          "2023-02-24T00:00:00",
          "2023-02-27T00:00:00",
          "2023-02-28T00:00:00",
          "2023-03-01T00:00:00",
          "2023-03-02T00:00:00",
          "2023-03-03T00:00:00",
          "2023-03-06T00:00:00",
          "2023-03-07T00:00:00",
          "2023-03-08T00:00:00",
          "2023-03-09T00:00:00",
          "2023-03-10T00:00:00",
          "2023-03-13T00:00:00",
          "2023-03-14T00:00:00",
          "2023-03-15T00:00:00",
          "2023-03-16T00:00:00",
          "2023-03-17T00:00:00",
          "2023-03-20T00:00:00",
          "2023-03-21T00:00:00",
          "2023-03-22T00:00:00",
          "2023-03-23T00:00:00",
          "2023-03-24T00:00:00",
          "2023-03-27T00:00:00",
          "2023-03-28T00:00:00",
          "2023-03-29T00:00:00",
          "2023-03-30T00:00:00",
          "2023-03-31T00:00:00",
          "2023-04-03T00:00:00",
          "2023-04-04T00:00:00",
          "2023-04-05T00:00:00",
          "2023-04-06T00:00:00",
          "2023-04-10T00:00:00",
          "2023-04-11T00:00:00",
          "2023-04-12T00:00:00",
          "2023-04-13T00:00:00",
          "2023-04-14T00:00:00",
          "2023-04-17T00:00:00",
          "2023-04-18T00:00:00",
          "2023-04-19T00:00:00",
          "2023-04-20T00:00:00",
          "2023-04-21T00:00:00",
          "2023-04-24T00:00:00",
          "2023-04-25T00:00:00",
          "2023-04-26T00:00:00",
          "2023-04-27T00:00:00",
          "2023-04-28T00:00:00",
          "2023-05-01T00:00:00",
          "2023-05-02T00:00:00",
          "2023-05-03T00:00:00",
          "2023-05-04T00:00:00",
          "2023-05-05T00:00:00",
          "2023-05-08T00:00:00",
          "2023-05-09T00:00:00",
          "2023-05-10T00:00:00",
          "2023-05-11T00:00:00",
          "2023-05-12T00:00:00",
          "2023-05-15T00:00:00",
          "2023-05-16T00:00:00",
          "2023-05-17T00:00:00",
          "2023-05-18T00:00:00",
          "2023-05-19T00:00:00",
          "2023-05-22T00:00:00",
          "2023-05-23T00:00:00",
          "2023-05-24T00:00:00",
          "2023-05-25T00:00:00",
          "2023-05-26T00:00:00",
          "2023-05-30T00:00:00",
          "2023-05-31T00:00:00",
          "2023-06-01T00:00:00",
          "2023-06-02T00:00:00",
          "2023-06-05T00:00:00",
          "2023-06-06T00:00:00",
          "2023-06-07T00:00:00",
          "2023-06-08T00:00:00",
          "2023-06-09T00:00:00",
          "2023-06-12T00:00:00",
          "2023-06-13T00:00:00",
          "2023-06-14T00:00:00",
          "2023-06-15T00:00:00",
          "2023-06-16T00:00:00",
          "2023-06-20T00:00:00",
          "2023-06-21T00:00:00",
          "2023-06-22T00:00:00",
          "2023-06-23T00:00:00",
          "2023-06-26T00:00:00",
          "2023-06-27T00:00:00",
          "2023-06-28T00:00:00",
          "2023-06-29T00:00:00",
          "2023-06-30T00:00:00",
          "2023-07-03T00:00:00",
          "2023-07-05T00:00:00",
          "2023-07-06T00:00:00",
          "2023-07-07T00:00:00",
          "2023-07-10T00:00:00",
          "2023-07-11T00:00:00",
          "2023-07-12T00:00:00",
          "2023-07-13T00:00:00",
          "2023-07-14T00:00:00",
          "2023-07-17T00:00:00",
          "2023-07-18T00:00:00",
          "2023-07-19T00:00:00",
          "2023-07-20T00:00:00",
          "2023-07-21T00:00:00",
          "2023-07-24T00:00:00",
          "2023-07-25T00:00:00",
          "2023-07-26T00:00:00",
          "2023-07-27T00:00:00",
          "2023-07-28T00:00:00",
          "2023-07-31T00:00:00",
          "2023-08-01T00:00:00",
          "2023-08-02T00:00:00",
          "2023-08-03T00:00:00",
          "2023-08-04T00:00:00",
          "2023-08-07T00:00:00",
          "2023-08-08T00:00:00",
          "2023-08-09T00:00:00",
          "2023-08-10T00:00:00",
          "2023-08-11T00:00:00",
          "2023-08-14T00:00:00",
          "2023-08-15T00:00:00",
          "2023-08-16T00:00:00",
          "2023-08-17T00:00:00",
          "2023-08-18T00:00:00",
          "2023-08-21T00:00:00",
          "2023-08-22T00:00:00",
          "2023-08-23T00:00:00",
          "2023-08-24T00:00:00",
          "2023-08-25T00:00:00",
          "2023-08-28T00:00:00",
          "2023-08-29T00:00:00",
          "2023-08-30T00:00:00",
          "2023-08-31T00:00:00",
          "2023-09-01T00:00:00",
          "2023-09-05T00:00:00",
          "2023-09-06T00:00:00",
          "2023-09-07T00:00:00",
          "2023-09-08T00:00:00",
          "2023-09-11T00:00:00",
          "2023-09-12T00:00:00",
          "2023-09-13T00:00:00",
          "2023-09-14T00:00:00",
          "2023-09-15T00:00:00",
          "2023-09-18T00:00:00",
          "2023-09-19T00:00:00",
          "2023-09-20T00:00:00",
          "2023-09-21T00:00:00",
          "2023-09-22T00:00:00",
          "2023-09-25T00:00:00",
          "2023-09-26T00:00:00",
          "2023-09-27T00:00:00",
          "2023-09-28T00:00:00",
          "2023-09-29T00:00:00",
          "2023-10-02T00:00:00",
          "2023-10-03T00:00:00",
          "2023-10-04T00:00:00",
          "2023-10-05T00:00:00",
          "2023-10-06T00:00:00",
          "2023-10-09T00:00:00",
          "2023-10-10T00:00:00",
          "2023-10-11T00:00:00",
          "2023-10-12T00:00:00",
          "2023-10-13T00:00:00",
          "2023-10-16T00:00:00",
          "2023-10-17T00:00:00",
          "2023-10-18T00:00:00",
          "2023-10-19T00:00:00",
          "2023-10-20T00:00:00",
          "2023-10-23T00:00:00",
          "2023-10-24T00:00:00",
          "2023-10-25T00:00:00",
          "2023-10-26T00:00:00",
          "2023-10-27T00:00:00",
          "2023-10-30T00:00:00",
          "2023-10-31T00:00:00",
          "2023-11-01T00:00:00",
          "2023-11-02T00:00:00",
          "2023-11-03T00:00:00",
          "2023-11-06T00:00:00",
          "2023-11-07T00:00:00",
          "2023-11-08T00:00:00",
          "2023-11-09T00:00:00",
          "2023-11-10T00:00:00",
          "2023-11-13T00:00:00",
          "2023-11-14T00:00:00",
          "2023-11-15T00:00:00",
          "2023-11-16T00:00:00",
          "2023-11-17T00:00:00",
          "2023-11-20T00:00:00",
          "2023-11-21T00:00:00",
          "2023-11-22T00:00:00",
          "2023-11-24T00:00:00",
          "2023-11-27T00:00:00",
          "2023-11-28T00:00:00",
          "2023-11-29T00:00:00",
          "2023-11-30T00:00:00",
          "2023-12-01T00:00:00",
          "2023-12-04T00:00:00",
          "2023-12-05T00:00:00",
          "2023-12-06T00:00:00",
          "2023-12-07T00:00:00",
          "2023-12-08T00:00:00",
          "2023-12-11T00:00:00",
          "2023-12-12T00:00:00",
          "2023-12-13T00:00:00",
          "2023-12-14T00:00:00",
          "2023-12-15T00:00:00",
          "2023-12-18T00:00:00",
          "2023-12-19T00:00:00",
          "2023-12-20T00:00:00",
          "2023-12-21T00:00:00",
          "2023-12-22T00:00:00",
          "2023-12-26T00:00:00",
          "2023-12-27T00:00:00",
          "2023-12-28T00:00:00",
          "2023-12-29T00:00:00",
          "2024-01-02T00:00:00",
          "2024-01-03T00:00:00",
          "2024-01-04T00:00:00",
          "2024-01-05T00:00:00",
          "2024-01-08T00:00:00",
          "2024-01-09T00:00:00",
          "2024-01-10T00:00:00",
          "2024-01-11T00:00:00",
          "2024-01-12T00:00:00",
          "2024-01-16T00:00:00",
          "2024-01-17T00:00:00",
          "2024-01-18T00:00:00",
          "2024-01-19T00:00:00",
          "2024-01-22T00:00:00",
          "2024-01-23T00:00:00",
          "2024-01-24T00:00:00",
          "2024-01-25T00:00:00",
          "2024-01-26T00:00:00",
          "2024-01-29T00:00:00",
          "2024-01-30T00:00:00",
          "2024-01-31T00:00:00",
          "2024-02-01T00:00:00",
          "2024-02-02T00:00:00",
          "2024-02-05T00:00:00",
          "2024-02-06T00:00:00",
          "2024-02-07T00:00:00",
          "2024-02-08T00:00:00",
          "2024-02-09T00:00:00",
          "2024-02-12T00:00:00",
          "2024-02-13T00:00:00",
          "2024-02-14T00:00:00",
          "2024-02-15T00:00:00",
          "2024-02-16T00:00:00",
          "2024-02-20T00:00:00",
          "2024-02-21T00:00:00",
          "2024-02-22T00:00:00",
          "2024-02-23T00:00:00",
          "2024-02-26T00:00:00",
          "2024-02-27T00:00:00",
          "2024-02-28T00:00:00",
          "2024-02-29T00:00:00",
          "2024-03-01T00:00:00",
          "2024-03-04T00:00:00",
          "2024-03-05T00:00:00",
          "2024-03-06T00:00:00",
          "2024-03-07T00:00:00",
          "2024-03-08T00:00:00",
          "2024-03-11T00:00:00",
          "2024-03-12T00:00:00",
          "2024-03-13T00:00:00",
          "2024-03-14T00:00:00",
          "2024-03-15T00:00:00",
          "2024-03-18T00:00:00",
          "2024-03-19T00:00:00",
          "2024-03-20T00:00:00",
          "2024-03-21T00:00:00",
          "2024-03-22T00:00:00",
          "2024-03-25T00:00:00",
          "2024-03-26T00:00:00",
          "2024-03-27T00:00:00",
          "2024-03-28T00:00:00",
          "2024-04-01T00:00:00",
          "2024-04-02T00:00:00",
          "2024-04-03T00:00:00",
          "2024-04-04T00:00:00",
          "2024-04-05T00:00:00",
          "2024-04-08T00:00:00",
          "2024-04-09T00:00:00",
          "2024-04-10T00:00:00",
          "2024-04-11T00:00:00",
          "2024-04-12T00:00:00",
          "2024-04-15T00:00:00",
          "2024-04-16T00:00:00",
          "2024-04-17T00:00:00",
          "2024-04-18T00:00:00",
          "2024-04-19T00:00:00",
          "2024-04-22T00:00:00",
          "2024-04-23T00:00:00",
          "2024-04-24T00:00:00",
          "2024-04-25T00:00:00",
          "2024-04-26T00:00:00",
          "2024-04-29T00:00:00",
          "2024-04-30T00:00:00",
          "2024-05-01T00:00:00",
          "2024-05-02T00:00:00",
          "2024-05-03T00:00:00",
          "2024-05-06T00:00:00",
          "2024-05-07T00:00:00",
          "2024-05-08T00:00:00",
          "2024-05-09T00:00:00",
          "2024-05-10T00:00:00",
          "2024-05-13T00:00:00",
          "2024-05-14T00:00:00",
          "2024-05-15T00:00:00",
          "2024-05-16T00:00:00",
          "2024-05-17T00:00:00",
          "2024-05-20T00:00:00",
          "2024-05-21T00:00:00",
          "2024-05-22T00:00:00",
          "2024-05-23T00:00:00",
          "2024-05-24T00:00:00",
          "2024-05-28T00:00:00",
          "2024-05-29T00:00:00",
          "2024-05-30T00:00:00",
          "2024-05-31T00:00:00",
          "2024-06-03T00:00:00",
          "2024-06-04T00:00:00",
          "2024-06-05T00:00:00",
          "2024-06-06T00:00:00",
          "2024-06-07T00:00:00",
          "2024-06-10T00:00:00",
          "2024-06-11T00:00:00",
          "2024-06-12T00:00:00",
          "2024-06-13T00:00:00",
          "2024-06-14T00:00:00",
          "2024-06-17T00:00:00",
          "2024-06-18T00:00:00",
          "2024-06-20T00:00:00",
          "2024-06-21T00:00:00",
          "2024-06-24T00:00:00",
          "2024-06-25T00:00:00",
          "2024-06-26T00:00:00",
          "2024-06-27T00:00:00",
          "2024-06-28T00:00:00",
          "2024-07-01T00:00:00",
          "2024-07-02T00:00:00",
          "2024-07-03T00:00:00",
          "2024-07-05T00:00:00",
          "2024-07-08T00:00:00",
          "2024-07-09T00:00:00",
          "2024-07-10T00:00:00",
          "2024-07-11T00:00:00",
          "2024-07-12T00:00:00",
          "2024-07-15T00:00:00",
          "2024-07-16T00:00:00",
          "2024-07-17T00:00:00",
          "2024-07-18T00:00:00",
          "2024-07-19T00:00:00",
          "2024-07-22T00:00:00",
          "2024-07-23T00:00:00",
          "2024-07-24T00:00:00",
          "2024-07-25T00:00:00",
          "2024-07-26T00:00:00",
          "2024-07-29T00:00:00",
          "2024-07-30T00:00:00",
          "2024-07-31T00:00:00",
          "2024-08-01T00:00:00",
          "2024-08-02T00:00:00",
          "2024-08-05T00:00:00",
          "2024-08-06T00:00:00",
          "2024-08-07T00:00:00",
          "2024-08-08T00:00:00",
          "2024-08-09T00:00:00",
          "2024-08-12T00:00:00",
          "2024-08-13T00:00:00",
          "2024-08-14T00:00:00",
          "2024-08-15T00:00:00",
          "2024-08-16T00:00:00",
          "2024-08-19T00:00:00",
          "2024-08-20T00:00:00",
          "2024-08-21T00:00:00",
          "2024-08-22T00:00:00",
          "2024-08-23T00:00:00",
          "2024-08-26T00:00:00",
          "2024-08-27T00:00:00",
          "2024-08-28T00:00:00",
          "2024-08-29T00:00:00",
          "2024-08-30T00:00:00",
          "2024-09-03T00:00:00",
          "2024-09-04T00:00:00",
          "2024-09-05T00:00:00",
          "2024-09-06T00:00:00",
          "2024-09-09T00:00:00",
          "2024-09-10T00:00:00",
          "2024-09-11T00:00:00",
          "2024-09-12T00:00:00",
          "2024-09-13T00:00:00",
          "2024-09-16T00:00:00",
          "2024-09-17T00:00:00",
          "2024-09-18T00:00:00",
          "2024-09-19T00:00:00",
          "2024-09-20T00:00:00",
          "2024-09-23T00:00:00",
          "2024-09-24T00:00:00",
          "2024-09-25T00:00:00",
          "2024-09-26T00:00:00",
          "2024-09-27T00:00:00",
          "2024-09-30T00:00:00",
          "2024-10-01T00:00:00",
          "2024-10-02T00:00:00",
          "2024-10-03T00:00:00",
          "2024-10-04T00:00:00",
          "2024-10-07T00:00:00",
          "2024-10-08T00:00:00",
          "2024-10-09T00:00:00",
          "2024-10-10T00:00:00",
          "2024-10-11T00:00:00",
          "2024-10-14T00:00:00",
          "2024-10-15T00:00:00",
          "2024-10-16T00:00:00",
          "2024-10-17T00:00:00",
          "2024-10-18T00:00:00",
          "2024-10-21T00:00:00",
          "2024-10-22T00:00:00",
          "2024-10-23T00:00:00",
          "2024-10-24T00:00:00",
          "2024-10-25T00:00:00",
          "2024-10-28T00:00:00",
          "2024-10-29T00:00:00",
          "2024-10-30T00:00:00",
          "2024-10-31T00:00:00",
          "2024-11-01T00:00:00",
          "2024-11-04T00:00:00",
          "2024-11-05T00:00:00",
          "2024-11-06T00:00:00",
          "2024-11-07T00:00:00",
          "2024-11-08T00:00:00",
          "2024-11-11T00:00:00",
          "2024-11-12T00:00:00",
          "2024-11-13T00:00:00",
          "2024-11-14T00:00:00",
          "2024-11-15T00:00:00",
          "2024-11-18T00:00:00",
          "2024-11-19T00:00:00",
          "2024-11-20T00:00:00",
          "2024-11-21T00:00:00",
          "2024-11-22T00:00:00",
          "2024-11-25T00:00:00",
          "2024-11-26T00:00:00",
          "2024-11-27T00:00:00",
          "2024-11-29T00:00:00",
          "2024-12-02T00:00:00",
          "2024-12-03T00:00:00",
          "2024-12-04T00:00:00",
          "2024-12-05T00:00:00",
          "2024-12-06T00:00:00",
          "2024-12-09T00:00:00",
          "2024-12-10T00:00:00",
          "2024-12-11T00:00:00",
          "2024-12-12T00:00:00",
          "2024-12-13T00:00:00",
          "2024-12-16T00:00:00",
          "2024-12-17T00:00:00",
          "2024-12-18T00:00:00",
          "2024-12-19T00:00:00",
          "2024-12-20T00:00:00",
          "2024-12-23T00:00:00",
          "2024-12-24T00:00:00",
          "2024-12-26T00:00:00",
          "2024-12-27T00:00:00",
          "2024-12-30T00:00:00",
          "2024-12-31T00:00:00",
          "2025-01-02T00:00:00",
          "2025-01-03T00:00:00",
          "2025-01-06T00:00:00",
          "2025-01-07T00:00:00",
          "2025-01-08T00:00:00",
          "2025-01-09T00:00:00",
          "2025-01-10T00:00:00",
          "2025-01-13T00:00:00",
          "2025-01-14T00:00:00",
          "2025-01-15T00:00:00",
          "2025-01-16T00:00:00",
          "2025-01-17T00:00:00",
          "2025-01-21T00:00:00",
          "2025-01-22T00:00:00",
          "2025-01-23T00:00:00",
          "2025-01-24T00:00:00",
          "2025-01-27T00:00:00",
          "2025-01-28T00:00:00",
          "2025-01-29T00:00:00"
         ],
         "xaxis": "x",
         "y": {
          "dtype": "f8",
          "bdata": "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"
         },
         "yaxis": "y",
         "type": "scattergl"
        },
        {
         "hovertemplate": "Factor=resid_vol<br>time_index=%{x}<br>Exposure=%{y}<extra></extra>",
         "legendgroup": "resid_vol",
         "line": {
          "color": "#FF6692",
          "dash": "solid"
         },
         "marker": {
          "symbol": "circle"
         },
         "mode": "lines",
         "name": "resid_vol",
         "showlegend": true,
         "x": [
          "2022-01-03T00:00:00",
          "2022-01-04T00:00:00",
          "2022-01-05T00:00:00",
          "2022-01-06T00:00:00",
          "2022-01-07T00:00:00",
          "2022-01-10T00:00:00",
          "2022-01-11T00:00:00",
          "2022-01-12T00:00:00",
          "2022-01-13T00:00:00",
          "2022-01-14T00:00:00",
          "2022-01-18T00:00:00",
          "2022-01-19T00:00:00",
          "2022-01-20T00:00:00",
          "2022-01-21T00:00:00",
          "2022-01-24T00:00:00",
          "2022-01-25T00:00:00",
          "2022-01-26T00:00:00",
          "2022-01-27T00:00:00",
          "2022-01-28T00:00:00",
          "2022-01-31T00:00:00",
          "2022-02-01T00:00:00",
          "2022-02-02T00:00:00",
          "2022-02-03T00:00:00",
          "2022-02-04T00:00:00",
          "2022-02-07T00:00:00",
          "2022-02-08T00:00:00",
          "2022-02-09T00:00:00",
          "2022-02-10T00:00:00",
          "2022-02-11T00:00:00",
          "2022-02-14T00:00:00",
          "2022-02-15T00:00:00",
          "2022-02-16T00:00:00",
          "2022-02-17T00:00:00",
          "2022-02-18T00:00:00",
          "2022-02-22T00:00:00",
          "2022-02-23T00:00:00",
          "2022-02-24T00:00:00",
          "2022-02-25T00:00:00",
          "2022-02-28T00:00:00",
          "2022-03-01T00:00:00",
          "2022-03-02T00:00:00",
          "2022-03-03T00:00:00",
          "2022-03-04T00:00:00",
          "2022-03-07T00:00:00",
          "2022-03-08T00:00:00",
          "2022-03-09T00:00:00",
          "2022-03-10T00:00:00",
          "2022-03-11T00:00:00",
          "2022-03-14T00:00:00",
          "2022-03-15T00:00:00",
          "2022-03-16T00:00:00",
          "2022-03-17T00:00:00",
          "2022-03-18T00:00:00",
          "2022-03-21T00:00:00",
          "2022-03-22T00:00:00",
          "2022-03-23T00:00:00",
          "2022-03-24T00:00:00",
          "2022-03-25T00:00:00",
          "2022-03-28T00:00:00",
          "2022-03-29T00:00:00",
          "2022-03-30T00:00:00",
          "2022-03-31T00:00:00",
          "2022-04-01T00:00:00",
          "2022-04-04T00:00:00",
          "2022-04-05T00:00:00",
          "2022-04-06T00:00:00",
          "2022-04-07T00:00:00",
          "2022-04-08T00:00:00",
          "2022-04-11T00:00:00",
          "2022-04-12T00:00:00",
          "2022-04-13T00:00:00",
          "2022-04-14T00:00:00",
          "2022-04-18T00:00:00",
          "2022-04-19T00:00:00",
          "2022-04-20T00:00:00",
          "2022-04-21T00:00:00",
          "2022-04-22T00:00:00",
          "2022-04-25T00:00:00",
          "2022-04-26T00:00:00",
          "2022-04-27T00:00:00",
          "2022-04-28T00:00:00",
          "2022-04-29T00:00:00",
          "2022-05-02T00:00:00",
          "2022-05-03T00:00:00",
          "2022-05-04T00:00:00",
          "2022-05-05T00:00:00",
          "2022-05-06T00:00:00",
          "2022-05-09T00:00:00",
          "2022-05-10T00:00:00",
          "2022-05-11T00:00:00",
          "2022-05-12T00:00:00",
          "2022-05-13T00:00:00",
          "2022-05-16T00:00:00",
          "2022-05-17T00:00:00",
          "2022-05-18T00:00:00",
          "2022-05-19T00:00:00",
          "2022-05-20T00:00:00",
          "2022-05-23T00:00:00",
          "2022-05-24T00:00:00",
          "2022-05-25T00:00:00",
          "2022-05-26T00:00:00",
          "2022-05-27T00:00:00",
          "2022-05-31T00:00:00",
          "2022-06-01T00:00:00",
          "2022-06-02T00:00:00",
          "2022-06-03T00:00:00",
          "2022-06-06T00:00:00",
          "2022-06-07T00:00:00",
          "2022-06-08T00:00:00",
          "2022-06-09T00:00:00",
          "2022-06-10T00:00:00",
          "2022-06-13T00:00:00",
          "2022-06-14T00:00:00",
          "2022-06-15T00:00:00",
          "2022-06-16T00:00:00",
          "2022-06-17T00:00:00",
          "2022-06-21T00:00:00",
          "2022-06-22T00:00:00",
          "2022-06-23T00:00:00",
          "2022-06-24T00:00:00",
          "2022-06-27T00:00:00",
          "2022-06-28T00:00:00",
          "2022-06-29T00:00:00",
          "2022-06-30T00:00:00",
          "2022-07-01T00:00:00",
          "2022-07-05T00:00:00",
          "2022-07-06T00:00:00",
          "2022-07-07T00:00:00",
          "2022-07-08T00:00:00",
          "2022-07-11T00:00:00",
          "2022-07-12T00:00:00",
          "2022-07-13T00:00:00",
          "2022-07-14T00:00:00",
          "2022-07-15T00:00:00",
          "2022-07-18T00:00:00",
          "2022-07-19T00:00:00",
          "2022-07-20T00:00:00",
          "2022-07-21T00:00:00",
          "2022-07-22T00:00:00",
          "2022-07-25T00:00:00",
          "2022-07-26T00:00:00",
          "2022-07-27T00:00:00",
          "2022-07-28T00:00:00",
          "2022-07-29T00:00:00",
          "2022-08-01T00:00:00",
          "2022-08-02T00:00:00",
          "2022-08-03T00:00:00",
          "2022-08-04T00:00:00",
          "2022-08-05T00:00:00",
          "2022-08-08T00:00:00",
          "2022-08-09T00:00:00",
          "2022-08-10T00:00:00",
          "2022-08-11T00:00:00",
          "2022-08-12T00:00:00",
          "2022-08-15T00:00:00",
          "2022-08-16T00:00:00",
          "2022-08-17T00:00:00",
          "2022-08-18T00:00:00",
          "2022-08-19T00:00:00",
          "2022-08-22T00:00:00",
          "2022-08-23T00:00:00",
          "2022-08-24T00:00:00",
          "2022-08-25T00:00:00",
          "2022-08-26T00:00:00",
          "2022-08-29T00:00:00",
          "2022-08-30T00:00:00",
          "2022-08-31T00:00:00",
          "2022-09-01T00:00:00",
          "2022-09-02T00:00:00",
          "2022-09-06T00:00:00",
          "2022-09-07T00:00:00",
          "2022-09-08T00:00:00",
          "2022-09-09T00:00:00",
          "2022-09-12T00:00:00",
          "2022-09-13T00:00:00",
          "2022-09-14T00:00:00",
          "2022-09-15T00:00:00",
          "2022-09-16T00:00:00",
          "2022-09-19T00:00:00",
          "2022-09-20T00:00:00",
          "2022-09-21T00:00:00",
          "2022-09-22T00:00:00",
          "2022-09-23T00:00:00",
          "2022-09-26T00:00:00",
          "2022-09-27T00:00:00",
          "2022-09-28T00:00:00",
          "2022-09-29T00:00:00",
          "2022-09-30T00:00:00",
          "2022-10-03T00:00:00",
          "2022-10-04T00:00:00",
          "2022-10-05T00:00:00",
          "2022-10-06T00:00:00",
          "2022-10-07T00:00:00",
          "2022-10-10T00:00:00",
          "2022-10-11T00:00:00",
          "2022-10-12T00:00:00",
          "2022-10-13T00:00:00",
          "2022-10-14T00:00:00",
          "2022-10-17T00:00:00",
          "2022-10-18T00:00:00",
          "2022-10-19T00:00:00",
          "2022-10-20T00:00:00",
          "2022-10-21T00:00:00",
          "2022-10-24T00:00:00",
          "2022-10-25T00:00:00",
          "2022-10-26T00:00:00",
          "2022-10-27T00:00:00",
          "2022-10-28T00:00:00",
          "2022-10-31T00:00:00",
          "2022-11-01T00:00:00",
          "2022-11-02T00:00:00",
          "2022-11-03T00:00:00",
          "2022-11-04T00:00:00",
          "2022-11-07T00:00:00",
          "2022-11-08T00:00:00",
          "2022-11-09T00:00:00",
          "2022-11-10T00:00:00",
          "2022-11-11T00:00:00",
          "2022-11-14T00:00:00",
          "2022-11-15T00:00:00",
          "2022-11-16T00:00:00",
          "2022-11-17T00:00:00",
          "2022-11-18T00:00:00",
          "2022-11-21T00:00:00",
          "2022-11-22T00:00:00",
          "2022-11-23T00:00:00",
          "2022-11-25T00:00:00",
          "2022-11-28T00:00:00",
          "2022-11-29T00:00:00",
          "2022-11-30T00:00:00",
          "2022-12-01T00:00:00",
          "2022-12-02T00:00:00",
          "2022-12-05T00:00:00",
          "2022-12-06T00:00:00",
          "2022-12-07T00:00:00",
          "2022-12-08T00:00:00",
          "2022-12-09T00:00:00",
          "2022-12-12T00:00:00",
          "2022-12-13T00:00:00",
          "2022-12-14T00:00:00",
          "2022-12-15T00:00:00",
          "2022-12-16T00:00:00",
          "2022-12-19T00:00:00",
          "2022-12-20T00:00:00",
          "2022-12-21T00:00:00",
          "2022-12-22T00:00:00",
          "2022-12-23T00:00:00",
          "2022-12-27T00:00:00",
          "2022-12-28T00:00:00",
          "2022-12-29T00:00:00",
          "2022-12-30T00:00:00",
          "2023-01-03T00:00:00",
          "2023-01-04T00:00:00",
          "2023-01-05T00:00:00",
          "2023-01-06T00:00:00",
          "2023-01-09T00:00:00",
          "2023-01-10T00:00:00",
          "2023-01-11T00:00:00",
          "2023-01-12T00:00:00",
          "2023-01-13T00:00:00",
          "2023-01-17T00:00:00",
          "2023-01-18T00:00:00",
          "2023-01-19T00:00:00",
          "2023-01-20T00:00:00",
          "2023-01-23T00:00:00",
          "2023-01-24T00:00:00",
          "2023-01-25T00:00:00",
          "2023-01-26T00:00:00",
          "2023-01-27T00:00:00",
          "2023-01-30T00:00:00",
          "2023-01-31T00:00:00",
          "2023-02-01T00:00:00",
          "2023-02-02T00:00:00",
          "2023-02-03T00:00:00",
          "2023-02-06T00:00:00",
          "2023-02-07T00:00:00",
          "2023-02-08T00:00:00",
          "2023-02-09T00:00:00",
          "2023-02-10T00:00:00",
          "2023-02-13T00:00:00",
          "2023-02-14T00:00:00",
          "2023-02-15T00:00:00",
          "2023-02-16T00:00:00",
          "2023-02-17T00:00:00",
          "2023-02-21T00:00:00",
          "2023-02-22T00:00:00",
          "2023-02-23T00:00:00",
          "2023-02-24T00:00:00",
          "2023-02-27T00:00:00",
          "2023-02-28T00:00:00",
          "2023-03-01T00:00:00",
          "2023-03-02T00:00:00",
          "2023-03-03T00:00:00",
          "2023-03-06T00:00:00",
          "2023-03-07T00:00:00",
          "2023-03-08T00:00:00",
          "2023-03-09T00:00:00",
          "2023-03-10T00:00:00",
          "2023-03-13T00:00:00",
          "2023-03-14T00:00:00",
          "2023-03-15T00:00:00",
          "2023-03-16T00:00:00",
          "2023-03-17T00:00:00",
          "2023-03-20T00:00:00",
          "2023-03-21T00:00:00",
          "2023-03-22T00:00:00",
          "2023-03-23T00:00:00",
          "2023-03-24T00:00:00",
          "2023-03-27T00:00:00",
          "2023-03-28T00:00:00",
          "2023-03-29T00:00:00",
          "2023-03-30T00:00:00",
          "2023-03-31T00:00:00",
          "2023-04-03T00:00:00",
          "2023-04-04T00:00:00",
          "2023-04-05T00:00:00",
          "2023-04-06T00:00:00",
          "2023-04-10T00:00:00",
          "2023-04-11T00:00:00",
          "2023-04-12T00:00:00",
          "2023-04-13T00:00:00",
          "2023-04-14T00:00:00",
          "2023-04-17T00:00:00",
          "2023-04-18T00:00:00",
          "2023-04-19T00:00:00",
          "2023-04-20T00:00:00",
          "2023-04-21T00:00:00",
          "2023-04-24T00:00:00",
          "2023-04-25T00:00:00",
          "2023-04-26T00:00:00",
          "2023-04-27T00:00:00",
          "2023-04-28T00:00:00",
          "2023-05-01T00:00:00",
          "2023-05-02T00:00:00",
          "2023-05-03T00:00:00",
          "2023-05-04T00:00:00",
          "2023-05-05T00:00:00",
          "2023-05-08T00:00:00",
          "2023-05-09T00:00:00",
          "2023-05-10T00:00:00",
          "2023-05-11T00:00:00",
          "2023-05-12T00:00:00",
          "2023-05-15T00:00:00",
          "2023-05-16T00:00:00",
          "2023-05-17T00:00:00",
          "2023-05-18T00:00:00",
          "2023-05-19T00:00:00",
          "2023-05-22T00:00:00",
          "2023-05-23T00:00:00",
          "2023-05-24T00:00:00",
          "2023-05-25T00:00:00",
          "2023-05-26T00:00:00",
          "2023-05-30T00:00:00",
          "2023-05-31T00:00:00",
          "2023-06-01T00:00:00",
          "2023-06-02T00:00:00",
          "2023-06-05T00:00:00",
          "2023-06-06T00:00:00",
          "2023-06-07T00:00:00",
          "2023-06-08T00:00:00",
          "2023-06-09T00:00:00",
          "2023-06-12T00:00:00",
          "2023-06-13T00:00:00",
          "2023-06-14T00:00:00",
          "2023-06-15T00:00:00",
          "2023-06-16T00:00:00",
          "2023-06-20T00:00:00",
          "2023-06-21T00:00:00",
          "2023-06-22T00:00:00",
          "2023-06-23T00:00:00",
          "2023-06-26T00:00:00",
          "2023-06-27T00:00:00",
          "2023-06-28T00:00:00",
          "2023-06-29T00:00:00",
          "2023-06-30T00:00:00",
          "2023-07-03T00:00:00",
          "2023-07-05T00:00:00",
          "2023-07-06T00:00:00",
          "2023-07-07T00:00:00",
          "2023-07-10T00:00:00",
          "2023-07-11T00:00:00",
          "2023-07-12T00:00:00",
          "2023-07-13T00:00:00",
          "2023-07-14T00:00:00",
          "2023-07-17T00:00:00",
          "2023-07-18T00:00:00",
          "2023-07-19T00:00:00",
          "2023-07-20T00:00:00",
          "2023-07-21T00:00:00",
          "2023-07-24T00:00:00",
          "2023-07-25T00:00:00",
          "2023-07-26T00:00:00",
          "2023-07-27T00:00:00",
          "2023-07-28T00:00:00",
          "2023-07-31T00:00:00",
          "2023-08-01T00:00:00",
          "2023-08-02T00:00:00",
          "2023-08-03T00:00:00",
          "2023-08-04T00:00:00",
          "2023-08-07T00:00:00",
          "2023-08-08T00:00:00",
          "2023-08-09T00:00:00",
          "2023-08-10T00:00:00",
          "2023-08-11T00:00:00",
          "2023-08-14T00:00:00",
          "2023-08-15T00:00:00",
          "2023-08-16T00:00:00",
          "2023-08-17T00:00:00",
          "2023-08-18T00:00:00",
          "2023-08-21T00:00:00",
          "2023-08-22T00:00:00",
          "2023-08-23T00:00:00",
          "2023-08-24T00:00:00",
          "2023-08-25T00:00:00",
          "2023-08-28T00:00:00",
          "2023-08-29T00:00:00",
          "2023-08-30T00:00:00",
          "2023-08-31T00:00:00",
          "2023-09-01T00:00:00",
          "2023-09-05T00:00:00",
          "2023-09-06T00:00:00",
          "2023-09-07T00:00:00",
          "2023-09-08T00:00:00",
          "2023-09-11T00:00:00",
          "2023-09-12T00:00:00",
          "2023-09-13T00:00:00",
          "2023-09-14T00:00:00",
          "2023-09-15T00:00:00",
          "2023-09-18T00:00:00",
          "2023-09-19T00:00:00",
          "2023-09-20T00:00:00",
          "2023-09-21T00:00:00",
          "2023-09-22T00:00:00",
          "2023-09-25T00:00:00",
          "2023-09-26T00:00:00",
          "2023-09-27T00:00:00",
          "2023-09-28T00:00:00",
          "2023-09-29T00:00:00",
          "2023-10-02T00:00:00",
          "2023-10-03T00:00:00",
          "2023-10-04T00:00:00",
          "2023-10-05T00:00:00",
          "2023-10-06T00:00:00",
          "2023-10-09T00:00:00",
          "2023-10-10T00:00:00",
          "2023-10-11T00:00:00",
          "2023-10-12T00:00:00",
          "2023-10-13T00:00:00",
          "2023-10-16T00:00:00",
          "2023-10-17T00:00:00",
          "2023-10-18T00:00:00",
          "2023-10-19T00:00:00",
          "2023-10-20T00:00:00",
          "2023-10-23T00:00:00",
          "2023-10-24T00:00:00",
          "2023-10-25T00:00:00",
          "2023-10-26T00:00:00",
          "2023-10-27T00:00:00",
          "2023-10-30T00:00:00",
          "2023-10-31T00:00:00",
          "2023-11-01T00:00:00",
          "2023-11-02T00:00:00",
          "2023-11-03T00:00:00",
          "2023-11-06T00:00:00",
          "2023-11-07T00:00:00",
          "2023-11-08T00:00:00",
          "2023-11-09T00:00:00",
          "2023-11-10T00:00:00",
          "2023-11-13T00:00:00",
          "2023-11-14T00:00:00",
          "2023-11-15T00:00:00",
          "2023-11-16T00:00:00",
          "2023-11-17T00:00:00",
          "2023-11-20T00:00:00",
          "2023-11-21T00:00:00",
          "2023-11-22T00:00:00",
          "2023-11-24T00:00:00",
          "2023-11-27T00:00:00",
          "2023-11-28T00:00:00",
          "2023-11-29T00:00:00",
          "2023-11-30T00:00:00",
          "2023-12-01T00:00:00",
          "2023-12-04T00:00:00",
          "2023-12-05T00:00:00",
          "2023-12-06T00:00:00",
          "2023-12-07T00:00:00",
          "2023-12-08T00:00:00",
          "2023-12-11T00:00:00",
          "2023-12-12T00:00:00",
          "2023-12-13T00:00:00",
          "2023-12-14T00:00:00",
          "2023-12-15T00:00:00",
          "2023-12-18T00:00:00",
          "2023-12-19T00:00:00",
          "2023-12-20T00:00:00",
          "2023-12-21T00:00:00",
          "2023-12-22T00:00:00",
          "2023-12-26T00:00:00",
          "2023-12-27T00:00:00",
          "2023-12-28T00:00:00",
          "2023-12-29T00:00:00",
          "2024-01-02T00:00:00",
          "2024-01-03T00:00:00",
          "2024-01-04T00:00:00",
          "2024-01-05T00:00:00",
          "2024-01-08T00:00:00",
          "2024-01-09T00:00:00",
          "2024-01-10T00:00:00",
          "2024-01-11T00:00:00",
          "2024-01-12T00:00:00",
          "2024-01-16T00:00:00",
          "2024-01-17T00:00:00",
          "2024-01-18T00:00:00",
          "2024-01-19T00:00:00",
          "2024-01-22T00:00:00",
          "2024-01-23T00:00:00",
          "2024-01-24T00:00:00",
          "2024-01-25T00:00:00",
          "2024-01-26T00:00:00",
          "2024-01-29T00:00:00",
          "2024-01-30T00:00:00",
          "2024-01-31T00:00:00",
          "2024-02-01T00:00:00",
          "2024-02-02T00:00:00",
          "2024-02-05T00:00:00",
          "2024-02-06T00:00:00",
          "2024-02-07T00:00:00",
          "2024-02-08T00:00:00",
          "2024-02-09T00:00:00",
          "2024-02-12T00:00:00",
          "2024-02-13T00:00:00",
          "2024-02-14T00:00:00",
          "2024-02-15T00:00:00",
          "2024-02-16T00:00:00",
          "2024-02-20T00:00:00",
          "2024-02-21T00:00:00",
          "2024-02-22T00:00:00",
          "2024-02-23T00:00:00",
          "2024-02-26T00:00:00",
          "2024-02-27T00:00:00",
          "2024-02-28T00:00:00",
          "2024-02-29T00:00:00",
          "2024-03-01T00:00:00",
          "2024-03-04T00:00:00",
          "2024-03-05T00:00:00",
          "2024-03-06T00:00:00",
          "2024-03-07T00:00:00",
          "2024-03-08T00:00:00",
          "2024-03-11T00:00:00",
          "2024-03-12T00:00:00",
          "2024-03-13T00:00:00",
          "2024-03-14T00:00:00",
          "2024-03-15T00:00:00",
          "2024-03-18T00:00:00",
          "2024-03-19T00:00:00",
          "2024-03-20T00:00:00",
          "2024-03-21T00:00:00",
          "2024-03-22T00:00:00",
          "2024-03-25T00:00:00",
          "2024-03-26T00:00:00",
          "2024-03-27T00:00:00",
          "2024-03-28T00:00:00",
          "2024-04-01T00:00:00",
          "2024-04-02T00:00:00",
          "2024-04-03T00:00:00",
          "2024-04-04T00:00:00",
          "2024-04-05T00:00:00",
          "2024-04-08T00:00:00",
          "2024-04-09T00:00:00",
          "2024-04-10T00:00:00",
          "2024-04-11T00:00:00",
          "2024-04-12T00:00:00",
          "2024-04-15T00:00:00",
          "2024-04-16T00:00:00",
          "2024-04-17T00:00:00",
          "2024-04-18T00:00:00",
          "2024-04-19T00:00:00",
          "2024-04-22T00:00:00",
          "2024-04-23T00:00:00",
          "2024-04-24T00:00:00",
          "2024-04-25T00:00:00",
          "2024-04-26T00:00:00",
          "2024-04-29T00:00:00",
          "2024-04-30T00:00:00",
          "2024-05-01T00:00:00",
          "2024-05-02T00:00:00",
          "2024-05-03T00:00:00",
          "2024-05-06T00:00:00",
          "2024-05-07T00:00:00",
          "2024-05-08T00:00:00",
          "2024-05-09T00:00:00",
          "2024-05-10T00:00:00",
          "2024-05-13T00:00:00",
          "2024-05-14T00:00:00",
          "2024-05-15T00:00:00",
          "2024-05-16T00:00:00",
          "2024-05-17T00:00:00",
          "2024-05-20T00:00:00",
          "2024-05-21T00:00:00",
          "2024-05-22T00:00:00",
          "2024-05-23T00:00:00",
          "2024-05-24T00:00:00",
          "2024-05-28T00:00:00",
          "2024-05-29T00:00:00",
          "2024-05-30T00:00:00",
          "2024-05-31T00:00:00",
          "2024-06-03T00:00:00",
          "2024-06-04T00:00:00",
          "2024-06-05T00:00:00",
          "2024-06-06T00:00:00",
          "2024-06-07T00:00:00",
          "2024-06-10T00:00:00",
          "2024-06-11T00:00:00",
          "2024-06-12T00:00:00",
          "2024-06-13T00:00:00",
          "2024-06-14T00:00:00",
          "2024-06-17T00:00:00",
          "2024-06-18T00:00:00",
          "2024-06-20T00:00:00",
          "2024-06-21T00:00:00",
          "2024-06-24T00:00:00",
          "2024-06-25T00:00:00",
          "2024-06-26T00:00:00",
          "2024-06-27T00:00:00",
          "2024-06-28T00:00:00",
          "2024-07-01T00:00:00",
          "2024-07-02T00:00:00",
          "2024-07-03T00:00:00",
          "2024-07-05T00:00:00",
          "2024-07-08T00:00:00",
          "2024-07-09T00:00:00",
          "2024-07-10T00:00:00",
          "2024-07-11T00:00:00",
          "2024-07-12T00:00:00",
          "2024-07-15T00:00:00",
          "2024-07-16T00:00:00",
          "2024-07-17T00:00:00",
          "2024-07-18T00:00:00",
          "2024-07-19T00:00:00",
          "2024-07-22T00:00:00",
          "2024-07-23T00:00:00",
          "2024-07-24T00:00:00",
          "2024-07-25T00:00:00",
          "2024-07-26T00:00:00",
          "2024-07-29T00:00:00",
          "2024-07-30T00:00:00",
          "2024-07-31T00:00:00",
          "2024-08-01T00:00:00",
          "2024-08-02T00:00:00",
          "2024-08-05T00:00:00",
          "2024-08-06T00:00:00",
          "2024-08-07T00:00:00",
          "2024-08-08T00:00:00",
          "2024-08-09T00:00:00",
          "2024-08-12T00:00:00",
          "2024-08-13T00:00:00",
          "2024-08-14T00:00:00",
          "2024-08-15T00:00:00",
          "2024-08-16T00:00:00",
          "2024-08-19T00:00:00",
          "2024-08-20T00:00:00",
          "2024-08-21T00:00:00",
          "2024-08-22T00:00:00",
          "2024-08-23T00:00:00",
          "2024-08-26T00:00:00",
          "2024-08-27T00:00:00",
          "2024-08-28T00:00:00",
          "2024-08-29T00:00:00",
          "2024-08-30T00:00:00",
          "2024-09-03T00:00:00",
          "2024-09-04T00:00:00",
          "2024-09-05T00:00:00",
          "2024-09-06T00:00:00",
          "2024-09-09T00:00:00",
          "2024-09-10T00:00:00",
          "2024-09-11T00:00:00",
          "2024-09-12T00:00:00",
          "2024-09-13T00:00:00",
          "2024-09-16T00:00:00",
          "2024-09-17T00:00:00",
          "2024-09-18T00:00:00",
          "2024-09-19T00:00:00",
          "2024-09-20T00:00:00",
          "2024-09-23T00:00:00",
          "2024-09-24T00:00:00",
          "2024-09-25T00:00:00",
          "2024-09-26T00:00:00",
          "2024-09-27T00:00:00",
          "2024-09-30T00:00:00",
          "2024-10-01T00:00:00",
          "2024-10-02T00:00:00",
          "2024-10-03T00:00:00",
          "2024-10-04T00:00:00",
          "2024-10-07T00:00:00",
          "2024-10-08T00:00:00",
          "2024-10-09T00:00:00",
          "2024-10-10T00:00:00",
          "2024-10-11T00:00:00",
          "2024-10-14T00:00:00",
          "2024-10-15T00:00:00",
          "2024-10-16T00:00:00",
          "2024-10-17T00:00:00",
          "2024-10-18T00:00:00",
          "2024-10-21T00:00:00",
          "2024-10-22T00:00:00",
          "2024-10-23T00:00:00",
          "2024-10-24T00:00:00",
          "2024-10-25T00:00:00",
          "2024-10-28T00:00:00",
          "2024-10-29T00:00:00",
          "2024-10-30T00:00:00",
          "2024-10-31T00:00:00",
          "2024-11-01T00:00:00",
          "2024-11-04T00:00:00",
          "2024-11-05T00:00:00",
          "2024-11-06T00:00:00",
          "2024-11-07T00:00:00",
          "2024-11-08T00:00:00",
          "2024-11-11T00:00:00",
          "2024-11-12T00:00:00",
          "2024-11-13T00:00:00",
          "2024-11-14T00:00:00",
          "2024-11-15T00:00:00",
          "2024-11-18T00:00:00",
          "2024-11-19T00:00:00",
          "2024-11-20T00:00:00",
          "2024-11-21T00:00:00",
          "2024-11-22T00:00:00",
          "2024-11-25T00:00:00",
          "2024-11-26T00:00:00",
          "2024-11-27T00:00:00",
          "2024-11-29T00:00:00",
          "2024-12-02T00:00:00",
          "2024-12-03T00:00:00",
          "2024-12-04T00:00:00",
          "2024-12-05T00:00:00",
          "2024-12-06T00:00:00",
          "2024-12-09T00:00:00",
          "2024-12-10T00:00:00",
          "2024-12-11T00:00:00",
          "2024-12-12T00:00:00",
          "2024-12-13T00:00:00",
          "2024-12-16T00:00:00",
          "2024-12-17T00:00:00",
          "2024-12-18T00:00:00",
          "2024-12-19T00:00:00",
          "2024-12-20T00:00:00",
          "2024-12-23T00:00:00",
          "2024-12-24T00:00:00",
          "2024-12-26T00:00:00",
          "2024-12-27T00:00:00",
          "2024-12-30T00:00:00",
          "2024-12-31T00:00:00",
          "2025-01-02T00:00:00",
          "2025-01-03T00:00:00",
          "2025-01-06T00:00:00",
          "2025-01-07T00:00:00",
          "2025-01-08T00:00:00",
          "2025-01-09T00:00:00",
          "2025-01-10T00:00:00",
          "2025-01-13T00:00:00",
          "2025-01-14T00:00:00",
          "2025-01-15T00:00:00",
          "2025-01-16T00:00:00",
          "2025-01-17T00:00:00",
          "2025-01-21T00:00:00",
          "2025-01-22T00:00:00",
          "2025-01-23T00:00:00",
          "2025-01-24T00:00:00",
          "2025-01-27T00:00:00",
          "2025-01-28T00:00:00",
          "2025-01-29T00:00:00"
         ],
         "xaxis": "x",
         "y": {
          "dtype": "f8",
          "bdata": "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"
         },
         "yaxis": "y",
         "type": "scattergl"
        },
        {
         "hovertemplate": "Factor=liquidity<br>time_index=%{x}<br>Exposure=%{y}<extra></extra>",
         "legendgroup": "liquidity",
         "line": {
          "color": "#B6E880",
          "dash": "solid"
         },
         "marker": {
          "symbol": "circle"
         },
         "mode": "lines",
         "name": "liquidity",
         "showlegend": true,
         "x": [
          "2022-01-03T00:00:00",
          "2022-01-04T00:00:00",
          "2022-01-05T00:00:00",
          "2022-01-06T00:00:00",
          "2022-01-07T00:00:00",
          "2022-01-10T00:00:00",
          "2022-01-11T00:00:00",
          "2022-01-12T00:00:00",
          "2022-01-13T00:00:00",
          "2022-01-14T00:00:00",
          "2022-01-18T00:00:00",
          "2022-01-19T00:00:00",
          "2022-01-20T00:00:00",
          "2022-01-21T00:00:00",
          "2022-01-24T00:00:00",
          "2022-01-25T00:00:00",
          "2022-01-26T00:00:00",
          "2022-01-27T00:00:00",
          "2022-01-28T00:00:00",
          "2022-01-31T00:00:00",
          "2022-02-01T00:00:00",
          "2022-02-02T00:00:00",
          "2022-02-03T00:00:00",
          "2022-02-04T00:00:00",
          "2022-02-07T00:00:00",
          "2022-02-08T00:00:00",
          "2022-02-09T00:00:00",
          "2022-02-10T00:00:00",
          "2022-02-11T00:00:00",
          "2022-02-14T00:00:00",
          "2022-02-15T00:00:00",
          "2022-02-16T00:00:00",
          "2022-02-17T00:00:00",
          "2022-02-18T00:00:00",
          "2022-02-22T00:00:00",
          "2022-02-23T00:00:00",
          "2022-02-24T00:00:00",
          "2022-02-25T00:00:00",
          "2022-02-28T00:00:00",
          "2022-03-01T00:00:00",
          "2022-03-02T00:00:00",
          "2022-03-03T00:00:00",
          "2022-03-04T00:00:00",
          "2022-03-07T00:00:00",
          "2022-03-08T00:00:00",
          "2022-03-09T00:00:00",
          "2022-03-10T00:00:00",
          "2022-03-11T00:00:00",
          "2022-03-14T00:00:00",
          "2022-03-15T00:00:00",
          "2022-03-16T00:00:00",
          "2022-03-17T00:00:00",
          "2022-03-18T00:00:00",
          "2022-03-21T00:00:00",
          "2022-03-22T00:00:00",
          "2022-03-23T00:00:00",
          "2022-03-24T00:00:00",
          "2022-03-25T00:00:00",
          "2022-03-28T00:00:00",
          "2022-03-29T00:00:00",
          "2022-03-30T00:00:00",
          "2022-03-31T00:00:00",
          "2022-04-01T00:00:00",
          "2022-04-04T00:00:00",
          "2022-04-05T00:00:00",
          "2022-04-06T00:00:00",
          "2022-04-07T00:00:00",
          "2022-04-08T00:00:00",
          "2022-04-11T00:00:00",
          "2022-04-12T00:00:00",
          "2022-04-13T00:00:00",
          "2022-04-14T00:00:00",
          "2022-04-18T00:00:00",
          "2022-04-19T00:00:00",
          "2022-04-20T00:00:00",
          "2022-04-21T00:00:00",
          "2022-04-22T00:00:00",
          "2022-04-25T00:00:00",
          "2022-04-26T00:00:00",
          "2022-04-27T00:00:00",
          "2022-04-28T00:00:00",
          "2022-04-29T00:00:00",
          "2022-05-02T00:00:00",
          "2022-05-03T00:00:00",
          "2022-05-04T00:00:00",
          "2022-05-05T00:00:00",
          "2022-05-06T00:00:00",
          "2022-05-09T00:00:00",
          "2022-05-10T00:00:00",
          "2022-05-11T00:00:00",
          "2022-05-12T00:00:00",
          "2022-05-13T00:00:00",
          "2022-05-16T00:00:00",
          "2022-05-17T00:00:00",
          "2022-05-18T00:00:00",
          "2022-05-19T00:00:00",
          "2022-05-20T00:00:00",
          "2022-05-23T00:00:00",
          "2022-05-24T00:00:00",
          "2022-05-25T00:00:00",
          "2022-05-26T00:00:00",
          "2022-05-27T00:00:00",
          "2022-05-31T00:00:00",
          "2022-06-01T00:00:00",
          "2022-06-02T00:00:00",
          "2022-06-03T00:00:00",
          "2022-06-06T00:00:00",
          "2022-06-07T00:00:00",
          "2022-06-08T00:00:00",
          "2022-06-09T00:00:00",
          "2022-06-10T00:00:00",
          "2022-06-13T00:00:00",
          "2022-06-14T00:00:00",
          "2022-06-15T00:00:00",
          "2022-06-16T00:00:00",
          "2022-06-17T00:00:00",
          "2022-06-21T00:00:00",
          "2022-06-22T00:00:00",
          "2022-06-23T00:00:00",
          "2022-06-24T00:00:00",
          "2022-06-27T00:00:00",
          "2022-06-28T00:00:00",
          "2022-06-29T00:00:00",
          "2022-06-30T00:00:00",
          "2022-07-01T00:00:00",
          "2022-07-05T00:00:00",
          "2022-07-06T00:00:00",
          "2022-07-07T00:00:00",
          "2022-07-08T00:00:00",
          "2022-07-11T00:00:00",
          "2022-07-12T00:00:00",
          "2022-07-13T00:00:00",
          "2022-07-14T00:00:00",
          "2022-07-15T00:00:00",
          "2022-07-18T00:00:00",
          "2022-07-19T00:00:00",
          "2022-07-20T00:00:00",
          "2022-07-21T00:00:00",
          "2022-07-22T00:00:00",
          "2022-07-25T00:00:00",
          "2022-07-26T00:00:00",
          "2022-07-27T00:00:00",
          "2022-07-28T00:00:00",
          "2022-07-29T00:00:00",
          "2022-08-01T00:00:00",
          "2022-08-02T00:00:00",
          "2022-08-03T00:00:00",
          "2022-08-04T00:00:00",
          "2022-08-05T00:00:00",
          "2022-08-08T00:00:00",
          "2022-08-09T00:00:00",
          "2022-08-10T00:00:00",
          "2022-08-11T00:00:00",
          "2022-08-12T00:00:00",
          "2022-08-15T00:00:00",
          "2022-08-16T00:00:00",
          "2022-08-17T00:00:00",
          "2022-08-18T00:00:00",
          "2022-08-19T00:00:00",
          "2022-08-22T00:00:00",
          "2022-08-23T00:00:00",
          "2022-08-24T00:00:00",
          "2022-08-25T00:00:00",
          "2022-08-26T00:00:00",
          "2022-08-29T00:00:00",
          "2022-08-30T00:00:00",
          "2022-08-31T00:00:00",
          "2022-09-01T00:00:00",
          "2022-09-02T00:00:00",
          "2022-09-06T00:00:00",
          "2022-09-07T00:00:00",
          "2022-09-08T00:00:00",
          "2022-09-09T00:00:00",
          "2022-09-12T00:00:00",
          "2022-09-13T00:00:00",
          "2022-09-14T00:00:00",
          "2022-09-15T00:00:00",
          "2022-09-16T00:00:00",
          "2022-09-19T00:00:00",
          "2022-09-20T00:00:00",
          "2022-09-21T00:00:00",
          "2022-09-22T00:00:00",
          "2022-09-23T00:00:00",
          "2022-09-26T00:00:00",
          "2022-09-27T00:00:00",
          "2022-09-28T00:00:00",
          "2022-09-29T00:00:00",
          "2022-09-30T00:00:00",
          "2022-10-03T00:00:00",
          "2022-10-04T00:00:00",
          "2022-10-05T00:00:00",
          "2022-10-06T00:00:00",
          "2022-10-07T00:00:00",
          "2022-10-10T00:00:00",
          "2022-10-11T00:00:00",
          "2022-10-12T00:00:00",
          "2022-10-13T00:00:00",
          "2022-10-14T00:00:00",
          "2022-10-17T00:00:00",
          "2022-10-18T00:00:00",
          "2022-10-19T00:00:00",
          "2022-10-20T00:00:00",
          "2022-10-21T00:00:00",
          "2022-10-24T00:00:00",
          "2022-10-25T00:00:00",
          "2022-10-26T00:00:00",
          "2022-10-27T00:00:00",
          "2022-10-28T00:00:00",
          "2022-10-31T00:00:00",
          "2022-11-01T00:00:00",
          "2022-11-02T00:00:00",
          "2022-11-03T00:00:00",
          "2022-11-04T00:00:00",
          "2022-11-07T00:00:00",
          "2022-11-08T00:00:00",
          "2022-11-09T00:00:00",
          "2022-11-10T00:00:00",
          "2022-11-11T00:00:00",
          "2022-11-14T00:00:00",
          "2022-11-15T00:00:00",
          "2022-11-16T00:00:00",
          "2022-11-17T00:00:00",
          "2022-11-18T00:00:00",
          "2022-11-21T00:00:00",
          "2022-11-22T00:00:00",
          "2022-11-23T00:00:00",
          "2022-11-25T00:00:00",
          "2022-11-28T00:00:00",
          "2022-11-29T00:00:00",
          "2022-11-30T00:00:00",
          "2022-12-01T00:00:00",
          "2022-12-02T00:00:00",
          "2022-12-05T00:00:00",
          "2022-12-06T00:00:00",
          "2022-12-07T00:00:00",
          "2022-12-08T00:00:00",
          "2022-12-09T00:00:00",
          "2022-12-12T00:00:00",
          "2022-12-13T00:00:00",
          "2022-12-14T00:00:00",
          "2022-12-15T00:00:00",
          "2022-12-16T00:00:00",
          "2022-12-19T00:00:00",
          "2022-12-20T00:00:00",
          "2022-12-21T00:00:00",
          "2022-12-22T00:00:00",
          "2022-12-23T00:00:00",
          "2022-12-27T00:00:00",
          "2022-12-28T00:00:00",
          "2022-12-29T00:00:00",
          "2022-12-30T00:00:00",
          "2023-01-03T00:00:00",
          "2023-01-04T00:00:00",
          "2023-01-05T00:00:00",
          "2023-01-06T00:00:00",
          "2023-01-09T00:00:00",
          "2023-01-10T00:00:00",
          "2023-01-11T00:00:00",
          "2023-01-12T00:00:00",
          "2023-01-13T00:00:00",
          "2023-01-17T00:00:00",
          "2023-01-18T00:00:00",
          "2023-01-19T00:00:00",
          "2023-01-20T00:00:00",
          "2023-01-23T00:00:00",
          "2023-01-24T00:00:00",
          "2023-01-25T00:00:00",
          "2023-01-26T00:00:00",
          "2023-01-27T00:00:00",
          "2023-01-30T00:00:00",
          "2023-01-31T00:00:00",
          "2023-02-01T00:00:00",
          "2023-02-02T00:00:00",
          "2023-02-03T00:00:00",
          "2023-02-06T00:00:00",
          "2023-02-07T00:00:00",
          "2023-02-08T00:00:00",
          "2023-02-09T00:00:00",
          "2023-02-10T00:00:00",
          "2023-02-13T00:00:00",
          "2023-02-14T00:00:00",
          "2023-02-15T00:00:00",
          "2023-02-16T00:00:00",
          "2023-02-17T00:00:00",
          "2023-02-21T00:00:00",
          "2023-02-22T00:00:00",
          "2023-02-23T00:00:00",
          "2023-02-24T00:00:00",
          "2023-02-27T00:00:00",
          "2023-02-28T00:00:00",
          "2023-03-01T00:00:00",
          "2023-03-02T00:00:00",
          "2023-03-03T00:00:00",
          "2023-03-06T00:00:00",
          "2023-03-07T00:00:00",
          "2023-03-08T00:00:00",
          "2023-03-09T00:00:00",
          "2023-03-10T00:00:00",
          "2023-03-13T00:00:00",
          "2023-03-14T00:00:00",
          "2023-03-15T00:00:00",
          "2023-03-16T00:00:00",
          "2023-03-17T00:00:00",
          "2023-03-20T00:00:00",
          "2023-03-21T00:00:00",
          "2023-03-22T00:00:00",
          "2023-03-23T00:00:00",
          "2023-03-24T00:00:00",
          "2023-03-27T00:00:00",
          "2023-03-28T00:00:00",
          "2023-03-29T00:00:00",
          "2023-03-30T00:00:00",
          "2023-03-31T00:00:00",
          "2023-04-03T00:00:00",
          "2023-04-04T00:00:00",
          "2023-04-05T00:00:00",
          "2023-04-06T00:00:00",
          "2023-04-10T00:00:00",
          "2023-04-11T00:00:00",
          "2023-04-12T00:00:00",
          "2023-04-13T00:00:00",
          "2023-04-14T00:00:00",
          "2023-04-17T00:00:00",
          "2023-04-18T00:00:00",
          "2023-04-19T00:00:00",
          "2023-04-20T00:00:00",
          "2023-04-21T00:00:00",
          "2023-04-24T00:00:00",
          "2023-04-25T00:00:00",
          "2023-04-26T00:00:00",
          "2023-04-27T00:00:00",
          "2023-04-28T00:00:00",
          "2023-05-01T00:00:00",
          "2023-05-02T00:00:00",
          "2023-05-03T00:00:00",
          "2023-05-04T00:00:00",
          "2023-05-05T00:00:00",
          "2023-05-08T00:00:00",
          "2023-05-09T00:00:00",
          "2023-05-10T00:00:00",
          "2023-05-11T00:00:00",
          "2023-05-12T00:00:00",
          "2023-05-15T00:00:00",
          "2023-05-16T00:00:00",
          "2023-05-17T00:00:00",
          "2023-05-18T00:00:00",
          "2023-05-19T00:00:00",
          "2023-05-22T00:00:00",
          "2023-05-23T00:00:00",
          "2023-05-24T00:00:00",
          "2023-05-25T00:00:00",
          "2023-05-26T00:00:00",
          "2023-05-30T00:00:00",
          "2023-05-31T00:00:00",
          "2023-06-01T00:00:00",
          "2023-06-02T00:00:00",
          "2023-06-05T00:00:00",
          "2023-06-06T00:00:00",
          "2023-06-07T00:00:00",
          "2023-06-08T00:00:00",
          "2023-06-09T00:00:00",
          "2023-06-12T00:00:00",
          "2023-06-13T00:00:00",
          "2023-06-14T00:00:00",
          "2023-06-15T00:00:00",
          "2023-06-16T00:00:00",
          "2023-06-20T00:00:00",
          "2023-06-21T00:00:00",
          "2023-06-22T00:00:00",
          "2023-06-23T00:00:00",
          "2023-06-26T00:00:00",
          "2023-06-27T00:00:00",
          "2023-06-28T00:00:00",
          "2023-06-29T00:00:00",
          "2023-06-30T00:00:00",
          "2023-07-03T00:00:00",
          "2023-07-05T00:00:00",
          "2023-07-06T00:00:00",
          "2023-07-07T00:00:00",
          "2023-07-10T00:00:00",
          "2023-07-11T00:00:00",
          "2023-07-12T00:00:00",
          "2023-07-13T00:00:00",
          "2023-07-14T00:00:00",
          "2023-07-17T00:00:00",
          "2023-07-18T00:00:00",
          "2023-07-19T00:00:00",
          "2023-07-20T00:00:00",
          "2023-07-21T00:00:00",
          "2023-07-24T00:00:00",
          "2023-07-25T00:00:00",
          "2023-07-26T00:00:00",
          "2023-07-27T00:00:00",
          "2023-07-28T00:00:00",
          "2023-07-31T00:00:00",
          "2023-08-01T00:00:00",
          "2023-08-02T00:00:00",
          "2023-08-03T00:00:00",
          "2023-08-04T00:00:00",
          "2023-08-07T00:00:00",
          "2023-08-08T00:00:00",
          "2023-08-09T00:00:00",
          "2023-08-10T00:00:00",
          "2023-08-11T00:00:00",
          "2023-08-14T00:00:00",
          "2023-08-15T00:00:00",
          "2023-08-16T00:00:00",
          "2023-08-17T00:00:00",
          "2023-08-18T00:00:00",
          "2023-08-21T00:00:00",
          "2023-08-22T00:00:00",
          "2023-08-23T00:00:00",
          "2023-08-24T00:00:00",
          "2023-08-25T00:00:00",
          "2023-08-28T00:00:00",
          "2023-08-29T00:00:00",
          "2023-08-30T00:00:00",
          "2023-08-31T00:00:00",
          "2023-09-01T00:00:00",
          "2023-09-05T00:00:00",
          "2023-09-06T00:00:00",
          "2023-09-07T00:00:00",
          "2023-09-08T00:00:00",
          "2023-09-11T00:00:00",
          "2023-09-12T00:00:00",
          "2023-09-13T00:00:00",
          "2023-09-14T00:00:00",
          "2023-09-15T00:00:00",
          "2023-09-18T00:00:00",
          "2023-09-19T00:00:00",
          "2023-09-20T00:00:00",
          "2023-09-21T00:00:00",
          "2023-09-22T00:00:00",
          "2023-09-25T00:00:00",
          "2023-09-26T00:00:00",
          "2023-09-27T00:00:00",
          "2023-09-28T00:00:00",
          "2023-09-29T00:00:00",
          "2023-10-02T00:00:00",
          "2023-10-03T00:00:00",
          "2023-10-04T00:00:00",
          "2023-10-05T00:00:00",
          "2023-10-06T00:00:00",
          "2023-10-09T00:00:00",
          "2023-10-10T00:00:00",
          "2023-10-11T00:00:00",
          "2023-10-12T00:00:00",
          "2023-10-13T00:00:00",
          "2023-10-16T00:00:00",
          "2023-10-17T00:00:00",
          "2023-10-18T00:00:00",
          "2023-10-19T00:00:00",
          "2023-10-20T00:00:00",
          "2023-10-23T00:00:00",
          "2023-10-24T00:00:00",
          "2023-10-25T00:00:00",
          "2023-10-26T00:00:00",
          "2023-10-27T00:00:00",
          "2023-10-30T00:00:00",
          "2023-10-31T00:00:00",
          "2023-11-01T00:00:00",
          "2023-11-02T00:00:00",
          "2023-11-03T00:00:00",
          "2023-11-06T00:00:00",
          "2023-11-07T00:00:00",
          "2023-11-08T00:00:00",
          "2023-11-09T00:00:00",
          "2023-11-10T00:00:00",
          "2023-11-13T00:00:00",
          "2023-11-14T00:00:00",
          "2023-11-15T00:00:00",
          "2023-11-16T00:00:00",
          "2023-11-17T00:00:00",
          "2023-11-20T00:00:00",
          "2023-11-21T00:00:00",
          "2023-11-22T00:00:00",
          "2023-11-24T00:00:00",
          "2023-11-27T00:00:00",
          "2023-11-28T00:00:00",
          "2023-11-29T00:00:00",
          "2023-11-30T00:00:00",
          "2023-12-01T00:00:00",
          "2023-12-04T00:00:00",
          "2023-12-05T00:00:00",
          "2023-12-06T00:00:00",
          "2023-12-07T00:00:00",
          "2023-12-08T00:00:00",
          "2023-12-11T00:00:00",
          "2023-12-12T00:00:00",
          "2023-12-13T00:00:00",
          "2023-12-14T00:00:00",
          "2023-12-15T00:00:00",
          "2023-12-18T00:00:00",
          "2023-12-19T00:00:00",
          "2023-12-20T00:00:00",
          "2023-12-21T00:00:00",
          "2023-12-22T00:00:00",
          "2023-12-26T00:00:00",
          "2023-12-27T00:00:00",
          "2023-12-28T00:00:00",
          "2023-12-29T00:00:00",
          "2024-01-02T00:00:00",
          "2024-01-03T00:00:00",
          "2024-01-04T00:00:00",
          "2024-01-05T00:00:00",
          "2024-01-08T00:00:00",
          "2024-01-09T00:00:00",
          "2024-01-10T00:00:00",
          "2024-01-11T00:00:00",
          "2024-01-12T00:00:00",
          "2024-01-16T00:00:00",
          "2024-01-17T00:00:00",
          "2024-01-18T00:00:00",
          "2024-01-19T00:00:00",
          "2024-01-22T00:00:00",
          "2024-01-23T00:00:00",
          "2024-01-24T00:00:00",
          "2024-01-25T00:00:00",
          "2024-01-26T00:00:00",
          "2024-01-29T00:00:00",
          "2024-01-30T00:00:00",
          "2024-01-31T00:00:00",
          "2024-02-01T00:00:00",
          "2024-02-02T00:00:00",
          "2024-02-05T00:00:00",
          "2024-02-06T00:00:00",
          "2024-02-07T00:00:00",
          "2024-02-08T00:00:00",
          "2024-02-09T00:00:00",
          "2024-02-12T00:00:00",
          "2024-02-13T00:00:00",
          "2024-02-14T00:00:00",
          "2024-02-15T00:00:00",
          "2024-02-16T00:00:00",
          "2024-02-20T00:00:00",
          "2024-02-21T00:00:00",
          "2024-02-22T00:00:00",
          "2024-02-23T00:00:00",
          "2024-02-26T00:00:00",
          "2024-02-27T00:00:00",
          "2024-02-28T00:00:00",
          "2024-02-29T00:00:00",
          "2024-03-01T00:00:00",
          "2024-03-04T00:00:00",
          "2024-03-05T00:00:00",
          "2024-03-06T00:00:00",
          "2024-03-07T00:00:00",
          "2024-03-08T00:00:00",
          "2024-03-11T00:00:00",
          "2024-03-12T00:00:00",
          "2024-03-13T00:00:00",
          "2024-03-14T00:00:00",
          "2024-03-15T00:00:00",
          "2024-03-18T00:00:00",
          "2024-03-19T00:00:00",
          "2024-03-20T00:00:00",
          "2024-03-21T00:00:00",
          "2024-03-22T00:00:00",
          "2024-03-25T00:00:00",
          "2024-03-26T00:00:00",
          "2024-03-27T00:00:00",
          "2024-03-28T00:00:00",
          "2024-04-01T00:00:00",
          "2024-04-02T00:00:00",
          "2024-04-03T00:00:00",
          "2024-04-04T00:00:00",
          "2024-04-05T00:00:00",
          "2024-04-08T00:00:00",
          "2024-04-09T00:00:00",
          "2024-04-10T00:00:00",
          "2024-04-11T00:00:00",
          "2024-04-12T00:00:00",
          "2024-04-15T00:00:00",
          "2024-04-16T00:00:00",
          "2024-04-17T00:00:00",
          "2024-04-18T00:00:00",
          "2024-04-19T00:00:00",
          "2024-04-22T00:00:00",
          "2024-04-23T00:00:00",
          "2024-04-24T00:00:00",
          "2024-04-25T00:00:00",
          "2024-04-26T00:00:00",
          "2024-04-29T00:00:00",
          "2024-04-30T00:00:00",
          "2024-05-01T00:00:00",
          "2024-05-02T00:00:00",
          "2024-05-03T00:00:00",
          "2024-05-06T00:00:00",
          "2024-05-07T00:00:00",
          "2024-05-08T00:00:00",
          "2024-05-09T00:00:00",
          "2024-05-10T00:00:00",
          "2024-05-13T00:00:00",
          "2024-05-14T00:00:00",
          "2024-05-15T00:00:00",
          "2024-05-16T00:00:00",
          "2024-05-17T00:00:00",
          "2024-05-20T00:00:00",
          "2024-05-21T00:00:00",
          "2024-05-22T00:00:00",
          "2024-05-23T00:00:00",
          "2024-05-24T00:00:00",
          "2024-05-28T00:00:00",
          "2024-05-29T00:00:00",
          "2024-05-30T00:00:00",
          "2024-05-31T00:00:00",
          "2024-06-03T00:00:00",
          "2024-06-04T00:00:00",
          "2024-06-05T00:00:00",
          "2024-06-06T00:00:00",
          "2024-06-07T00:00:00",
          "2024-06-10T00:00:00",
          "2024-06-11T00:00:00",
          "2024-06-12T00:00:00",
          "2024-06-13T00:00:00",
          "2024-06-14T00:00:00",
          "2024-06-17T00:00:00",
          "2024-06-18T00:00:00",
          "2024-06-20T00:00:00",
          "2024-06-21T00:00:00",
          "2024-06-24T00:00:00",
          "2024-06-25T00:00:00",
          "2024-06-26T00:00:00",
          "2024-06-27T00:00:00",
          "2024-06-28T00:00:00",
          "2024-07-01T00:00:00",
          "2024-07-02T00:00:00",
          "2024-07-03T00:00:00",
          "2024-07-05T00:00:00",
          "2024-07-08T00:00:00",
          "2024-07-09T00:00:00",
          "2024-07-10T00:00:00",
          "2024-07-11T00:00:00",
          "2024-07-12T00:00:00",
          "2024-07-15T00:00:00",
          "2024-07-16T00:00:00",
          "2024-07-17T00:00:00",
          "2024-07-18T00:00:00",
          "2024-07-19T00:00:00",
          "2024-07-22T00:00:00",
          "2024-07-23T00:00:00",
          "2024-07-24T00:00:00",
          "2024-07-25T00:00:00",
          "2024-07-26T00:00:00",
          "2024-07-29T00:00:00",
          "2024-07-30T00:00:00",
          "2024-07-31T00:00:00",
          "2024-08-01T00:00:00",
          "2024-08-02T00:00:00",
          "2024-08-05T00:00:00",
          "2024-08-06T00:00:00",
          "2024-08-07T00:00:00",
          "2024-08-08T00:00:00",
          "2024-08-09T00:00:00",
          "2024-08-12T00:00:00",
          "2024-08-13T00:00:00",
          "2024-08-14T00:00:00",
          "2024-08-15T00:00:00",
          "2024-08-16T00:00:00",
          "2024-08-19T00:00:00",
          "2024-08-20T00:00:00",
          "2024-08-21T00:00:00",
          "2024-08-22T00:00:00",
          "2024-08-23T00:00:00",
          "2024-08-26T00:00:00",
          "2024-08-27T00:00:00",
          "2024-08-28T00:00:00",
          "2024-08-29T00:00:00",
          "2024-08-30T00:00:00",
          "2024-09-03T00:00:00",
          "2024-09-04T00:00:00",
          "2024-09-05T00:00:00",
          "2024-09-06T00:00:00",
          "2024-09-09T00:00:00",
          "2024-09-10T00:00:00",
          "2024-09-11T00:00:00",
          "2024-09-12T00:00:00",
          "2024-09-13T00:00:00",
          "2024-09-16T00:00:00",
          "2024-09-17T00:00:00",
          "2024-09-18T00:00:00",
          "2024-09-19T00:00:00",
          "2024-09-20T00:00:00",
          "2024-09-23T00:00:00",
          "2024-09-24T00:00:00",
          "2024-09-25T00:00:00",
          "2024-09-26T00:00:00",
          "2024-09-27T00:00:00",
          "2024-09-30T00:00:00",
          "2024-10-01T00:00:00",
          "2024-10-02T00:00:00",
          "2024-10-03T00:00:00",
          "2024-10-04T00:00:00",
          "2024-10-07T00:00:00",
          "2024-10-08T00:00:00",
          "2024-10-09T00:00:00",
          "2024-10-10T00:00:00",
          "2024-10-11T00:00:00",
          "2024-10-14T00:00:00",
          "2024-10-15T00:00:00",
          "2024-10-16T00:00:00",
          "2024-10-17T00:00:00",
          "2024-10-18T00:00:00",
          "2024-10-21T00:00:00",
          "2024-10-22T00:00:00",
          "2024-10-23T00:00:00",
          "2024-10-24T00:00:00",
          "2024-10-25T00:00:00",
          "2024-10-28T00:00:00",
          "2024-10-29T00:00:00",
          "2024-10-30T00:00:00",
          "2024-10-31T00:00:00",
          "2024-11-01T00:00:00",
          "2024-11-04T00:00:00",
          "2024-11-05T00:00:00",
          "2024-11-06T00:00:00",
          "2024-11-07T00:00:00",
          "2024-11-08T00:00:00",
          "2024-11-11T00:00:00",
          "2024-11-12T00:00:00",
          "2024-11-13T00:00:00",
          "2024-11-14T00:00:00",
          "2024-11-15T00:00:00",
          "2024-11-18T00:00:00",
          "2024-11-19T00:00:00",
          "2024-11-20T00:00:00",
          "2024-11-21T00:00:00",
          "2024-11-22T00:00:00",
          "2024-11-25T00:00:00",
          "2024-11-26T00:00:00",
          "2024-11-27T00:00:00",
          "2024-11-29T00:00:00",
          "2024-12-02T00:00:00",
          "2024-12-03T00:00:00",
          "2024-12-04T00:00:00",
          "2024-12-05T00:00:00",
          "2024-12-06T00:00:00",
          "2024-12-09T00:00:00",
          "2024-12-10T00:00:00",
          "2024-12-11T00:00:00",
          "2024-12-12T00:00:00",
          "2024-12-13T00:00:00",
          "2024-12-16T00:00:00",
          "2024-12-17T00:00:00",
          "2024-12-18T00:00:00",
          "2024-12-19T00:00:00",
          "2024-12-20T00:00:00",
          "2024-12-23T00:00:00",
          "2024-12-24T00:00:00",
          "2024-12-26T00:00:00",
          "2024-12-27T00:00:00",
          "2024-12-30T00:00:00",
          "2024-12-31T00:00:00",
          "2025-01-02T00:00:00",
          "2025-01-03T00:00:00",
          "2025-01-06T00:00:00",
          "2025-01-07T00:00:00",
          "2025-01-08T00:00:00",
          "2025-01-09T00:00:00",
          "2025-01-10T00:00:00",
          "2025-01-13T00:00:00",
          "2025-01-14T00:00:00",
          "2025-01-15T00:00:00",
          "2025-01-16T00:00:00",
          "2025-01-17T00:00:00",
          "2025-01-21T00:00:00",
          "2025-01-22T00:00:00",
          "2025-01-23T00:00:00",
          "2025-01-24T00:00:00",
          "2025-01-27T00:00:00",
          "2025-01-28T00:00:00",
          "2025-01-29T00:00:00"
         ],
         "xaxis": "x",
         "y": {
          "dtype": "f8",
          "bdata": "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"
         },
         "yaxis": "y",
         "type": "scattergl"
        },
        {
         "hovertemplate": "Factor=book_to_price<br>time_index=%{x}<br>Exposure=%{y}<extra></extra>",
         "legendgroup": "book_to_price",
         "line": {
          "color": "#FF97FF",
          "dash": "solid"
         },
         "marker": {
          "symbol": "circle"
         },
         "mode": "lines",
         "name": "book_to_price",
         "showlegend": true,
         "x": [
          "2022-01-03T00:00:00",
          "2022-01-04T00:00:00",
          "2022-01-05T00:00:00",
          "2022-01-06T00:00:00",
          "2022-01-07T00:00:00",
          "2022-01-10T00:00:00",
          "2022-01-11T00:00:00",
          "2022-01-12T00:00:00",
          "2022-01-13T00:00:00",
          "2022-01-14T00:00:00",
          "2022-01-18T00:00:00",
          "2022-01-19T00:00:00",
          "2022-01-20T00:00:00",
          "2022-01-21T00:00:00",
          "2022-01-24T00:00:00",
          "2022-01-25T00:00:00",
          "2022-01-26T00:00:00",
          "2022-01-27T00:00:00",
          "2022-01-28T00:00:00",
          "2022-01-31T00:00:00",
          "2022-02-01T00:00:00",
          "2022-02-02T00:00:00",
          "2022-02-03T00:00:00",
          "2022-02-04T00:00:00",
          "2022-02-07T00:00:00",
          "2022-02-08T00:00:00",
          "2022-02-09T00:00:00",
          "2022-02-10T00:00:00",
          "2022-02-11T00:00:00",
          "2022-02-14T00:00:00",
          "2022-02-15T00:00:00",
          "2022-02-16T00:00:00",
          "2022-02-17T00:00:00",
          "2022-02-18T00:00:00",
          "2022-02-22T00:00:00",
          "2022-02-23T00:00:00",
          "2022-02-24T00:00:00",
          "2022-02-25T00:00:00",
          "2022-02-28T00:00:00",
          "2022-03-01T00:00:00",
          "2022-03-02T00:00:00",
          "2022-03-03T00:00:00",
          "2022-03-04T00:00:00",
          "2022-03-07T00:00:00",
          "2022-03-08T00:00:00",
          "2022-03-09T00:00:00",
          "2022-03-10T00:00:00",
          "2022-03-11T00:00:00",
          "2022-03-14T00:00:00",
          "2022-03-15T00:00:00",
          "2022-03-16T00:00:00",
          "2022-03-17T00:00:00",
          "2022-03-18T00:00:00",
          "2022-03-21T00:00:00",
          "2022-03-22T00:00:00",
          "2022-03-23T00:00:00",
          "2022-03-24T00:00:00",
          "2022-03-25T00:00:00",
          "2022-03-28T00:00:00",
          "2022-03-29T00:00:00",
          "2022-03-30T00:00:00",
          "2022-03-31T00:00:00",
          "2022-04-01T00:00:00",
          "2022-04-04T00:00:00",
          "2022-04-05T00:00:00",
          "2022-04-06T00:00:00",
          "2022-04-07T00:00:00",
          "2022-04-08T00:00:00",
          "2022-04-11T00:00:00",
          "2022-04-12T00:00:00",
          "2022-04-13T00:00:00",
          "2022-04-14T00:00:00",
          "2022-04-18T00:00:00",
          "2022-04-19T00:00:00",
          "2022-04-20T00:00:00",
          "2022-04-21T00:00:00",
          "2022-04-22T00:00:00",
          "2022-04-25T00:00:00",
          "2022-04-26T00:00:00",
          "2022-04-27T00:00:00",
          "2022-04-28T00:00:00",
          "2022-04-29T00:00:00",
          "2022-05-02T00:00:00",
          "2022-05-03T00:00:00",
          "2022-05-04T00:00:00",
          "2022-05-05T00:00:00",
          "2022-05-06T00:00:00",
          "2022-05-09T00:00:00",
          "2022-05-10T00:00:00",
          "2022-05-11T00:00:00",
          "2022-05-12T00:00:00",
          "2022-05-13T00:00:00",
          "2022-05-16T00:00:00",
          "2022-05-17T00:00:00",
          "2022-05-18T00:00:00",
          "2022-05-19T00:00:00",
          "2022-05-20T00:00:00",
          "2022-05-23T00:00:00",
          "2022-05-24T00:00:00",
          "2022-05-25T00:00:00",
          "2022-05-26T00:00:00",
          "2022-05-27T00:00:00",
          "2022-05-31T00:00:00",
          "2022-06-01T00:00:00",
          "2022-06-02T00:00:00",
          "2022-06-03T00:00:00",
          "2022-06-06T00:00:00",
          "2022-06-07T00:00:00",
          "2022-06-08T00:00:00",
          "2022-06-09T00:00:00",
          "2022-06-10T00:00:00",
          "2022-06-13T00:00:00",
          "2022-06-14T00:00:00",
          "2022-06-15T00:00:00",
          "2022-06-16T00:00:00",
          "2022-06-17T00:00:00",
          "2022-06-21T00:00:00",
          "2022-06-22T00:00:00",
          "2022-06-23T00:00:00",
          "2022-06-24T00:00:00",
          "2022-06-27T00:00:00",
          "2022-06-28T00:00:00",
          "2022-06-29T00:00:00",
          "2022-06-30T00:00:00",
          "2022-07-01T00:00:00",
          "2022-07-05T00:00:00",
          "2022-07-06T00:00:00",
          "2022-07-07T00:00:00",
          "2022-07-08T00:00:00",
          "2022-07-11T00:00:00",
          "2022-07-12T00:00:00",
          "2022-07-13T00:00:00",
          "2022-07-14T00:00:00",
          "2022-07-15T00:00:00",
          "2022-07-18T00:00:00",
          "2022-07-19T00:00:00",
          "2022-07-20T00:00:00",
          "2022-07-21T00:00:00",
          "2022-07-22T00:00:00",
          "2022-07-25T00:00:00",
          "2022-07-26T00:00:00",
          "2022-07-27T00:00:00",
          "2022-07-28T00:00:00",
          "2022-07-29T00:00:00",
          "2022-08-01T00:00:00",
          "2022-08-02T00:00:00",
          "2022-08-03T00:00:00",
          "2022-08-04T00:00:00",
          "2022-08-05T00:00:00",
          "2022-08-08T00:00:00",
          "2022-08-09T00:00:00",
          "2022-08-10T00:00:00",
          "2022-08-11T00:00:00",
          "2022-08-12T00:00:00",
          "2022-08-15T00:00:00",
          "2022-08-16T00:00:00",
          "2022-08-17T00:00:00",
          "2022-08-18T00:00:00",
          "2022-08-19T00:00:00",
          "2022-08-22T00:00:00",
          "2022-08-23T00:00:00",
          "2022-08-24T00:00:00",
          "2022-08-25T00:00:00",
          "2022-08-26T00:00:00",
          "2022-08-29T00:00:00",
          "2022-08-30T00:00:00",
          "2022-08-31T00:00:00",
          "2022-09-01T00:00:00",
          "2022-09-02T00:00:00",
          "2022-09-06T00:00:00",
          "2022-09-07T00:00:00",
          "2022-09-08T00:00:00",
          "2022-09-09T00:00:00",
          "2022-09-12T00:00:00",
          "2022-09-13T00:00:00",
          "2022-09-14T00:00:00",
          "2022-09-15T00:00:00",
          "2022-09-16T00:00:00",
          "2022-09-19T00:00:00",
          "2022-09-20T00:00:00",
          "2022-09-21T00:00:00",
          "2022-09-22T00:00:00",
          "2022-09-23T00:00:00",
          "2022-09-26T00:00:00",
          "2022-09-27T00:00:00",
          "2022-09-28T00:00:00",
          "2022-09-29T00:00:00",
          "2022-09-30T00:00:00",
          "2022-10-03T00:00:00",
          "2022-10-04T00:00:00",
          "2022-10-05T00:00:00",
          "2022-10-06T00:00:00",
          "2022-10-07T00:00:00",
          "2022-10-10T00:00:00",
          "2022-10-11T00:00:00",
          "2022-10-12T00:00:00",
          "2022-10-13T00:00:00",
          "2022-10-14T00:00:00",
          "2022-10-17T00:00:00",
          "2022-10-18T00:00:00",
          "2022-10-19T00:00:00",
          "2022-10-20T00:00:00",
          "2022-10-21T00:00:00",
          "2022-10-24T00:00:00",
          "2022-10-25T00:00:00",
          "2022-10-26T00:00:00",
          "2022-10-27T00:00:00",
          "2022-10-28T00:00:00",
          "2022-10-31T00:00:00",
          "2022-11-01T00:00:00",
          "2022-11-02T00:00:00",
          "2022-11-03T00:00:00",
          "2022-11-04T00:00:00",
          "2022-11-07T00:00:00",
          "2022-11-08T00:00:00",
          "2022-11-09T00:00:00",
          "2022-11-10T00:00:00",
          "2022-11-11T00:00:00",
          "2022-11-14T00:00:00",
          "2022-11-15T00:00:00",
          "2022-11-16T00:00:00",
          "2022-11-17T00:00:00",
          "2022-11-18T00:00:00",
          "2022-11-21T00:00:00",
          "2022-11-22T00:00:00",
          "2022-11-23T00:00:00",
          "2022-11-25T00:00:00",
          "2022-11-28T00:00:00",
          "2022-11-29T00:00:00",
          "2022-11-30T00:00:00",
          "2022-12-01T00:00:00",
          "2022-12-02T00:00:00",
          "2022-12-05T00:00:00",
          "2022-12-06T00:00:00",
          "2022-12-07T00:00:00",
          "2022-12-08T00:00:00",
          "2022-12-09T00:00:00",
          "2022-12-12T00:00:00",
          "2022-12-13T00:00:00",
          "2022-12-14T00:00:00",
          "2022-12-15T00:00:00",
          "2022-12-16T00:00:00",
          "2022-12-19T00:00:00",
          "2022-12-20T00:00:00",
          "2022-12-21T00:00:00",
          "2022-12-22T00:00:00",
          "2022-12-23T00:00:00",
          "2022-12-27T00:00:00",
          "2022-12-28T00:00:00",
          "2022-12-29T00:00:00",
          "2022-12-30T00:00:00",
          "2023-01-03T00:00:00",
          "2023-01-04T00:00:00",
          "2023-01-05T00:00:00",
          "2023-01-06T00:00:00",
          "2023-01-09T00:00:00",
          "2023-01-10T00:00:00",
          "2023-01-11T00:00:00",
          "2023-01-12T00:00:00",
          "2023-01-13T00:00:00",
          "2023-01-17T00:00:00",
          "2023-01-18T00:00:00",
          "2023-01-19T00:00:00",
          "2023-01-20T00:00:00",
          "2023-01-23T00:00:00",
          "2023-01-24T00:00:00",
          "2023-01-25T00:00:00",
          "2023-01-26T00:00:00",
          "2023-01-27T00:00:00",
          "2023-01-30T00:00:00",
          "2023-01-31T00:00:00",
          "2023-02-01T00:00:00",
          "2023-02-02T00:00:00",
          "2023-02-03T00:00:00",
          "2023-02-06T00:00:00",
          "2023-02-07T00:00:00",
          "2023-02-08T00:00:00",
          "2023-02-09T00:00:00",
          "2023-02-10T00:00:00",
          "2023-02-13T00:00:00",
          "2023-02-14T00:00:00",
          "2023-02-15T00:00:00",
          "2023-02-16T00:00:00",
          "2023-02-17T00:00:00",
          "2023-02-21T00:00:00",
          "2023-02-22T00:00:00",
          "2023-02-23T00:00:00",
          "2023-02-24T00:00:00",
          "2023-02-27T00:00:00",
          "2023-02-28T00:00:00",
          "2023-03-01T00:00:00",
          "2023-03-02T00:00:00",
          "2023-03-03T00:00:00",
          "2023-03-06T00:00:00",
          "2023-03-07T00:00:00",
          "2023-03-08T00:00:00",
          "2023-03-09T00:00:00",
          "2023-03-10T00:00:00",
          "2023-03-13T00:00:00",
          "2023-03-14T00:00:00",
          "2023-03-15T00:00:00",
          "2023-03-16T00:00:00",
          "2023-03-17T00:00:00",
          "2023-03-20T00:00:00",
          "2023-03-21T00:00:00",
          "2023-03-22T00:00:00",
          "2023-03-23T00:00:00",
          "2023-03-24T00:00:00",
          "2023-03-27T00:00:00",
          "2023-03-28T00:00:00",
          "2023-03-29T00:00:00",
          "2023-03-30T00:00:00",
          "2023-03-31T00:00:00",
          "2023-04-03T00:00:00",
          "2023-04-04T00:00:00",
          "2023-04-05T00:00:00",
          "2023-04-06T00:00:00",
          "2023-04-10T00:00:00",
          "2023-04-11T00:00:00",
          "2023-04-12T00:00:00",
          "2023-04-13T00:00:00",
          "2023-04-14T00:00:00",
          "2023-04-17T00:00:00",
          "2023-04-18T00:00:00",
          "2023-04-19T00:00:00",
          "2023-04-20T00:00:00",
          "2023-04-21T00:00:00",
          "2023-04-24T00:00:00",
          "2023-04-25T00:00:00",
          "2023-04-26T00:00:00",
          "2023-04-27T00:00:00",
          "2023-04-28T00:00:00",
          "2023-05-01T00:00:00",
          "2023-05-02T00:00:00",
          "2023-05-03T00:00:00",
          "2023-05-04T00:00:00",
          "2023-05-05T00:00:00",
          "2023-05-08T00:00:00",
          "2023-05-09T00:00:00",
          "2023-05-10T00:00:00",
          "2023-05-11T00:00:00",
          "2023-05-12T00:00:00",
          "2023-05-15T00:00:00",
          "2023-05-16T00:00:00",
          "2023-05-17T00:00:00",
          "2023-05-18T00:00:00",
          "2023-05-19T00:00:00",
          "2023-05-22T00:00:00",
          "2023-05-23T00:00:00",
          "2023-05-24T00:00:00",
          "2023-05-25T00:00:00",
          "2023-05-26T00:00:00",
          "2023-05-30T00:00:00",
          "2023-05-31T00:00:00",
          "2023-06-01T00:00:00",
          "2023-06-02T00:00:00",
          "2023-06-05T00:00:00",
          "2023-06-06T00:00:00",
          "2023-06-07T00:00:00",
          "2023-06-08T00:00:00",
          "2023-06-09T00:00:00",
          "2023-06-12T00:00:00",
          "2023-06-13T00:00:00",
          "2023-06-14T00:00:00",
          "2023-06-15T00:00:00",
          "2023-06-16T00:00:00",
          "2023-06-20T00:00:00",
          "2023-06-21T00:00:00",
          "2023-06-22T00:00:00",
          "2023-06-23T00:00:00",
          "2023-06-26T00:00:00",
          "2023-06-27T00:00:00",
          "2023-06-28T00:00:00",
          "2023-06-29T00:00:00",
          "2023-06-30T00:00:00",
          "2023-07-03T00:00:00",
          "2023-07-05T00:00:00",
          "2023-07-06T00:00:00",
          "2023-07-07T00:00:00",
          "2023-07-10T00:00:00",
          "2023-07-11T00:00:00",
          "2023-07-12T00:00:00",
          "2023-07-13T00:00:00",
          "2023-07-14T00:00:00",
          "2023-07-17T00:00:00",
          "2023-07-18T00:00:00",
          "2023-07-19T00:00:00",
          "2023-07-20T00:00:00",
          "2023-07-21T00:00:00",
          "2023-07-24T00:00:00",
          "2023-07-25T00:00:00",
          "2023-07-26T00:00:00",
          "2023-07-27T00:00:00",
          "2023-07-28T00:00:00",
          "2023-07-31T00:00:00",
          "2023-08-01T00:00:00",
          "2023-08-02T00:00:00",
          "2023-08-03T00:00:00",
          "2023-08-04T00:00:00",
          "2023-08-07T00:00:00",
          "2023-08-08T00:00:00",
          "2023-08-09T00:00:00",
          "2023-08-10T00:00:00",
          "2023-08-11T00:00:00",
          "2023-08-14T00:00:00",
          "2023-08-15T00:00:00",
          "2023-08-16T00:00:00",
          "2023-08-17T00:00:00",
          "2023-08-18T00:00:00",
          "2023-08-21T00:00:00",
          "2023-08-22T00:00:00",
          "2023-08-23T00:00:00",
          "2023-08-24T00:00:00",
          "2023-08-25T00:00:00",
          "2023-08-28T00:00:00",
          "2023-08-29T00:00:00",
          "2023-08-30T00:00:00",
          "2023-08-31T00:00:00",
          "2023-09-01T00:00:00",
          "2023-09-05T00:00:00",
          "2023-09-06T00:00:00",
          "2023-09-07T00:00:00",
          "2023-09-08T00:00:00",
          "2023-09-11T00:00:00",
          "2023-09-12T00:00:00",
          "2023-09-13T00:00:00",
          "2023-09-14T00:00:00",
          "2023-09-15T00:00:00",
          "2023-09-18T00:00:00",
          "2023-09-19T00:00:00",
          "2023-09-20T00:00:00",
          "2023-09-21T00:00:00",
          "2023-09-22T00:00:00",
          "2023-09-25T00:00:00",
          "2023-09-26T00:00:00",
          "2023-09-27T00:00:00",
          "2023-09-28T00:00:00",
          "2023-09-29T00:00:00",
          "2023-10-02T00:00:00",
          "2023-10-03T00:00:00",
          "2023-10-04T00:00:00",
          "2023-10-05T00:00:00",
          "2023-10-06T00:00:00",
          "2023-10-09T00:00:00",
          "2023-10-10T00:00:00",
          "2023-10-11T00:00:00",
          "2023-10-12T00:00:00",
          "2023-10-13T00:00:00",
          "2023-10-16T00:00:00",
          "2023-10-17T00:00:00",
          "2023-10-18T00:00:00",
          "2023-10-19T00:00:00",
          "2023-10-20T00:00:00",
          "2023-10-23T00:00:00",
          "2023-10-24T00:00:00",
          "2023-10-25T00:00:00",
          "2023-10-26T00:00:00",
          "2023-10-27T00:00:00",
          "2023-10-30T00:00:00",
          "2023-10-31T00:00:00",
          "2023-11-01T00:00:00",
          "2023-11-02T00:00:00",
          "2023-11-03T00:00:00",
          "2023-11-06T00:00:00",
          "2023-11-07T00:00:00",
          "2023-11-08T00:00:00",
          "2023-11-09T00:00:00",
          "2023-11-10T00:00:00",
          "2023-11-13T00:00:00",
          "2023-11-14T00:00:00",
          "2023-11-15T00:00:00",
          "2023-11-16T00:00:00",
          "2023-11-17T00:00:00",
          "2023-11-20T00:00:00",
          "2023-11-21T00:00:00",
          "2023-11-22T00:00:00",
          "2023-11-24T00:00:00",
          "2023-11-27T00:00:00",
          "2023-11-28T00:00:00",
          "2023-11-29T00:00:00",
          "2023-11-30T00:00:00",
          "2023-12-01T00:00:00",
          "2023-12-04T00:00:00",
          "2023-12-05T00:00:00",
          "2023-12-06T00:00:00",
          "2023-12-07T00:00:00",
          "2023-12-08T00:00:00",
          "2023-12-11T00:00:00",
          "2023-12-12T00:00:00",
          "2023-12-13T00:00:00",
          "2023-12-14T00:00:00",
          "2023-12-15T00:00:00",
          "2023-12-18T00:00:00",
          "2023-12-19T00:00:00",
          "2023-12-20T00:00:00",
          "2023-12-21T00:00:00",
          "2023-12-22T00:00:00",
          "2023-12-26T00:00:00",
          "2023-12-27T00:00:00",
          "2023-12-28T00:00:00",
          "2023-12-29T00:00:00",
          "2024-01-02T00:00:00",
          "2024-01-03T00:00:00",
          "2024-01-04T00:00:00",
          "2024-01-05T00:00:00",
          "2024-01-08T00:00:00",
          "2024-01-09T00:00:00",
          "2024-01-10T00:00:00",
          "2024-01-11T00:00:00",
          "2024-01-12T00:00:00",
          "2024-01-16T00:00:00",
          "2024-01-17T00:00:00",
          "2024-01-18T00:00:00",
          "2024-01-19T00:00:00",
          "2024-01-22T00:00:00",
          "2024-01-23T00:00:00",
          "2024-01-24T00:00:00",
          "2024-01-25T00:00:00",
          "2024-01-26T00:00:00",
          "2024-01-29T00:00:00",
          "2024-01-30T00:00:00",
          "2024-01-31T00:00:00",
          "2024-02-01T00:00:00",
          "2024-02-02T00:00:00",
          "2024-02-05T00:00:00",
          "2024-02-06T00:00:00",
          "2024-02-07T00:00:00",
          "2024-02-08T00:00:00",
          "2024-02-09T00:00:00",
          "2024-02-12T00:00:00",
          "2024-02-13T00:00:00",
          "2024-02-14T00:00:00",
          "2024-02-15T00:00:00",
          "2024-02-16T00:00:00",
          "2024-02-20T00:00:00",
          "2024-02-21T00:00:00",
          "2024-02-22T00:00:00",
          "2024-02-23T00:00:00",
          "2024-02-26T00:00:00",
          "2024-02-27T00:00:00",
          "2024-02-28T00:00:00",
          "2024-02-29T00:00:00",
          "2024-03-01T00:00:00",
          "2024-03-04T00:00:00",
          "2024-03-05T00:00:00",
          "2024-03-06T00:00:00",
          "2024-03-07T00:00:00",
          "2024-03-08T00:00:00",
          "2024-03-11T00:00:00",
          "2024-03-12T00:00:00",
          "2024-03-13T00:00:00",
          "2024-03-14T00:00:00",
          "2024-03-15T00:00:00",
          "2024-03-18T00:00:00",
          "2024-03-19T00:00:00",
          "2024-03-20T00:00:00",
          "2024-03-21T00:00:00",
          "2024-03-22T00:00:00",
          "2024-03-25T00:00:00",
          "2024-03-26T00:00:00",
          "2024-03-27T00:00:00",
          "2024-03-28T00:00:00",
          "2024-04-01T00:00:00",
          "2024-04-02T00:00:00",
          "2024-04-03T00:00:00",
          "2024-04-04T00:00:00",
          "2024-04-05T00:00:00",
          "2024-04-08T00:00:00",
          "2024-04-09T00:00:00",
          "2024-04-10T00:00:00",
          "2024-04-11T00:00:00",
          "2024-04-12T00:00:00",
          "2024-04-15T00:00:00",
          "2024-04-16T00:00:00",
          "2024-04-17T00:00:00",
          "2024-04-18T00:00:00",
          "2024-04-19T00:00:00",
          "2024-04-22T00:00:00",
          "2024-04-23T00:00:00",
          "2024-04-24T00:00:00",
          "2024-04-25T00:00:00",
          "2024-04-26T00:00:00",
          "2024-04-29T00:00:00",
          "2024-04-30T00:00:00",
          "2024-05-01T00:00:00",
          "2024-05-02T00:00:00",
          "2024-05-03T00:00:00",
          "2024-05-06T00:00:00",
          "2024-05-07T00:00:00",
          "2024-05-08T00:00:00",
          "2024-05-09T00:00:00",
          "2024-05-10T00:00:00",
          "2024-05-13T00:00:00",
          "2024-05-14T00:00:00",
          "2024-05-15T00:00:00",
          "2024-05-16T00:00:00",
          "2024-05-17T00:00:00",
          "2024-05-20T00:00:00",
          "2024-05-21T00:00:00",
          "2024-05-22T00:00:00",
          "2024-05-23T00:00:00",
          "2024-05-24T00:00:00",
          "2024-05-28T00:00:00",
          "2024-05-29T00:00:00",
          "2024-05-30T00:00:00",
          "2024-05-31T00:00:00",
          "2024-06-03T00:00:00",
          "2024-06-04T00:00:00",
          "2024-06-05T00:00:00",
          "2024-06-06T00:00:00",
          "2024-06-07T00:00:00",
          "2024-06-10T00:00:00",
          "2024-06-11T00:00:00",
          "2024-06-12T00:00:00",
          "2024-06-13T00:00:00",
          "2024-06-14T00:00:00",
          "2024-06-17T00:00:00",
          "2024-06-18T00:00:00",
          "2024-06-20T00:00:00",
          "2024-06-21T00:00:00",
          "2024-06-24T00:00:00",
          "2024-06-25T00:00:00",
          "2024-06-26T00:00:00",
          "2024-06-27T00:00:00",
          "2024-06-28T00:00:00",
          "2024-07-01T00:00:00",
          "2024-07-02T00:00:00",
          "2024-07-03T00:00:00",
          "2024-07-05T00:00:00",
          "2024-07-08T00:00:00",
          "2024-07-09T00:00:00",
          "2024-07-10T00:00:00",
          "2024-07-11T00:00:00",
          "2024-07-12T00:00:00",
          "2024-07-15T00:00:00",
          "2024-07-16T00:00:00",
          "2024-07-17T00:00:00",
          "2024-07-18T00:00:00",
          "2024-07-19T00:00:00",
          "2024-07-22T00:00:00",
          "2024-07-23T00:00:00",
          "2024-07-24T00:00:00",
          "2024-07-25T00:00:00",
          "2024-07-26T00:00:00",
          "2024-07-29T00:00:00",
          "2024-07-30T00:00:00",
          "2024-07-31T00:00:00",
          "2024-08-01T00:00:00",
          "2024-08-02T00:00:00",
          "2024-08-05T00:00:00",
          "2024-08-06T00:00:00",
          "2024-08-07T00:00:00",
          "2024-08-08T00:00:00",
          "2024-08-09T00:00:00",
          "2024-08-12T00:00:00",
          "2024-08-13T00:00:00",
          "2024-08-14T00:00:00",
          "2024-08-15T00:00:00",
          "2024-08-16T00:00:00",
          "2024-08-19T00:00:00",
          "2024-08-20T00:00:00",
          "2024-08-21T00:00:00",
          "2024-08-22T00:00:00",
          "2024-08-23T00:00:00",
          "2024-08-26T00:00:00",
          "2024-08-27T00:00:00",
          "2024-08-28T00:00:00",
          "2024-08-29T00:00:00",
          "2024-08-30T00:00:00",
          "2024-09-03T00:00:00",
          "2024-09-04T00:00:00",
          "2024-09-05T00:00:00",
          "2024-09-06T00:00:00",
          "2024-09-09T00:00:00",
          "2024-09-10T00:00:00",
          "2024-09-11T00:00:00",
          "2024-09-12T00:00:00",
          "2024-09-13T00:00:00",
          "2024-09-16T00:00:00",
          "2024-09-17T00:00:00",
          "2024-09-18T00:00:00",
          "2024-09-19T00:00:00",
          "2024-09-20T00:00:00",
          "2024-09-23T00:00:00",
          "2024-09-24T00:00:00",
          "2024-09-25T00:00:00",
          "2024-09-26T00:00:00",
          "2024-09-27T00:00:00",
          "2024-09-30T00:00:00",
          "2024-10-01T00:00:00",
          "2024-10-02T00:00:00",
          "2024-10-03T00:00:00",
          "2024-10-04T00:00:00",
          "2024-10-07T00:00:00",
          "2024-10-08T00:00:00",
          "2024-10-09T00:00:00",
          "2024-10-10T00:00:00",
          "2024-10-11T00:00:00",
          "2024-10-14T00:00:00",
          "2024-10-15T00:00:00",
          "2024-10-16T00:00:00",
          "2024-10-17T00:00:00",
          "2024-10-18T00:00:00",
          "2024-10-21T00:00:00",
          "2024-10-22T00:00:00",
          "2024-10-23T00:00:00",
          "2024-10-24T00:00:00",
          "2024-10-25T00:00:00",
          "2024-10-28T00:00:00",
          "2024-10-29T00:00:00",
          "2024-10-30T00:00:00",
          "2024-10-31T00:00:00",
          "2024-11-01T00:00:00",
          "2024-11-04T00:00:00",
          "2024-11-05T00:00:00",
          "2024-11-06T00:00:00",
          "2024-11-07T00:00:00",
          "2024-11-08T00:00:00",
          "2024-11-11T00:00:00",
          "2024-11-12T00:00:00",
          "2024-11-13T00:00:00",
          "2024-11-14T00:00:00",
          "2024-11-15T00:00:00",
          "2024-11-18T00:00:00",
          "2024-11-19T00:00:00",
          "2024-11-20T00:00:00",
          "2024-11-21T00:00:00",
          "2024-11-22T00:00:00",
          "2024-11-25T00:00:00",
          "2024-11-26T00:00:00",
          "2024-11-27T00:00:00",
          "2024-11-29T00:00:00",
          "2024-12-02T00:00:00",
          "2024-12-03T00:00:00",
          "2024-12-04T00:00:00",
          "2024-12-05T00:00:00",
          "2024-12-06T00:00:00",
          "2024-12-09T00:00:00",
          "2024-12-10T00:00:00",
          "2024-12-11T00:00:00",
          "2024-12-12T00:00:00",
          "2024-12-13T00:00:00",
          "2024-12-16T00:00:00",
          "2024-12-17T00:00:00",
          "2024-12-18T00:00:00",
          "2024-12-19T00:00:00",
          "2024-12-20T00:00:00",
          "2024-12-23T00:00:00",
          "2024-12-24T00:00:00",
          "2024-12-26T00:00:00",
          "2024-12-27T00:00:00",
          "2024-12-30T00:00:00",
          "2024-12-31T00:00:00",
          "2025-01-02T00:00:00",
          "2025-01-03T00:00:00",
          "2025-01-06T00:00:00",
          "2025-01-07T00:00:00",
          "2025-01-08T00:00:00",
          "2025-01-09T00:00:00",
          "2025-01-10T00:00:00",
          "2025-01-13T00:00:00",
          "2025-01-14T00:00:00",
          "2025-01-15T00:00:00",
          "2025-01-16T00:00:00",
          "2025-01-17T00:00:00",
          "2025-01-21T00:00:00",
          "2025-01-22T00:00:00",
          "2025-01-23T00:00:00",
          "2025-01-24T00:00:00",
          "2025-01-27T00:00:00",
          "2025-01-28T00:00:00",
          "2025-01-29T00:00:00"
         ],
         "xaxis": "x",
         "y": {
          "dtype": "f8",
          "bdata": "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"
         },
         "yaxis": "y",
         "type": "scattergl"
        },
        {
         "hovertemplate": "Factor=leverage<br>time_index=%{x}<br>Exposure=%{y}<extra></extra>",
         "legendgroup": "leverage",
         "line": {
          "color": "#FECB52",
          "dash": "solid"
         },
         "marker": {
          "symbol": "circle"
         },
         "mode": "lines",
         "name": "leverage",
         "showlegend": true,
         "x": [
          "2022-01-03T00:00:00",
          "2022-01-04T00:00:00",
          "2022-01-05T00:00:00",
          "2022-01-06T00:00:00",
          "2022-01-07T00:00:00",
          "2022-01-10T00:00:00",
          "2022-01-11T00:00:00",
          "2022-01-12T00:00:00",
          "2022-01-13T00:00:00",
          "2022-01-14T00:00:00",
          "2022-01-18T00:00:00",
          "2022-01-19T00:00:00",
          "2022-01-20T00:00:00",
          "2022-01-21T00:00:00",
          "2022-01-24T00:00:00",
          "2022-01-25T00:00:00",
          "2022-01-26T00:00:00",
          "2022-01-27T00:00:00",
          "2022-01-28T00:00:00",
          "2022-01-31T00:00:00",
          "2022-02-01T00:00:00",
          "2022-02-02T00:00:00",
          "2022-02-03T00:00:00",
          "2022-02-04T00:00:00",
          "2022-02-07T00:00:00",
          "2022-02-08T00:00:00",
          "2022-02-09T00:00:00",
          "2022-02-10T00:00:00",
          "2022-02-11T00:00:00",
          "2022-02-14T00:00:00",
          "2022-02-15T00:00:00",
          "2022-02-16T00:00:00",
          "2022-02-17T00:00:00",
          "2022-02-18T00:00:00",
          "2022-02-22T00:00:00",
          "2022-02-23T00:00:00",
          "2022-02-24T00:00:00",
          "2022-02-25T00:00:00",
          "2022-02-28T00:00:00",
          "2022-03-01T00:00:00",
          "2022-03-02T00:00:00",
          "2022-03-03T00:00:00",
          "2022-03-04T00:00:00",
          "2022-03-07T00:00:00",
          "2022-03-08T00:00:00",
          "2022-03-09T00:00:00",
          "2022-03-10T00:00:00",
          "2022-03-11T00:00:00",
          "2022-03-14T00:00:00",
          "2022-03-15T00:00:00",
          "2022-03-16T00:00:00",
          "2022-03-17T00:00:00",
          "2022-03-18T00:00:00",
          "2022-03-21T00:00:00",
          "2022-03-22T00:00:00",
          "2022-03-23T00:00:00",
          "2022-03-24T00:00:00",
          "2022-03-25T00:00:00",
          "2022-03-28T00:00:00",
          "2022-03-29T00:00:00",
          "2022-03-30T00:00:00",
          "2022-03-31T00:00:00",
          "2022-04-01T00:00:00",
          "2022-04-04T00:00:00",
          "2022-04-05T00:00:00",
          "2022-04-06T00:00:00",
          "2022-04-07T00:00:00",
          "2022-04-08T00:00:00",
          "2022-04-11T00:00:00",
          "2022-04-12T00:00:00",
          "2022-04-13T00:00:00",
          "2022-04-14T00:00:00",
          "2022-04-18T00:00:00",
          "2022-04-19T00:00:00",
          "2022-04-20T00:00:00",
          "2022-04-21T00:00:00",
          "2022-04-22T00:00:00",
          "2022-04-25T00:00:00",
          "2022-04-26T00:00:00",
          "2022-04-27T00:00:00",
          "2022-04-28T00:00:00",
          "2022-04-29T00:00:00",
          "2022-05-02T00:00:00",
          "2022-05-03T00:00:00",
          "2022-05-04T00:00:00",
          "2022-05-05T00:00:00",
          "2022-05-06T00:00:00",
          "2022-05-09T00:00:00",
          "2022-05-10T00:00:00",
          "2022-05-11T00:00:00",
          "2022-05-12T00:00:00",
          "2022-05-13T00:00:00",
          "2022-05-16T00:00:00",
          "2022-05-17T00:00:00",
          "2022-05-18T00:00:00",
          "2022-05-19T00:00:00",
          "2022-05-20T00:00:00",
          "2022-05-23T00:00:00",
          "2022-05-24T00:00:00",
          "2022-05-25T00:00:00",
          "2022-05-26T00:00:00",
          "2022-05-27T00:00:00",
          "2022-05-31T00:00:00",
          "2022-06-01T00:00:00",
          "2022-06-02T00:00:00",
          "2022-06-03T00:00:00",
          "2022-06-06T00:00:00",
          "2022-06-07T00:00:00",
          "2022-06-08T00:00:00",
          "2022-06-09T00:00:00",
          "2022-06-10T00:00:00",
          "2022-06-13T00:00:00",
          "2022-06-14T00:00:00",
          "2022-06-15T00:00:00",
          "2022-06-16T00:00:00",
          "2022-06-17T00:00:00",
          "2022-06-21T00:00:00",
          "2022-06-22T00:00:00",
          "2022-06-23T00:00:00",
          "2022-06-24T00:00:00",
          "2022-06-27T00:00:00",
          "2022-06-28T00:00:00",
          "2022-06-29T00:00:00",
          "2022-06-30T00:00:00",
          "2022-07-01T00:00:00",
          "2022-07-05T00:00:00",
          "2022-07-06T00:00:00",
          "2022-07-07T00:00:00",
          "2022-07-08T00:00:00",
          "2022-07-11T00:00:00",
          "2022-07-12T00:00:00",
          "2022-07-13T00:00:00",
          "2022-07-14T00:00:00",
          "2022-07-15T00:00:00",
          "2022-07-18T00:00:00",
          "2022-07-19T00:00:00",
          "2022-07-20T00:00:00",
          "2022-07-21T00:00:00",
          "2022-07-22T00:00:00",
          "2022-07-25T00:00:00",
          "2022-07-26T00:00:00",
          "2022-07-27T00:00:00",
          "2022-07-28T00:00:00",
          "2022-07-29T00:00:00",
          "2022-08-01T00:00:00",
          "2022-08-02T00:00:00",
          "2022-08-03T00:00:00",
          "2022-08-04T00:00:00",
          "2022-08-05T00:00:00",
          "2022-08-08T00:00:00",
          "2022-08-09T00:00:00",
          "2022-08-10T00:00:00",
          "2022-08-11T00:00:00",
          "2022-08-12T00:00:00",
          "2022-08-15T00:00:00",
          "2022-08-16T00:00:00",
          "2022-08-17T00:00:00",
          "2022-08-18T00:00:00",
          "2022-08-19T00:00:00",
          "2022-08-22T00:00:00",
          "2022-08-23T00:00:00",
          "2022-08-24T00:00:00",
          "2022-08-25T00:00:00",
          "2022-08-26T00:00:00",
          "2022-08-29T00:00:00",
          "2022-08-30T00:00:00",
          "2022-08-31T00:00:00",
          "2022-09-01T00:00:00",
          "2022-09-02T00:00:00",
          "2022-09-06T00:00:00",
          "2022-09-07T00:00:00",
          "2022-09-08T00:00:00",
          "2022-09-09T00:00:00",
          "2022-09-12T00:00:00",
          "2022-09-13T00:00:00",
          "2022-09-14T00:00:00",
          "2022-09-15T00:00:00",
          "2022-09-16T00:00:00",
          "2022-09-19T00:00:00",
          "2022-09-20T00:00:00",
          "2022-09-21T00:00:00",
          "2022-09-22T00:00:00",
          "2022-09-23T00:00:00",
          "2022-09-26T00:00:00",
          "2022-09-27T00:00:00",
          "2022-09-28T00:00:00",
          "2022-09-29T00:00:00",
          "2022-09-30T00:00:00",
          "2022-10-03T00:00:00",
          "2022-10-04T00:00:00",
          "2022-10-05T00:00:00",
          "2022-10-06T00:00:00",
          "2022-10-07T00:00:00",
          "2022-10-10T00:00:00",
          "2022-10-11T00:00:00",
          "2022-10-12T00:00:00",
          "2022-10-13T00:00:00",
          "2022-10-14T00:00:00",
          "2022-10-17T00:00:00",
          "2022-10-18T00:00:00",
          "2022-10-19T00:00:00",
          "2022-10-20T00:00:00",
          "2022-10-21T00:00:00",
          "2022-10-24T00:00:00",
          "2022-10-25T00:00:00",
          "2022-10-26T00:00:00",
          "2022-10-27T00:00:00",
          "2022-10-28T00:00:00",
          "2022-10-31T00:00:00",
          "2022-11-01T00:00:00",
          "2022-11-02T00:00:00",
          "2022-11-03T00:00:00",
          "2022-11-04T00:00:00",
          "2022-11-07T00:00:00",
          "2022-11-08T00:00:00",
          "2022-11-09T00:00:00",
          "2022-11-10T00:00:00",
          "2022-11-11T00:00:00",
          "2022-11-14T00:00:00",
          "2022-11-15T00:00:00",
          "2022-11-16T00:00:00",
          "2022-11-17T00:00:00",
          "2022-11-18T00:00:00",
          "2022-11-21T00:00:00",
          "2022-11-22T00:00:00",
          "2022-11-23T00:00:00",
          "2022-11-25T00:00:00",
          "2022-11-28T00:00:00",
          "2022-11-29T00:00:00",
          "2022-11-30T00:00:00",
          "2022-12-01T00:00:00",
          "2022-12-02T00:00:00",
          "2022-12-05T00:00:00",
          "2022-12-06T00:00:00",
          "2022-12-07T00:00:00",
          "2022-12-08T00:00:00",
          "2022-12-09T00:00:00",
          "2022-12-12T00:00:00",
          "2022-12-13T00:00:00",
          "2022-12-14T00:00:00",
          "2022-12-15T00:00:00",
          "2022-12-16T00:00:00",
          "2022-12-19T00:00:00",
          "2022-12-20T00:00:00",
          "2022-12-21T00:00:00",
          "2022-12-22T00:00:00",
          "2022-12-23T00:00:00",
          "2022-12-27T00:00:00",
          "2022-12-28T00:00:00",
          "2022-12-29T00:00:00",
          "2022-12-30T00:00:00",
          "2023-01-03T00:00:00",
          "2023-01-04T00:00:00",
          "2023-01-05T00:00:00",
          "2023-01-06T00:00:00",
          "2023-01-09T00:00:00",
          "2023-01-10T00:00:00",
          "2023-01-11T00:00:00",
          "2023-01-12T00:00:00",
          "2023-01-13T00:00:00",
          "2023-01-17T00:00:00",
          "2023-01-18T00:00:00",
          "2023-01-19T00:00:00",
          "2023-01-20T00:00:00",
          "2023-01-23T00:00:00",
          "2023-01-24T00:00:00",
          "2023-01-25T00:00:00",
          "2023-01-26T00:00:00",
          "2023-01-27T00:00:00",
          "2023-01-30T00:00:00",
          "2023-01-31T00:00:00",
          "2023-02-01T00:00:00",
          "2023-02-02T00:00:00",
          "2023-02-03T00:00:00",
          "2023-02-06T00:00:00",
          "2023-02-07T00:00:00",
          "2023-02-08T00:00:00",
          "2023-02-09T00:00:00",
          "2023-02-10T00:00:00",
          "2023-02-13T00:00:00",
          "2023-02-14T00:00:00",
          "2023-02-15T00:00:00",
          "2023-02-16T00:00:00",
          "2023-02-17T00:00:00",
          "2023-02-21T00:00:00",
          "2023-02-22T00:00:00",
          "2023-02-23T00:00:00",
          "2023-02-24T00:00:00",
          "2023-02-27T00:00:00",
          "2023-02-28T00:00:00",
          "2023-03-01T00:00:00",
          "2023-03-02T00:00:00",
          "2023-03-03T00:00:00",
          "2023-03-06T00:00:00",
          "2023-03-07T00:00:00",
          "2023-03-08T00:00:00",
          "2023-03-09T00:00:00",
          "2023-03-10T00:00:00",
          "2023-03-13T00:00:00",
          "2023-03-14T00:00:00",
          "2023-03-15T00:00:00",
          "2023-03-16T00:00:00",
          "2023-03-17T00:00:00",
          "2023-03-20T00:00:00",
          "2023-03-21T00:00:00",
          "2023-03-22T00:00:00",
          "2023-03-23T00:00:00",
          "2023-03-24T00:00:00",
          "2023-03-27T00:00:00",
          "2023-03-28T00:00:00",
          "2023-03-29T00:00:00",
          "2023-03-30T00:00:00",
          "2023-03-31T00:00:00",
          "2023-04-03T00:00:00",
          "2023-04-04T00:00:00",
          "2023-04-05T00:00:00",
          "2023-04-06T00:00:00",
          "2023-04-10T00:00:00",
          "2023-04-11T00:00:00",
          "2023-04-12T00:00:00",
          "2023-04-13T00:00:00",
          "2023-04-14T00:00:00",
          "2023-04-17T00:00:00",
          "2023-04-18T00:00:00",
          "2023-04-19T00:00:00",
          "2023-04-20T00:00:00",
          "2023-04-21T00:00:00",
          "2023-04-24T00:00:00",
          "2023-04-25T00:00:00",
          "2023-04-26T00:00:00",
          "2023-04-27T00:00:00",
          "2023-04-28T00:00:00",
          "2023-05-01T00:00:00",
          "2023-05-02T00:00:00",
          "2023-05-03T00:00:00",
          "2023-05-04T00:00:00",
          "2023-05-05T00:00:00",
          "2023-05-08T00:00:00",
          "2023-05-09T00:00:00",
          "2023-05-10T00:00:00",
          "2023-05-11T00:00:00",
          "2023-05-12T00:00:00",
          "2023-05-15T00:00:00",
          "2023-05-16T00:00:00",
          "2023-05-17T00:00:00",
          "2023-05-18T00:00:00",
          "2023-05-19T00:00:00",
          "2023-05-22T00:00:00",
          "2023-05-23T00:00:00",
          "2023-05-24T00:00:00",
          "2023-05-25T00:00:00",
          "2023-05-26T00:00:00",
          "2023-05-30T00:00:00",
          "2023-05-31T00:00:00",
          "2023-06-01T00:00:00",
          "2023-06-02T00:00:00",
          "2023-06-05T00:00:00",
          "2023-06-06T00:00:00",
          "2023-06-07T00:00:00",
          "2023-06-08T00:00:00",
          "2023-06-09T00:00:00",
          "2023-06-12T00:00:00",
          "2023-06-13T00:00:00",
          "2023-06-14T00:00:00",
          "2023-06-15T00:00:00",
          "2023-06-16T00:00:00",
          "2023-06-20T00:00:00",
          "2023-06-21T00:00:00",
          "2023-06-22T00:00:00",
          "2023-06-23T00:00:00",
          "2023-06-26T00:00:00",
          "2023-06-27T00:00:00",
          "2023-06-28T00:00:00",
          "2023-06-29T00:00:00",
          "2023-06-30T00:00:00",
          "2023-07-03T00:00:00",
          "2023-07-05T00:00:00",
          "2023-07-06T00:00:00",
          "2023-07-07T00:00:00",
          "2023-07-10T00:00:00",
          "2023-07-11T00:00:00",
          "2023-07-12T00:00:00",
          "2023-07-13T00:00:00",
          "2023-07-14T00:00:00",
          "2023-07-17T00:00:00",
          "2023-07-18T00:00:00",
          "2023-07-19T00:00:00",
          "2023-07-20T00:00:00",
          "2023-07-21T00:00:00",
          "2023-07-24T00:00:00",
          "2023-07-25T00:00:00",
          "2023-07-26T00:00:00",
          "2023-07-27T00:00:00",
          "2023-07-28T00:00:00",
          "2023-07-31T00:00:00",
          "2023-08-01T00:00:00",
          "2023-08-02T00:00:00",
          "2023-08-03T00:00:00",
          "2023-08-04T00:00:00",
          "2023-08-07T00:00:00",
          "2023-08-08T00:00:00",
          "2023-08-09T00:00:00",
          "2023-08-10T00:00:00",
          "2023-08-11T00:00:00",
          "2023-08-14T00:00:00",
          "2023-08-15T00:00:00",
          "2023-08-16T00:00:00",
          "2023-08-17T00:00:00",
          "2023-08-18T00:00:00",
          "2023-08-21T00:00:00",
          "2023-08-22T00:00:00",
          "2023-08-23T00:00:00",
          "2023-08-24T00:00:00",
          "2023-08-25T00:00:00",
          "2023-08-28T00:00:00",
          "2023-08-29T00:00:00",
          "2023-08-30T00:00:00",
          "2023-08-31T00:00:00",
          "2023-09-01T00:00:00",
          "2023-09-05T00:00:00",
          "2023-09-06T00:00:00",
          "2023-09-07T00:00:00",
          "2023-09-08T00:00:00",
          "2023-09-11T00:00:00",
          "2023-09-12T00:00:00",
          "2023-09-13T00:00:00",
          "2023-09-14T00:00:00",
          "2023-09-15T00:00:00",
          "2023-09-18T00:00:00",
          "2023-09-19T00:00:00",
          "2023-09-20T00:00:00",
          "2023-09-21T00:00:00",
          "2023-09-22T00:00:00",
          "2023-09-25T00:00:00",
          "2023-09-26T00:00:00",
          "2023-09-27T00:00:00",
          "2023-09-28T00:00:00",
          "2023-09-29T00:00:00",
          "2023-10-02T00:00:00",
          "2023-10-03T00:00:00",
          "2023-10-04T00:00:00",
          "2023-10-05T00:00:00",
          "2023-10-06T00:00:00",
          "2023-10-09T00:00:00",
          "2023-10-10T00:00:00",
          "2023-10-11T00:00:00",
          "2023-10-12T00:00:00",
          "2023-10-13T00:00:00",
          "2023-10-16T00:00:00",
          "2023-10-17T00:00:00",
          "2023-10-18T00:00:00",
          "2023-10-19T00:00:00",
          "2023-10-20T00:00:00",
          "2023-10-23T00:00:00",
          "2023-10-24T00:00:00",
          "2023-10-25T00:00:00",
          "2023-10-26T00:00:00",
          "2023-10-27T00:00:00",
          "2023-10-30T00:00:00",
          "2023-10-31T00:00:00",
          "2023-11-01T00:00:00",
          "2023-11-02T00:00:00",
          "2023-11-03T00:00:00",
          "2023-11-06T00:00:00",
          "2023-11-07T00:00:00",
          "2023-11-08T00:00:00",
          "2023-11-09T00:00:00",
          "2023-11-10T00:00:00",
          "2023-11-13T00:00:00",
          "2023-11-14T00:00:00",
          "2023-11-15T00:00:00",
          "2023-11-16T00:00:00",
          "2023-11-17T00:00:00",
          "2023-11-20T00:00:00",
          "2023-11-21T00:00:00",
          "2023-11-22T00:00:00",
          "2023-11-24T00:00:00",
          "2023-11-27T00:00:00",
          "2023-11-28T00:00:00",
          "2023-11-29T00:00:00",
          "2023-11-30T00:00:00",
          "2023-12-01T00:00:00",
          "2023-12-04T00:00:00",
          "2023-12-05T00:00:00",
          "2023-12-06T00:00:00",
          "2023-12-07T00:00:00",
          "2023-12-08T00:00:00",
          "2023-12-11T00:00:00",
          "2023-12-12T00:00:00",
          "2023-12-13T00:00:00",
          "2023-12-14T00:00:00",
          "2023-12-15T00:00:00",
          "2023-12-18T00:00:00",
          "2023-12-19T00:00:00",
          "2023-12-20T00:00:00",
          "2023-12-21T00:00:00",
          "2023-12-22T00:00:00",
          "2023-12-26T00:00:00",
          "2023-12-27T00:00:00",
          "2023-12-28T00:00:00",
          "2023-12-29T00:00:00",
          "2024-01-02T00:00:00",
          "2024-01-03T00:00:00",
          "2024-01-04T00:00:00",
          "2024-01-05T00:00:00",
          "2024-01-08T00:00:00",
          "2024-01-09T00:00:00",
          "2024-01-10T00:00:00",
          "2024-01-11T00:00:00",
          "2024-01-12T00:00:00",
          "2024-01-16T00:00:00",
          "2024-01-17T00:00:00",
          "2024-01-18T00:00:00",
          "2024-01-19T00:00:00",
          "2024-01-22T00:00:00",
          "2024-01-23T00:00:00",
          "2024-01-24T00:00:00",
          "2024-01-25T00:00:00",
          "2024-01-26T00:00:00",
          "2024-01-29T00:00:00",
          "2024-01-30T00:00:00",
          "2024-01-31T00:00:00",
          "2024-02-01T00:00:00",
          "2024-02-02T00:00:00",
          "2024-02-05T00:00:00",
          "2024-02-06T00:00:00",
          "2024-02-07T00:00:00",
          "2024-02-08T00:00:00",
          "2024-02-09T00:00:00",
          "2024-02-12T00:00:00",
          "2024-02-13T00:00:00",
          "2024-02-14T00:00:00",
          "2024-02-15T00:00:00",
          "2024-02-16T00:00:00",
          "2024-02-20T00:00:00",
          "2024-02-21T00:00:00",
          "2024-02-22T00:00:00",
          "2024-02-23T00:00:00",
          "2024-02-26T00:00:00",
          "2024-02-27T00:00:00",
          "2024-02-28T00:00:00",
          "2024-02-29T00:00:00",
          "2024-03-01T00:00:00",
          "2024-03-04T00:00:00",
          "2024-03-05T00:00:00",
          "2024-03-06T00:00:00",
          "2024-03-07T00:00:00",
          "2024-03-08T00:00:00",
          "2024-03-11T00:00:00",
          "2024-03-12T00:00:00",
          "2024-03-13T00:00:00",
          "2024-03-14T00:00:00",
          "2024-03-15T00:00:00",
          "2024-03-18T00:00:00",
          "2024-03-19T00:00:00",
          "2024-03-20T00:00:00",
          "2024-03-21T00:00:00",
          "2024-03-22T00:00:00",
          "2024-03-25T00:00:00",
          "2024-03-26T00:00:00",
          "2024-03-27T00:00:00",
          "2024-03-28T00:00:00",
          "2024-04-01T00:00:00",
          "2024-04-02T00:00:00",
          "2024-04-03T00:00:00",
          "2024-04-04T00:00:00",
          "2024-04-05T00:00:00",
          "2024-04-08T00:00:00",
          "2024-04-09T00:00:00",
          "2024-04-10T00:00:00",
          "2024-04-11T00:00:00",
          "2024-04-12T00:00:00",
          "2024-04-15T00:00:00",
          "2024-04-16T00:00:00",
          "2024-04-17T00:00:00",
          "2024-04-18T00:00:00",
          "2024-04-19T00:00:00",
          "2024-04-22T00:00:00",
          "2024-04-23T00:00:00",
          "2024-04-24T00:00:00",
          "2024-04-25T00:00:00",
          "2024-04-26T00:00:00",
          "2024-04-29T00:00:00",
          "2024-04-30T00:00:00",
          "2024-05-01T00:00:00",
          "2024-05-02T00:00:00",
          "2024-05-03T00:00:00",
          "2024-05-06T00:00:00",
          "2024-05-07T00:00:00",
          "2024-05-08T00:00:00",
          "2024-05-09T00:00:00",
          "2024-05-10T00:00:00",
          "2024-05-13T00:00:00",
          "2024-05-14T00:00:00",
          "2024-05-15T00:00:00",
          "2024-05-16T00:00:00",
          "2024-05-17T00:00:00",
          "2024-05-20T00:00:00",
          "2024-05-21T00:00:00",
          "2024-05-22T00:00:00",
          "2024-05-23T00:00:00",
          "2024-05-24T00:00:00",
          "2024-05-28T00:00:00",
          "2024-05-29T00:00:00",
          "2024-05-30T00:00:00",
          "2024-05-31T00:00:00",
          "2024-06-03T00:00:00",
          "2024-06-04T00:00:00",
          "2024-06-05T00:00:00",
          "2024-06-06T00:00:00",
          "2024-06-07T00:00:00",
          "2024-06-10T00:00:00",
          "2024-06-11T00:00:00",
          "2024-06-12T00:00:00",
          "2024-06-13T00:00:00",
          "2024-06-14T00:00:00",
          "2024-06-17T00:00:00",
          "2024-06-18T00:00:00",
          "2024-06-20T00:00:00",
          "2024-06-21T00:00:00",
          "2024-06-24T00:00:00",
          "2024-06-25T00:00:00",
          "2024-06-26T00:00:00",
          "2024-06-27T00:00:00",
          "2024-06-28T00:00:00",
          "2024-07-01T00:00:00",
          "2024-07-02T00:00:00",
          "2024-07-03T00:00:00",
          "2024-07-05T00:00:00",
          "2024-07-08T00:00:00",
          "2024-07-09T00:00:00",
          "2024-07-10T00:00:00",
          "2024-07-11T00:00:00",
          "2024-07-12T00:00:00",
          "2024-07-15T00:00:00",
          "2024-07-16T00:00:00",
          "2024-07-17T00:00:00",
          "2024-07-18T00:00:00",
          "2024-07-19T00:00:00",
          "2024-07-22T00:00:00",
          "2024-07-23T00:00:00",
          "2024-07-24T00:00:00",
          "2024-07-25T00:00:00",
          "2024-07-26T00:00:00",
          "2024-07-29T00:00:00",
          "2024-07-30T00:00:00",
          "2024-07-31T00:00:00",
          "2024-08-01T00:00:00",
          "2024-08-02T00:00:00",
          "2024-08-05T00:00:00",
          "2024-08-06T00:00:00",
          "2024-08-07T00:00:00",
          "2024-08-08T00:00:00",
          "2024-08-09T00:00:00",
          "2024-08-12T00:00:00",
          "2024-08-13T00:00:00",
          "2024-08-14T00:00:00",
          "2024-08-15T00:00:00",
          "2024-08-16T00:00:00",
          "2024-08-19T00:00:00",
          "2024-08-20T00:00:00",
          "2024-08-21T00:00:00",
          "2024-08-22T00:00:00",
          "2024-08-23T00:00:00",
          "2024-08-26T00:00:00",
          "2024-08-27T00:00:00",
          "2024-08-28T00:00:00",
          "2024-08-29T00:00:00",
          "2024-08-30T00:00:00",
          "2024-09-03T00:00:00",
          "2024-09-04T00:00:00",
          "2024-09-05T00:00:00",
          "2024-09-06T00:00:00",
          "2024-09-09T00:00:00",
          "2024-09-10T00:00:00",
          "2024-09-11T00:00:00",
          "2024-09-12T00:00:00",
          "2024-09-13T00:00:00",
          "2024-09-16T00:00:00",
          "2024-09-17T00:00:00",
          "2024-09-18T00:00:00",
          "2024-09-19T00:00:00",
          "2024-09-20T00:00:00",
          "2024-09-23T00:00:00",
          "2024-09-24T00:00:00",
          "2024-09-25T00:00:00",
          "2024-09-26T00:00:00",
          "2024-09-27T00:00:00",
          "2024-09-30T00:00:00",
          "2024-10-01T00:00:00",
          "2024-10-02T00:00:00",
          "2024-10-03T00:00:00",
          "2024-10-04T00:00:00",
          "2024-10-07T00:00:00",
          "2024-10-08T00:00:00",
          "2024-10-09T00:00:00",
          "2024-10-10T00:00:00",
          "2024-10-11T00:00:00",
          "2024-10-14T00:00:00",
          "2024-10-15T00:00:00",
          "2024-10-16T00:00:00",
          "2024-10-17T00:00:00",
          "2024-10-18T00:00:00",
          "2024-10-21T00:00:00",
          "2024-10-22T00:00:00",
          "2024-10-23T00:00:00",
          "2024-10-24T00:00:00",
          "2024-10-25T00:00:00",
          "2024-10-28T00:00:00",
          "2024-10-29T00:00:00",
          "2024-10-30T00:00:00",
          "2024-10-31T00:00:00",
          "2024-11-01T00:00:00",
          "2024-11-04T00:00:00",
          "2024-11-05T00:00:00",
          "2024-11-06T00:00:00",
          "2024-11-07T00:00:00",
          "2024-11-08T00:00:00",
          "2024-11-11T00:00:00",
          "2024-11-12T00:00:00",
          "2024-11-13T00:00:00",
          "2024-11-14T00:00:00",
          "2024-11-15T00:00:00",
          "2024-11-18T00:00:00",
          "2024-11-19T00:00:00",
          "2024-11-20T00:00:00",
          "2024-11-21T00:00:00",
          "2024-11-22T00:00:00",
          "2024-11-25T00:00:00",
          "2024-11-26T00:00:00",
          "2024-11-27T00:00:00",
          "2024-11-29T00:00:00",
          "2024-12-02T00:00:00",
          "2024-12-03T00:00:00",
          "2024-12-04T00:00:00",
          "2024-12-05T00:00:00",
          "2024-12-06T00:00:00",
          "2024-12-09T00:00:00",
          "2024-12-10T00:00:00",
          "2024-12-11T00:00:00",
          "2024-12-12T00:00:00",
          "2024-12-13T00:00:00",
          "2024-12-16T00:00:00",
          "2024-12-17T00:00:00",
          "2024-12-18T00:00:00",
          "2024-12-19T00:00:00",
          "2024-12-20T00:00:00",
          "2024-12-23T00:00:00",
          "2024-12-24T00:00:00",
          "2024-12-26T00:00:00",
          "2024-12-27T00:00:00",
          "2024-12-30T00:00:00",
          "2024-12-31T00:00:00",
          "2025-01-02T00:00:00",
          "2025-01-03T00:00:00",
          "2025-01-06T00:00:00",
          "2025-01-07T00:00:00",
          "2025-01-08T00:00:00",
          "2025-01-09T00:00:00",
          "2025-01-10T00:00:00",
          "2025-01-13T00:00:00",
          "2025-01-14T00:00:00",
          "2025-01-15T00:00:00",
          "2025-01-16T00:00:00",
          "2025-01-17T00:00:00",
          "2025-01-21T00:00:00",
          "2025-01-22T00:00:00",
          "2025-01-23T00:00:00",
          "2025-01-24T00:00:00",
          "2025-01-27T00:00:00",
          "2025-01-28T00:00:00",
          "2025-01-29T00:00:00"
         ],
         "xaxis": "x",
         "y": {
          "dtype": "f8",
          "bdata": "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"
         },
         "yaxis": "y",
         "type": "scattergl"
        },
        {
         "hovertemplate": "Factor=div_yield<br>time_index=%{x}<br>Exposure=%{y}<extra></extra>",
         "legendgroup": "div_yield",
         "line": {
          "color": "#636efa",
          "dash": "solid"
         },
         "marker": {
          "symbol": "circle"
         },
         "mode": "lines",
         "name": "div_yield",
         "showlegend": true,
         "x": [
          "2022-01-03T00:00:00",
          "2022-01-04T00:00:00",
          "2022-01-05T00:00:00",
          "2022-01-06T00:00:00",
          "2022-01-07T00:00:00",
          "2022-01-10T00:00:00",
          "2022-01-11T00:00:00",
          "2022-01-12T00:00:00",
          "2022-01-13T00:00:00",
          "2022-01-14T00:00:00",
          "2022-01-18T00:00:00",
          "2022-01-19T00:00:00",
          "2022-01-20T00:00:00",
          "2022-01-21T00:00:00",
          "2022-01-24T00:00:00",
          "2022-01-25T00:00:00",
          "2022-01-26T00:00:00",
          "2022-01-27T00:00:00",
          "2022-01-28T00:00:00",
          "2022-01-31T00:00:00",
          "2022-02-01T00:00:00",
          "2022-02-02T00:00:00",
          "2022-02-03T00:00:00",
          "2022-02-04T00:00:00",
          "2022-02-07T00:00:00",
          "2022-02-08T00:00:00",
          "2022-02-09T00:00:00",
          "2022-02-10T00:00:00",
          "2022-02-11T00:00:00",
          "2022-02-14T00:00:00",
          "2022-02-15T00:00:00",
          "2022-02-16T00:00:00",
          "2022-02-17T00:00:00",
          "2022-02-18T00:00:00",
          "2022-02-22T00:00:00",
          "2022-02-23T00:00:00",
          "2022-02-24T00:00:00",
          "2022-02-25T00:00:00",
          "2022-02-28T00:00:00",
          "2022-03-01T00:00:00",
          "2022-03-02T00:00:00",
          "2022-03-03T00:00:00",
          "2022-03-04T00:00:00",
          "2022-03-07T00:00:00",
          "2022-03-08T00:00:00",
          "2022-03-09T00:00:00",
          "2022-03-10T00:00:00",
          "2022-03-11T00:00:00",
          "2022-03-14T00:00:00",
          "2022-03-15T00:00:00",
          "2022-03-16T00:00:00",
          "2022-03-17T00:00:00",
          "2022-03-18T00:00:00",
          "2022-03-21T00:00:00",
          "2022-03-22T00:00:00",
          "2022-03-23T00:00:00",
          "2022-03-24T00:00:00",
          "2022-03-25T00:00:00",
          "2022-03-28T00:00:00",
          "2022-03-29T00:00:00",
          "2022-03-30T00:00:00",
          "2022-03-31T00:00:00",
          "2022-04-01T00:00:00",
          "2022-04-04T00:00:00",
          "2022-04-05T00:00:00",
          "2022-04-06T00:00:00",
          "2022-04-07T00:00:00",
          "2022-04-08T00:00:00",
          "2022-04-11T00:00:00",
          "2022-04-12T00:00:00",
          "2022-04-13T00:00:00",
          "2022-04-14T00:00:00",
          "2022-04-18T00:00:00",
          "2022-04-19T00:00:00",
          "2022-04-20T00:00:00",
          "2022-04-21T00:00:00",
          "2022-04-22T00:00:00",
          "2022-04-25T00:00:00",
          "2022-04-26T00:00:00",
          "2022-04-27T00:00:00",
          "2022-04-28T00:00:00",
          "2022-04-29T00:00:00",
          "2022-05-02T00:00:00",
          "2022-05-03T00:00:00",
          "2022-05-04T00:00:00",
          "2022-05-05T00:00:00",
          "2022-05-06T00:00:00",
          "2022-05-09T00:00:00",
          "2022-05-10T00:00:00",
          "2022-05-11T00:00:00",
          "2022-05-12T00:00:00",
          "2022-05-13T00:00:00",
          "2022-05-16T00:00:00",
          "2022-05-17T00:00:00",
          "2022-05-18T00:00:00",
          "2022-05-19T00:00:00",
          "2022-05-20T00:00:00",
          "2022-05-23T00:00:00",
          "2022-05-24T00:00:00",
          "2022-05-25T00:00:00",
          "2022-05-26T00:00:00",
          "2022-05-27T00:00:00",
          "2022-05-31T00:00:00",
          "2022-06-01T00:00:00",
          "2022-06-02T00:00:00",
          "2022-06-03T00:00:00",
          "2022-06-06T00:00:00",
          "2022-06-07T00:00:00",
          "2022-06-08T00:00:00",
          "2022-06-09T00:00:00",
          "2022-06-10T00:00:00",
          "2022-06-13T00:00:00",
          "2022-06-14T00:00:00",
          "2022-06-15T00:00:00",
          "2022-06-16T00:00:00",
          "2022-06-17T00:00:00",
          "2022-06-21T00:00:00",
          "2022-06-22T00:00:00",
          "2022-06-23T00:00:00",
          "2022-06-24T00:00:00",
          "2022-06-27T00:00:00",
          "2022-06-28T00:00:00",
          "2022-06-29T00:00:00",
          "2022-06-30T00:00:00",
          "2022-07-01T00:00:00",
          "2022-07-05T00:00:00",
          "2022-07-06T00:00:00",
          "2022-07-07T00:00:00",
          "2022-07-08T00:00:00",
          "2022-07-11T00:00:00",
          "2022-07-12T00:00:00",
          "2022-07-13T00:00:00",
          "2022-07-14T00:00:00",
          "2022-07-15T00:00:00",
          "2022-07-18T00:00:00",
          "2022-07-19T00:00:00",
          "2022-07-20T00:00:00",
          "2022-07-21T00:00:00",
          "2022-07-22T00:00:00",
          "2022-07-25T00:00:00",
          "2022-07-26T00:00:00",
          "2022-07-27T00:00:00",
          "2022-07-28T00:00:00",
          "2022-07-29T00:00:00",
          "2022-08-01T00:00:00",
          "2022-08-02T00:00:00",
          "2022-08-03T00:00:00",
          "2022-08-04T00:00:00",
          "2022-08-05T00:00:00",
          "2022-08-08T00:00:00",
          "2022-08-09T00:00:00",
          "2022-08-10T00:00:00",
          "2022-08-11T00:00:00",
          "2022-08-12T00:00:00",
          "2022-08-15T00:00:00",
          "2022-08-16T00:00:00",
          "2022-08-17T00:00:00",
          "2022-08-18T00:00:00",
          "2022-08-19T00:00:00",
          "2022-08-22T00:00:00",
          "2022-08-23T00:00:00",
          "2022-08-24T00:00:00",
          "2022-08-25T00:00:00",
          "2022-08-26T00:00:00",
          "2022-08-29T00:00:00",
          "2022-08-30T00:00:00",
          "2022-08-31T00:00:00",
          "2022-09-01T00:00:00",
          "2022-09-02T00:00:00",
          "2022-09-06T00:00:00",
          "2022-09-07T00:00:00",
          "2022-09-08T00:00:00",
          "2022-09-09T00:00:00",
          "2022-09-12T00:00:00",
          "2022-09-13T00:00:00",
          "2022-09-14T00:00:00",
          "2022-09-15T00:00:00",
          "2022-09-16T00:00:00",
          "2022-09-19T00:00:00",
          "2022-09-20T00:00:00",
          "2022-09-21T00:00:00",
          "2022-09-22T00:00:00",
          "2022-09-23T00:00:00",
          "2022-09-26T00:00:00",
          "2022-09-27T00:00:00",
          "2022-09-28T00:00:00",
          "2022-09-29T00:00:00",
          "2022-09-30T00:00:00",
          "2022-10-03T00:00:00",
          "2022-10-04T00:00:00",
          "2022-10-05T00:00:00",
          "2022-10-06T00:00:00",
          "2022-10-07T00:00:00",
          "2022-10-10T00:00:00",
          "2022-10-11T00:00:00",
          "2022-10-12T00:00:00",
          "2022-10-13T00:00:00",
          "2022-10-14T00:00:00",
          "2022-10-17T00:00:00",
          "2022-10-18T00:00:00",
          "2022-10-19T00:00:00",
          "2022-10-20T00:00:00",
          "2022-10-21T00:00:00",
          "2022-10-24T00:00:00",
          "2022-10-25T00:00:00",
          "2022-10-26T00:00:00",
          "2022-10-27T00:00:00",
          "2022-10-28T00:00:00",
          "2022-10-31T00:00:00",
          "2022-11-01T00:00:00",
          "2022-11-02T00:00:00",
          "2022-11-03T00:00:00",
          "2022-11-04T00:00:00",
          "2022-11-07T00:00:00",
          "2022-11-08T00:00:00",
          "2022-11-09T00:00:00",
          "2022-11-10T00:00:00",
          "2022-11-11T00:00:00",
          "2022-11-14T00:00:00",
          "2022-11-15T00:00:00",
          "2022-11-16T00:00:00",
          "2022-11-17T00:00:00",
          "2022-11-18T00:00:00",
          "2022-11-21T00:00:00",
          "2022-11-22T00:00:00",
          "2022-11-23T00:00:00",
          "2022-11-25T00:00:00",
          "2022-11-28T00:00:00",
          "2022-11-29T00:00:00",
          "2022-11-30T00:00:00",
          "2022-12-01T00:00:00",
          "2022-12-02T00:00:00",
          "2022-12-05T00:00:00",
          "2022-12-06T00:00:00",
          "2022-12-07T00:00:00",
          "2022-12-08T00:00:00",
          "2022-12-09T00:00:00",
          "2022-12-12T00:00:00",
          "2022-12-13T00:00:00",
          "2022-12-14T00:00:00",
          "2022-12-15T00:00:00",
          "2022-12-16T00:00:00",
          "2022-12-19T00:00:00",
          "2022-12-20T00:00:00",
          "2022-12-21T00:00:00",
          "2022-12-22T00:00:00",
          "2022-12-23T00:00:00",
          "2022-12-27T00:00:00",
          "2022-12-28T00:00:00",
          "2022-12-29T00:00:00",
          "2022-12-30T00:00:00",
          "2023-01-03T00:00:00",
          "2023-01-04T00:00:00",
          "2023-01-05T00:00:00",
          "2023-01-06T00:00:00",
          "2023-01-09T00:00:00",
          "2023-01-10T00:00:00",
          "2023-01-11T00:00:00",
          "2023-01-12T00:00:00",
          "2023-01-13T00:00:00",
          "2023-01-17T00:00:00",
          "2023-01-18T00:00:00",
          "2023-01-19T00:00:00",
          "2023-01-20T00:00:00",
          "2023-01-23T00:00:00",
          "2023-01-24T00:00:00",
          "2023-01-25T00:00:00",
          "2023-01-26T00:00:00",
          "2023-01-27T00:00:00",
          "2023-01-30T00:00:00",
          "2023-01-31T00:00:00",
          "2023-02-01T00:00:00",
          "2023-02-02T00:00:00",
          "2023-02-03T00:00:00",
          "2023-02-06T00:00:00",
          "2023-02-07T00:00:00",
          "2023-02-08T00:00:00",
          "2023-02-09T00:00:00",
          "2023-02-10T00:00:00",
          "2023-02-13T00:00:00",
          "2023-02-14T00:00:00",
          "2023-02-15T00:00:00",
          "2023-02-16T00:00:00",
          "2023-02-17T00:00:00",
          "2023-02-21T00:00:00",
          "2023-02-22T00:00:00",
          "2023-02-23T00:00:00",
          "2023-02-24T00:00:00",
          "2023-02-27T00:00:00",
          "2023-02-28T00:00:00",
          "2023-03-01T00:00:00",
          "2023-03-02T00:00:00",
          "2023-03-03T00:00:00",
          "2023-03-06T00:00:00",
          "2023-03-07T00:00:00",
          "2023-03-08T00:00:00",
          "2023-03-09T00:00:00",
          "2023-03-10T00:00:00",
          "2023-03-13T00:00:00",
          "2023-03-14T00:00:00",
          "2023-03-15T00:00:00",
          "2023-03-16T00:00:00",
          "2023-03-17T00:00:00",
          "2023-03-20T00:00:00",
          "2023-03-21T00:00:00",
          "2023-03-22T00:00:00",
          "2023-03-23T00:00:00",
          "2023-03-24T00:00:00",
          "2023-03-27T00:00:00",
          "2023-03-28T00:00:00",
          "2023-03-29T00:00:00",
          "2023-03-30T00:00:00",
          "2023-03-31T00:00:00",
          "2023-04-03T00:00:00",
          "2023-04-04T00:00:00",
          "2023-04-05T00:00:00",
          "2023-04-06T00:00:00",
          "2023-04-10T00:00:00",
          "2023-04-11T00:00:00",
          "2023-04-12T00:00:00",
          "2023-04-13T00:00:00",
          "2023-04-14T00:00:00",
          "2023-04-17T00:00:00",
          "2023-04-18T00:00:00",
          "2023-04-19T00:00:00",
          "2023-04-20T00:00:00",
          "2023-04-21T00:00:00",
          "2023-04-24T00:00:00",
          "2023-04-25T00:00:00",
          "2023-04-26T00:00:00",
          "2023-04-27T00:00:00",
          "2023-04-28T00:00:00",
          "2023-05-01T00:00:00",
          "2023-05-02T00:00:00",
          "2023-05-03T00:00:00",
          "2023-05-04T00:00:00",
          "2023-05-05T00:00:00",
          "2023-05-08T00:00:00",
          "2023-05-09T00:00:00",
          "2023-05-10T00:00:00",
          "2023-05-11T00:00:00",
          "2023-05-12T00:00:00",
          "2023-05-15T00:00:00",
          "2023-05-16T00:00:00",
          "2023-05-17T00:00:00",
          "2023-05-18T00:00:00",
          "2023-05-19T00:00:00",
          "2023-05-22T00:00:00",
          "2023-05-23T00:00:00",
          "2023-05-24T00:00:00",
          "2023-05-25T00:00:00",
          "2023-05-26T00:00:00",
          "2023-05-30T00:00:00",
          "2023-05-31T00:00:00",
          "2023-06-01T00:00:00",
          "2023-06-02T00:00:00",
          "2023-06-05T00:00:00",
          "2023-06-06T00:00:00",
          "2023-06-07T00:00:00",
          "2023-06-08T00:00:00",
          "2023-06-09T00:00:00",
          "2023-06-12T00:00:00",
          "2023-06-13T00:00:00",
          "2023-06-14T00:00:00",
          "2023-06-15T00:00:00",
          "2023-06-16T00:00:00",
          "2023-06-20T00:00:00",
          "2023-06-21T00:00:00",
          "2023-06-22T00:00:00",
          "2023-06-23T00:00:00",
          "2023-06-26T00:00:00",
          "2023-06-27T00:00:00",
          "2023-06-28T00:00:00",
          "2023-06-29T00:00:00",
          "2023-06-30T00:00:00",
          "2023-07-03T00:00:00",
          "2023-07-05T00:00:00",
          "2023-07-06T00:00:00",
          "2023-07-07T00:00:00",
          "2023-07-10T00:00:00",
          "2023-07-11T00:00:00",
          "2023-07-12T00:00:00",
          "2023-07-13T00:00:00",
          "2023-07-14T00:00:00",
          "2023-07-17T00:00:00",
          "2023-07-18T00:00:00",
          "2023-07-19T00:00:00",
          "2023-07-20T00:00:00",
          "2023-07-21T00:00:00",
          "2023-07-24T00:00:00",
          "2023-07-25T00:00:00",
          "2023-07-26T00:00:00",
          "2023-07-27T00:00:00",
          "2023-07-28T00:00:00",
          "2023-07-31T00:00:00",
          "2023-08-01T00:00:00",
          "2023-08-02T00:00:00",
          "2023-08-03T00:00:00",
          "2023-08-04T00:00:00",
          "2023-08-07T00:00:00",
          "2023-08-08T00:00:00",
          "2023-08-09T00:00:00",
          "2023-08-10T00:00:00",
          "2023-08-11T00:00:00",
          "2023-08-14T00:00:00",
          "2023-08-15T00:00:00",
          "2023-08-16T00:00:00",
          "2023-08-17T00:00:00",
          "2023-08-18T00:00:00",
          "2023-08-21T00:00:00",
          "2023-08-22T00:00:00",
          "2023-08-23T00:00:00",
          "2023-08-24T00:00:00",
          "2023-08-25T00:00:00",
          "2023-08-28T00:00:00",
          "2023-08-29T00:00:00",
          "2023-08-30T00:00:00",
          "2023-08-31T00:00:00",
          "2023-09-01T00:00:00",
          "2023-09-05T00:00:00",
          "2023-09-06T00:00:00",
          "2023-09-07T00:00:00",
          "2023-09-08T00:00:00",
          "2023-09-11T00:00:00",
          "2023-09-12T00:00:00",
          "2023-09-13T00:00:00",
          "2023-09-14T00:00:00",
          "2023-09-15T00:00:00",
          "2023-09-18T00:00:00",
          "2023-09-19T00:00:00",
          "2023-09-20T00:00:00",
          "2023-09-21T00:00:00",
          "2023-09-22T00:00:00",
          "2023-09-25T00:00:00",
          "2023-09-26T00:00:00",
          "2023-09-27T00:00:00",
          "2023-09-28T00:00:00",
          "2023-09-29T00:00:00",
          "2023-10-02T00:00:00",
          "2023-10-03T00:00:00",
          "2023-10-04T00:00:00",
          "2023-10-05T00:00:00",
          "2023-10-06T00:00:00",
          "2023-10-09T00:00:00",
          "2023-10-10T00:00:00",
          "2023-10-11T00:00:00",
          "2023-10-12T00:00:00",
          "2023-10-13T00:00:00",
          "2023-10-16T00:00:00",
          "2023-10-17T00:00:00",
          "2023-10-18T00:00:00",
          "2023-10-19T00:00:00",
          "2023-10-20T00:00:00",
          "2023-10-23T00:00:00",
          "2023-10-24T00:00:00",
          "2023-10-25T00:00:00",
          "2023-10-26T00:00:00",
          "2023-10-27T00:00:00",
          "2023-10-30T00:00:00",
          "2023-10-31T00:00:00",
          "2023-11-01T00:00:00",
          "2023-11-02T00:00:00",
          "2023-11-03T00:00:00",
          "2023-11-06T00:00:00",
          "2023-11-07T00:00:00",
          "2023-11-08T00:00:00",
          "2023-11-09T00:00:00",
          "2023-11-10T00:00:00",
          "2023-11-13T00:00:00",
          "2023-11-14T00:00:00",
          "2023-11-15T00:00:00",
          "2023-11-16T00:00:00",
          "2023-11-17T00:00:00",
          "2023-11-20T00:00:00",
          "2023-11-21T00:00:00",
          "2023-11-22T00:00:00",
          "2023-11-24T00:00:00",
          "2023-11-27T00:00:00",
          "2023-11-28T00:00:00",
          "2023-11-29T00:00:00",
          "2023-11-30T00:00:00",
          "2023-12-01T00:00:00",
          "2023-12-04T00:00:00",
          "2023-12-05T00:00:00",
          "2023-12-06T00:00:00",
          "2023-12-07T00:00:00",
          "2023-12-08T00:00:00",
          "2023-12-11T00:00:00",
          "2023-12-12T00:00:00",
          "2023-12-13T00:00:00",
          "2023-12-14T00:00:00",
          "2023-12-15T00:00:00",
          "2023-12-18T00:00:00",
          "2023-12-19T00:00:00",
          "2023-12-20T00:00:00",
          "2023-12-21T00:00:00",
          "2023-12-22T00:00:00",
          "2023-12-26T00:00:00",
          "2023-12-27T00:00:00",
          "2023-12-28T00:00:00",
          "2023-12-29T00:00:00",
          "2024-01-02T00:00:00",
          "2024-01-03T00:00:00",
          "2024-01-04T00:00:00",
          "2024-01-05T00:00:00",
          "2024-01-08T00:00:00",
          "2024-01-09T00:00:00",
          "2024-01-10T00:00:00",
          "2024-01-11T00:00:00",
          "2024-01-12T00:00:00",
          "2024-01-16T00:00:00",
          "2024-01-17T00:00:00",
          "2024-01-18T00:00:00",
          "2024-01-19T00:00:00",
          "2024-01-22T00:00:00",
          "2024-01-23T00:00:00",
          "2024-01-24T00:00:00",
          "2024-01-25T00:00:00",
          "2024-01-26T00:00:00",
          "2024-01-29T00:00:00",
          "2024-01-30T00:00:00",
          "2024-01-31T00:00:00",
          "2024-02-01T00:00:00",
          "2024-02-02T00:00:00",
          "2024-02-05T00:00:00",
          "2024-02-06T00:00:00",
          "2024-02-07T00:00:00",
          "2024-02-08T00:00:00",
          "2024-02-09T00:00:00",
          "2024-02-12T00:00:00",
          "2024-02-13T00:00:00",
          "2024-02-14T00:00:00",
          "2024-02-15T00:00:00",
          "2024-02-16T00:00:00",
          "2024-02-20T00:00:00",
          "2024-02-21T00:00:00",
          "2024-02-22T00:00:00",
          "2024-02-23T00:00:00",
          "2024-02-26T00:00:00",
          "2024-02-27T00:00:00",
          "2024-02-28T00:00:00",
          "2024-02-29T00:00:00",
          "2024-03-01T00:00:00",
          "2024-03-04T00:00:00",
          "2024-03-05T00:00:00",
          "2024-03-06T00:00:00",
          "2024-03-07T00:00:00",
          "2024-03-08T00:00:00",
          "2024-03-11T00:00:00",
          "2024-03-12T00:00:00",
          "2024-03-13T00:00:00",
          "2024-03-14T00:00:00",
          "2024-03-15T00:00:00",
          "2024-03-18T00:00:00",
          "2024-03-19T00:00:00",
          "2024-03-20T00:00:00",
          "2024-03-21T00:00:00",
          "2024-03-22T00:00:00",
          "2024-03-25T00:00:00",
          "2024-03-26T00:00:00",
          "2024-03-27T00:00:00",
          "2024-03-28T00:00:00",
          "2024-04-01T00:00:00",
          "2024-04-02T00:00:00",
          "2024-04-03T00:00:00",
          "2024-04-04T00:00:00",
          "2024-04-05T00:00:00",
          "2024-04-08T00:00:00",
          "2024-04-09T00:00:00",
          "2024-04-10T00:00:00",
          "2024-04-11T00:00:00",
          "2024-04-12T00:00:00",
          "2024-04-15T00:00:00",
          "2024-04-16T00:00:00",
          "2024-04-17T00:00:00",
          "2024-04-18T00:00:00",
          "2024-04-19T00:00:00",
          "2024-04-22T00:00:00",
          "2024-04-23T00:00:00",
          "2024-04-24T00:00:00",
          "2024-04-25T00:00:00",
          "2024-04-26T00:00:00",
          "2024-04-29T00:00:00",
          "2024-04-30T00:00:00",
          "2024-05-01T00:00:00",
          "2024-05-02T00:00:00",
          "2024-05-03T00:00:00",
          "2024-05-06T00:00:00",
          "2024-05-07T00:00:00",
          "2024-05-08T00:00:00",
          "2024-05-09T00:00:00",
          "2024-05-10T00:00:00",
          "2024-05-13T00:00:00",
          "2024-05-14T00:00:00",
          "2024-05-15T00:00:00",
          "2024-05-16T00:00:00",
          "2024-05-17T00:00:00",
          "2024-05-20T00:00:00",
          "2024-05-21T00:00:00",
          "2024-05-22T00:00:00",
          "2024-05-23T00:00:00",
          "2024-05-24T00:00:00",
          "2024-05-28T00:00:00",
          "2024-05-29T00:00:00",
          "2024-05-30T00:00:00",
          "2024-05-31T00:00:00",
          "2024-06-03T00:00:00",
          "2024-06-04T00:00:00",
          "2024-06-05T00:00:00",
          "2024-06-06T00:00:00",
          "2024-06-07T00:00:00",
          "2024-06-10T00:00:00",
          "2024-06-11T00:00:00",
          "2024-06-12T00:00:00",
          "2024-06-13T00:00:00",
          "2024-06-14T00:00:00",
          "2024-06-17T00:00:00",
          "2024-06-18T00:00:00",
          "2024-06-20T00:00:00",
          "2024-06-21T00:00:00",
          "2024-06-24T00:00:00",
          "2024-06-25T00:00:00",
          "2024-06-26T00:00:00",
          "2024-06-27T00:00:00",
          "2024-06-28T00:00:00",
          "2024-07-01T00:00:00",
          "2024-07-02T00:00:00",
          "2024-07-03T00:00:00",
          "2024-07-05T00:00:00",
          "2024-07-08T00:00:00",
          "2024-07-09T00:00:00",
          "2024-07-10T00:00:00",
          "2024-07-11T00:00:00",
          "2024-07-12T00:00:00",
          "2024-07-15T00:00:00",
          "2024-07-16T00:00:00",
          "2024-07-17T00:00:00",
          "2024-07-18T00:00:00",
          "2024-07-19T00:00:00",
          "2024-07-22T00:00:00",
          "2024-07-23T00:00:00",
          "2024-07-24T00:00:00",
          "2024-07-25T00:00:00",
          "2024-07-26T00:00:00",
          "2024-07-29T00:00:00",
          "2024-07-30T00:00:00",
          "2024-07-31T00:00:00",
          "2024-08-01T00:00:00",
          "2024-08-02T00:00:00",
          "2024-08-05T00:00:00",
          "2024-08-06T00:00:00",
          "2024-08-07T00:00:00",
          "2024-08-08T00:00:00",
          "2024-08-09T00:00:00",
          "2024-08-12T00:00:00",
          "2024-08-13T00:00:00",
          "2024-08-14T00:00:00",
          "2024-08-15T00:00:00",
          "2024-08-16T00:00:00",
          "2024-08-19T00:00:00",
          "2024-08-20T00:00:00",
          "2024-08-21T00:00:00",
          "2024-08-22T00:00:00",
          "2024-08-23T00:00:00",
          "2024-08-26T00:00:00",
          "2024-08-27T00:00:00",
          "2024-08-28T00:00:00",
          "2024-08-29T00:00:00",
          "2024-08-30T00:00:00",
          "2024-09-03T00:00:00",
          "2024-09-04T00:00:00",
          "2024-09-05T00:00:00",
          "2024-09-06T00:00:00",
          "2024-09-09T00:00:00",
          "2024-09-10T00:00:00",
          "2024-09-11T00:00:00",
          "2024-09-12T00:00:00",
          "2024-09-13T00:00:00",
          "2024-09-16T00:00:00",
          "2024-09-17T00:00:00",
          "2024-09-18T00:00:00",
          "2024-09-19T00:00:00",
          "2024-09-20T00:00:00",
          "2024-09-23T00:00:00",
          "2024-09-24T00:00:00",
          "2024-09-25T00:00:00",
          "2024-09-26T00:00:00",
          "2024-09-27T00:00:00",
          "2024-09-30T00:00:00",
          "2024-10-01T00:00:00",
          "2024-10-02T00:00:00",
          "2024-10-03T00:00:00",
          "2024-10-04T00:00:00",
          "2024-10-07T00:00:00",
          "2024-10-08T00:00:00",
          "2024-10-09T00:00:00",
          "2024-10-10T00:00:00",
          "2024-10-11T00:00:00",
          "2024-10-14T00:00:00",
          "2024-10-15T00:00:00",
          "2024-10-16T00:00:00",
          "2024-10-17T00:00:00",
          "2024-10-18T00:00:00",
          "2024-10-21T00:00:00",
          "2024-10-22T00:00:00",
          "2024-10-23T00:00:00",
          "2024-10-24T00:00:00",
          "2024-10-25T00:00:00",
          "2024-10-28T00:00:00",
          "2024-10-29T00:00:00",
          "2024-10-30T00:00:00",
          "2024-10-31T00:00:00",
          "2024-11-01T00:00:00",
          "2024-11-04T00:00:00",
          "2024-11-05T00:00:00",
          "2024-11-06T00:00:00",
          "2024-11-07T00:00:00",
          "2024-11-08T00:00:00",
          "2024-11-11T00:00:00",
          "2024-11-12T00:00:00",
          "2024-11-13T00:00:00",
          "2024-11-14T00:00:00",
          "2024-11-15T00:00:00",
          "2024-11-18T00:00:00",
          "2024-11-19T00:00:00",
          "2024-11-20T00:00:00",
          "2024-11-21T00:00:00",
          "2024-11-22T00:00:00",
          "2024-11-25T00:00:00",
          "2024-11-26T00:00:00",
          "2024-11-27T00:00:00",
          "2024-11-29T00:00:00",
          "2024-12-02T00:00:00",
          "2024-12-03T00:00:00",
          "2024-12-04T00:00:00",
          "2024-12-05T00:00:00",
          "2024-12-06T00:00:00",
          "2024-12-09T00:00:00",
          "2024-12-10T00:00:00",
          "2024-12-11T00:00:00",
          "2024-12-12T00:00:00",
          "2024-12-13T00:00:00",
          "2024-12-16T00:00:00",
          "2024-12-17T00:00:00",
          "2024-12-18T00:00:00",
          "2024-12-19T00:00:00",
          "2024-12-20T00:00:00",
          "2024-12-23T00:00:00",
          "2024-12-24T00:00:00",
          "2024-12-26T00:00:00",
          "2024-12-27T00:00:00",
          "2024-12-30T00:00:00",
          "2024-12-31T00:00:00",
          "2025-01-02T00:00:00",
          "2025-01-03T00:00:00",
          "2025-01-06T00:00:00",
          "2025-01-07T00:00:00",
          "2025-01-08T00:00:00",
          "2025-01-09T00:00:00",
          "2025-01-10T00:00:00",
          "2025-01-13T00:00:00",
          "2025-01-14T00:00:00",
          "2025-01-15T00:00:00",
          "2025-01-16T00:00:00",
          "2025-01-17T00:00:00",
          "2025-01-21T00:00:00",
          "2025-01-22T00:00:00",
          "2025-01-23T00:00:00",
          "2025-01-24T00:00:00",
          "2025-01-27T00:00:00",
          "2025-01-28T00:00:00",
          "2025-01-29T00:00:00"
         ],
         "xaxis": "x",
         "y": {
          "dtype": "f8",
          "bdata": "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"
         },
         "yaxis": "y",
         "type": "scattergl"
        },
        {
         "hovertemplate": "Factor=earnings_yield<br>time_index=%{x}<br>Exposure=%{y}<extra></extra>",
         "legendgroup": "earnings_yield",
         "line": {
          "color": "#EF553B",
          "dash": "solid"
         },
         "marker": {
          "symbol": "circle"
         },
         "mode": "lines",
         "name": "earnings_yield",
         "showlegend": true,
         "x": [
          "2022-01-03T00:00:00",
          "2022-01-04T00:00:00",
          "2022-01-05T00:00:00",
          "2022-01-06T00:00:00",
          "2022-01-07T00:00:00",
          "2022-01-10T00:00:00",
          "2022-01-11T00:00:00",
          "2022-01-12T00:00:00",
          "2022-01-13T00:00:00",
          "2022-01-14T00:00:00",
          "2022-01-18T00:00:00",
          "2022-01-19T00:00:00",
          "2022-01-20T00:00:00",
          "2022-01-21T00:00:00",
          "2022-01-24T00:00:00",
          "2022-01-25T00:00:00",
          "2022-01-26T00:00:00",
          "2022-01-27T00:00:00",
          "2022-01-28T00:00:00",
          "2022-01-31T00:00:00",
          "2022-02-01T00:00:00",
          "2022-02-02T00:00:00",
          "2022-02-03T00:00:00",
          "2022-02-04T00:00:00",
          "2022-02-07T00:00:00",
          "2022-02-08T00:00:00",
          "2022-02-09T00:00:00",
          "2022-02-10T00:00:00",
          "2022-02-11T00:00:00",
          "2022-02-14T00:00:00",
          "2022-02-15T00:00:00",
          "2022-02-16T00:00:00",
          "2022-02-17T00:00:00",
          "2022-02-18T00:00:00",
          "2022-02-22T00:00:00",
          "2022-02-23T00:00:00",
          "2022-02-24T00:00:00",
          "2022-02-25T00:00:00",
          "2022-02-28T00:00:00",
          "2022-03-01T00:00:00",
          "2022-03-02T00:00:00",
          "2022-03-03T00:00:00",
          "2022-03-04T00:00:00",
          "2022-03-07T00:00:00",
          "2022-03-08T00:00:00",
          "2022-03-09T00:00:00",
          "2022-03-10T00:00:00",
          "2022-03-11T00:00:00",
          "2022-03-14T00:00:00",
          "2022-03-15T00:00:00",
          "2022-03-16T00:00:00",
          "2022-03-17T00:00:00",
          "2022-03-18T00:00:00",
          "2022-03-21T00:00:00",
          "2022-03-22T00:00:00",
          "2022-03-23T00:00:00",
          "2022-03-24T00:00:00",
          "2022-03-25T00:00:00",
          "2022-03-28T00:00:00",
          "2022-03-29T00:00:00",
          "2022-03-30T00:00:00",
          "2022-03-31T00:00:00",
          "2022-04-01T00:00:00",
          "2022-04-04T00:00:00",
          "2022-04-05T00:00:00",
          "2022-04-06T00:00:00",
          "2022-04-07T00:00:00",
          "2022-04-08T00:00:00",
          "2022-04-11T00:00:00",
          "2022-04-12T00:00:00",
          "2022-04-13T00:00:00",
          "2022-04-14T00:00:00",
          "2022-04-18T00:00:00",
          "2022-04-19T00:00:00",
          "2022-04-20T00:00:00",
          "2022-04-21T00:00:00",
          "2022-04-22T00:00:00",
          "2022-04-25T00:00:00",
          "2022-04-26T00:00:00",
          "2022-04-27T00:00:00",
          "2022-04-28T00:00:00",
          "2022-04-29T00:00:00",
          "2022-05-02T00:00:00",
          "2022-05-03T00:00:00",
          "2022-05-04T00:00:00",
          "2022-05-05T00:00:00",
          "2022-05-06T00:00:00",
          "2022-05-09T00:00:00",
          "2022-05-10T00:00:00",
          "2022-05-11T00:00:00",
          "2022-05-12T00:00:00",
          "2022-05-13T00:00:00",
          "2022-05-16T00:00:00",
          "2022-05-17T00:00:00",
          "2022-05-18T00:00:00",
          "2022-05-19T00:00:00",
          "2022-05-20T00:00:00",
          "2022-05-23T00:00:00",
          "2022-05-24T00:00:00",
          "2022-05-25T00:00:00",
          "2022-05-26T00:00:00",
          "2022-05-27T00:00:00",
          "2022-05-31T00:00:00",
          "2022-06-01T00:00:00",
          "2022-06-02T00:00:00",
          "2022-06-03T00:00:00",
          "2022-06-06T00:00:00",
          "2022-06-07T00:00:00",
          "2022-06-08T00:00:00",
          "2022-06-09T00:00:00",
          "2022-06-10T00:00:00",
          "2022-06-13T00:00:00",
          "2022-06-14T00:00:00",
          "2022-06-15T00:00:00",
          "2022-06-16T00:00:00",
          "2022-06-17T00:00:00",
          "2022-06-21T00:00:00",
          "2022-06-22T00:00:00",
          "2022-06-23T00:00:00",
          "2022-06-24T00:00:00",
          "2022-06-27T00:00:00",
          "2022-06-28T00:00:00",
          "2022-06-29T00:00:00",
          "2022-06-30T00:00:00",
          "2022-07-01T00:00:00",
          "2022-07-05T00:00:00",
          "2022-07-06T00:00:00",
          "2022-07-07T00:00:00",
          "2022-07-08T00:00:00",
          "2022-07-11T00:00:00",
          "2022-07-12T00:00:00",
          "2022-07-13T00:00:00",
          "2022-07-14T00:00:00",
          "2022-07-15T00:00:00",
          "2022-07-18T00:00:00",
          "2022-07-19T00:00:00",
          "2022-07-20T00:00:00",
          "2022-07-21T00:00:00",
          "2022-07-22T00:00:00",
          "2022-07-25T00:00:00",
          "2022-07-26T00:00:00",
          "2022-07-27T00:00:00",
          "2022-07-28T00:00:00",
          "2022-07-29T00:00:00",
          "2022-08-01T00:00:00",
          "2022-08-02T00:00:00",
          "2022-08-03T00:00:00",
          "2022-08-04T00:00:00",
          "2022-08-05T00:00:00",
          "2022-08-08T00:00:00",
          "2022-08-09T00:00:00",
          "2022-08-10T00:00:00",
          "2022-08-11T00:00:00",
          "2022-08-12T00:00:00",
          "2022-08-15T00:00:00",
          "2022-08-16T00:00:00",
          "2022-08-17T00:00:00",
          "2022-08-18T00:00:00",
          "2022-08-19T00:00:00",
          "2022-08-22T00:00:00",
          "2022-08-23T00:00:00",
          "2022-08-24T00:00:00",
          "2022-08-25T00:00:00",
          "2022-08-26T00:00:00",
          "2022-08-29T00:00:00",
          "2022-08-30T00:00:00",
          "2022-08-31T00:00:00",
          "2022-09-01T00:00:00",
          "2022-09-02T00:00:00",
          "2022-09-06T00:00:00",
          "2022-09-07T00:00:00",
          "2022-09-08T00:00:00",
          "2022-09-09T00:00:00",
          "2022-09-12T00:00:00",
          "2022-09-13T00:00:00",
          "2022-09-14T00:00:00",
          "2022-09-15T00:00:00",
          "2022-09-16T00:00:00",
          "2022-09-19T00:00:00",
          "2022-09-20T00:00:00",
          "2022-09-21T00:00:00",
          "2022-09-22T00:00:00",
          "2022-09-23T00:00:00",
          "2022-09-26T00:00:00",
          "2022-09-27T00:00:00",
          "2022-09-28T00:00:00",
          "2022-09-29T00:00:00",
          "2022-09-30T00:00:00",
          "2022-10-03T00:00:00",
          "2022-10-04T00:00:00",
          "2022-10-05T00:00:00",
          "2022-10-06T00:00:00",
          "2022-10-07T00:00:00",
          "2022-10-10T00:00:00",
          "2022-10-11T00:00:00",
          "2022-10-12T00:00:00",
          "2022-10-13T00:00:00",
          "2022-10-14T00:00:00",
          "2022-10-17T00:00:00",
          "2022-10-18T00:00:00",
          "2022-10-19T00:00:00",
          "2022-10-20T00:00:00",
          "2022-10-21T00:00:00",
          "2022-10-24T00:00:00",
          "2022-10-25T00:00:00",
          "2022-10-26T00:00:00",
          "2022-10-27T00:00:00",
          "2022-10-28T00:00:00",
          "2022-10-31T00:00:00",
          "2022-11-01T00:00:00",
          "2022-11-02T00:00:00",
          "2022-11-03T00:00:00",
          "2022-11-04T00:00:00",
          "2022-11-07T00:00:00",
          "2022-11-08T00:00:00",
          "2022-11-09T00:00:00",
          "2022-11-10T00:00:00",
          "2022-11-11T00:00:00",
          "2022-11-14T00:00:00",
          "2022-11-15T00:00:00",
          "2022-11-16T00:00:00",
          "2022-11-17T00:00:00",
          "2022-11-18T00:00:00",
          "2022-11-21T00:00:00",
          "2022-11-22T00:00:00",
          "2022-11-23T00:00:00",
          "2022-11-25T00:00:00",
          "2022-11-28T00:00:00",
          "2022-11-29T00:00:00",
          "2022-11-30T00:00:00",
          "2022-12-01T00:00:00",
          "2022-12-02T00:00:00",
          "2022-12-05T00:00:00",
          "2022-12-06T00:00:00",
          "2022-12-07T00:00:00",
          "2022-12-08T00:00:00",
          "2022-12-09T00:00:00",
          "2022-12-12T00:00:00",
          "2022-12-13T00:00:00",
          "2022-12-14T00:00:00",
          "2022-12-15T00:00:00",
          "2022-12-16T00:00:00",
          "2022-12-19T00:00:00",
          "2022-12-20T00:00:00",
          "2022-12-21T00:00:00",
          "2022-12-22T00:00:00",
          "2022-12-23T00:00:00",
          "2022-12-27T00:00:00",
          "2022-12-28T00:00:00",
          "2022-12-29T00:00:00",
          "2022-12-30T00:00:00",
          "2023-01-03T00:00:00",
          "2023-01-04T00:00:00",
          "2023-01-05T00:00:00",
          "2023-01-06T00:00:00",
          "2023-01-09T00:00:00",
          "2023-01-10T00:00:00",
          "2023-01-11T00:00:00",
          "2023-01-12T00:00:00",
          "2023-01-13T00:00:00",
          "2023-01-17T00:00:00",
          "2023-01-18T00:00:00",
          "2023-01-19T00:00:00",
          "2023-01-20T00:00:00",
          "2023-01-23T00:00:00",
          "2023-01-24T00:00:00",
          "2023-01-25T00:00:00",
          "2023-01-26T00:00:00",
          "2023-01-27T00:00:00",
          "2023-01-30T00:00:00",
          "2023-01-31T00:00:00",
          "2023-02-01T00:00:00",
          "2023-02-02T00:00:00",
          "2023-02-03T00:00:00",
          "2023-02-06T00:00:00",
          "2023-02-07T00:00:00",
          "2023-02-08T00:00:00",
          "2023-02-09T00:00:00",
          "2023-02-10T00:00:00",
          "2023-02-13T00:00:00",
          "2023-02-14T00:00:00",
          "2023-02-15T00:00:00",
          "2023-02-16T00:00:00",
          "2023-02-17T00:00:00",
          "2023-02-21T00:00:00",
          "2023-02-22T00:00:00",
          "2023-02-23T00:00:00",
          "2023-02-24T00:00:00",
          "2023-02-27T00:00:00",
          "2023-02-28T00:00:00",
          "2023-03-01T00:00:00",
          "2023-03-02T00:00:00",
          "2023-03-03T00:00:00",
          "2023-03-06T00:00:00",
          "2023-03-07T00:00:00",
          "2023-03-08T00:00:00",
          "2023-03-09T00:00:00",
          "2023-03-10T00:00:00",
          "2023-03-13T00:00:00",
          "2023-03-14T00:00:00",
          "2023-03-15T00:00:00",
          "2023-03-16T00:00:00",
          "2023-03-17T00:00:00",
          "2023-03-20T00:00:00",
          "2023-03-21T00:00:00",
          "2023-03-22T00:00:00",
          "2023-03-23T00:00:00",
          "2023-03-24T00:00:00",
          "2023-03-27T00:00:00",
          "2023-03-28T00:00:00",
          "2023-03-29T00:00:00",
          "2023-03-30T00:00:00",
          "2023-03-31T00:00:00",
          "2023-04-03T00:00:00",
          "2023-04-04T00:00:00",
          "2023-04-05T00:00:00",
          "2023-04-06T00:00:00",
          "2023-04-10T00:00:00",
          "2023-04-11T00:00:00",
          "2023-04-12T00:00:00",
          "2023-04-13T00:00:00",
          "2023-04-14T00:00:00",
          "2023-04-17T00:00:00",
          "2023-04-18T00:00:00",
          "2023-04-19T00:00:00",
          "2023-04-20T00:00:00",
          "2023-04-21T00:00:00",
          "2023-04-24T00:00:00",
          "2023-04-25T00:00:00",
          "2023-04-26T00:00:00",
          "2023-04-27T00:00:00",
          "2023-04-28T00:00:00",
          "2023-05-01T00:00:00",
          "2023-05-02T00:00:00",
          "2023-05-03T00:00:00",
          "2023-05-04T00:00:00",
          "2023-05-05T00:00:00",
          "2023-05-08T00:00:00",
          "2023-05-09T00:00:00",
          "2023-05-10T00:00:00",
          "2023-05-11T00:00:00",
          "2023-05-12T00:00:00",
          "2023-05-15T00:00:00",
          "2023-05-16T00:00:00",
          "2023-05-17T00:00:00",
          "2023-05-18T00:00:00",
          "2023-05-19T00:00:00",
          "2023-05-22T00:00:00",
          "2023-05-23T00:00:00",
          "2023-05-24T00:00:00",
          "2023-05-25T00:00:00",
          "2023-05-26T00:00:00",
          "2023-05-30T00:00:00",
          "2023-05-31T00:00:00",
          "2023-06-01T00:00:00",
          "2023-06-02T00:00:00",
          "2023-06-05T00:00:00",
          "2023-06-06T00:00:00",
          "2023-06-07T00:00:00",
          "2023-06-08T00:00:00",
          "2023-06-09T00:00:00",
          "2023-06-12T00:00:00",
          "2023-06-13T00:00:00",
          "2023-06-14T00:00:00",
          "2023-06-15T00:00:00",
          "2023-06-16T00:00:00",
          "2023-06-20T00:00:00",
          "2023-06-21T00:00:00",
          "2023-06-22T00:00:00",
          "2023-06-23T00:00:00",
          "2023-06-26T00:00:00",
          "2023-06-27T00:00:00",
          "2023-06-28T00:00:00",
          "2023-06-29T00:00:00",
          "2023-06-30T00:00:00",
          "2023-07-03T00:00:00",
          "2023-07-05T00:00:00",
          "2023-07-06T00:00:00",
          "2023-07-07T00:00:00",
          "2023-07-10T00:00:00",
          "2023-07-11T00:00:00",
          "2023-07-12T00:00:00",
          "2023-07-13T00:00:00",
          "2023-07-14T00:00:00",
          "2023-07-17T00:00:00",
          "2023-07-18T00:00:00",
          "2023-07-19T00:00:00",
          "2023-07-20T00:00:00",
          "2023-07-21T00:00:00",
          "2023-07-24T00:00:00",
          "2023-07-25T00:00:00",
          "2023-07-26T00:00:00",
          "2023-07-27T00:00:00",
          "2023-07-28T00:00:00",
          "2023-07-31T00:00:00",
          "2023-08-01T00:00:00",
          "2023-08-02T00:00:00",
          "2023-08-03T00:00:00",
          "2023-08-04T00:00:00",
          "2023-08-07T00:00:00",
          "2023-08-08T00:00:00",
          "2023-08-09T00:00:00",
          "2023-08-10T00:00:00",
          "2023-08-11T00:00:00",
          "2023-08-14T00:00:00",
          "2023-08-15T00:00:00",
          "2023-08-16T00:00:00",
          "2023-08-17T00:00:00",
          "2023-08-18T00:00:00",
          "2023-08-21T00:00:00",
          "2023-08-22T00:00:00",
          "2023-08-23T00:00:00",
          "2023-08-24T00:00:00",
          "2023-08-25T00:00:00",
          "2023-08-28T00:00:00",
          "2023-08-29T00:00:00",
          "2023-08-30T00:00:00",
          "2023-08-31T00:00:00",
          "2023-09-01T00:00:00",
          "2023-09-05T00:00:00",
          "2023-09-06T00:00:00",
          "2023-09-07T00:00:00",
          "2023-09-08T00:00:00",
          "2023-09-11T00:00:00",
          "2023-09-12T00:00:00",
          "2023-09-13T00:00:00",
          "2023-09-14T00:00:00",
          "2023-09-15T00:00:00",
          "2023-09-18T00:00:00",
          "2023-09-19T00:00:00",
          "2023-09-20T00:00:00",
          "2023-09-21T00:00:00",
          "2023-09-22T00:00:00",
          "2023-09-25T00:00:00",
          "2023-09-26T00:00:00",
          "2023-09-27T00:00:00",
          "2023-09-28T00:00:00",
          "2023-09-29T00:00:00",
          "2023-10-02T00:00:00",
          "2023-10-03T00:00:00",
          "2023-10-04T00:00:00",
          "2023-10-05T00:00:00",
          "2023-10-06T00:00:00",
          "2023-10-09T00:00:00",
          "2023-10-10T00:00:00",
          "2023-10-11T00:00:00",
          "2023-10-12T00:00:00",
          "2023-10-13T00:00:00",
          "2023-10-16T00:00:00",
          "2023-10-17T00:00:00",
          "2023-10-18T00:00:00",
          "2023-10-19T00:00:00",
          "2023-10-20T00:00:00",
          "2023-10-23T00:00:00",
          "2023-10-24T00:00:00",
          "2023-10-25T00:00:00",
          "2023-10-26T00:00:00",
          "2023-10-27T00:00:00",
          "2023-10-30T00:00:00",
          "2023-10-31T00:00:00",
          "2023-11-01T00:00:00",
          "2023-11-02T00:00:00",
          "2023-11-03T00:00:00",
          "2023-11-06T00:00:00",
          "2023-11-07T00:00:00",
          "2023-11-08T00:00:00",
          "2023-11-09T00:00:00",
          "2023-11-10T00:00:00",
          "2023-11-13T00:00:00",
          "2023-11-14T00:00:00",
          "2023-11-15T00:00:00",
          "2023-11-16T00:00:00",
          "2023-11-17T00:00:00",
          "2023-11-20T00:00:00",
          "2023-11-21T00:00:00",
          "2023-11-22T00:00:00",
          "2023-11-24T00:00:00",
          "2023-11-27T00:00:00",
          "2023-11-28T00:00:00",
          "2023-11-29T00:00:00",
          "2023-11-30T00:00:00",
          "2023-12-01T00:00:00",
          "2023-12-04T00:00:00",
          "2023-12-05T00:00:00",
          "2023-12-06T00:00:00",
          "2023-12-07T00:00:00",
          "2023-12-08T00:00:00",
          "2023-12-11T00:00:00",
          "2023-12-12T00:00:00",
          "2023-12-13T00:00:00",
          "2023-12-14T00:00:00",
          "2023-12-15T00:00:00",
          "2023-12-18T00:00:00",
          "2023-12-19T00:00:00",
          "2023-12-20T00:00:00",
          "2023-12-21T00:00:00",
          "2023-12-22T00:00:00",
          "2023-12-26T00:00:00",
          "2023-12-27T00:00:00",
          "2023-12-28T00:00:00",
          "2023-12-29T00:00:00",
          "2024-01-02T00:00:00",
          "2024-01-03T00:00:00",
          "2024-01-04T00:00:00",
          "2024-01-05T00:00:00",
          "2024-01-08T00:00:00",
          "2024-01-09T00:00:00",
          "2024-01-10T00:00:00",
          "2024-01-11T00:00:00",
          "2024-01-12T00:00:00",
          "2024-01-16T00:00:00",
          "2024-01-17T00:00:00",
          "2024-01-18T00:00:00",
          "2024-01-19T00:00:00",
          "2024-01-22T00:00:00",
          "2024-01-23T00:00:00",
          "2024-01-24T00:00:00",
          "2024-01-25T00:00:00",
          "2024-01-26T00:00:00",
          "2024-01-29T00:00:00",
          "2024-01-30T00:00:00",
          "2024-01-31T00:00:00",
          "2024-02-01T00:00:00",
          "2024-02-02T00:00:00",
          "2024-02-05T00:00:00",
          "2024-02-06T00:00:00",
          "2024-02-07T00:00:00",
          "2024-02-08T00:00:00",
          "2024-02-09T00:00:00",
          "2024-02-12T00:00:00",
          "2024-02-13T00:00:00",
          "2024-02-14T00:00:00",
          "2024-02-15T00:00:00",
          "2024-02-16T00:00:00",
          "2024-02-20T00:00:00",
          "2024-02-21T00:00:00",
          "2024-02-22T00:00:00",
          "2024-02-23T00:00:00",
          "2024-02-26T00:00:00",
          "2024-02-27T00:00:00",
          "2024-02-28T00:00:00",
          "2024-02-29T00:00:00",
          "2024-03-01T00:00:00",
          "2024-03-04T00:00:00",
          "2024-03-05T00:00:00",
          "2024-03-06T00:00:00",
          "2024-03-07T00:00:00",
          "2024-03-08T00:00:00",
          "2024-03-11T00:00:00",
          "2024-03-12T00:00:00",
          "2024-03-13T00:00:00",
          "2024-03-14T00:00:00",
          "2024-03-15T00:00:00",
          "2024-03-18T00:00:00",
          "2024-03-19T00:00:00",
          "2024-03-20T00:00:00",
          "2024-03-21T00:00:00",
          "2024-03-22T00:00:00",
          "2024-03-25T00:00:00",
          "2024-03-26T00:00:00",
          "2024-03-27T00:00:00",
          "2024-03-28T00:00:00",
          "2024-04-01T00:00:00",
          "2024-04-02T00:00:00",
          "2024-04-03T00:00:00",
          "2024-04-04T00:00:00",
          "2024-04-05T00:00:00",
          "2024-04-08T00:00:00",
          "2024-04-09T00:00:00",
          "2024-04-10T00:00:00",
          "2024-04-11T00:00:00",
          "2024-04-12T00:00:00",
          "2024-04-15T00:00:00",
          "2024-04-16T00:00:00",
          "2024-04-17T00:00:00",
          "2024-04-18T00:00:00",
          "2024-04-19T00:00:00",
          "2024-04-22T00:00:00",
          "2024-04-23T00:00:00",
          "2024-04-24T00:00:00",
          "2024-04-25T00:00:00",
          "2024-04-26T00:00:00",
          "2024-04-29T00:00:00",
          "2024-04-30T00:00:00",
          "2024-05-01T00:00:00",
          "2024-05-02T00:00:00",
          "2024-05-03T00:00:00",
          "2024-05-06T00:00:00",
          "2024-05-07T00:00:00",
          "2024-05-08T00:00:00",
          "2024-05-09T00:00:00",
          "2024-05-10T00:00:00",
          "2024-05-13T00:00:00",
          "2024-05-14T00:00:00",
          "2024-05-15T00:00:00",
          "2024-05-16T00:00:00",
          "2024-05-17T00:00:00",
          "2024-05-20T00:00:00",
          "2024-05-21T00:00:00",
          "2024-05-22T00:00:00",
          "2024-05-23T00:00:00",
          "2024-05-24T00:00:00",
          "2024-05-28T00:00:00",
          "2024-05-29T00:00:00",
          "2024-05-30T00:00:00",
          "2024-05-31T00:00:00",
          "2024-06-03T00:00:00",
          "2024-06-04T00:00:00",
          "2024-06-05T00:00:00",
          "2024-06-06T00:00:00",
          "2024-06-07T00:00:00",
          "2024-06-10T00:00:00",
          "2024-06-11T00:00:00",
          "2024-06-12T00:00:00",
          "2024-06-13T00:00:00",
          "2024-06-14T00:00:00",
          "2024-06-17T00:00:00",
          "2024-06-18T00:00:00",
          "2024-06-20T00:00:00",
          "2024-06-21T00:00:00",
          "2024-06-24T00:00:00",
          "2024-06-25T00:00:00",
          "2024-06-26T00:00:00",
          "2024-06-27T00:00:00",
          "2024-06-28T00:00:00",
          "2024-07-01T00:00:00",
          "2024-07-02T00:00:00",
          "2024-07-03T00:00:00",
          "2024-07-05T00:00:00",
          "2024-07-08T00:00:00",
          "2024-07-09T00:00:00",
          "2024-07-10T00:00:00",
          "2024-07-11T00:00:00",
          "2024-07-12T00:00:00",
          "2024-07-15T00:00:00",
          "2024-07-16T00:00:00",
          "2024-07-17T00:00:00",
          "2024-07-18T00:00:00",
          "2024-07-19T00:00:00",
          "2024-07-22T00:00:00",
          "2024-07-23T00:00:00",
          "2024-07-24T00:00:00",
          "2024-07-25T00:00:00",
          "2024-07-26T00:00:00",
          "2024-07-29T00:00:00",
          "2024-07-30T00:00:00",
          "2024-07-31T00:00:00",
          "2024-08-01T00:00:00",
          "2024-08-02T00:00:00",
          "2024-08-05T00:00:00",
          "2024-08-06T00:00:00",
          "2024-08-07T00:00:00",
          "2024-08-08T00:00:00",
          "2024-08-09T00:00:00",
          "2024-08-12T00:00:00",
          "2024-08-13T00:00:00",
          "2024-08-14T00:00:00",
          "2024-08-15T00:00:00",
          "2024-08-16T00:00:00",
          "2024-08-19T00:00:00",
          "2024-08-20T00:00:00",
          "2024-08-21T00:00:00",
          "2024-08-22T00:00:00",
          "2024-08-23T00:00:00",
          "2024-08-26T00:00:00",
          "2024-08-27T00:00:00",
          "2024-08-28T00:00:00",
          "2024-08-29T00:00:00",
          "2024-08-30T00:00:00",
          "2024-09-03T00:00:00",
          "2024-09-04T00:00:00",
          "2024-09-05T00:00:00",
          "2024-09-06T00:00:00",
          "2024-09-09T00:00:00",
          "2024-09-10T00:00:00",
          "2024-09-11T00:00:00",
          "2024-09-12T00:00:00",
          "2024-09-13T00:00:00",
          "2024-09-16T00:00:00",
          "2024-09-17T00:00:00",
          "2024-09-18T00:00:00",
          "2024-09-19T00:00:00",
          "2024-09-20T00:00:00",
          "2024-09-23T00:00:00",
          "2024-09-24T00:00:00",
          "2024-09-25T00:00:00",
          "2024-09-26T00:00:00",
          "2024-09-27T00:00:00",
          "2024-09-30T00:00:00",
          "2024-10-01T00:00:00",
          "2024-10-02T00:00:00",
          "2024-10-03T00:00:00",
          "2024-10-04T00:00:00",
          "2024-10-07T00:00:00",
          "2024-10-08T00:00:00",
          "2024-10-09T00:00:00",
          "2024-10-10T00:00:00",
          "2024-10-11T00:00:00",
          "2024-10-14T00:00:00",
          "2024-10-15T00:00:00",
          "2024-10-16T00:00:00",
          "2024-10-17T00:00:00",
          "2024-10-18T00:00:00",
          "2024-10-21T00:00:00",
          "2024-10-22T00:00:00",
          "2024-10-23T00:00:00",
          "2024-10-24T00:00:00",
          "2024-10-25T00:00:00",
          "2024-10-28T00:00:00",
          "2024-10-29T00:00:00",
          "2024-10-30T00:00:00",
          "2024-10-31T00:00:00",
          "2024-11-01T00:00:00",
          "2024-11-04T00:00:00",
          "2024-11-05T00:00:00",
          "2024-11-06T00:00:00",
          "2024-11-07T00:00:00",
          "2024-11-08T00:00:00",
          "2024-11-11T00:00:00",
          "2024-11-12T00:00:00",
          "2024-11-13T00:00:00",
          "2024-11-14T00:00:00",
          "2024-11-15T00:00:00",
          "2024-11-18T00:00:00",
          "2024-11-19T00:00:00",
          "2024-11-20T00:00:00",
          "2024-11-21T00:00:00",
          "2024-11-22T00:00:00",
          "2024-11-25T00:00:00",
          "2024-11-26T00:00:00",
          "2024-11-27T00:00:00",
          "2024-11-29T00:00:00",
          "2024-12-02T00:00:00",
          "2024-12-03T00:00:00",
          "2024-12-04T00:00:00",
          "2024-12-05T00:00:00",
          "2024-12-06T00:00:00",
          "2024-12-09T00:00:00",
          "2024-12-10T00:00:00",
          "2024-12-11T00:00:00",
          "2024-12-12T00:00:00",
          "2024-12-13T00:00:00",
          "2024-12-16T00:00:00",
          "2024-12-17T00:00:00",
          "2024-12-18T00:00:00",
          "2024-12-19T00:00:00",
          "2024-12-20T00:00:00",
          "2024-12-23T00:00:00",
          "2024-12-24T00:00:00",
          "2024-12-26T00:00:00",
          "2024-12-27T00:00:00",
          "2024-12-30T00:00:00",
          "2024-12-31T00:00:00",
          "2025-01-02T00:00:00",
          "2025-01-03T00:00:00",
          "2025-01-06T00:00:00",
          "2025-01-07T00:00:00",
          "2025-01-08T00:00:00",
          "2025-01-09T00:00:00",
          "2025-01-10T00:00:00",
          "2025-01-13T00:00:00",
          "2025-01-14T00:00:00",
          "2025-01-15T00:00:00",
          "2025-01-16T00:00:00",
          "2025-01-17T00:00:00",
          "2025-01-21T00:00:00",
          "2025-01-22T00:00:00",
          "2025-01-23T00:00:00",
          "2025-01-24T00:00:00",
          "2025-01-27T00:00:00",
          "2025-01-28T00:00:00",
          "2025-01-29T00:00:00"
         ],
         "xaxis": "x",
         "y": {
          "dtype": "f8",
          "bdata": "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"
         },
         "yaxis": "y",
         "type": "scattergl"
        },
        {
         "hovertemplate": "Factor=profitability<br>time_index=%{x}<br>Exposure=%{y}<extra></extra>",
         "legendgroup": "profitability",
         "line": {
          "color": "#00cc96",
          "dash": "solid"
         },
         "marker": {
          "symbol": "circle"
         },
         "mode": "lines",
         "name": "profitability",
         "showlegend": true,
         "x": [
          "2022-01-03T00:00:00",
          "2022-01-04T00:00:00",
          "2022-01-05T00:00:00",
          "2022-01-06T00:00:00",
          "2022-01-07T00:00:00",
          "2022-01-10T00:00:00",
          "2022-01-11T00:00:00",
          "2022-01-12T00:00:00",
          "2022-01-13T00:00:00",
          "2022-01-14T00:00:00",
          "2022-01-18T00:00:00",
          "2022-01-19T00:00:00",
          "2022-01-20T00:00:00",
          "2022-01-21T00:00:00",
          "2022-01-24T00:00:00",
          "2022-01-25T00:00:00",
          "2022-01-26T00:00:00",
          "2022-01-27T00:00:00",
          "2022-01-28T00:00:00",
          "2022-01-31T00:00:00",
          "2022-02-01T00:00:00",
          "2022-02-02T00:00:00",
          "2022-02-03T00:00:00",
          "2022-02-04T00:00:00",
          "2022-02-07T00:00:00",
          "2022-02-08T00:00:00",
          "2022-02-09T00:00:00",
          "2022-02-10T00:00:00",
          "2022-02-11T00:00:00",
          "2022-02-14T00:00:00",
          "2022-02-15T00:00:00",
          "2022-02-16T00:00:00",
          "2022-02-17T00:00:00",
          "2022-02-18T00:00:00",
          "2022-02-22T00:00:00",
          "2022-02-23T00:00:00",
          "2022-02-24T00:00:00",
          "2022-02-25T00:00:00",
          "2022-02-28T00:00:00",
          "2022-03-01T00:00:00",
          "2022-03-02T00:00:00",
          "2022-03-03T00:00:00",
          "2022-03-04T00:00:00",
          "2022-03-07T00:00:00",
          "2022-03-08T00:00:00",
          "2022-03-09T00:00:00",
          "2022-03-10T00:00:00",
          "2022-03-11T00:00:00",
          "2022-03-14T00:00:00",
          "2022-03-15T00:00:00",
          "2022-03-16T00:00:00",
          "2022-03-17T00:00:00",
          "2022-03-18T00:00:00",
          "2022-03-21T00:00:00",
          "2022-03-22T00:00:00",
          "2022-03-23T00:00:00",
          "2022-03-24T00:00:00",
          "2022-03-25T00:00:00",
          "2022-03-28T00:00:00",
          "2022-03-29T00:00:00",
          "2022-03-30T00:00:00",
          "2022-03-31T00:00:00",
          "2022-04-01T00:00:00",
          "2022-04-04T00:00:00",
          "2022-04-05T00:00:00",
          "2022-04-06T00:00:00",
          "2022-04-07T00:00:00",
          "2022-04-08T00:00:00",
          "2022-04-11T00:00:00",
          "2022-04-12T00:00:00",
          "2022-04-13T00:00:00",
          "2022-04-14T00:00:00",
          "2022-04-18T00:00:00",
          "2022-04-19T00:00:00",
          "2022-04-20T00:00:00",
          "2022-04-21T00:00:00",
          "2022-04-22T00:00:00",
          "2022-04-25T00:00:00",
          "2022-04-26T00:00:00",
          "2022-04-27T00:00:00",
          "2022-04-28T00:00:00",
          "2022-04-29T00:00:00",
          "2022-05-02T00:00:00",
          "2022-05-03T00:00:00",
          "2022-05-04T00:00:00",
          "2022-05-05T00:00:00",
          "2022-05-06T00:00:00",
          "2022-05-09T00:00:00",
          "2022-05-10T00:00:00",
          "2022-05-11T00:00:00",
          "2022-05-12T00:00:00",
          "2022-05-13T00:00:00",
          "2022-05-16T00:00:00",
          "2022-05-17T00:00:00",
          "2022-05-18T00:00:00",
          "2022-05-19T00:00:00",
          "2022-05-20T00:00:00",
          "2022-05-23T00:00:00",
          "2022-05-24T00:00:00",
          "2022-05-25T00:00:00",
          "2022-05-26T00:00:00",
          "2022-05-27T00:00:00",
          "2022-05-31T00:00:00",
          "2022-06-01T00:00:00",
          "2022-06-02T00:00:00",
          "2022-06-03T00:00:00",
          "2022-06-06T00:00:00",
          "2022-06-07T00:00:00",
          "2022-06-08T00:00:00",
          "2022-06-09T00:00:00",
          "2022-06-10T00:00:00",
          "2022-06-13T00:00:00",
          "2022-06-14T00:00:00",
          "2022-06-15T00:00:00",
          "2022-06-16T00:00:00",
          "2022-06-17T00:00:00",
          "2022-06-21T00:00:00",
          "2022-06-22T00:00:00",
          "2022-06-23T00:00:00",
          "2022-06-24T00:00:00",
          "2022-06-27T00:00:00",
          "2022-06-28T00:00:00",
          "2022-06-29T00:00:00",
          "2022-06-30T00:00:00",
          "2022-07-01T00:00:00",
          "2022-07-05T00:00:00",
          "2022-07-06T00:00:00",
          "2022-07-07T00:00:00",
          "2022-07-08T00:00:00",
          "2022-07-11T00:00:00",
          "2022-07-12T00:00:00",
          "2022-07-13T00:00:00",
          "2022-07-14T00:00:00",
          "2022-07-15T00:00:00",
          "2022-07-18T00:00:00",
          "2022-07-19T00:00:00",
          "2022-07-20T00:00:00",
          "2022-07-21T00:00:00",
          "2022-07-22T00:00:00",
          "2022-07-25T00:00:00",
          "2022-07-26T00:00:00",
          "2022-07-27T00:00:00",
          "2022-07-28T00:00:00",
          "2022-07-29T00:00:00",
          "2022-08-01T00:00:00",
          "2022-08-02T00:00:00",
          "2022-08-03T00:00:00",
          "2022-08-04T00:00:00",
          "2022-08-05T00:00:00",
          "2022-08-08T00:00:00",
          "2022-08-09T00:00:00",
          "2022-08-10T00:00:00",
          "2022-08-11T00:00:00",
          "2022-08-12T00:00:00",
          "2022-08-15T00:00:00",
          "2022-08-16T00:00:00",
          "2022-08-17T00:00:00",
          "2022-08-18T00:00:00",
          "2022-08-19T00:00:00",
          "2022-08-22T00:00:00",
          "2022-08-23T00:00:00",
          "2022-08-24T00:00:00",
          "2022-08-25T00:00:00",
          "2022-08-26T00:00:00",
          "2022-08-29T00:00:00",
          "2022-08-30T00:00:00",
          "2022-08-31T00:00:00",
          "2022-09-01T00:00:00",
          "2022-09-02T00:00:00",
          "2022-09-06T00:00:00",
          "2022-09-07T00:00:00",
          "2022-09-08T00:00:00",
          "2022-09-09T00:00:00",
          "2022-09-12T00:00:00",
          "2022-09-13T00:00:00",
          "2022-09-14T00:00:00",
          "2022-09-15T00:00:00",
          "2022-09-16T00:00:00",
          "2022-09-19T00:00:00",
          "2022-09-20T00:00:00",
          "2022-09-21T00:00:00",
          "2022-09-22T00:00:00",
          "2022-09-23T00:00:00",
          "2022-09-26T00:00:00",
          "2022-09-27T00:00:00",
          "2022-09-28T00:00:00",
          "2022-09-29T00:00:00",
          "2022-09-30T00:00:00",
          "2022-10-03T00:00:00",
          "2022-10-04T00:00:00",
          "2022-10-05T00:00:00",
          "2022-10-06T00:00:00",
          "2022-10-07T00:00:00",
          "2022-10-10T00:00:00",
          "2022-10-11T00:00:00",
          "2022-10-12T00:00:00",
          "2022-10-13T00:00:00",
          "2022-10-14T00:00:00",
          "2022-10-17T00:00:00",
          "2022-10-18T00:00:00",
          "2022-10-19T00:00:00",
          "2022-10-20T00:00:00",
          "2022-10-21T00:00:00",
          "2022-10-24T00:00:00",
          "2022-10-25T00:00:00",
          "2022-10-26T00:00:00",
          "2022-10-27T00:00:00",
          "2022-10-28T00:00:00",
          "2022-10-31T00:00:00",
          "2022-11-01T00:00:00",
          "2022-11-02T00:00:00",
          "2022-11-03T00:00:00",
          "2022-11-04T00:00:00",
          "2022-11-07T00:00:00",
          "2022-11-08T00:00:00",
          "2022-11-09T00:00:00",
          "2022-11-10T00:00:00",
          "2022-11-11T00:00:00",
          "2022-11-14T00:00:00",
          "2022-11-15T00:00:00",
          "2022-11-16T00:00:00",
          "2022-11-17T00:00:00",
          "2022-11-18T00:00:00",
          "2022-11-21T00:00:00",
          "2022-11-22T00:00:00",
          "2022-11-23T00:00:00",
          "2022-11-25T00:00:00",
          "2022-11-28T00:00:00",
          "2022-11-29T00:00:00",
          "2022-11-30T00:00:00",
          "2022-12-01T00:00:00",
          "2022-12-02T00:00:00",
          "2022-12-05T00:00:00",
          "2022-12-06T00:00:00",
          "2022-12-07T00:00:00",
          "2022-12-08T00:00:00",
          "2022-12-09T00:00:00",
          "2022-12-12T00:00:00",
          "2022-12-13T00:00:00",
          "2022-12-14T00:00:00",
          "2022-12-15T00:00:00",
          "2022-12-16T00:00:00",
          "2022-12-19T00:00:00",
          "2022-12-20T00:00:00",
          "2022-12-21T00:00:00",
          "2022-12-22T00:00:00",
          "2022-12-23T00:00:00",
          "2022-12-27T00:00:00",
          "2022-12-28T00:00:00",
          "2022-12-29T00:00:00",
          "2022-12-30T00:00:00",
          "2023-01-03T00:00:00",
          "2023-01-04T00:00:00",
          "2023-01-05T00:00:00",
          "2023-01-06T00:00:00",
          "2023-01-09T00:00:00",
          "2023-01-10T00:00:00",
          "2023-01-11T00:00:00",
          "2023-01-12T00:00:00",
          "2023-01-13T00:00:00",
          "2023-01-17T00:00:00",
          "2023-01-18T00:00:00",
          "2023-01-19T00:00:00",
          "2023-01-20T00:00:00",
          "2023-01-23T00:00:00",
          "2023-01-24T00:00:00",
          "2023-01-25T00:00:00",
          "2023-01-26T00:00:00",
          "2023-01-27T00:00:00",
          "2023-01-30T00:00:00",
          "2023-01-31T00:00:00",
          "2023-02-01T00:00:00",
          "2023-02-02T00:00:00",
          "2023-02-03T00:00:00",
          "2023-02-06T00:00:00",
          "2023-02-07T00:00:00",
          "2023-02-08T00:00:00",
          "2023-02-09T00:00:00",
          "2023-02-10T00:00:00",
          "2023-02-13T00:00:00",
          "2023-02-14T00:00:00",
          "2023-02-15T00:00:00",
          "2023-02-16T00:00:00",
          "2023-02-17T00:00:00",
          "2023-02-21T00:00:00",
          "2023-02-22T00:00:00",
          "2023-02-23T00:00:00",
          "2023-02-24T00:00:00",
          "2023-02-27T00:00:00",
          "2023-02-28T00:00:00",
          "2023-03-01T00:00:00",
          "2023-03-02T00:00:00",
          "2023-03-03T00:00:00",
          "2023-03-06T00:00:00",
          "2023-03-07T00:00:00",
          "2023-03-08T00:00:00",
          "2023-03-09T00:00:00",
          "2023-03-10T00:00:00",
          "2023-03-13T00:00:00",
          "2023-03-14T00:00:00",
          "2023-03-15T00:00:00",
          "2023-03-16T00:00:00",
          "2023-03-17T00:00:00",
          "2023-03-20T00:00:00",
          "2023-03-21T00:00:00",
          "2023-03-22T00:00:00",
          "2023-03-23T00:00:00",
          "2023-03-24T00:00:00",
          "2023-03-27T00:00:00",
          "2023-03-28T00:00:00",
          "2023-03-29T00:00:00",
          "2023-03-30T00:00:00",
          "2023-03-31T00:00:00",
          "2023-04-03T00:00:00",
          "2023-04-04T00:00:00",
          "2023-04-05T00:00:00",
          "2023-04-06T00:00:00",
          "2023-04-10T00:00:00",
          "2023-04-11T00:00:00",
          "2023-04-12T00:00:00",
          "2023-04-13T00:00:00",
          "2023-04-14T00:00:00",
          "2023-04-17T00:00:00",
          "2023-04-18T00:00:00",
          "2023-04-19T00:00:00",
          "2023-04-20T00:00:00",
          "2023-04-21T00:00:00",
          "2023-04-24T00:00:00",
          "2023-04-25T00:00:00",
          "2023-04-26T00:00:00",
          "2023-04-27T00:00:00",
          "2023-04-28T00:00:00",
          "2023-05-01T00:00:00",
          "2023-05-02T00:00:00",
          "2023-05-03T00:00:00",
          "2023-05-04T00:00:00",
          "2023-05-05T00:00:00",
          "2023-05-08T00:00:00",
          "2023-05-09T00:00:00",
          "2023-05-10T00:00:00",
          "2023-05-11T00:00:00",
          "2023-05-12T00:00:00",
          "2023-05-15T00:00:00",
          "2023-05-16T00:00:00",
          "2023-05-17T00:00:00",
          "2023-05-18T00:00:00",
          "2023-05-19T00:00:00",
          "2023-05-22T00:00:00",
          "2023-05-23T00:00:00",
          "2023-05-24T00:00:00",
          "2023-05-25T00:00:00",
          "2023-05-26T00:00:00",
          "2023-05-30T00:00:00",
          "2023-05-31T00:00:00",
          "2023-06-01T00:00:00",
          "2023-06-02T00:00:00",
          "2023-06-05T00:00:00",
          "2023-06-06T00:00:00",
          "2023-06-07T00:00:00",
          "2023-06-08T00:00:00",
          "2023-06-09T00:00:00",
          "2023-06-12T00:00:00",
          "2023-06-13T00:00:00",
          "2023-06-14T00:00:00",
          "2023-06-15T00:00:00",
          "2023-06-16T00:00:00",
          "2023-06-20T00:00:00",
          "2023-06-21T00:00:00",
          "2023-06-22T00:00:00",
          "2023-06-23T00:00:00",
          "2023-06-26T00:00:00",
          "2023-06-27T00:00:00",
          "2023-06-28T00:00:00",
          "2023-06-29T00:00:00",
          "2023-06-30T00:00:00",
          "2023-07-03T00:00:00",
          "2023-07-05T00:00:00",
          "2023-07-06T00:00:00",
          "2023-07-07T00:00:00",
          "2023-07-10T00:00:00",
          "2023-07-11T00:00:00",
          "2023-07-12T00:00:00",
          "2023-07-13T00:00:00",
          "2023-07-14T00:00:00",
          "2023-07-17T00:00:00",
          "2023-07-18T00:00:00",
          "2023-07-19T00:00:00",
          "2023-07-20T00:00:00",
          "2023-07-21T00:00:00",
          "2023-07-24T00:00:00",
          "2023-07-25T00:00:00",
          "2023-07-26T00:00:00",
          "2023-07-27T00:00:00",
          "2023-07-28T00:00:00",
          "2023-07-31T00:00:00",
          "2023-08-01T00:00:00",
          "2023-08-02T00:00:00",
          "2023-08-03T00:00:00",
          "2023-08-04T00:00:00",
          "2023-08-07T00:00:00",
          "2023-08-08T00:00:00",
          "2023-08-09T00:00:00",
          "2023-08-10T00:00:00",
          "2023-08-11T00:00:00",
          "2023-08-14T00:00:00",
          "2023-08-15T00:00:00",
          "2023-08-16T00:00:00",
          "2023-08-17T00:00:00",
          "2023-08-18T00:00:00",
          "2023-08-21T00:00:00",
          "2023-08-22T00:00:00",
          "2023-08-23T00:00:00",
          "2023-08-24T00:00:00",
          "2023-08-25T00:00:00",
          "2023-08-28T00:00:00",
          "2023-08-29T00:00:00",
          "2023-08-30T00:00:00",
          "2023-08-31T00:00:00",
          "2023-09-01T00:00:00",
          "2023-09-05T00:00:00",
          "2023-09-06T00:00:00",
          "2023-09-07T00:00:00",
          "2023-09-08T00:00:00",
          "2023-09-11T00:00:00",
          "2023-09-12T00:00:00",
          "2023-09-13T00:00:00",
          "2023-09-14T00:00:00",
          "2023-09-15T00:00:00",
          "2023-09-18T00:00:00",
          "2023-09-19T00:00:00",
          "2023-09-20T00:00:00",
          "2023-09-21T00:00:00",
          "2023-09-22T00:00:00",
          "2023-09-25T00:00:00",
          "2023-09-26T00:00:00",
          "2023-09-27T00:00:00",
          "2023-09-28T00:00:00",
          "2023-09-29T00:00:00",
          "2023-10-02T00:00:00",
          "2023-10-03T00:00:00",
          "2023-10-04T00:00:00",
          "2023-10-05T00:00:00",
          "2023-10-06T00:00:00",
          "2023-10-09T00:00:00",
          "2023-10-10T00:00:00",
          "2023-10-11T00:00:00",
          "2023-10-12T00:00:00",
          "2023-10-13T00:00:00",
          "2023-10-16T00:00:00",
          "2023-10-17T00:00:00",
          "2023-10-18T00:00:00",
          "2023-10-19T00:00:00",
          "2023-10-20T00:00:00",
          "2023-10-23T00:00:00",
          "2023-10-24T00:00:00",
          "2023-10-25T00:00:00",
          "2023-10-26T00:00:00",
          "2023-10-27T00:00:00",
          "2023-10-30T00:00:00",
          "2023-10-31T00:00:00",
          "2023-11-01T00:00:00",
          "2023-11-02T00:00:00",
          "2023-11-03T00:00:00",
          "2023-11-06T00:00:00",
          "2023-11-07T00:00:00",
          "2023-11-08T00:00:00",
          "2023-11-09T00:00:00",
          "2023-11-10T00:00:00",
          "2023-11-13T00:00:00",
          "2023-11-14T00:00:00",
          "2023-11-15T00:00:00",
          "2023-11-16T00:00:00",
          "2023-11-17T00:00:00",
          "2023-11-20T00:00:00",
          "2023-11-21T00:00:00",
          "2023-11-22T00:00:00",
          "2023-11-24T00:00:00",
          "2023-11-27T00:00:00",
          "2023-11-28T00:00:00",
          "2023-11-29T00:00:00",
          "2023-11-30T00:00:00",
          "2023-12-01T00:00:00",
          "2023-12-04T00:00:00",
          "2023-12-05T00:00:00",
          "2023-12-06T00:00:00",
          "2023-12-07T00:00:00",
          "2023-12-08T00:00:00",
          "2023-12-11T00:00:00",
          "2023-12-12T00:00:00",
          "2023-12-13T00:00:00",
          "2023-12-14T00:00:00",
          "2023-12-15T00:00:00",
          "2023-12-18T00:00:00",
          "2023-12-19T00:00:00",
          "2023-12-20T00:00:00",
          "2023-12-21T00:00:00",
          "2023-12-22T00:00:00",
          "2023-12-26T00:00:00",
          "2023-12-27T00:00:00",
          "2023-12-28T00:00:00",
          "2023-12-29T00:00:00",
          "2024-01-02T00:00:00",
          "2024-01-03T00:00:00",
          "2024-01-04T00:00:00",
          "2024-01-05T00:00:00",
          "2024-01-08T00:00:00",
          "2024-01-09T00:00:00",
          "2024-01-10T00:00:00",
          "2024-01-11T00:00:00",
          "2024-01-12T00:00:00",
          "2024-01-16T00:00:00",
          "2024-01-17T00:00:00",
          "2024-01-18T00:00:00",
          "2024-01-19T00:00:00",
          "2024-01-22T00:00:00",
          "2024-01-23T00:00:00",
          "2024-01-24T00:00:00",
          "2024-01-25T00:00:00",
          "2024-01-26T00:00:00",
          "2024-01-29T00:00:00",
          "2024-01-30T00:00:00",
          "2024-01-31T00:00:00",
          "2024-02-01T00:00:00",
          "2024-02-02T00:00:00",
          "2024-02-05T00:00:00",
          "2024-02-06T00:00:00",
          "2024-02-07T00:00:00",
          "2024-02-08T00:00:00",
          "2024-02-09T00:00:00",
          "2024-02-12T00:00:00",
          "2024-02-13T00:00:00",
          "2024-02-14T00:00:00",
          "2024-02-15T00:00:00",
          "2024-02-16T00:00:00",
          "2024-02-20T00:00:00",
          "2024-02-21T00:00:00",
          "2024-02-22T00:00:00",
          "2024-02-23T00:00:00",
          "2024-02-26T00:00:00",
          "2024-02-27T00:00:00",
          "2024-02-28T00:00:00",
          "2024-02-29T00:00:00",
          "2024-03-01T00:00:00",
          "2024-03-04T00:00:00",
          "2024-03-05T00:00:00",
          "2024-03-06T00:00:00",
          "2024-03-07T00:00:00",
          "2024-03-08T00:00:00",
          "2024-03-11T00:00:00",
          "2024-03-12T00:00:00",
          "2024-03-13T00:00:00",
          "2024-03-14T00:00:00",
          "2024-03-15T00:00:00",
          "2024-03-18T00:00:00",
          "2024-03-19T00:00:00",
          "2024-03-20T00:00:00",
          "2024-03-21T00:00:00",
          "2024-03-22T00:00:00",
          "2024-03-25T00:00:00",
          "2024-03-26T00:00:00",
          "2024-03-27T00:00:00",
          "2024-03-28T00:00:00",
          "2024-04-01T00:00:00",
          "2024-04-02T00:00:00",
          "2024-04-03T00:00:00",
          "2024-04-04T00:00:00",
          "2024-04-05T00:00:00",
          "2024-04-08T00:00:00",
          "2024-04-09T00:00:00",
          "2024-04-10T00:00:00",
          "2024-04-11T00:00:00",
          "2024-04-12T00:00:00",
          "2024-04-15T00:00:00",
          "2024-04-16T00:00:00",
          "2024-04-17T00:00:00",
          "2024-04-18T00:00:00",
          "2024-04-19T00:00:00",
          "2024-04-22T00:00:00",
          "2024-04-23T00:00:00",
          "2024-04-24T00:00:00",
          "2024-04-25T00:00:00",
          "2024-04-26T00:00:00",
          "2024-04-29T00:00:00",
          "2024-04-30T00:00:00",
          "2024-05-01T00:00:00",
          "2024-05-02T00:00:00",
          "2024-05-03T00:00:00",
          "2024-05-06T00:00:00",
          "2024-05-07T00:00:00",
          "2024-05-08T00:00:00",
          "2024-05-09T00:00:00",
          "2024-05-10T00:00:00",
          "2024-05-13T00:00:00",
          "2024-05-14T00:00:00",
          "2024-05-15T00:00:00",
          "2024-05-16T00:00:00",
          "2024-05-17T00:00:00",
          "2024-05-20T00:00:00",
          "2024-05-21T00:00:00",
          "2024-05-22T00:00:00",
          "2024-05-23T00:00:00",
          "2024-05-24T00:00:00",
          "2024-05-28T00:00:00",
          "2024-05-29T00:00:00",
          "2024-05-30T00:00:00",
          "2024-05-31T00:00:00",
          "2024-06-03T00:00:00",
          "2024-06-04T00:00:00",
          "2024-06-05T00:00:00",
          "2024-06-06T00:00:00",
          "2024-06-07T00:00:00",
          "2024-06-10T00:00:00",
          "2024-06-11T00:00:00",
          "2024-06-12T00:00:00",
          "2024-06-13T00:00:00",
          "2024-06-14T00:00:00",
          "2024-06-17T00:00:00",
          "2024-06-18T00:00:00",
          "2024-06-20T00:00:00",
          "2024-06-21T00:00:00",
          "2024-06-24T00:00:00",
          "2024-06-25T00:00:00",
          "2024-06-26T00:00:00",
          "2024-06-27T00:00:00",
          "2024-06-28T00:00:00",
          "2024-07-01T00:00:00",
          "2024-07-02T00:00:00",
          "2024-07-03T00:00:00",
          "2024-07-05T00:00:00",
          "2024-07-08T00:00:00",
          "2024-07-09T00:00:00",
          "2024-07-10T00:00:00",
          "2024-07-11T00:00:00",
          "2024-07-12T00:00:00",
          "2024-07-15T00:00:00",
          "2024-07-16T00:00:00",
          "2024-07-17T00:00:00",
          "2024-07-18T00:00:00",
          "2024-07-19T00:00:00",
          "2024-07-22T00:00:00",
          "2024-07-23T00:00:00",
          "2024-07-24T00:00:00",
          "2024-07-25T00:00:00",
          "2024-07-26T00:00:00",
          "2024-07-29T00:00:00",
          "2024-07-30T00:00:00",
          "2024-07-31T00:00:00",
          "2024-08-01T00:00:00",
          "2024-08-02T00:00:00",
          "2024-08-05T00:00:00",
          "2024-08-06T00:00:00",
          "2024-08-07T00:00:00",
          "2024-08-08T00:00:00",
          "2024-08-09T00:00:00",
          "2024-08-12T00:00:00",
          "2024-08-13T00:00:00",
          "2024-08-14T00:00:00",
          "2024-08-15T00:00:00",
          "2024-08-16T00:00:00",
          "2024-08-19T00:00:00",
          "2024-08-20T00:00:00",
          "2024-08-21T00:00:00",
          "2024-08-22T00:00:00",
          "2024-08-23T00:00:00",
          "2024-08-26T00:00:00",
          "2024-08-27T00:00:00",
          "2024-08-28T00:00:00",
          "2024-08-29T00:00:00",
          "2024-08-30T00:00:00",
          "2024-09-03T00:00:00",
          "2024-09-04T00:00:00",
          "2024-09-05T00:00:00",
          "2024-09-06T00:00:00",
          "2024-09-09T00:00:00",
          "2024-09-10T00:00:00",
          "2024-09-11T00:00:00",
          "2024-09-12T00:00:00",
          "2024-09-13T00:00:00",
          "2024-09-16T00:00:00",
          "2024-09-17T00:00:00",
          "2024-09-18T00:00:00",
          "2024-09-19T00:00:00",
          "2024-09-20T00:00:00",
          "2024-09-23T00:00:00",
          "2024-09-24T00:00:00",
          "2024-09-25T00:00:00",
          "2024-09-26T00:00:00",
          "2024-09-27T00:00:00",
          "2024-09-30T00:00:00",
          "2024-10-01T00:00:00",
          "2024-10-02T00:00:00",
          "2024-10-03T00:00:00",
          "2024-10-04T00:00:00",
          "2024-10-07T00:00:00",
          "2024-10-08T00:00:00",
          "2024-10-09T00:00:00",
          "2024-10-10T00:00:00",
          "2024-10-11T00:00:00",
          "2024-10-14T00:00:00",
          "2024-10-15T00:00:00",
          "2024-10-16T00:00:00",
          "2024-10-17T00:00:00",
          "2024-10-18T00:00:00",
          "2024-10-21T00:00:00",
          "2024-10-22T00:00:00",
          "2024-10-23T00:00:00",
          "2024-10-24T00:00:00",
          "2024-10-25T00:00:00",
          "2024-10-28T00:00:00",
          "2024-10-29T00:00:00",
          "2024-10-30T00:00:00",
          "2024-10-31T00:00:00",
          "2024-11-01T00:00:00",
          "2024-11-04T00:00:00",
          "2024-11-05T00:00:00",
          "2024-11-06T00:00:00",
          "2024-11-07T00:00:00",
          "2024-11-08T00:00:00",
          "2024-11-11T00:00:00",
          "2024-11-12T00:00:00",
          "2024-11-13T00:00:00",
          "2024-11-14T00:00:00",
          "2024-11-15T00:00:00",
          "2024-11-18T00:00:00",
          "2024-11-19T00:00:00",
          "2024-11-20T00:00:00",
          "2024-11-21T00:00:00",
          "2024-11-22T00:00:00",
          "2024-11-25T00:00:00",
          "2024-11-26T00:00:00",
          "2024-11-27T00:00:00",
          "2024-11-29T00:00:00",
          "2024-12-02T00:00:00",
          "2024-12-03T00:00:00",
          "2024-12-04T00:00:00",
          "2024-12-05T00:00:00",
          "2024-12-06T00:00:00",
          "2024-12-09T00:00:00",
          "2024-12-10T00:00:00",
          "2024-12-11T00:00:00",
          "2024-12-12T00:00:00",
          "2024-12-13T00:00:00",
          "2024-12-16T00:00:00",
          "2024-12-17T00:00:00",
          "2024-12-18T00:00:00",
          "2024-12-19T00:00:00",
          "2024-12-20T00:00:00",
          "2024-12-23T00:00:00",
          "2024-12-24T00:00:00",
          "2024-12-26T00:00:00",
          "2024-12-27T00:00:00",
          "2024-12-30T00:00:00",
          "2024-12-31T00:00:00",
          "2025-01-02T00:00:00",
          "2025-01-03T00:00:00",
          "2025-01-06T00:00:00",
          "2025-01-07T00:00:00",
          "2025-01-08T00:00:00",
          "2025-01-09T00:00:00",
          "2025-01-10T00:00:00",
          "2025-01-13T00:00:00",
          "2025-01-14T00:00:00",
          "2025-01-15T00:00:00",
          "2025-01-16T00:00:00",
          "2025-01-17T00:00:00",
          "2025-01-21T00:00:00",
          "2025-01-22T00:00:00",
          "2025-01-23T00:00:00",
          "2025-01-24T00:00:00",
          "2025-01-27T00:00:00",
          "2025-01-28T00:00:00",
          "2025-01-29T00:00:00"
         ],
         "xaxis": "x",
         "y": {
          "dtype": "f8",
          "bdata": "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"
         },
         "yaxis": "y",
         "type": "scattergl"
        }
       ],
       "layout": {
        "template": {
         "data": {
          "histogram2dcontour": [
           {
            "type": "histogram2dcontour",
            "colorbar": {
             "outlinewidth": 0,
             "ticks": ""
            },
            "colorscale": [
             [
              0.0,
              "#0d0887"
             ],
             [
              0.1111111111111111,
              "#46039f"
             ],
             [
              0.2222222222222222,
              "#7201a8"
             ],
             [
              0.3333333333333333,
              "#9c179e"
             ],
             [
              0.4444444444444444,
              "#bd3786"
             ],
             [
              0.5555555555555556,
              "#d8576b"
             ],
             [
              0.6666666666666666,
              "#ed7953"
             ],
             [
              0.7777777777777778,
              "#fb9f3a"
             ],
             [
              0.8888888888888888,
              "#fdca26"
             ],
             [
              1.0,
              "#f0f921"
             ]
            ]
           }
          ],
          "choropleth": [
           {
            "type": "choropleth",
            "colorbar": {
             "outlinewidth": 0,
             "ticks": ""
            }
           }
          ],
          "histogram2d": [
           {
            "type": "histogram2d",
            "colorbar": {
             "outlinewidth": 0,
             "ticks": ""
            },
            "colorscale": [
             [
              0.0,
              "#0d0887"
             ],
             [
              0.1111111111111111,
              "#46039f"
             ],
             [
              0.2222222222222222,
              "#7201a8"
             ],
             [
              0.3333333333333333,
              "#9c179e"
             ],
             [
              0.4444444444444444,
              "#bd3786"
             ],
             [
              0.5555555555555556,
              "#d8576b"
             ],
             [
              0.6666666666666666,
              "#ed7953"
             ],
             [
              0.7777777777777778,
              "#fb9f3a"
             ],
             [
              0.8888888888888888,
              "#fdca26"
             ],
             [
              1.0,
              "#f0f921"
             ]
            ]
           }
          ],
          "heatmap": [
           {
            "type": "heatmap",
            "colorbar": {
             "outlinewidth": 0,
             "ticks": ""
            },
            "colorscale": [
             [
              0.0,
              "#0d0887"
             ],
             [
              0.1111111111111111,
              "#46039f"
             ],
             [
              0.2222222222222222,
              "#7201a8"
             ],
             [
              0.3333333333333333,
              "#9c179e"
             ],
             [
              0.4444444444444444,
              "#bd3786"
             ],
             [
              0.5555555555555556,
              "#d8576b"
             ],
             [
              0.6666666666666666,
              "#ed7953"
             ],
             [
              0.7777777777777778,
              "#fb9f3a"
             ],
             [
              0.8888888888888888,
              "#fdca26"
             ],
             [
              1.0,
              "#f0f921"
             ]
            ]
           }
          ],
          "contourcarpet": [
           {
            "type": "contourcarpet",
            "colorbar": {
             "outlinewidth": 0,
             "ticks": ""
            }
           }
          ],
          "contour": [
           {
            "type": "contour",
            "colorbar": {
             "outlinewidth": 0,
             "ticks": ""
            },
            "colorscale": [
             [
              0.0,
              "#0d0887"
             ],
             [
              0.1111111111111111,
              "#46039f"
             ],
             [
              0.2222222222222222,
              "#7201a8"
             ],
             [
              0.3333333333333333,
              "#9c179e"
             ],
             [
              0.4444444444444444,
              "#bd3786"
             ],
             [
              0.5555555555555556,
              "#d8576b"
             ],
             [
              0.6666666666666666,
              "#ed7953"
             ],
             [
              0.7777777777777778,
              "#fb9f3a"
             ],
             [
              0.8888888888888888,
              "#fdca26"
             ],
             [
              1.0,
              "#f0f921"
             ]
            ]
           }
          ],
          "surface": [
           {
            "type": "surface",
            "colorbar": {
             "outlinewidth": 0,
             "ticks": ""
            },
            "colorscale": [
             [
              0.0,
              "#0d0887"
             ],
             [
              0.1111111111111111,
              "#46039f"
             ],
             [
              0.2222222222222222,
              "#7201a8"
             ],
             [
              0.3333333333333333,
              "#9c179e"
             ],
             [
              0.4444444444444444,
              "#bd3786"
             ],
             [
              0.5555555555555556,
              "#d8576b"
             ],
             [
              0.6666666666666666,
              "#ed7953"
             ],
             [
              0.7777777777777778,
              "#fb9f3a"
             ],
             [
              0.8888888888888888,
              "#fdca26"
             ],
             [
              1.0,
              "#f0f921"
             ]
            ]
           }
          ],
          "mesh3d": [
           {
            "type": "mesh3d",
            "colorbar": {
             "outlinewidth": 0,
             "ticks": ""
            }
           }
          ],
          "scatter": [
           {
            "marker": {
             "line": {
              "color": "#283442"
             }
            },
            "type": "scatter"
           }
          ],
          "parcoords": [
           {
            "type": "parcoords",
            "line": {
             "colorbar": {
              "outlinewidth": 0,
              "ticks": ""
             }
            }
           }
          ],
          "scatterpolargl": [
           {
            "type": "scatterpolargl",
            "marker": {
             "colorbar": {
              "outlinewidth": 0,
              "ticks": ""
             }
            }
           }
          ],
          "bar": [
           {
            "error_x": {
             "color": "#f2f5fa"
            },
            "error_y": {
             "color": "#f2f5fa"
            },
            "marker": {
             "line": {
              "color": "rgb(17,17,17)",
              "width": 0.5
             },
             "pattern": {
              "fillmode": "overlay",
              "size": 10,
              "solidity": 0.2
             }
            },
            "type": "bar"
           }
          ],
          "scattergeo": [
           {
            "type": "scattergeo",
            "marker": {
             "colorbar": {
              "outlinewidth": 0,
              "ticks": ""
             }
            }
           }
          ],
          "scatterpolar": [
           {
            "type": "scatterpolar",
            "marker": {
             "colorbar": {
              "outlinewidth": 0,
              "ticks": ""
             }
            }
           }
          ],
          "histogram": [
           {
            "marker": {
             "pattern": {
              "fillmode": "overlay",
              "size": 10,
              "solidity": 0.2
             }
            },
            "type": "histogram"
           }
          ],
          "scattergl": [
           {
            "marker": {
             "line": {
              "color": "#283442"
             }
            },
            "type": "scattergl"
           }
          ],
          "scatter3d": [
           {
            "type": "scatter3d",
            "line": {
             "colorbar": {
              "outlinewidth": 0,
              "ticks": ""
             }
            },
            "marker": {
             "colorbar": {
              "outlinewidth": 0,
              "ticks": ""
             }
            }
           }
          ],
          "scattermap": [
           {
            "type": "scattermap",
            "marker": {
             "colorbar": {
              "outlinewidth": 0,
              "ticks": ""
             }
            }
           }
          ],
          "scattermapbox": [
           {
            "type": "scattermapbox",
            "marker": {
             "colorbar": {
              "outlinewidth": 0,
              "ticks": ""
             }
            }
           }
          ],
          "scatterternary": [
           {
            "type": "scatterternary",
            "marker": {
             "colorbar": {
              "outlinewidth": 0,
              "ticks": ""
             }
            }
           }
          ],
          "scattercarpet": [
           {
            "type": "scattercarpet",
            "marker": {
             "colorbar": {
              "outlinewidth": 0,
              "ticks": ""
             }
            }
           }
          ],
          "carpet": [
           {
            "aaxis": {
             "endlinecolor": "#A2B1C6",
             "gridcolor": "#506784",
             "linecolor": "#506784",
             "minorgridcolor": "#506784",
             "startlinecolor": "#A2B1C6"
            },
            "baxis": {
             "endlinecolor": "#A2B1C6",
             "gridcolor": "#506784",
             "linecolor": "#506784",
             "minorgridcolor": "#506784",
             "startlinecolor": "#A2B1C6"
            },
            "type": "carpet"
           }
          ],
          "table": [
           {
            "cells": {
             "fill": {
              "color": "#506784"
             },
             "line": {
              "color": "rgb(17,17,17)"
             }
            },
            "header": {
             "fill": {
              "color": "#2a3f5f"
             },
             "line": {
              "color": "rgb(17,17,17)"
             }
            },
            "type": "table"
           }
          ],
          "barpolar": [
           {
            "marker": {
             "line": {
              "color": "rgb(17,17,17)",
              "width": 0.5
             },
             "pattern": {
              "fillmode": "overlay",
              "size": 10,
              "solidity": 0.2
             }
            },
            "type": "barpolar"
           }
          ],
          "pie": [
           {
            "automargin": true,
            "type": "pie"
           }
          ]
         },
         "layout": {
          "autotypenumbers": "strict",
          "colorway": [
           "#636efa",
           "#EF553B",
           "#00cc96",
           "#ab63fa",
           "#FFA15A",
           "#19d3f3",
           "#FF6692",
           "#B6E880",
           "#FF97FF",
           "#FECB52"
          ],
          "font": {
           "color": "#f2f5fa"
          },
          "hovermode": "closest",
          "hoverlabel": {
           "align": "left"
          },
          "paper_bgcolor": "rgb(17,17,17)",
          "plot_bgcolor": "rgb(17,17,17)",
          "polar": {
           "bgcolor": "rgb(17,17,17)",
           "angularaxis": {
            "gridcolor": "#506784",
            "linecolor": "#506784",
            "ticks": ""
           },
           "radialaxis": {
            "gridcolor": "#506784",
            "linecolor": "#506784",
            "ticks": ""
           }
          },
          "ternary": {
           "bgcolor": "rgb(17,17,17)",
           "aaxis": {
            "gridcolor": "#506784",
            "linecolor": "#506784",
            "ticks": ""
           },
           "baxis": {
            "gridcolor": "#506784",
            "linecolor": "#506784",
            "ticks": ""
           },
           "caxis": {
            "gridcolor": "#506784",
            "linecolor": "#506784",
            "ticks": ""
           }
          },
          "coloraxis": {
           "colorbar": {
            "outlinewidth": 0,
            "ticks": ""
           }
          },
          "colorscale": {
           "sequential": [
            [
             0.0,
             "#0d0887"
            ],
            [
             0.1111111111111111,
             "#46039f"
            ],
            [
             0.2222222222222222,
             "#7201a8"
            ],
            [
             0.3333333333333333,
             "#9c179e"
            ],
            [
             0.4444444444444444,
             "#bd3786"
            ],
            [
             0.5555555555555556,
             "#d8576b"
            ],
            [
             0.6666666666666666,
             "#ed7953"
            ],
            [
             0.7777777777777778,
             "#fb9f3a"
            ],
            [
             0.8888888888888888,
             "#fdca26"
            ],
            [
             1.0,
             "#f0f921"
            ]
           ],
           "sequentialminus": [
            [
             0.0,
             "#0d0887"
            ],
            [
             0.1111111111111111,
             "#46039f"
            ],
            [
             0.2222222222222222,
             "#7201a8"
            ],
            [
             0.3333333333333333,
             "#9c179e"
            ],
            [
             0.4444444444444444,
             "#bd3786"
            ],
            [
             0.5555555555555556,
             "#d8576b"
            ],
            [
             0.6666666666666666,
             "#ed7953"
            ],
            [
             0.7777777777777778,
             "#fb9f3a"
            ],
            [
             0.8888888888888888,
             "#fdca26"
            ],
            [
             1.0,
             "#f0f921"
            ]
           ],
           "diverging": [
            [
             0,
             "#8e0152"
            ],
            [
             0.1,
             "#c51b7d"
            ],
            [
             0.2,
             "#de77ae"
            ],
            [
             0.3,
             "#f1b6da"
            ],
            [
             0.4,
             "#fde0ef"
            ],
            [
             0.5,
             "#f7f7f7"
            ],
            [
             0.6,
             "#e6f5d0"
            ],
            [
             0.7,
             "#b8e186"
            ],
            [
             0.8,
             "#7fbc41"
            ],
            [
             0.9,
             "#4d9221"
            ],
            [
             1,
             "#276419"
            ]
           ]
          },
          "xaxis": {
           "gridcolor": "#283442",
           "linecolor": "#506784",
           "ticks": "",
           "title": {
            "standoff": 15
           },
           "zerolinecolor": "#283442",
           "automargin": true,
           "zerolinewidth": 2
          },
          "yaxis": {
           "gridcolor": "#283442",
           "linecolor": "#506784",
           "ticks": "",
           "title": {
            "standoff": 15
           },
           "zerolinecolor": "#283442",
           "automargin": true,
           "zerolinewidth": 2
          },
          "scene": {
           "xaxis": {
            "backgroundcolor": "rgb(17,17,17)",
            "gridcolor": "#506784",
            "linecolor": "#506784",
            "showbackground": true,
            "ticks": "",
            "zerolinecolor": "#C8D4E3",
            "gridwidth": 2
           },
           "yaxis": {
            "backgroundcolor": "rgb(17,17,17)",
            "gridcolor": "#506784",
            "linecolor": "#506784",
            "showbackground": true,
            "ticks": "",
            "zerolinecolor": "#C8D4E3",
            "gridwidth": 2
           },
           "zaxis": {
            "backgroundcolor": "rgb(17,17,17)",
            "gridcolor": "#506784",
            "linecolor": "#506784",
            "showbackground": true,
            "ticks": "",
            "zerolinecolor": "#C8D4E3",
            "gridwidth": 2
           }
          },
          "shapedefaults": {
           "line": {
            "color": "#f2f5fa"
           }
          },
          "annotationdefaults": {
           "arrowcolor": "#f2f5fa",
           "arrowhead": 0,
           "arrowwidth": 1
          },
          "geo": {
           "bgcolor": "rgb(17,17,17)",
           "landcolor": "rgb(17,17,17)",
           "subunitcolor": "#506784",
           "showland": true,
           "showlakes": true,
           "lakecolor": "rgb(17,17,17)"
          },
          "title": {
           "x": 0.05
          },
          "updatemenudefaults": {
           "bgcolor": "#506784",
           "borderwidth": 0
          },
          "sliderdefaults": {
           "bgcolor": "#C8D4E3",
           "borderwidth": 1,
           "bordercolor": "rgb(17,17,17)",
           "tickwidth": 0
          },
          "mapbox": {
           "style": "dark"
          }
         }
        },
        "xaxis": {
         "anchor": "y",
         "domain": [
          0.0,
          1.0
         ],
         "title": {
          "text": "time_index"
         }
        },
        "yaxis": {
         "anchor": "x",
         "domain": [
          0.0,
          1.0
         ],
         "title": {
          "text": "Exposure"
         }
        },
        "legend": {
         "title": {
          "text": "Factor"
         },
         "tracegroupgap": 0
        },
        "title": {
         "text": "Portfolio Factor Exposures Over Time"
        }
       },
       "config": {
        "plotlyServerURL": "https://plot.ly"
       }
      }
     },
     "metadata": {},
     "output_type": "display_data"
    }
   ],
   "execution_count": 3
  },
  {
   "cell_type": "markdown",
   "id": "9bad0ec0",
   "metadata": {},
   "source": [
    "## 4. Rolling Statistics\n",
    "Calculate rolling mean, volatility, and autocorrelation of portfolio exposures:\n",
    "\n",
    "$$ \\mu_{f,t} = \\frac{1}{W}\\sum_{k=0}^{W-1} x_f(t-k),\\quad \\sigma_{f,t} = \\sqrt{\\frac{1}{W-1}\\sum_{k=0}^{W-1}(x_f(t-k) - \\mu_{f,t})^2},\\quad \\rho_{f,t} = \\mathrm{corr}(x_f(t), x_f(t-1)) $$"
   ]
  },
  {
   "metadata": {
    "ExecuteTime": {
     "end_time": "2025-08-11T10:13:04.728421Z",
     "start_time": "2025-08-11T10:13:04.019368Z"
    }
   },
   "cell_type": "code",
   "source": [
    "# 4. Rolling statistics\n",
    "rm, rv, racf = pfa.rolling_statistics(window=60)\n",
    "# Plot rolling mean for first three factors\n",
    "rm_df = rm.reset_index().melt(id_vars='time_index', var_name='Factor', value_name='RollingMean')\n",
    "fig = px.line(rm_df[rm_df.Factor.isin(rm.columns[:3])], x='time_index', y='RollingMean', color='Factor',\n",
    "              title='60-Day Rolling Mean of Factor Exposures')\n",
    "fig.show()"
   ],
   "id": "995d43d161bdb70d",
   "outputs": [
    {
     "data": {
      "application/vnd.plotly.v1+json": {
       "data": [
        {
         "hovertemplate": "Factor=lncap<br>time_index=%{x}<br>RollingMean=%{y}<extra></extra>",
         "legendgroup": "lncap",
         "line": {
          "color": "#636efa",
          "dash": "solid"
         },
         "marker": {
          "symbol": "circle"
         },
         "mode": "lines",
         "name": "lncap",
         "showlegend": true,
         "x": [
          "2022-01-03T00:00:00",
          "2022-01-04T00:00:00",
          "2022-01-05T00:00:00",
          "2022-01-06T00:00:00",
          "2022-01-07T00:00:00",
          "2022-01-10T00:00:00",
          "2022-01-11T00:00:00",
          "2022-01-12T00:00:00",
          "2022-01-13T00:00:00",
          "2022-01-14T00:00:00",
          "2022-01-18T00:00:00",
          "2022-01-19T00:00:00",
          "2022-01-20T00:00:00",
          "2022-01-21T00:00:00",
          "2022-01-24T00:00:00",
          "2022-01-25T00:00:00",
          "2022-01-26T00:00:00",
          "2022-01-27T00:00:00",
          "2022-01-28T00:00:00",
          "2022-01-31T00:00:00",
          "2022-02-01T00:00:00",
          "2022-02-02T00:00:00",
          "2022-02-03T00:00:00",
          "2022-02-04T00:00:00",
          "2022-02-07T00:00:00",
          "2022-02-08T00:00:00",
          "2022-02-09T00:00:00",
          "2022-02-10T00:00:00",
          "2022-02-11T00:00:00",
          "2022-02-14T00:00:00",
          "2022-02-15T00:00:00",
          "2022-02-16T00:00:00",
          "2022-02-17T00:00:00",
          "2022-02-18T00:00:00",
          "2022-02-22T00:00:00",
          "2022-02-23T00:00:00",
          "2022-02-24T00:00:00",
          "2022-02-25T00:00:00",
          "2022-02-28T00:00:00",
          "2022-03-01T00:00:00",
          "2022-03-02T00:00:00",
          "2022-03-03T00:00:00",
          "2022-03-04T00:00:00",
          "2022-03-07T00:00:00",
          "2022-03-08T00:00:00",
          "2022-03-09T00:00:00",
          "2022-03-10T00:00:00",
          "2022-03-11T00:00:00",
          "2022-03-14T00:00:00",
          "2022-03-15T00:00:00",
          "2022-03-16T00:00:00",
          "2022-03-17T00:00:00",
          "2022-03-18T00:00:00",
          "2022-03-21T00:00:00",
          "2022-03-22T00:00:00",
          "2022-03-23T00:00:00",
          "2022-03-24T00:00:00",
          "2022-03-25T00:00:00",
          "2022-03-28T00:00:00",
          "2022-03-29T00:00:00",
          "2022-03-30T00:00:00",
          "2022-03-31T00:00:00",
          "2022-04-01T00:00:00",
          "2022-04-04T00:00:00",
          "2022-04-05T00:00:00",
          "2022-04-06T00:00:00",
          "2022-04-07T00:00:00",
          "2022-04-08T00:00:00",
          "2022-04-11T00:00:00",
          "2022-04-12T00:00:00",
          "2022-04-13T00:00:00",
          "2022-04-14T00:00:00",
          "2022-04-18T00:00:00",
          "2022-04-19T00:00:00",
          "2022-04-20T00:00:00",
          "2022-04-21T00:00:00",
          "2022-04-22T00:00:00",
          "2022-04-25T00:00:00",
          "2022-04-26T00:00:00",
          "2022-04-27T00:00:00",
          "2022-04-28T00:00:00",
          "2022-04-29T00:00:00",
          "2022-05-02T00:00:00",
          "2022-05-03T00:00:00",
          "2022-05-04T00:00:00",
          "2022-05-05T00:00:00",
          "2022-05-06T00:00:00",
          "2022-05-09T00:00:00",
          "2022-05-10T00:00:00",
          "2022-05-11T00:00:00",
          "2022-05-12T00:00:00",
          "2022-05-13T00:00:00",
          "2022-05-16T00:00:00",
          "2022-05-17T00:00:00",
          "2022-05-18T00:00:00",
          "2022-05-19T00:00:00",
          "2022-05-20T00:00:00",
          "2022-05-23T00:00:00",
          "2022-05-24T00:00:00",
          "2022-05-25T00:00:00",
          "2022-05-26T00:00:00",
          "2022-05-27T00:00:00",
          "2022-05-31T00:00:00",
          "2022-06-01T00:00:00",
          "2022-06-02T00:00:00",
          "2022-06-03T00:00:00",
          "2022-06-06T00:00:00",
          "2022-06-07T00:00:00",
          "2022-06-08T00:00:00",
          "2022-06-09T00:00:00",
          "2022-06-10T00:00:00",
          "2022-06-13T00:00:00",
          "2022-06-14T00:00:00",
          "2022-06-15T00:00:00",
          "2022-06-16T00:00:00",
          "2022-06-17T00:00:00",
          "2022-06-21T00:00:00",
          "2022-06-22T00:00:00",
          "2022-06-23T00:00:00",
          "2022-06-24T00:00:00",
          "2022-06-27T00:00:00",
          "2022-06-28T00:00:00",
          "2022-06-29T00:00:00",
          "2022-06-30T00:00:00",
          "2022-07-01T00:00:00",
          "2022-07-05T00:00:00",
          "2022-07-06T00:00:00",
          "2022-07-07T00:00:00",
          "2022-07-08T00:00:00",
          "2022-07-11T00:00:00",
          "2022-07-12T00:00:00",
          "2022-07-13T00:00:00",
          "2022-07-14T00:00:00",
          "2022-07-15T00:00:00",
          "2022-07-18T00:00:00",
          "2022-07-19T00:00:00",
          "2022-07-20T00:00:00",
          "2022-07-21T00:00:00",
          "2022-07-22T00:00:00",
          "2022-07-25T00:00:00",
          "2022-07-26T00:00:00",
          "2022-07-27T00:00:00",
          "2022-07-28T00:00:00",
          "2022-07-29T00:00:00",
          "2022-08-01T00:00:00",
          "2022-08-02T00:00:00",
          "2022-08-03T00:00:00",
          "2022-08-04T00:00:00",
          "2022-08-05T00:00:00",
          "2022-08-08T00:00:00",
          "2022-08-09T00:00:00",
          "2022-08-10T00:00:00",
          "2022-08-11T00:00:00",
          "2022-08-12T00:00:00",
          "2022-08-15T00:00:00",
          "2022-08-16T00:00:00",
          "2022-08-17T00:00:00",
          "2022-08-18T00:00:00",
          "2022-08-19T00:00:00",
          "2022-08-22T00:00:00",
          "2022-08-23T00:00:00",
          "2022-08-24T00:00:00",
          "2022-08-25T00:00:00",
          "2022-08-26T00:00:00",
          "2022-08-29T00:00:00",
          "2022-08-30T00:00:00",
          "2022-08-31T00:00:00",
          "2022-09-01T00:00:00",
          "2022-09-02T00:00:00",
          "2022-09-06T00:00:00",
          "2022-09-07T00:00:00",
          "2022-09-08T00:00:00",
          "2022-09-09T00:00:00",
          "2022-09-12T00:00:00",
          "2022-09-13T00:00:00",
          "2022-09-14T00:00:00",
          "2022-09-15T00:00:00",
          "2022-09-16T00:00:00",
          "2022-09-19T00:00:00",
          "2022-09-20T00:00:00",
          "2022-09-21T00:00:00",
          "2022-09-22T00:00:00",
          "2022-09-23T00:00:00",
          "2022-09-26T00:00:00",
          "2022-09-27T00:00:00",
          "2022-09-28T00:00:00",
          "2022-09-29T00:00:00",
          "2022-09-30T00:00:00",
          "2022-10-03T00:00:00",
          "2022-10-04T00:00:00",
          "2022-10-05T00:00:00",
          "2022-10-06T00:00:00",
          "2022-10-07T00:00:00",
          "2022-10-10T00:00:00",
          "2022-10-11T00:00:00",
          "2022-10-12T00:00:00",
          "2022-10-13T00:00:00",
          "2022-10-14T00:00:00",
          "2022-10-17T00:00:00",
          "2022-10-18T00:00:00",
          "2022-10-19T00:00:00",
          "2022-10-20T00:00:00",
          "2022-10-21T00:00:00",
          "2022-10-24T00:00:00",
          "2022-10-25T00:00:00",
          "2022-10-26T00:00:00",
          "2022-10-27T00:00:00",
          "2022-10-28T00:00:00",
          "2022-10-31T00:00:00",
          "2022-11-01T00:00:00",
          "2022-11-02T00:00:00",
          "2022-11-03T00:00:00",
          "2022-11-04T00:00:00",
          "2022-11-07T00:00:00",
          "2022-11-08T00:00:00",
          "2022-11-09T00:00:00",
          "2022-11-10T00:00:00",
          "2022-11-11T00:00:00",
          "2022-11-14T00:00:00",
          "2022-11-15T00:00:00",
          "2022-11-16T00:00:00",
          "2022-11-17T00:00:00",
          "2022-11-18T00:00:00",
          "2022-11-21T00:00:00",
          "2022-11-22T00:00:00",
          "2022-11-23T00:00:00",
          "2022-11-25T00:00:00",
          "2022-11-28T00:00:00",
          "2022-11-29T00:00:00",
          "2022-11-30T00:00:00",
          "2022-12-01T00:00:00",
          "2022-12-02T00:00:00",
          "2022-12-05T00:00:00",
          "2022-12-06T00:00:00",
          "2022-12-07T00:00:00",
          "2022-12-08T00:00:00",
          "2022-12-09T00:00:00",
          "2022-12-12T00:00:00",
          "2022-12-13T00:00:00",
          "2022-12-14T00:00:00",
          "2022-12-15T00:00:00",
          "2022-12-16T00:00:00",
          "2022-12-19T00:00:00",
          "2022-12-20T00:00:00",
          "2022-12-21T00:00:00",
          "2022-12-22T00:00:00",
          "2022-12-23T00:00:00",
          "2022-12-27T00:00:00",
          "2022-12-28T00:00:00",
          "2022-12-29T00:00:00",
          "2022-12-30T00:00:00",
          "2023-01-03T00:00:00",
          "2023-01-04T00:00:00",
          "2023-01-05T00:00:00",
          "2023-01-06T00:00:00",
          "2023-01-09T00:00:00",
          "2023-01-10T00:00:00",
          "2023-01-11T00:00:00",
          "2023-01-12T00:00:00",
          "2023-01-13T00:00:00",
          "2023-01-17T00:00:00",
          "2023-01-18T00:00:00",
          "2023-01-19T00:00:00",
          "2023-01-20T00:00:00",
          "2023-01-23T00:00:00",
          "2023-01-24T00:00:00",
          "2023-01-25T00:00:00",
          "2023-01-26T00:00:00",
          "2023-01-27T00:00:00",
          "2023-01-30T00:00:00",
          "2023-01-31T00:00:00",
          "2023-02-01T00:00:00",
          "2023-02-02T00:00:00",
          "2023-02-03T00:00:00",
          "2023-02-06T00:00:00",
          "2023-02-07T00:00:00",
          "2023-02-08T00:00:00",
          "2023-02-09T00:00:00",
          "2023-02-10T00:00:00",
          "2023-02-13T00:00:00",
          "2023-02-14T00:00:00",
          "2023-02-15T00:00:00",
          "2023-02-16T00:00:00",
          "2023-02-17T00:00:00",
          "2023-02-21T00:00:00",
          "2023-02-22T00:00:00",
          "2023-02-23T00:00:00",
          "2023-02-24T00:00:00",
          "2023-02-27T00:00:00",
          "2023-02-28T00:00:00",
          "2023-03-01T00:00:00",
          "2023-03-02T00:00:00",
          "2023-03-03T00:00:00",
          "2023-03-06T00:00:00",
          "2023-03-07T00:00:00",
          "2023-03-08T00:00:00",
          "2023-03-09T00:00:00",
          "2023-03-10T00:00:00",
          "2023-03-13T00:00:00",
          "2023-03-14T00:00:00",
          "2023-03-15T00:00:00",
          "2023-03-16T00:00:00",
          "2023-03-17T00:00:00",
          "2023-03-20T00:00:00",
          "2023-03-21T00:00:00",
          "2023-03-22T00:00:00",
          "2023-03-23T00:00:00",
          "2023-03-24T00:00:00",
          "2023-03-27T00:00:00",
          "2023-03-28T00:00:00",
          "2023-03-29T00:00:00",
          "2023-03-30T00:00:00",
          "2023-03-31T00:00:00",
          "2023-04-03T00:00:00",
          "2023-04-04T00:00:00",
          "2023-04-05T00:00:00",
          "2023-04-06T00:00:00",
          "2023-04-10T00:00:00",
          "2023-04-11T00:00:00",
          "2023-04-12T00:00:00",
          "2023-04-13T00:00:00",
          "2023-04-14T00:00:00",
          "2023-04-17T00:00:00",
          "2023-04-18T00:00:00",
          "2023-04-19T00:00:00",
          "2023-04-20T00:00:00",
          "2023-04-21T00:00:00",
          "2023-04-24T00:00:00",
          "2023-04-25T00:00:00",
          "2023-04-26T00:00:00",
          "2023-04-27T00:00:00",
          "2023-04-28T00:00:00",
          "2023-05-01T00:00:00",
          "2023-05-02T00:00:00",
          "2023-05-03T00:00:00",
          "2023-05-04T00:00:00",
          "2023-05-05T00:00:00",
          "2023-05-08T00:00:00",
          "2023-05-09T00:00:00",
          "2023-05-10T00:00:00",
          "2023-05-11T00:00:00",
          "2023-05-12T00:00:00",
          "2023-05-15T00:00:00",
          "2023-05-16T00:00:00",
          "2023-05-17T00:00:00",
          "2023-05-18T00:00:00",
          "2023-05-19T00:00:00",
          "2023-05-22T00:00:00",
          "2023-05-23T00:00:00",
          "2023-05-24T00:00:00",
          "2023-05-25T00:00:00",
          "2023-05-26T00:00:00",
          "2023-05-30T00:00:00",
          "2023-05-31T00:00:00",
          "2023-06-01T00:00:00",
          "2023-06-02T00:00:00",
          "2023-06-05T00:00:00",
          "2023-06-06T00:00:00",
          "2023-06-07T00:00:00",
          "2023-06-08T00:00:00",
          "2023-06-09T00:00:00",
          "2023-06-12T00:00:00",
          "2023-06-13T00:00:00",
          "2023-06-14T00:00:00",
          "2023-06-15T00:00:00",
          "2023-06-16T00:00:00",
          "2023-06-20T00:00:00",
          "2023-06-21T00:00:00",
          "2023-06-22T00:00:00",
          "2023-06-23T00:00:00",
          "2023-06-26T00:00:00",
          "2023-06-27T00:00:00",
          "2023-06-28T00:00:00",
          "2023-06-29T00:00:00",
          "2023-06-30T00:00:00",
          "2023-07-03T00:00:00",
          "2023-07-05T00:00:00",
          "2023-07-06T00:00:00",
          "2023-07-07T00:00:00",
          "2023-07-10T00:00:00",
          "2023-07-11T00:00:00",
          "2023-07-12T00:00:00",
          "2023-07-13T00:00:00",
          "2023-07-14T00:00:00",
          "2023-07-17T00:00:00",
          "2023-07-18T00:00:00",
          "2023-07-19T00:00:00",
          "2023-07-20T00:00:00",
          "2023-07-21T00:00:00",
          "2023-07-24T00:00:00",
          "2023-07-25T00:00:00",
          "2023-07-26T00:00:00",
          "2023-07-27T00:00:00",
          "2023-07-28T00:00:00",
          "2023-07-31T00:00:00",
          "2023-08-01T00:00:00",
          "2023-08-02T00:00:00",
          "2023-08-03T00:00:00",
          "2023-08-04T00:00:00",
          "2023-08-07T00:00:00",
          "2023-08-08T00:00:00",
          "2023-08-09T00:00:00",
          "2023-08-10T00:00:00",
          "2023-08-11T00:00:00",
          "2023-08-14T00:00:00",
          "2023-08-15T00:00:00",
          "2023-08-16T00:00:00",
          "2023-08-17T00:00:00",
          "2023-08-18T00:00:00",
          "2023-08-21T00:00:00",
          "2023-08-22T00:00:00",
          "2023-08-23T00:00:00",
          "2023-08-24T00:00:00",
          "2023-08-25T00:00:00",
          "2023-08-28T00:00:00",
          "2023-08-29T00:00:00",
          "2023-08-30T00:00:00",
          "2023-08-31T00:00:00",
          "2023-09-01T00:00:00",
          "2023-09-05T00:00:00",
          "2023-09-06T00:00:00",
          "2023-09-07T00:00:00",
          "2023-09-08T00:00:00",
          "2023-09-11T00:00:00",
          "2023-09-12T00:00:00",
          "2023-09-13T00:00:00",
          "2023-09-14T00:00:00",
          "2023-09-15T00:00:00",
          "2023-09-18T00:00:00",
          "2023-09-19T00:00:00",
          "2023-09-20T00:00:00",
          "2023-09-21T00:00:00",
          "2023-09-22T00:00:00",
          "2023-09-25T00:00:00",
          "2023-09-26T00:00:00",
          "2023-09-27T00:00:00",
          "2023-09-28T00:00:00",
          "2023-09-29T00:00:00",
          "2023-10-02T00:00:00",
          "2023-10-03T00:00:00",
          "2023-10-04T00:00:00",
          "2023-10-05T00:00:00",
          "2023-10-06T00:00:00",
          "2023-10-09T00:00:00",
          "2023-10-10T00:00:00",
          "2023-10-11T00:00:00",
          "2023-10-12T00:00:00",
          "2023-10-13T00:00:00",
          "2023-10-16T00:00:00",
          "2023-10-17T00:00:00",
          "2023-10-18T00:00:00",
          "2023-10-19T00:00:00",
          "2023-10-20T00:00:00",
          "2023-10-23T00:00:00",
          "2023-10-24T00:00:00",
          "2023-10-25T00:00:00",
          "2023-10-26T00:00:00",
          "2023-10-27T00:00:00",
          "2023-10-30T00:00:00",
          "2023-10-31T00:00:00",
          "2023-11-01T00:00:00",
          "2023-11-02T00:00:00",
          "2023-11-03T00:00:00",
          "2023-11-06T00:00:00",
          "2023-11-07T00:00:00",
          "2023-11-08T00:00:00",
          "2023-11-09T00:00:00",
          "2023-11-10T00:00:00",
          "2023-11-13T00:00:00",
          "2023-11-14T00:00:00",
          "2023-11-15T00:00:00",
          "2023-11-16T00:00:00",
          "2023-11-17T00:00:00",
          "2023-11-20T00:00:00",
          "2023-11-21T00:00:00",
          "2023-11-22T00:00:00",
          "2023-11-24T00:00:00",
          "2023-11-27T00:00:00",
          "2023-11-28T00:00:00",
          "2023-11-29T00:00:00",
          "2023-11-30T00:00:00",
          "2023-12-01T00:00:00",
          "2023-12-04T00:00:00",
          "2023-12-05T00:00:00",
          "2023-12-06T00:00:00",
          "2023-12-07T00:00:00",
          "2023-12-08T00:00:00",
          "2023-12-11T00:00:00",
          "2023-12-12T00:00:00",
          "2023-12-13T00:00:00",
          "2023-12-14T00:00:00",
          "2023-12-15T00:00:00",
          "2023-12-18T00:00:00",
          "2023-12-19T00:00:00",
          "2023-12-20T00:00:00",
          "2023-12-21T00:00:00",
          "2023-12-22T00:00:00",
          "2023-12-26T00:00:00",
          "2023-12-27T00:00:00",
          "2023-12-28T00:00:00",
          "2023-12-29T00:00:00",
          "2024-01-02T00:00:00",
          "2024-01-03T00:00:00",
          "2024-01-04T00:00:00",
          "2024-01-05T00:00:00",
          "2024-01-08T00:00:00",
          "2024-01-09T00:00:00",
          "2024-01-10T00:00:00",
          "2024-01-11T00:00:00",
          "2024-01-12T00:00:00",
          "2024-01-16T00:00:00",
          "2024-01-17T00:00:00",
          "2024-01-18T00:00:00",
          "2024-01-19T00:00:00",
          "2024-01-22T00:00:00",
          "2024-01-23T00:00:00",
          "2024-01-24T00:00:00",
          "2024-01-25T00:00:00",
          "2024-01-26T00:00:00",
          "2024-01-29T00:00:00",
          "2024-01-30T00:00:00",
          "2024-01-31T00:00:00",
          "2024-02-01T00:00:00",
          "2024-02-02T00:00:00",
          "2024-02-05T00:00:00",
          "2024-02-06T00:00:00",
          "2024-02-07T00:00:00",
          "2024-02-08T00:00:00",
          "2024-02-09T00:00:00",
          "2024-02-12T00:00:00",
          "2024-02-13T00:00:00",
          "2024-02-14T00:00:00",
          "2024-02-15T00:00:00",
          "2024-02-16T00:00:00",
          "2024-02-20T00:00:00",
          "2024-02-21T00:00:00",
          "2024-02-22T00:00:00",
          "2024-02-23T00:00:00",
          "2024-02-26T00:00:00",
          "2024-02-27T00:00:00",
          "2024-02-28T00:00:00",
          "2024-02-29T00:00:00",
          "2024-03-01T00:00:00",
          "2024-03-04T00:00:00",
          "2024-03-05T00:00:00",
          "2024-03-06T00:00:00",
          "2024-03-07T00:00:00",
          "2024-03-08T00:00:00",
          "2024-03-11T00:00:00",
          "2024-03-12T00:00:00",
          "2024-03-13T00:00:00",
          "2024-03-14T00:00:00",
          "2024-03-15T00:00:00",
          "2024-03-18T00:00:00",
          "2024-03-19T00:00:00",
          "2024-03-20T00:00:00",
          "2024-03-21T00:00:00",
          "2024-03-22T00:00:00",
          "2024-03-25T00:00:00",
          "2024-03-26T00:00:00",
          "2024-03-27T00:00:00",
          "2024-03-28T00:00:00",
          "2024-04-01T00:00:00",
          "2024-04-02T00:00:00",
          "2024-04-03T00:00:00",
          "2024-04-04T00:00:00",
          "2024-04-05T00:00:00",
          "2024-04-08T00:00:00",
          "2024-04-09T00:00:00",
          "2024-04-10T00:00:00",
          "2024-04-11T00:00:00",
          "2024-04-12T00:00:00",
          "2024-04-15T00:00:00",
          "2024-04-16T00:00:00",
          "2024-04-17T00:00:00",
          "2024-04-18T00:00:00",
          "2024-04-19T00:00:00",
          "2024-04-22T00:00:00",
          "2024-04-23T00:00:00",
          "2024-04-24T00:00:00",
          "2024-04-25T00:00:00",
          "2024-04-26T00:00:00",
          "2024-04-29T00:00:00",
          "2024-04-30T00:00:00",
          "2024-05-01T00:00:00",
          "2024-05-02T00:00:00",
          "2024-05-03T00:00:00",
          "2024-05-06T00:00:00",
          "2024-05-07T00:00:00",
          "2024-05-08T00:00:00",
          "2024-05-09T00:00:00",
          "2024-05-10T00:00:00",
          "2024-05-13T00:00:00",
          "2024-05-14T00:00:00",
          "2024-05-15T00:00:00",
          "2024-05-16T00:00:00",
          "2024-05-17T00:00:00",
          "2024-05-20T00:00:00",
          "2024-05-21T00:00:00",
          "2024-05-22T00:00:00",
          "2024-05-23T00:00:00",
          "2024-05-24T00:00:00",
          "2024-05-28T00:00:00",
          "2024-05-29T00:00:00",
          "2024-05-30T00:00:00",
          "2024-05-31T00:00:00",
          "2024-06-03T00:00:00",
          "2024-06-04T00:00:00",
          "2024-06-05T00:00:00",
          "2024-06-06T00:00:00",
          "2024-06-07T00:00:00",
          "2024-06-10T00:00:00",
          "2024-06-11T00:00:00",
          "2024-06-12T00:00:00",
          "2024-06-13T00:00:00",
          "2024-06-14T00:00:00",
          "2024-06-17T00:00:00",
          "2024-06-18T00:00:00",
          "2024-06-20T00:00:00",
          "2024-06-21T00:00:00",
          "2024-06-24T00:00:00",
          "2024-06-25T00:00:00",
          "2024-06-26T00:00:00",
          "2024-06-27T00:00:00",
          "2024-06-28T00:00:00",
          "2024-07-01T00:00:00",
          "2024-07-02T00:00:00",
          "2024-07-03T00:00:00",
          "2024-07-05T00:00:00",
          "2024-07-08T00:00:00",
          "2024-07-09T00:00:00",
          "2024-07-10T00:00:00",
          "2024-07-11T00:00:00",
          "2024-07-12T00:00:00",
          "2024-07-15T00:00:00",
          "2024-07-16T00:00:00",
          "2024-07-17T00:00:00",
          "2024-07-18T00:00:00",
          "2024-07-19T00:00:00",
          "2024-07-22T00:00:00",
          "2024-07-23T00:00:00",
          "2024-07-24T00:00:00",
          "2024-07-25T00:00:00",
          "2024-07-26T00:00:00",
          "2024-07-29T00:00:00",
          "2024-07-30T00:00:00",
          "2024-07-31T00:00:00",
          "2024-08-01T00:00:00",
          "2024-08-02T00:00:00",
          "2024-08-05T00:00:00",
          "2024-08-06T00:00:00",
          "2024-08-07T00:00:00",
          "2024-08-08T00:00:00",
          "2024-08-09T00:00:00",
          "2024-08-12T00:00:00",
          "2024-08-13T00:00:00",
          "2024-08-14T00:00:00",
          "2024-08-15T00:00:00",
          "2024-08-16T00:00:00",
          "2024-08-19T00:00:00",
          "2024-08-20T00:00:00",
          "2024-08-21T00:00:00",
          "2024-08-22T00:00:00",
          "2024-08-23T00:00:00",
          "2024-08-26T00:00:00",
          "2024-08-27T00:00:00",
          "2024-08-28T00:00:00",
          "2024-08-29T00:00:00",
          "2024-08-30T00:00:00",
          "2024-09-03T00:00:00",
          "2024-09-04T00:00:00",
          "2024-09-05T00:00:00",
          "2024-09-06T00:00:00",
          "2024-09-09T00:00:00",
          "2024-09-10T00:00:00",
          "2024-09-11T00:00:00",
          "2024-09-12T00:00:00",
          "2024-09-13T00:00:00",
          "2024-09-16T00:00:00",
          "2024-09-17T00:00:00",
          "2024-09-18T00:00:00",
          "2024-09-19T00:00:00",
          "2024-09-20T00:00:00",
          "2024-09-23T00:00:00",
          "2024-09-24T00:00:00",
          "2024-09-25T00:00:00",
          "2024-09-26T00:00:00",
          "2024-09-27T00:00:00",
          "2024-09-30T00:00:00",
          "2024-10-01T00:00:00",
          "2024-10-02T00:00:00",
          "2024-10-03T00:00:00",
          "2024-10-04T00:00:00",
          "2024-10-07T00:00:00",
          "2024-10-08T00:00:00",
          "2024-10-09T00:00:00",
          "2024-10-10T00:00:00",
          "2024-10-11T00:00:00",
          "2024-10-14T00:00:00",
          "2024-10-15T00:00:00",
          "2024-10-16T00:00:00",
          "2024-10-17T00:00:00",
          "2024-10-18T00:00:00",
          "2024-10-21T00:00:00",
          "2024-10-22T00:00:00",
          "2024-10-23T00:00:00",
          "2024-10-24T00:00:00",
          "2024-10-25T00:00:00",
          "2024-10-28T00:00:00",
          "2024-10-29T00:00:00",
          "2024-10-30T00:00:00",
          "2024-10-31T00:00:00",
          "2024-11-01T00:00:00",
          "2024-11-04T00:00:00",
          "2024-11-05T00:00:00",
          "2024-11-06T00:00:00",
          "2024-11-07T00:00:00",
          "2024-11-08T00:00:00",
          "2024-11-11T00:00:00",
          "2024-11-12T00:00:00",
          "2024-11-13T00:00:00",
          "2024-11-14T00:00:00",
          "2024-11-15T00:00:00",
          "2024-11-18T00:00:00",
          "2024-11-19T00:00:00",
          "2024-11-20T00:00:00",
          "2024-11-21T00:00:00",
          "2024-11-22T00:00:00",
          "2024-11-25T00:00:00",
          "2024-11-26T00:00:00",
          "2024-11-27T00:00:00",
          "2024-11-29T00:00:00",
          "2024-12-02T00:00:00",
          "2024-12-03T00:00:00",
          "2024-12-04T00:00:00",
          "2024-12-05T00:00:00",
          "2024-12-06T00:00:00",
          "2024-12-09T00:00:00",
          "2024-12-10T00:00:00",
          "2024-12-11T00:00:00",
          "2024-12-12T00:00:00",
          "2024-12-13T00:00:00",
          "2024-12-16T00:00:00",
          "2024-12-17T00:00:00",
          "2024-12-18T00:00:00",
          "2024-12-19T00:00:00",
          "2024-12-20T00:00:00",
          "2024-12-23T00:00:00",
          "2024-12-24T00:00:00",
          "2024-12-26T00:00:00",
          "2024-12-27T00:00:00",
          "2024-12-30T00:00:00",
          "2024-12-31T00:00:00",
          "2025-01-02T00:00:00",
          "2025-01-03T00:00:00",
          "2025-01-06T00:00:00",
          "2025-01-07T00:00:00",
          "2025-01-08T00:00:00",
          "2025-01-09T00:00:00",
          "2025-01-10T00:00:00",
          "2025-01-13T00:00:00",
          "2025-01-14T00:00:00",
          "2025-01-15T00:00:00",
          "2025-01-16T00:00:00",
          "2025-01-17T00:00:00",
          "2025-01-21T00:00:00",
          "2025-01-22T00:00:00",
          "2025-01-23T00:00:00",
          "2025-01-24T00:00:00",
          "2025-01-27T00:00:00",
          "2025-01-28T00:00:00",
          "2025-01-29T00:00:00"
         ],
         "xaxis": "x",
         "y": {
          "dtype": "f8",
          "bdata": "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"
         },
         "yaxis": "y",
         "type": "scattergl"
        },
        {
         "hovertemplate": "Factor=lncap2<br>time_index=%{x}<br>RollingMean=%{y}<extra></extra>",
         "legendgroup": "lncap2",
         "line": {
          "color": "#EF553B",
          "dash": "solid"
         },
         "marker": {
          "symbol": "circle"
         },
         "mode": "lines",
         "name": "lncap2",
         "showlegend": true,
         "x": [
          "2022-01-03T00:00:00",
          "2022-01-04T00:00:00",
          "2022-01-05T00:00:00",
          "2022-01-06T00:00:00",
          "2022-01-07T00:00:00",
          "2022-01-10T00:00:00",
          "2022-01-11T00:00:00",
          "2022-01-12T00:00:00",
          "2022-01-13T00:00:00",
          "2022-01-14T00:00:00",
          "2022-01-18T00:00:00",
          "2022-01-19T00:00:00",
          "2022-01-20T00:00:00",
          "2022-01-21T00:00:00",
          "2022-01-24T00:00:00",
          "2022-01-25T00:00:00",
          "2022-01-26T00:00:00",
          "2022-01-27T00:00:00",
          "2022-01-28T00:00:00",
          "2022-01-31T00:00:00",
          "2022-02-01T00:00:00",
          "2022-02-02T00:00:00",
          "2022-02-03T00:00:00",
          "2022-02-04T00:00:00",
          "2022-02-07T00:00:00",
          "2022-02-08T00:00:00",
          "2022-02-09T00:00:00",
          "2022-02-10T00:00:00",
          "2022-02-11T00:00:00",
          "2022-02-14T00:00:00",
          "2022-02-15T00:00:00",
          "2022-02-16T00:00:00",
          "2022-02-17T00:00:00",
          "2022-02-18T00:00:00",
          "2022-02-22T00:00:00",
          "2022-02-23T00:00:00",
          "2022-02-24T00:00:00",
          "2022-02-25T00:00:00",
          "2022-02-28T00:00:00",
          "2022-03-01T00:00:00",
          "2022-03-02T00:00:00",
          "2022-03-03T00:00:00",
          "2022-03-04T00:00:00",
          "2022-03-07T00:00:00",
          "2022-03-08T00:00:00",
          "2022-03-09T00:00:00",
          "2022-03-10T00:00:00",
          "2022-03-11T00:00:00",
          "2022-03-14T00:00:00",
          "2022-03-15T00:00:00",
          "2022-03-16T00:00:00",
          "2022-03-17T00:00:00",
          "2022-03-18T00:00:00",
          "2022-03-21T00:00:00",
          "2022-03-22T00:00:00",
          "2022-03-23T00:00:00",
          "2022-03-24T00:00:00",
          "2022-03-25T00:00:00",
          "2022-03-28T00:00:00",
          "2022-03-29T00:00:00",
          "2022-03-30T00:00:00",
          "2022-03-31T00:00:00",
          "2022-04-01T00:00:00",
          "2022-04-04T00:00:00",
          "2022-04-05T00:00:00",
          "2022-04-06T00:00:00",
          "2022-04-07T00:00:00",
          "2022-04-08T00:00:00",
          "2022-04-11T00:00:00",
          "2022-04-12T00:00:00",
          "2022-04-13T00:00:00",
          "2022-04-14T00:00:00",
          "2022-04-18T00:00:00",
          "2022-04-19T00:00:00",
          "2022-04-20T00:00:00",
          "2022-04-21T00:00:00",
          "2022-04-22T00:00:00",
          "2022-04-25T00:00:00",
          "2022-04-26T00:00:00",
          "2022-04-27T00:00:00",
          "2022-04-28T00:00:00",
          "2022-04-29T00:00:00",
          "2022-05-02T00:00:00",
          "2022-05-03T00:00:00",
          "2022-05-04T00:00:00",
          "2022-05-05T00:00:00",
          "2022-05-06T00:00:00",
          "2022-05-09T00:00:00",
          "2022-05-10T00:00:00",
          "2022-05-11T00:00:00",
          "2022-05-12T00:00:00",
          "2022-05-13T00:00:00",
          "2022-05-16T00:00:00",
          "2022-05-17T00:00:00",
          "2022-05-18T00:00:00",
          "2022-05-19T00:00:00",
          "2022-05-20T00:00:00",
          "2022-05-23T00:00:00",
          "2022-05-24T00:00:00",
          "2022-05-25T00:00:00",
          "2022-05-26T00:00:00",
          "2022-05-27T00:00:00",
          "2022-05-31T00:00:00",
          "2022-06-01T00:00:00",
          "2022-06-02T00:00:00",
          "2022-06-03T00:00:00",
          "2022-06-06T00:00:00",
          "2022-06-07T00:00:00",
          "2022-06-08T00:00:00",
          "2022-06-09T00:00:00",
          "2022-06-10T00:00:00",
          "2022-06-13T00:00:00",
          "2022-06-14T00:00:00",
          "2022-06-15T00:00:00",
          "2022-06-16T00:00:00",
          "2022-06-17T00:00:00",
          "2022-06-21T00:00:00",
          "2022-06-22T00:00:00",
          "2022-06-23T00:00:00",
          "2022-06-24T00:00:00",
          "2022-06-27T00:00:00",
          "2022-06-28T00:00:00",
          "2022-06-29T00:00:00",
          "2022-06-30T00:00:00",
          "2022-07-01T00:00:00",
          "2022-07-05T00:00:00",
          "2022-07-06T00:00:00",
          "2022-07-07T00:00:00",
          "2022-07-08T00:00:00",
          "2022-07-11T00:00:00",
          "2022-07-12T00:00:00",
          "2022-07-13T00:00:00",
          "2022-07-14T00:00:00",
          "2022-07-15T00:00:00",
          "2022-07-18T00:00:00",
          "2022-07-19T00:00:00",
          "2022-07-20T00:00:00",
          "2022-07-21T00:00:00",
          "2022-07-22T00:00:00",
          "2022-07-25T00:00:00",
          "2022-07-26T00:00:00",
          "2022-07-27T00:00:00",
          "2022-07-28T00:00:00",
          "2022-07-29T00:00:00",
          "2022-08-01T00:00:00",
          "2022-08-02T00:00:00",
          "2022-08-03T00:00:00",
          "2022-08-04T00:00:00",
          "2022-08-05T00:00:00",
          "2022-08-08T00:00:00",
          "2022-08-09T00:00:00",
          "2022-08-10T00:00:00",
          "2022-08-11T00:00:00",
          "2022-08-12T00:00:00",
          "2022-08-15T00:00:00",
          "2022-08-16T00:00:00",
          "2022-08-17T00:00:00",
          "2022-08-18T00:00:00",
          "2022-08-19T00:00:00",
          "2022-08-22T00:00:00",
          "2022-08-23T00:00:00",
          "2022-08-24T00:00:00",
          "2022-08-25T00:00:00",
          "2022-08-26T00:00:00",
          "2022-08-29T00:00:00",
          "2022-08-30T00:00:00",
          "2022-08-31T00:00:00",
          "2022-09-01T00:00:00",
          "2022-09-02T00:00:00",
          "2022-09-06T00:00:00",
          "2022-09-07T00:00:00",
          "2022-09-08T00:00:00",
          "2022-09-09T00:00:00",
          "2022-09-12T00:00:00",
          "2022-09-13T00:00:00",
          "2022-09-14T00:00:00",
          "2022-09-15T00:00:00",
          "2022-09-16T00:00:00",
          "2022-09-19T00:00:00",
          "2022-09-20T00:00:00",
          "2022-09-21T00:00:00",
          "2022-09-22T00:00:00",
          "2022-09-23T00:00:00",
          "2022-09-26T00:00:00",
          "2022-09-27T00:00:00",
          "2022-09-28T00:00:00",
          "2022-09-29T00:00:00",
          "2022-09-30T00:00:00",
          "2022-10-03T00:00:00",
          "2022-10-04T00:00:00",
          "2022-10-05T00:00:00",
          "2022-10-06T00:00:00",
          "2022-10-07T00:00:00",
          "2022-10-10T00:00:00",
          "2022-10-11T00:00:00",
          "2022-10-12T00:00:00",
          "2022-10-13T00:00:00",
          "2022-10-14T00:00:00",
          "2022-10-17T00:00:00",
          "2022-10-18T00:00:00",
          "2022-10-19T00:00:00",
          "2022-10-20T00:00:00",
          "2022-10-21T00:00:00",
          "2022-10-24T00:00:00",
          "2022-10-25T00:00:00",
          "2022-10-26T00:00:00",
          "2022-10-27T00:00:00",
          "2022-10-28T00:00:00",
          "2022-10-31T00:00:00",
          "2022-11-01T00:00:00",
          "2022-11-02T00:00:00",
          "2022-11-03T00:00:00",
          "2022-11-04T00:00:00",
          "2022-11-07T00:00:00",
          "2022-11-08T00:00:00",
          "2022-11-09T00:00:00",
          "2022-11-10T00:00:00",
          "2022-11-11T00:00:00",
          "2022-11-14T00:00:00",
          "2022-11-15T00:00:00",
          "2022-11-16T00:00:00",
          "2022-11-17T00:00:00",
          "2022-11-18T00:00:00",
          "2022-11-21T00:00:00",
          "2022-11-22T00:00:00",
          "2022-11-23T00:00:00",
          "2022-11-25T00:00:00",
          "2022-11-28T00:00:00",
          "2022-11-29T00:00:00",
          "2022-11-30T00:00:00",
          "2022-12-01T00:00:00",
          "2022-12-02T00:00:00",
          "2022-12-05T00:00:00",
          "2022-12-06T00:00:00",
          "2022-12-07T00:00:00",
          "2022-12-08T00:00:00",
          "2022-12-09T00:00:00",
          "2022-12-12T00:00:00",
          "2022-12-13T00:00:00",
          "2022-12-14T00:00:00",
          "2022-12-15T00:00:00",
          "2022-12-16T00:00:00",
          "2022-12-19T00:00:00",
          "2022-12-20T00:00:00",
          "2022-12-21T00:00:00",
          "2022-12-22T00:00:00",
          "2022-12-23T00:00:00",
          "2022-12-27T00:00:00",
          "2022-12-28T00:00:00",
          "2022-12-29T00:00:00",
          "2022-12-30T00:00:00",
          "2023-01-03T00:00:00",
          "2023-01-04T00:00:00",
          "2023-01-05T00:00:00",
          "2023-01-06T00:00:00",
          "2023-01-09T00:00:00",
          "2023-01-10T00:00:00",
          "2023-01-11T00:00:00",
          "2023-01-12T00:00:00",
          "2023-01-13T00:00:00",
          "2023-01-17T00:00:00",
          "2023-01-18T00:00:00",
          "2023-01-19T00:00:00",
          "2023-01-20T00:00:00",
          "2023-01-23T00:00:00",
          "2023-01-24T00:00:00",
          "2023-01-25T00:00:00",
          "2023-01-26T00:00:00",
          "2023-01-27T00:00:00",
          "2023-01-30T00:00:00",
          "2023-01-31T00:00:00",
          "2023-02-01T00:00:00",
          "2023-02-02T00:00:00",
          "2023-02-03T00:00:00",
          "2023-02-06T00:00:00",
          "2023-02-07T00:00:00",
          "2023-02-08T00:00:00",
          "2023-02-09T00:00:00",
          "2023-02-10T00:00:00",
          "2023-02-13T00:00:00",
          "2023-02-14T00:00:00",
          "2023-02-15T00:00:00",
          "2023-02-16T00:00:00",
          "2023-02-17T00:00:00",
          "2023-02-21T00:00:00",
          "2023-02-22T00:00:00",
          "2023-02-23T00:00:00",
          "2023-02-24T00:00:00",
          "2023-02-27T00:00:00",
          "2023-02-28T00:00:00",
          "2023-03-01T00:00:00",
          "2023-03-02T00:00:00",
          "2023-03-03T00:00:00",
          "2023-03-06T00:00:00",
          "2023-03-07T00:00:00",
          "2023-03-08T00:00:00",
          "2023-03-09T00:00:00",
          "2023-03-10T00:00:00",
          "2023-03-13T00:00:00",
          "2023-03-14T00:00:00",
          "2023-03-15T00:00:00",
          "2023-03-16T00:00:00",
          "2023-03-17T00:00:00",
          "2023-03-20T00:00:00",
          "2023-03-21T00:00:00",
          "2023-03-22T00:00:00",
          "2023-03-23T00:00:00",
          "2023-03-24T00:00:00",
          "2023-03-27T00:00:00",
          "2023-03-28T00:00:00",
          "2023-03-29T00:00:00",
          "2023-03-30T00:00:00",
          "2023-03-31T00:00:00",
          "2023-04-03T00:00:00",
          "2023-04-04T00:00:00",
          "2023-04-05T00:00:00",
          "2023-04-06T00:00:00",
          "2023-04-10T00:00:00",
          "2023-04-11T00:00:00",
          "2023-04-12T00:00:00",
          "2023-04-13T00:00:00",
          "2023-04-14T00:00:00",
          "2023-04-17T00:00:00",
          "2023-04-18T00:00:00",
          "2023-04-19T00:00:00",
          "2023-04-20T00:00:00",
          "2023-04-21T00:00:00",
          "2023-04-24T00:00:00",
          "2023-04-25T00:00:00",
          "2023-04-26T00:00:00",
          "2023-04-27T00:00:00",
          "2023-04-28T00:00:00",
          "2023-05-01T00:00:00",
          "2023-05-02T00:00:00",
          "2023-05-03T00:00:00",
          "2023-05-04T00:00:00",
          "2023-05-05T00:00:00",
          "2023-05-08T00:00:00",
          "2023-05-09T00:00:00",
          "2023-05-10T00:00:00",
          "2023-05-11T00:00:00",
          "2023-05-12T00:00:00",
          "2023-05-15T00:00:00",
          "2023-05-16T00:00:00",
          "2023-05-17T00:00:00",
          "2023-05-18T00:00:00",
          "2023-05-19T00:00:00",
          "2023-05-22T00:00:00",
          "2023-05-23T00:00:00",
          "2023-05-24T00:00:00",
          "2023-05-25T00:00:00",
          "2023-05-26T00:00:00",
          "2023-05-30T00:00:00",
          "2023-05-31T00:00:00",
          "2023-06-01T00:00:00",
          "2023-06-02T00:00:00",
          "2023-06-05T00:00:00",
          "2023-06-06T00:00:00",
          "2023-06-07T00:00:00",
          "2023-06-08T00:00:00",
          "2023-06-09T00:00:00",
          "2023-06-12T00:00:00",
          "2023-06-13T00:00:00",
          "2023-06-14T00:00:00",
          "2023-06-15T00:00:00",
          "2023-06-16T00:00:00",
          "2023-06-20T00:00:00",
          "2023-06-21T00:00:00",
          "2023-06-22T00:00:00",
          "2023-06-23T00:00:00",
          "2023-06-26T00:00:00",
          "2023-06-27T00:00:00",
          "2023-06-28T00:00:00",
          "2023-06-29T00:00:00",
          "2023-06-30T00:00:00",
          "2023-07-03T00:00:00",
          "2023-07-05T00:00:00",
          "2023-07-06T00:00:00",
          "2023-07-07T00:00:00",
          "2023-07-10T00:00:00",
          "2023-07-11T00:00:00",
          "2023-07-12T00:00:00",
          "2023-07-13T00:00:00",
          "2023-07-14T00:00:00",
          "2023-07-17T00:00:00",
          "2023-07-18T00:00:00",
          "2023-07-19T00:00:00",
          "2023-07-20T00:00:00",
          "2023-07-21T00:00:00",
          "2023-07-24T00:00:00",
          "2023-07-25T00:00:00",
          "2023-07-26T00:00:00",
          "2023-07-27T00:00:00",
          "2023-07-28T00:00:00",
          "2023-07-31T00:00:00",
          "2023-08-01T00:00:00",
          "2023-08-02T00:00:00",
          "2023-08-03T00:00:00",
          "2023-08-04T00:00:00",
          "2023-08-07T00:00:00",
          "2023-08-08T00:00:00",
          "2023-08-09T00:00:00",
          "2023-08-10T00:00:00",
          "2023-08-11T00:00:00",
          "2023-08-14T00:00:00",
          "2023-08-15T00:00:00",
          "2023-08-16T00:00:00",
          "2023-08-17T00:00:00",
          "2023-08-18T00:00:00",
          "2023-08-21T00:00:00",
          "2023-08-22T00:00:00",
          "2023-08-23T00:00:00",
          "2023-08-24T00:00:00",
          "2023-08-25T00:00:00",
          "2023-08-28T00:00:00",
          "2023-08-29T00:00:00",
          "2023-08-30T00:00:00",
          "2023-08-31T00:00:00",
          "2023-09-01T00:00:00",
          "2023-09-05T00:00:00",
          "2023-09-06T00:00:00",
          "2023-09-07T00:00:00",
          "2023-09-08T00:00:00",
          "2023-09-11T00:00:00",
          "2023-09-12T00:00:00",
          "2023-09-13T00:00:00",
          "2023-09-14T00:00:00",
          "2023-09-15T00:00:00",
          "2023-09-18T00:00:00",
          "2023-09-19T00:00:00",
          "2023-09-20T00:00:00",
          "2023-09-21T00:00:00",
          "2023-09-22T00:00:00",
          "2023-09-25T00:00:00",
          "2023-09-26T00:00:00",
          "2023-09-27T00:00:00",
          "2023-09-28T00:00:00",
          "2023-09-29T00:00:00",
          "2023-10-02T00:00:00",
          "2023-10-03T00:00:00",
          "2023-10-04T00:00:00",
          "2023-10-05T00:00:00",
          "2023-10-06T00:00:00",
          "2023-10-09T00:00:00",
          "2023-10-10T00:00:00",
          "2023-10-11T00:00:00",
          "2023-10-12T00:00:00",
          "2023-10-13T00:00:00",
          "2023-10-16T00:00:00",
          "2023-10-17T00:00:00",
          "2023-10-18T00:00:00",
          "2023-10-19T00:00:00",
          "2023-10-20T00:00:00",
          "2023-10-23T00:00:00",
          "2023-10-24T00:00:00",
          "2023-10-25T00:00:00",
          "2023-10-26T00:00:00",
          "2023-10-27T00:00:00",
          "2023-10-30T00:00:00",
          "2023-10-31T00:00:00",
          "2023-11-01T00:00:00",
          "2023-11-02T00:00:00",
          "2023-11-03T00:00:00",
          "2023-11-06T00:00:00",
          "2023-11-07T00:00:00",
          "2023-11-08T00:00:00",
          "2023-11-09T00:00:00",
          "2023-11-10T00:00:00",
          "2023-11-13T00:00:00",
          "2023-11-14T00:00:00",
          "2023-11-15T00:00:00",
          "2023-11-16T00:00:00",
          "2023-11-17T00:00:00",
          "2023-11-20T00:00:00",
          "2023-11-21T00:00:00",
          "2023-11-22T00:00:00",
          "2023-11-24T00:00:00",
          "2023-11-27T00:00:00",
          "2023-11-28T00:00:00",
          "2023-11-29T00:00:00",
          "2023-11-30T00:00:00",
          "2023-12-01T00:00:00",
          "2023-12-04T00:00:00",
          "2023-12-05T00:00:00",
          "2023-12-06T00:00:00",
          "2023-12-07T00:00:00",
          "2023-12-08T00:00:00",
          "2023-12-11T00:00:00",
          "2023-12-12T00:00:00",
          "2023-12-13T00:00:00",
          "2023-12-14T00:00:00",
          "2023-12-15T00:00:00",
          "2023-12-18T00:00:00",
          "2023-12-19T00:00:00",
          "2023-12-20T00:00:00",
          "2023-12-21T00:00:00",
          "2023-12-22T00:00:00",
          "2023-12-26T00:00:00",
          "2023-12-27T00:00:00",
          "2023-12-28T00:00:00",
          "2023-12-29T00:00:00",
          "2024-01-02T00:00:00",
          "2024-01-03T00:00:00",
          "2024-01-04T00:00:00",
          "2024-01-05T00:00:00",
          "2024-01-08T00:00:00",
          "2024-01-09T00:00:00",
          "2024-01-10T00:00:00",
          "2024-01-11T00:00:00",
          "2024-01-12T00:00:00",
          "2024-01-16T00:00:00",
          "2024-01-17T00:00:00",
          "2024-01-18T00:00:00",
          "2024-01-19T00:00:00",
          "2024-01-22T00:00:00",
          "2024-01-23T00:00:00",
          "2024-01-24T00:00:00",
          "2024-01-25T00:00:00",
          "2024-01-26T00:00:00",
          "2024-01-29T00:00:00",
          "2024-01-30T00:00:00",
          "2024-01-31T00:00:00",
          "2024-02-01T00:00:00",
          "2024-02-02T00:00:00",
          "2024-02-05T00:00:00",
          "2024-02-06T00:00:00",
          "2024-02-07T00:00:00",
          "2024-02-08T00:00:00",
          "2024-02-09T00:00:00",
          "2024-02-12T00:00:00",
          "2024-02-13T00:00:00",
          "2024-02-14T00:00:00",
          "2024-02-15T00:00:00",
          "2024-02-16T00:00:00",
          "2024-02-20T00:00:00",
          "2024-02-21T00:00:00",
          "2024-02-22T00:00:00",
          "2024-02-23T00:00:00",
          "2024-02-26T00:00:00",
          "2024-02-27T00:00:00",
          "2024-02-28T00:00:00",
          "2024-02-29T00:00:00",
          "2024-03-01T00:00:00",
          "2024-03-04T00:00:00",
          "2024-03-05T00:00:00",
          "2024-03-06T00:00:00",
          "2024-03-07T00:00:00",
          "2024-03-08T00:00:00",
          "2024-03-11T00:00:00",
          "2024-03-12T00:00:00",
          "2024-03-13T00:00:00",
          "2024-03-14T00:00:00",
          "2024-03-15T00:00:00",
          "2024-03-18T00:00:00",
          "2024-03-19T00:00:00",
          "2024-03-20T00:00:00",
          "2024-03-21T00:00:00",
          "2024-03-22T00:00:00",
          "2024-03-25T00:00:00",
          "2024-03-26T00:00:00",
          "2024-03-27T00:00:00",
          "2024-03-28T00:00:00",
          "2024-04-01T00:00:00",
          "2024-04-02T00:00:00",
          "2024-04-03T00:00:00",
          "2024-04-04T00:00:00",
          "2024-04-05T00:00:00",
          "2024-04-08T00:00:00",
          "2024-04-09T00:00:00",
          "2024-04-10T00:00:00",
          "2024-04-11T00:00:00",
          "2024-04-12T00:00:00",
          "2024-04-15T00:00:00",
          "2024-04-16T00:00:00",
          "2024-04-17T00:00:00",
          "2024-04-18T00:00:00",
          "2024-04-19T00:00:00",
          "2024-04-22T00:00:00",
          "2024-04-23T00:00:00",
          "2024-04-24T00:00:00",
          "2024-04-25T00:00:00",
          "2024-04-26T00:00:00",
          "2024-04-29T00:00:00",
          "2024-04-30T00:00:00",
          "2024-05-01T00:00:00",
          "2024-05-02T00:00:00",
          "2024-05-03T00:00:00",
          "2024-05-06T00:00:00",
          "2024-05-07T00:00:00",
          "2024-05-08T00:00:00",
          "2024-05-09T00:00:00",
          "2024-05-10T00:00:00",
          "2024-05-13T00:00:00",
          "2024-05-14T00:00:00",
          "2024-05-15T00:00:00",
          "2024-05-16T00:00:00",
          "2024-05-17T00:00:00",
          "2024-05-20T00:00:00",
          "2024-05-21T00:00:00",
          "2024-05-22T00:00:00",
          "2024-05-23T00:00:00",
          "2024-05-24T00:00:00",
          "2024-05-28T00:00:00",
          "2024-05-29T00:00:00",
          "2024-05-30T00:00:00",
          "2024-05-31T00:00:00",
          "2024-06-03T00:00:00",
          "2024-06-04T00:00:00",
          "2024-06-05T00:00:00",
          "2024-06-06T00:00:00",
          "2024-06-07T00:00:00",
          "2024-06-10T00:00:00",
          "2024-06-11T00:00:00",
          "2024-06-12T00:00:00",
          "2024-06-13T00:00:00",
          "2024-06-14T00:00:00",
          "2024-06-17T00:00:00",
          "2024-06-18T00:00:00",
          "2024-06-20T00:00:00",
          "2024-06-21T00:00:00",
          "2024-06-24T00:00:00",
          "2024-06-25T00:00:00",
          "2024-06-26T00:00:00",
          "2024-06-27T00:00:00",
          "2024-06-28T00:00:00",
          "2024-07-01T00:00:00",
          "2024-07-02T00:00:00",
          "2024-07-03T00:00:00",
          "2024-07-05T00:00:00",
          "2024-07-08T00:00:00",
          "2024-07-09T00:00:00",
          "2024-07-10T00:00:00",
          "2024-07-11T00:00:00",
          "2024-07-12T00:00:00",
          "2024-07-15T00:00:00",
          "2024-07-16T00:00:00",
          "2024-07-17T00:00:00",
          "2024-07-18T00:00:00",
          "2024-07-19T00:00:00",
          "2024-07-22T00:00:00",
          "2024-07-23T00:00:00",
          "2024-07-24T00:00:00",
          "2024-07-25T00:00:00",
          "2024-07-26T00:00:00",
          "2024-07-29T00:00:00",
          "2024-07-30T00:00:00",
          "2024-07-31T00:00:00",
          "2024-08-01T00:00:00",
          "2024-08-02T00:00:00",
          "2024-08-05T00:00:00",
          "2024-08-06T00:00:00",
          "2024-08-07T00:00:00",
          "2024-08-08T00:00:00",
          "2024-08-09T00:00:00",
          "2024-08-12T00:00:00",
          "2024-08-13T00:00:00",
          "2024-08-14T00:00:00",
          "2024-08-15T00:00:00",
          "2024-08-16T00:00:00",
          "2024-08-19T00:00:00",
          "2024-08-20T00:00:00",
          "2024-08-21T00:00:00",
          "2024-08-22T00:00:00",
          "2024-08-23T00:00:00",
          "2024-08-26T00:00:00",
          "2024-08-27T00:00:00",
          "2024-08-28T00:00:00",
          "2024-08-29T00:00:00",
          "2024-08-30T00:00:00",
          "2024-09-03T00:00:00",
          "2024-09-04T00:00:00",
          "2024-09-05T00:00:00",
          "2024-09-06T00:00:00",
          "2024-09-09T00:00:00",
          "2024-09-10T00:00:00",
          "2024-09-11T00:00:00",
          "2024-09-12T00:00:00",
          "2024-09-13T00:00:00",
          "2024-09-16T00:00:00",
          "2024-09-17T00:00:00",
          "2024-09-18T00:00:00",
          "2024-09-19T00:00:00",
          "2024-09-20T00:00:00",
          "2024-09-23T00:00:00",
          "2024-09-24T00:00:00",
          "2024-09-25T00:00:00",
          "2024-09-26T00:00:00",
          "2024-09-27T00:00:00",
          "2024-09-30T00:00:00",
          "2024-10-01T00:00:00",
          "2024-10-02T00:00:00",
          "2024-10-03T00:00:00",
          "2024-10-04T00:00:00",
          "2024-10-07T00:00:00",
          "2024-10-08T00:00:00",
          "2024-10-09T00:00:00",
          "2024-10-10T00:00:00",
          "2024-10-11T00:00:00",
          "2024-10-14T00:00:00",
          "2024-10-15T00:00:00",
          "2024-10-16T00:00:00",
          "2024-10-17T00:00:00",
          "2024-10-18T00:00:00",
          "2024-10-21T00:00:00",
          "2024-10-22T00:00:00",
          "2024-10-23T00:00:00",
          "2024-10-24T00:00:00",
          "2024-10-25T00:00:00",
          "2024-10-28T00:00:00",
          "2024-10-29T00:00:00",
          "2024-10-30T00:00:00",
          "2024-10-31T00:00:00",
          "2024-11-01T00:00:00",
          "2024-11-04T00:00:00",
          "2024-11-05T00:00:00",
          "2024-11-06T00:00:00",
          "2024-11-07T00:00:00",
          "2024-11-08T00:00:00",
          "2024-11-11T00:00:00",
          "2024-11-12T00:00:00",
          "2024-11-13T00:00:00",
          "2024-11-14T00:00:00",
          "2024-11-15T00:00:00",
          "2024-11-18T00:00:00",
          "2024-11-19T00:00:00",
          "2024-11-20T00:00:00",
          "2024-11-21T00:00:00",
          "2024-11-22T00:00:00",
          "2024-11-25T00:00:00",
          "2024-11-26T00:00:00",
          "2024-11-27T00:00:00",
          "2024-11-29T00:00:00",
          "2024-12-02T00:00:00",
          "2024-12-03T00:00:00",
          "2024-12-04T00:00:00",
          "2024-12-05T00:00:00",
          "2024-12-06T00:00:00",
          "2024-12-09T00:00:00",
          "2024-12-10T00:00:00",
          "2024-12-11T00:00:00",
          "2024-12-12T00:00:00",
          "2024-12-13T00:00:00",
          "2024-12-16T00:00:00",
          "2024-12-17T00:00:00",
          "2024-12-18T00:00:00",
          "2024-12-19T00:00:00",
          "2024-12-20T00:00:00",
          "2024-12-23T00:00:00",
          "2024-12-24T00:00:00",
          "2024-12-26T00:00:00",
          "2024-12-27T00:00:00",
          "2024-12-30T00:00:00",
          "2024-12-31T00:00:00",
          "2025-01-02T00:00:00",
          "2025-01-03T00:00:00",
          "2025-01-06T00:00:00",
          "2025-01-07T00:00:00",
          "2025-01-08T00:00:00",
          "2025-01-09T00:00:00",
          "2025-01-10T00:00:00",
          "2025-01-13T00:00:00",
          "2025-01-14T00:00:00",
          "2025-01-15T00:00:00",
          "2025-01-16T00:00:00",
          "2025-01-17T00:00:00",
          "2025-01-21T00:00:00",
          "2025-01-22T00:00:00",
          "2025-01-23T00:00:00",
          "2025-01-24T00:00:00",
          "2025-01-27T00:00:00",
          "2025-01-28T00:00:00",
          "2025-01-29T00:00:00"
         ],
         "xaxis": "x",
         "y": {
          "dtype": "f8",
          "bdata": "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"
         },
         "yaxis": "y",
         "type": "scattergl"
        },
        {
         "hovertemplate": "Factor=beta<br>time_index=%{x}<br>RollingMean=%{y}<extra></extra>",
         "legendgroup": "beta",
         "line": {
          "color": "#00cc96",
          "dash": "solid"
         },
         "marker": {
          "symbol": "circle"
         },
         "mode": "lines",
         "name": "beta",
         "showlegend": true,
         "x": [
          "2022-01-03T00:00:00",
          "2022-01-04T00:00:00",
          "2022-01-05T00:00:00",
          "2022-01-06T00:00:00",
          "2022-01-07T00:00:00",
          "2022-01-10T00:00:00",
          "2022-01-11T00:00:00",
          "2022-01-12T00:00:00",
          "2022-01-13T00:00:00",
          "2022-01-14T00:00:00",
          "2022-01-18T00:00:00",
          "2022-01-19T00:00:00",
          "2022-01-20T00:00:00",
          "2022-01-21T00:00:00",
          "2022-01-24T00:00:00",
          "2022-01-25T00:00:00",
          "2022-01-26T00:00:00",
          "2022-01-27T00:00:00",
          "2022-01-28T00:00:00",
          "2022-01-31T00:00:00",
          "2022-02-01T00:00:00",
          "2022-02-02T00:00:00",
          "2022-02-03T00:00:00",
          "2022-02-04T00:00:00",
          "2022-02-07T00:00:00",
          "2022-02-08T00:00:00",
          "2022-02-09T00:00:00",
          "2022-02-10T00:00:00",
          "2022-02-11T00:00:00",
          "2022-02-14T00:00:00",
          "2022-02-15T00:00:00",
          "2022-02-16T00:00:00",
          "2022-02-17T00:00:00",
          "2022-02-18T00:00:00",
          "2022-02-22T00:00:00",
          "2022-02-23T00:00:00",
          "2022-02-24T00:00:00",
          "2022-02-25T00:00:00",
          "2022-02-28T00:00:00",
          "2022-03-01T00:00:00",
          "2022-03-02T00:00:00",
          "2022-03-03T00:00:00",
          "2022-03-04T00:00:00",
          "2022-03-07T00:00:00",
          "2022-03-08T00:00:00",
          "2022-03-09T00:00:00",
          "2022-03-10T00:00:00",
          "2022-03-11T00:00:00",
          "2022-03-14T00:00:00",
          "2022-03-15T00:00:00",
          "2022-03-16T00:00:00",
          "2022-03-17T00:00:00",
          "2022-03-18T00:00:00",
          "2022-03-21T00:00:00",
          "2022-03-22T00:00:00",
          "2022-03-23T00:00:00",
          "2022-03-24T00:00:00",
          "2022-03-25T00:00:00",
          "2022-03-28T00:00:00",
          "2022-03-29T00:00:00",
          "2022-03-30T00:00:00",
          "2022-03-31T00:00:00",
          "2022-04-01T00:00:00",
          "2022-04-04T00:00:00",
          "2022-04-05T00:00:00",
          "2022-04-06T00:00:00",
          "2022-04-07T00:00:00",
          "2022-04-08T00:00:00",
          "2022-04-11T00:00:00",
          "2022-04-12T00:00:00",
          "2022-04-13T00:00:00",
          "2022-04-14T00:00:00",
          "2022-04-18T00:00:00",
          "2022-04-19T00:00:00",
          "2022-04-20T00:00:00",
          "2022-04-21T00:00:00",
          "2022-04-22T00:00:00",
          "2022-04-25T00:00:00",
          "2022-04-26T00:00:00",
          "2022-04-27T00:00:00",
          "2022-04-28T00:00:00",
          "2022-04-29T00:00:00",
          "2022-05-02T00:00:00",
          "2022-05-03T00:00:00",
          "2022-05-04T00:00:00",
          "2022-05-05T00:00:00",
          "2022-05-06T00:00:00",
          "2022-05-09T00:00:00",
          "2022-05-10T00:00:00",
          "2022-05-11T00:00:00",
          "2022-05-12T00:00:00",
          "2022-05-13T00:00:00",
          "2022-05-16T00:00:00",
          "2022-05-17T00:00:00",
          "2022-05-18T00:00:00",
          "2022-05-19T00:00:00",
          "2022-05-20T00:00:00",
          "2022-05-23T00:00:00",
          "2022-05-24T00:00:00",
          "2022-05-25T00:00:00",
          "2022-05-26T00:00:00",
          "2022-05-27T00:00:00",
          "2022-05-31T00:00:00",
          "2022-06-01T00:00:00",
          "2022-06-02T00:00:00",
          "2022-06-03T00:00:00",
          "2022-06-06T00:00:00",
          "2022-06-07T00:00:00",
          "2022-06-08T00:00:00",
          "2022-06-09T00:00:00",
          "2022-06-10T00:00:00",
          "2022-06-13T00:00:00",
          "2022-06-14T00:00:00",
          "2022-06-15T00:00:00",
          "2022-06-16T00:00:00",
          "2022-06-17T00:00:00",
          "2022-06-21T00:00:00",
          "2022-06-22T00:00:00",
          "2022-06-23T00:00:00",
          "2022-06-24T00:00:00",
          "2022-06-27T00:00:00",
          "2022-06-28T00:00:00",
          "2022-06-29T00:00:00",
          "2022-06-30T00:00:00",
          "2022-07-01T00:00:00",
          "2022-07-05T00:00:00",
          "2022-07-06T00:00:00",
          "2022-07-07T00:00:00",
          "2022-07-08T00:00:00",
          "2022-07-11T00:00:00",
          "2022-07-12T00:00:00",
          "2022-07-13T00:00:00",
          "2022-07-14T00:00:00",
          "2022-07-15T00:00:00",
          "2022-07-18T00:00:00",
          "2022-07-19T00:00:00",
          "2022-07-20T00:00:00",
          "2022-07-21T00:00:00",
          "2022-07-22T00:00:00",
          "2022-07-25T00:00:00",
          "2022-07-26T00:00:00",
          "2022-07-27T00:00:00",
          "2022-07-28T00:00:00",
          "2022-07-29T00:00:00",
          "2022-08-01T00:00:00",
          "2022-08-02T00:00:00",
          "2022-08-03T00:00:00",
          "2022-08-04T00:00:00",
          "2022-08-05T00:00:00",
          "2022-08-08T00:00:00",
          "2022-08-09T00:00:00",
          "2022-08-10T00:00:00",
          "2022-08-11T00:00:00",
          "2022-08-12T00:00:00",
          "2022-08-15T00:00:00",
          "2022-08-16T00:00:00",
          "2022-08-17T00:00:00",
          "2022-08-18T00:00:00",
          "2022-08-19T00:00:00",
          "2022-08-22T00:00:00",
          "2022-08-23T00:00:00",
          "2022-08-24T00:00:00",
          "2022-08-25T00:00:00",
          "2022-08-26T00:00:00",
          "2022-08-29T00:00:00",
          "2022-08-30T00:00:00",
          "2022-08-31T00:00:00",
          "2022-09-01T00:00:00",
          "2022-09-02T00:00:00",
          "2022-09-06T00:00:00",
          "2022-09-07T00:00:00",
          "2022-09-08T00:00:00",
          "2022-09-09T00:00:00",
          "2022-09-12T00:00:00",
          "2022-09-13T00:00:00",
          "2022-09-14T00:00:00",
          "2022-09-15T00:00:00",
          "2022-09-16T00:00:00",
          "2022-09-19T00:00:00",
          "2022-09-20T00:00:00",
          "2022-09-21T00:00:00",
          "2022-09-22T00:00:00",
          "2022-09-23T00:00:00",
          "2022-09-26T00:00:00",
          "2022-09-27T00:00:00",
          "2022-09-28T00:00:00",
          "2022-09-29T00:00:00",
          "2022-09-30T00:00:00",
          "2022-10-03T00:00:00",
          "2022-10-04T00:00:00",
          "2022-10-05T00:00:00",
          "2022-10-06T00:00:00",
          "2022-10-07T00:00:00",
          "2022-10-10T00:00:00",
          "2022-10-11T00:00:00",
          "2022-10-12T00:00:00",
          "2022-10-13T00:00:00",
          "2022-10-14T00:00:00",
          "2022-10-17T00:00:00",
          "2022-10-18T00:00:00",
          "2022-10-19T00:00:00",
          "2022-10-20T00:00:00",
          "2022-10-21T00:00:00",
          "2022-10-24T00:00:00",
          "2022-10-25T00:00:00",
          "2022-10-26T00:00:00",
          "2022-10-27T00:00:00",
          "2022-10-28T00:00:00",
          "2022-10-31T00:00:00",
          "2022-11-01T00:00:00",
          "2022-11-02T00:00:00",
          "2022-11-03T00:00:00",
          "2022-11-04T00:00:00",
          "2022-11-07T00:00:00",
          "2022-11-08T00:00:00",
          "2022-11-09T00:00:00",
          "2022-11-10T00:00:00",
          "2022-11-11T00:00:00",
          "2022-11-14T00:00:00",
          "2022-11-15T00:00:00",
          "2022-11-16T00:00:00",
          "2022-11-17T00:00:00",
          "2022-11-18T00:00:00",
          "2022-11-21T00:00:00",
          "2022-11-22T00:00:00",
          "2022-11-23T00:00:00",
          "2022-11-25T00:00:00",
          "2022-11-28T00:00:00",
          "2022-11-29T00:00:00",
          "2022-11-30T00:00:00",
          "2022-12-01T00:00:00",
          "2022-12-02T00:00:00",
          "2022-12-05T00:00:00",
          "2022-12-06T00:00:00",
          "2022-12-07T00:00:00",
          "2022-12-08T00:00:00",
          "2022-12-09T00:00:00",
          "2022-12-12T00:00:00",
          "2022-12-13T00:00:00",
          "2022-12-14T00:00:00",
          "2022-12-15T00:00:00",
          "2022-12-16T00:00:00",
          "2022-12-19T00:00:00",
          "2022-12-20T00:00:00",
          "2022-12-21T00:00:00",
          "2022-12-22T00:00:00",
          "2022-12-23T00:00:00",
          "2022-12-27T00:00:00",
          "2022-12-28T00:00:00",
          "2022-12-29T00:00:00",
          "2022-12-30T00:00:00",
          "2023-01-03T00:00:00",
          "2023-01-04T00:00:00",
          "2023-01-05T00:00:00",
          "2023-01-06T00:00:00",
          "2023-01-09T00:00:00",
          "2023-01-10T00:00:00",
          "2023-01-11T00:00:00",
          "2023-01-12T00:00:00",
          "2023-01-13T00:00:00",
          "2023-01-17T00:00:00",
          "2023-01-18T00:00:00",
          "2023-01-19T00:00:00",
          "2023-01-20T00:00:00",
          "2023-01-23T00:00:00",
          "2023-01-24T00:00:00",
          "2023-01-25T00:00:00",
          "2023-01-26T00:00:00",
          "2023-01-27T00:00:00",
          "2023-01-30T00:00:00",
          "2023-01-31T00:00:00",
          "2023-02-01T00:00:00",
          "2023-02-02T00:00:00",
          "2023-02-03T00:00:00",
          "2023-02-06T00:00:00",
          "2023-02-07T00:00:00",
          "2023-02-08T00:00:00",
          "2023-02-09T00:00:00",
          "2023-02-10T00:00:00",
          "2023-02-13T00:00:00",
          "2023-02-14T00:00:00",
          "2023-02-15T00:00:00",
          "2023-02-16T00:00:00",
          "2023-02-17T00:00:00",
          "2023-02-21T00:00:00",
          "2023-02-22T00:00:00",
          "2023-02-23T00:00:00",
          "2023-02-24T00:00:00",
          "2023-02-27T00:00:00",
          "2023-02-28T00:00:00",
          "2023-03-01T00:00:00",
          "2023-03-02T00:00:00",
          "2023-03-03T00:00:00",
          "2023-03-06T00:00:00",
          "2023-03-07T00:00:00",
          "2023-03-08T00:00:00",
          "2023-03-09T00:00:00",
          "2023-03-10T00:00:00",
          "2023-03-13T00:00:00",
          "2023-03-14T00:00:00",
          "2023-03-15T00:00:00",
          "2023-03-16T00:00:00",
          "2023-03-17T00:00:00",
          "2023-03-20T00:00:00",
          "2023-03-21T00:00:00",
          "2023-03-22T00:00:00",
          "2023-03-23T00:00:00",
          "2023-03-24T00:00:00",
          "2023-03-27T00:00:00",
          "2023-03-28T00:00:00",
          "2023-03-29T00:00:00",
          "2023-03-30T00:00:00",
          "2023-03-31T00:00:00",
          "2023-04-03T00:00:00",
          "2023-04-04T00:00:00",
          "2023-04-05T00:00:00",
          "2023-04-06T00:00:00",
          "2023-04-10T00:00:00",
          "2023-04-11T00:00:00",
          "2023-04-12T00:00:00",
          "2023-04-13T00:00:00",
          "2023-04-14T00:00:00",
          "2023-04-17T00:00:00",
          "2023-04-18T00:00:00",
          "2023-04-19T00:00:00",
          "2023-04-20T00:00:00",
          "2023-04-21T00:00:00",
          "2023-04-24T00:00:00",
          "2023-04-25T00:00:00",
          "2023-04-26T00:00:00",
          "2023-04-27T00:00:00",
          "2023-04-28T00:00:00",
          "2023-05-01T00:00:00",
          "2023-05-02T00:00:00",
          "2023-05-03T00:00:00",
          "2023-05-04T00:00:00",
          "2023-05-05T00:00:00",
          "2023-05-08T00:00:00",
          "2023-05-09T00:00:00",
          "2023-05-10T00:00:00",
          "2023-05-11T00:00:00",
          "2023-05-12T00:00:00",
          "2023-05-15T00:00:00",
          "2023-05-16T00:00:00",
          "2023-05-17T00:00:00",
          "2023-05-18T00:00:00",
          "2023-05-19T00:00:00",
          "2023-05-22T00:00:00",
          "2023-05-23T00:00:00",
          "2023-05-24T00:00:00",
          "2023-05-25T00:00:00",
          "2023-05-26T00:00:00",
          "2023-05-30T00:00:00",
          "2023-05-31T00:00:00",
          "2023-06-01T00:00:00",
          "2023-06-02T00:00:00",
          "2023-06-05T00:00:00",
          "2023-06-06T00:00:00",
          "2023-06-07T00:00:00",
          "2023-06-08T00:00:00",
          "2023-06-09T00:00:00",
          "2023-06-12T00:00:00",
          "2023-06-13T00:00:00",
          "2023-06-14T00:00:00",
          "2023-06-15T00:00:00",
          "2023-06-16T00:00:00",
          "2023-06-20T00:00:00",
          "2023-06-21T00:00:00",
          "2023-06-22T00:00:00",
          "2023-06-23T00:00:00",
          "2023-06-26T00:00:00",
          "2023-06-27T00:00:00",
          "2023-06-28T00:00:00",
          "2023-06-29T00:00:00",
          "2023-06-30T00:00:00",
          "2023-07-03T00:00:00",
          "2023-07-05T00:00:00",
          "2023-07-06T00:00:00",
          "2023-07-07T00:00:00",
          "2023-07-10T00:00:00",
          "2023-07-11T00:00:00",
          "2023-07-12T00:00:00",
          "2023-07-13T00:00:00",
          "2023-07-14T00:00:00",
          "2023-07-17T00:00:00",
          "2023-07-18T00:00:00",
          "2023-07-19T00:00:00",
          "2023-07-20T00:00:00",
          "2023-07-21T00:00:00",
          "2023-07-24T00:00:00",
          "2023-07-25T00:00:00",
          "2023-07-26T00:00:00",
          "2023-07-27T00:00:00",
          "2023-07-28T00:00:00",
          "2023-07-31T00:00:00",
          "2023-08-01T00:00:00",
          "2023-08-02T00:00:00",
          "2023-08-03T00:00:00",
          "2023-08-04T00:00:00",
          "2023-08-07T00:00:00",
          "2023-08-08T00:00:00",
          "2023-08-09T00:00:00",
          "2023-08-10T00:00:00",
          "2023-08-11T00:00:00",
          "2023-08-14T00:00:00",
          "2023-08-15T00:00:00",
          "2023-08-16T00:00:00",
          "2023-08-17T00:00:00",
          "2023-08-18T00:00:00",
          "2023-08-21T00:00:00",
          "2023-08-22T00:00:00",
          "2023-08-23T00:00:00",
          "2023-08-24T00:00:00",
          "2023-08-25T00:00:00",
          "2023-08-28T00:00:00",
          "2023-08-29T00:00:00",
          "2023-08-30T00:00:00",
          "2023-08-31T00:00:00",
          "2023-09-01T00:00:00",
          "2023-09-05T00:00:00",
          "2023-09-06T00:00:00",
          "2023-09-07T00:00:00",
          "2023-09-08T00:00:00",
          "2023-09-11T00:00:00",
          "2023-09-12T00:00:00",
          "2023-09-13T00:00:00",
          "2023-09-14T00:00:00",
          "2023-09-15T00:00:00",
          "2023-09-18T00:00:00",
          "2023-09-19T00:00:00",
          "2023-09-20T00:00:00",
          "2023-09-21T00:00:00",
          "2023-09-22T00:00:00",
          "2023-09-25T00:00:00",
          "2023-09-26T00:00:00",
          "2023-09-27T00:00:00",
          "2023-09-28T00:00:00",
          "2023-09-29T00:00:00",
          "2023-10-02T00:00:00",
          "2023-10-03T00:00:00",
          "2023-10-04T00:00:00",
          "2023-10-05T00:00:00",
          "2023-10-06T00:00:00",
          "2023-10-09T00:00:00",
          "2023-10-10T00:00:00",
          "2023-10-11T00:00:00",
          "2023-10-12T00:00:00",
          "2023-10-13T00:00:00",
          "2023-10-16T00:00:00",
          "2023-10-17T00:00:00",
          "2023-10-18T00:00:00",
          "2023-10-19T00:00:00",
          "2023-10-20T00:00:00",
          "2023-10-23T00:00:00",
          "2023-10-24T00:00:00",
          "2023-10-25T00:00:00",
          "2023-10-26T00:00:00",
          "2023-10-27T00:00:00",
          "2023-10-30T00:00:00",
          "2023-10-31T00:00:00",
          "2023-11-01T00:00:00",
          "2023-11-02T00:00:00",
          "2023-11-03T00:00:00",
          "2023-11-06T00:00:00",
          "2023-11-07T00:00:00",
          "2023-11-08T00:00:00",
          "2023-11-09T00:00:00",
          "2023-11-10T00:00:00",
          "2023-11-13T00:00:00",
          "2023-11-14T00:00:00",
          "2023-11-15T00:00:00",
          "2023-11-16T00:00:00",
          "2023-11-17T00:00:00",
          "2023-11-20T00:00:00",
          "2023-11-21T00:00:00",
          "2023-11-22T00:00:00",
          "2023-11-24T00:00:00",
          "2023-11-27T00:00:00",
          "2023-11-28T00:00:00",
          "2023-11-29T00:00:00",
          "2023-11-30T00:00:00",
          "2023-12-01T00:00:00",
          "2023-12-04T00:00:00",
          "2023-12-05T00:00:00",
          "2023-12-06T00:00:00",
          "2023-12-07T00:00:00",
          "2023-12-08T00:00:00",
          "2023-12-11T00:00:00",
          "2023-12-12T00:00:00",
          "2023-12-13T00:00:00",
          "2023-12-14T00:00:00",
          "2023-12-15T00:00:00",
          "2023-12-18T00:00:00",
          "2023-12-19T00:00:00",
          "2023-12-20T00:00:00",
          "2023-12-21T00:00:00",
          "2023-12-22T00:00:00",
          "2023-12-26T00:00:00",
          "2023-12-27T00:00:00",
          "2023-12-28T00:00:00",
          "2023-12-29T00:00:00",
          "2024-01-02T00:00:00",
          "2024-01-03T00:00:00",
          "2024-01-04T00:00:00",
          "2024-01-05T00:00:00",
          "2024-01-08T00:00:00",
          "2024-01-09T00:00:00",
          "2024-01-10T00:00:00",
          "2024-01-11T00:00:00",
          "2024-01-12T00:00:00",
          "2024-01-16T00:00:00",
          "2024-01-17T00:00:00",
          "2024-01-18T00:00:00",
          "2024-01-19T00:00:00",
          "2024-01-22T00:00:00",
          "2024-01-23T00:00:00",
          "2024-01-24T00:00:00",
          "2024-01-25T00:00:00",
          "2024-01-26T00:00:00",
          "2024-01-29T00:00:00",
          "2024-01-30T00:00:00",
          "2024-01-31T00:00:00",
          "2024-02-01T00:00:00",
          "2024-02-02T00:00:00",
          "2024-02-05T00:00:00",
          "2024-02-06T00:00:00",
          "2024-02-07T00:00:00",
          "2024-02-08T00:00:00",
          "2024-02-09T00:00:00",
          "2024-02-12T00:00:00",
          "2024-02-13T00:00:00",
          "2024-02-14T00:00:00",
          "2024-02-15T00:00:00",
          "2024-02-16T00:00:00",
          "2024-02-20T00:00:00",
          "2024-02-21T00:00:00",
          "2024-02-22T00:00:00",
          "2024-02-23T00:00:00",
          "2024-02-26T00:00:00",
          "2024-02-27T00:00:00",
          "2024-02-28T00:00:00",
          "2024-02-29T00:00:00",
          "2024-03-01T00:00:00",
          "2024-03-04T00:00:00",
          "2024-03-05T00:00:00",
          "2024-03-06T00:00:00",
          "2024-03-07T00:00:00",
          "2024-03-08T00:00:00",
          "2024-03-11T00:00:00",
          "2024-03-12T00:00:00",
          "2024-03-13T00:00:00",
          "2024-03-14T00:00:00",
          "2024-03-15T00:00:00",
          "2024-03-18T00:00:00",
          "2024-03-19T00:00:00",
          "2024-03-20T00:00:00",
          "2024-03-21T00:00:00",
          "2024-03-22T00:00:00",
          "2024-03-25T00:00:00",
          "2024-03-26T00:00:00",
          "2024-03-27T00:00:00",
          "2024-03-28T00:00:00",
          "2024-04-01T00:00:00",
          "2024-04-02T00:00:00",
          "2024-04-03T00:00:00",
          "2024-04-04T00:00:00",
          "2024-04-05T00:00:00",
          "2024-04-08T00:00:00",
          "2024-04-09T00:00:00",
          "2024-04-10T00:00:00",
          "2024-04-11T00:00:00",
          "2024-04-12T00:00:00",
          "2024-04-15T00:00:00",
          "2024-04-16T00:00:00",
          "2024-04-17T00:00:00",
          "2024-04-18T00:00:00",
          "2024-04-19T00:00:00",
          "2024-04-22T00:00:00",
          "2024-04-23T00:00:00",
          "2024-04-24T00:00:00",
          "2024-04-25T00:00:00",
          "2024-04-26T00:00:00",
          "2024-04-29T00:00:00",
          "2024-04-30T00:00:00",
          "2024-05-01T00:00:00",
          "2024-05-02T00:00:00",
          "2024-05-03T00:00:00",
          "2024-05-06T00:00:00",
          "2024-05-07T00:00:00",
          "2024-05-08T00:00:00",
          "2024-05-09T00:00:00",
          "2024-05-10T00:00:00",
          "2024-05-13T00:00:00",
          "2024-05-14T00:00:00",
          "2024-05-15T00:00:00",
          "2024-05-16T00:00:00",
          "2024-05-17T00:00:00",
          "2024-05-20T00:00:00",
          "2024-05-21T00:00:00",
          "2024-05-22T00:00:00",
          "2024-05-23T00:00:00",
          "2024-05-24T00:00:00",
          "2024-05-28T00:00:00",
          "2024-05-29T00:00:00",
          "2024-05-30T00:00:00",
          "2024-05-31T00:00:00",
          "2024-06-03T00:00:00",
          "2024-06-04T00:00:00",
          "2024-06-05T00:00:00",
          "2024-06-06T00:00:00",
          "2024-06-07T00:00:00",
          "2024-06-10T00:00:00",
          "2024-06-11T00:00:00",
          "2024-06-12T00:00:00",
          "2024-06-13T00:00:00",
          "2024-06-14T00:00:00",
          "2024-06-17T00:00:00",
          "2024-06-18T00:00:00",
          "2024-06-20T00:00:00",
          "2024-06-21T00:00:00",
          "2024-06-24T00:00:00",
          "2024-06-25T00:00:00",
          "2024-06-26T00:00:00",
          "2024-06-27T00:00:00",
          "2024-06-28T00:00:00",
          "2024-07-01T00:00:00",
          "2024-07-02T00:00:00",
          "2024-07-03T00:00:00",
          "2024-07-05T00:00:00",
          "2024-07-08T00:00:00",
          "2024-07-09T00:00:00",
          "2024-07-10T00:00:00",
          "2024-07-11T00:00:00",
          "2024-07-12T00:00:00",
          "2024-07-15T00:00:00",
          "2024-07-16T00:00:00",
          "2024-07-17T00:00:00",
          "2024-07-18T00:00:00",
          "2024-07-19T00:00:00",
          "2024-07-22T00:00:00",
          "2024-07-23T00:00:00",
          "2024-07-24T00:00:00",
          "2024-07-25T00:00:00",
          "2024-07-26T00:00:00",
          "2024-07-29T00:00:00",
          "2024-07-30T00:00:00",
          "2024-07-31T00:00:00",
          "2024-08-01T00:00:00",
          "2024-08-02T00:00:00",
          "2024-08-05T00:00:00",
          "2024-08-06T00:00:00",
          "2024-08-07T00:00:00",
          "2024-08-08T00:00:00",
          "2024-08-09T00:00:00",
          "2024-08-12T00:00:00",
          "2024-08-13T00:00:00",
          "2024-08-14T00:00:00",
          "2024-08-15T00:00:00",
          "2024-08-16T00:00:00",
          "2024-08-19T00:00:00",
          "2024-08-20T00:00:00",
          "2024-08-21T00:00:00",
          "2024-08-22T00:00:00",
          "2024-08-23T00:00:00",
          "2024-08-26T00:00:00",
          "2024-08-27T00:00:00",
          "2024-08-28T00:00:00",
          "2024-08-29T00:00:00",
          "2024-08-30T00:00:00",
          "2024-09-03T00:00:00",
          "2024-09-04T00:00:00",
          "2024-09-05T00:00:00",
          "2024-09-06T00:00:00",
          "2024-09-09T00:00:00",
          "2024-09-10T00:00:00",
          "2024-09-11T00:00:00",
          "2024-09-12T00:00:00",
          "2024-09-13T00:00:00",
          "2024-09-16T00:00:00",
          "2024-09-17T00:00:00",
          "2024-09-18T00:00:00",
          "2024-09-19T00:00:00",
          "2024-09-20T00:00:00",
          "2024-09-23T00:00:00",
          "2024-09-24T00:00:00",
          "2024-09-25T00:00:00",
          "2024-09-26T00:00:00",
          "2024-09-27T00:00:00",
          "2024-09-30T00:00:00",
          "2024-10-01T00:00:00",
          "2024-10-02T00:00:00",
          "2024-10-03T00:00:00",
          "2024-10-04T00:00:00",
          "2024-10-07T00:00:00",
          "2024-10-08T00:00:00",
          "2024-10-09T00:00:00",
          "2024-10-10T00:00:00",
          "2024-10-11T00:00:00",
          "2024-10-14T00:00:00",
          "2024-10-15T00:00:00",
          "2024-10-16T00:00:00",
          "2024-10-17T00:00:00",
          "2024-10-18T00:00:00",
          "2024-10-21T00:00:00",
          "2024-10-22T00:00:00",
          "2024-10-23T00:00:00",
          "2024-10-24T00:00:00",
          "2024-10-25T00:00:00",
          "2024-10-28T00:00:00",
          "2024-10-29T00:00:00",
          "2024-10-30T00:00:00",
          "2024-10-31T00:00:00",
          "2024-11-01T00:00:00",
          "2024-11-04T00:00:00",
          "2024-11-05T00:00:00",
          "2024-11-06T00:00:00",
          "2024-11-07T00:00:00",
          "2024-11-08T00:00:00",
          "2024-11-11T00:00:00",
          "2024-11-12T00:00:00",
          "2024-11-13T00:00:00",
          "2024-11-14T00:00:00",
          "2024-11-15T00:00:00",
          "2024-11-18T00:00:00",
          "2024-11-19T00:00:00",
          "2024-11-20T00:00:00",
          "2024-11-21T00:00:00",
          "2024-11-22T00:00:00",
          "2024-11-25T00:00:00",
          "2024-11-26T00:00:00",
          "2024-11-27T00:00:00",
          "2024-11-29T00:00:00",
          "2024-12-02T00:00:00",
          "2024-12-03T00:00:00",
          "2024-12-04T00:00:00",
          "2024-12-05T00:00:00",
          "2024-12-06T00:00:00",
          "2024-12-09T00:00:00",
          "2024-12-10T00:00:00",
          "2024-12-11T00:00:00",
          "2024-12-12T00:00:00",
          "2024-12-13T00:00:00",
          "2024-12-16T00:00:00",
          "2024-12-17T00:00:00",
          "2024-12-18T00:00:00",
          "2024-12-19T00:00:00",
          "2024-12-20T00:00:00",
          "2024-12-23T00:00:00",
          "2024-12-24T00:00:00",
          "2024-12-26T00:00:00",
          "2024-12-27T00:00:00",
          "2024-12-30T00:00:00",
          "2024-12-31T00:00:00",
          "2025-01-02T00:00:00",
          "2025-01-03T00:00:00",
          "2025-01-06T00:00:00",
          "2025-01-07T00:00:00",
          "2025-01-08T00:00:00",
          "2025-01-09T00:00:00",
          "2025-01-10T00:00:00",
          "2025-01-13T00:00:00",
          "2025-01-14T00:00:00",
          "2025-01-15T00:00:00",
          "2025-01-16T00:00:00",
          "2025-01-17T00:00:00",
          "2025-01-21T00:00:00",
          "2025-01-22T00:00:00",
          "2025-01-23T00:00:00",
          "2025-01-24T00:00:00",
          "2025-01-27T00:00:00",
          "2025-01-28T00:00:00",
          "2025-01-29T00:00:00"
         ],
         "xaxis": "x",
         "y": {
          "dtype": "f8",
          "bdata": "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"
         },
         "yaxis": "y",
         "type": "scattergl"
        }
       ],
       "layout": {
        "template": {
         "data": {
          "histogram2dcontour": [
           {
            "type": "histogram2dcontour",
            "colorbar": {
             "outlinewidth": 0,
             "ticks": ""
            },
            "colorscale": [
             [
              0.0,
              "#0d0887"
             ],
             [
              0.1111111111111111,
              "#46039f"
             ],
             [
              0.2222222222222222,
              "#7201a8"
             ],
             [
              0.3333333333333333,
              "#9c179e"
             ],
             [
              0.4444444444444444,
              "#bd3786"
             ],
             [
              0.5555555555555556,
              "#d8576b"
             ],
             [
              0.6666666666666666,
              "#ed7953"
             ],
             [
              0.7777777777777778,
              "#fb9f3a"
             ],
             [
              0.8888888888888888,
              "#fdca26"
             ],
             [
              1.0,
              "#f0f921"
             ]
            ]
           }
          ],
          "choropleth": [
           {
            "type": "choropleth",
            "colorbar": {
             "outlinewidth": 0,
             "ticks": ""
            }
           }
          ],
          "histogram2d": [
           {
            "type": "histogram2d",
            "colorbar": {
             "outlinewidth": 0,
             "ticks": ""
            },
            "colorscale": [
             [
              0.0,
              "#0d0887"
             ],
             [
              0.1111111111111111,
              "#46039f"
             ],
             [
              0.2222222222222222,
              "#7201a8"
             ],
             [
              0.3333333333333333,
              "#9c179e"
             ],
             [
              0.4444444444444444,
              "#bd3786"
             ],
             [
              0.5555555555555556,
              "#d8576b"
             ],
             [
              0.6666666666666666,
              "#ed7953"
             ],
             [
              0.7777777777777778,
              "#fb9f3a"
             ],
             [
              0.8888888888888888,
              "#fdca26"
             ],
             [
              1.0,
              "#f0f921"
             ]
            ]
           }
          ],
          "heatmap": [
           {
            "type": "heatmap",
            "colorbar": {
             "outlinewidth": 0,
             "ticks": ""
            },
            "colorscale": [
             [
              0.0,
              "#0d0887"
             ],
             [
              0.1111111111111111,
              "#46039f"
             ],
             [
              0.2222222222222222,
              "#7201a8"
             ],
             [
              0.3333333333333333,
              "#9c179e"
             ],
             [
              0.4444444444444444,
              "#bd3786"
             ],
             [
              0.5555555555555556,
              "#d8576b"
             ],
             [
              0.6666666666666666,
              "#ed7953"
             ],
             [
              0.7777777777777778,
              "#fb9f3a"
             ],
             [
              0.8888888888888888,
              "#fdca26"
             ],
             [
              1.0,
              "#f0f921"
             ]
            ]
           }
          ],
          "contourcarpet": [
           {
            "type": "contourcarpet",
            "colorbar": {
             "outlinewidth": 0,
             "ticks": ""
            }
           }
          ],
          "contour": [
           {
            "type": "contour",
            "colorbar": {
             "outlinewidth": 0,
             "ticks": ""
            },
            "colorscale": [
             [
              0.0,
              "#0d0887"
             ],
             [
              0.1111111111111111,
              "#46039f"
             ],
             [
              0.2222222222222222,
              "#7201a8"
             ],
             [
              0.3333333333333333,
              "#9c179e"
             ],
             [
              0.4444444444444444,
              "#bd3786"
             ],
             [
              0.5555555555555556,
              "#d8576b"
             ],
             [
              0.6666666666666666,
              "#ed7953"
             ],
             [
              0.7777777777777778,
              "#fb9f3a"
             ],
             [
              0.8888888888888888,
              "#fdca26"
             ],
             [
              1.0,
              "#f0f921"
             ]
            ]
           }
          ],
          "surface": [
           {
            "type": "surface",
            "colorbar": {
             "outlinewidth": 0,
             "ticks": ""
            },
            "colorscale": [
             [
              0.0,
              "#0d0887"
             ],
             [
              0.1111111111111111,
              "#46039f"
             ],
             [
              0.2222222222222222,
              "#7201a8"
             ],
             [
              0.3333333333333333,
              "#9c179e"
             ],
             [
              0.4444444444444444,
              "#bd3786"
             ],
             [
              0.5555555555555556,
              "#d8576b"
             ],
             [
              0.6666666666666666,
              "#ed7953"
             ],
             [
              0.7777777777777778,
              "#fb9f3a"
             ],
             [
              0.8888888888888888,
              "#fdca26"
             ],
             [
              1.0,
              "#f0f921"
             ]
            ]
           }
          ],
          "mesh3d": [
           {
            "type": "mesh3d",
            "colorbar": {
             "outlinewidth": 0,
             "ticks": ""
            }
           }
          ],
          "scatter": [
           {
            "marker": {
             "line": {
              "color": "#283442"
             }
            },
            "type": "scatter"
           }
          ],
          "parcoords": [
           {
            "type": "parcoords",
            "line": {
             "colorbar": {
              "outlinewidth": 0,
              "ticks": ""
             }
            }
           }
          ],
          "scatterpolargl": [
           {
            "type": "scatterpolargl",
            "marker": {
             "colorbar": {
              "outlinewidth": 0,
              "ticks": ""
             }
            }
           }
          ],
          "bar": [
           {
            "error_x": {
             "color": "#f2f5fa"
            },
            "error_y": {
             "color": "#f2f5fa"
            },
            "marker": {
             "line": {
              "color": "rgb(17,17,17)",
              "width": 0.5
             },
             "pattern": {
              "fillmode": "overlay",
              "size": 10,
              "solidity": 0.2
             }
            },
            "type": "bar"
           }
          ],
          "scattergeo": [
           {
            "type": "scattergeo",
            "marker": {
             "colorbar": {
              "outlinewidth": 0,
              "ticks": ""
             }
            }
           }
          ],
          "scatterpolar": [
           {
            "type": "scatterpolar",
            "marker": {
             "colorbar": {
              "outlinewidth": 0,
              "ticks": ""
             }
            }
           }
          ],
          "histogram": [
           {
            "marker": {
             "pattern": {
              "fillmode": "overlay",
              "size": 10,
              "solidity": 0.2
             }
            },
            "type": "histogram"
           }
          ],
          "scattergl": [
           {
            "marker": {
             "line": {
              "color": "#283442"
             }
            },
            "type": "scattergl"
           }
          ],
          "scatter3d": [
           {
            "type": "scatter3d",
            "line": {
             "colorbar": {
              "outlinewidth": 0,
              "ticks": ""
             }
            },
            "marker": {
             "colorbar": {
              "outlinewidth": 0,
              "ticks": ""
             }
            }
           }
          ],
          "scattermap": [
           {
            "type": "scattermap",
            "marker": {
             "colorbar": {
              "outlinewidth": 0,
              "ticks": ""
             }
            }
           }
          ],
          "scattermapbox": [
           {
            "type": "scattermapbox",
            "marker": {
             "colorbar": {
              "outlinewidth": 0,
              "ticks": ""
             }
            }
           }
          ],
          "scatterternary": [
           {
            "type": "scatterternary",
            "marker": {
             "colorbar": {
              "outlinewidth": 0,
              "ticks": ""
             }
            }
           }
          ],
          "scattercarpet": [
           {
            "type": "scattercarpet",
            "marker": {
             "colorbar": {
              "outlinewidth": 0,
              "ticks": ""
             }
            }
           }
          ],
          "carpet": [
           {
            "aaxis": {
             "endlinecolor": "#A2B1C6",
             "gridcolor": "#506784",
             "linecolor": "#506784",
             "minorgridcolor": "#506784",
             "startlinecolor": "#A2B1C6"
            },
            "baxis": {
             "endlinecolor": "#A2B1C6",
             "gridcolor": "#506784",
             "linecolor": "#506784",
             "minorgridcolor": "#506784",
             "startlinecolor": "#A2B1C6"
            },
            "type": "carpet"
           }
          ],
          "table": [
           {
            "cells": {
             "fill": {
              "color": "#506784"
             },
             "line": {
              "color": "rgb(17,17,17)"
             }
            },
            "header": {
             "fill": {
              "color": "#2a3f5f"
             },
             "line": {
              "color": "rgb(17,17,17)"
             }
            },
            "type": "table"
           }
          ],
          "barpolar": [
           {
            "marker": {
             "line": {
              "color": "rgb(17,17,17)",
              "width": 0.5
             },
             "pattern": {
              "fillmode": "overlay",
              "size": 10,
              "solidity": 0.2
             }
            },
            "type": "barpolar"
           }
          ],
          "pie": [
           {
            "automargin": true,
            "type": "pie"
           }
          ]
         },
         "layout": {
          "autotypenumbers": "strict",
          "colorway": [
           "#636efa",
           "#EF553B",
           "#00cc96",
           "#ab63fa",
           "#FFA15A",
           "#19d3f3",
           "#FF6692",
           "#B6E880",
           "#FF97FF",
           "#FECB52"
          ],
          "font": {
           "color": "#f2f5fa"
          },
          "hovermode": "closest",
          "hoverlabel": {
           "align": "left"
          },
          "paper_bgcolor": "rgb(17,17,17)",
          "plot_bgcolor": "rgb(17,17,17)",
          "polar": {
           "bgcolor": "rgb(17,17,17)",
           "angularaxis": {
            "gridcolor": "#506784",
            "linecolor": "#506784",
            "ticks": ""
           },
           "radialaxis": {
            "gridcolor": "#506784",
            "linecolor": "#506784",
            "ticks": ""
           }
          },
          "ternary": {
           "bgcolor": "rgb(17,17,17)",
           "aaxis": {
            "gridcolor": "#506784",
            "linecolor": "#506784",
            "ticks": ""
           },
           "baxis": {
            "gridcolor": "#506784",
            "linecolor": "#506784",
            "ticks": ""
           },
           "caxis": {
            "gridcolor": "#506784",
            "linecolor": "#506784",
            "ticks": ""
           }
          },
          "coloraxis": {
           "colorbar": {
            "outlinewidth": 0,
            "ticks": ""
           }
          },
          "colorscale": {
           "sequential": [
            [
             0.0,
             "#0d0887"
            ],
            [
             0.1111111111111111,
             "#46039f"
            ],
            [
             0.2222222222222222,
             "#7201a8"
            ],
            [
             0.3333333333333333,
             "#9c179e"
            ],
            [
             0.4444444444444444,
             "#bd3786"
            ],
            [
             0.5555555555555556,
             "#d8576b"
            ],
            [
             0.6666666666666666,
             "#ed7953"
            ],
            [
             0.7777777777777778,
             "#fb9f3a"
            ],
            [
             0.8888888888888888,
             "#fdca26"
            ],
            [
             1.0,
             "#f0f921"
            ]
           ],
           "sequentialminus": [
            [
             0.0,
             "#0d0887"
            ],
            [
             0.1111111111111111,
             "#46039f"
            ],
            [
             0.2222222222222222,
             "#7201a8"
            ],
            [
             0.3333333333333333,
             "#9c179e"
            ],
            [
             0.4444444444444444,
             "#bd3786"
            ],
            [
             0.5555555555555556,
             "#d8576b"
            ],
            [
             0.6666666666666666,
             "#ed7953"
            ],
            [
             0.7777777777777778,
             "#fb9f3a"
            ],
            [
             0.8888888888888888,
             "#fdca26"
            ],
            [
             1.0,
             "#f0f921"
            ]
           ],
           "diverging": [
            [
             0,
             "#8e0152"
            ],
            [
             0.1,
             "#c51b7d"
            ],
            [
             0.2,
             "#de77ae"
            ],
            [
             0.3,
             "#f1b6da"
            ],
            [
             0.4,
             "#fde0ef"
            ],
            [
             0.5,
             "#f7f7f7"
            ],
            [
             0.6,
             "#e6f5d0"
            ],
            [
             0.7,
             "#b8e186"
            ],
            [
             0.8,
             "#7fbc41"
            ],
            [
             0.9,
             "#4d9221"
            ],
            [
             1,
             "#276419"
            ]
           ]
          },
          "xaxis": {
           "gridcolor": "#283442",
           "linecolor": "#506784",
           "ticks": "",
           "title": {
            "standoff": 15
           },
           "zerolinecolor": "#283442",
           "automargin": true,
           "zerolinewidth": 2
          },
          "yaxis": {
           "gridcolor": "#283442",
           "linecolor": "#506784",
           "ticks": "",
           "title": {
            "standoff": 15
           },
           "zerolinecolor": "#283442",
           "automargin": true,
           "zerolinewidth": 2
          },
          "scene": {
           "xaxis": {
            "backgroundcolor": "rgb(17,17,17)",
            "gridcolor": "#506784",
            "linecolor": "#506784",
            "showbackground": true,
            "ticks": "",
            "zerolinecolor": "#C8D4E3",
            "gridwidth": 2
           },
           "yaxis": {
            "backgroundcolor": "rgb(17,17,17)",
            "gridcolor": "#506784",
            "linecolor": "#506784",
            "showbackground": true,
            "ticks": "",
            "zerolinecolor": "#C8D4E3",
            "gridwidth": 2
           },
           "zaxis": {
            "backgroundcolor": "rgb(17,17,17)",
            "gridcolor": "#506784",
            "linecolor": "#506784",
            "showbackground": true,
            "ticks": "",
            "zerolinecolor": "#C8D4E3",
            "gridwidth": 2
           }
          },
          "shapedefaults": {
           "line": {
            "color": "#f2f5fa"
           }
          },
          "annotationdefaults": {
           "arrowcolor": "#f2f5fa",
           "arrowhead": 0,
           "arrowwidth": 1
          },
          "geo": {
           "bgcolor": "rgb(17,17,17)",
           "landcolor": "rgb(17,17,17)",
           "subunitcolor": "#506784",
           "showland": true,
           "showlakes": true,
           "lakecolor": "rgb(17,17,17)"
          },
          "title": {
           "x": 0.05
          },
          "updatemenudefaults": {
           "bgcolor": "#506784",
           "borderwidth": 0
          },
          "sliderdefaults": {
           "bgcolor": "#C8D4E3",
           "borderwidth": 1,
           "bordercolor": "rgb(17,17,17)",
           "tickwidth": 0
          },
          "mapbox": {
           "style": "dark"
          }
         }
        },
        "xaxis": {
         "anchor": "y",
         "domain": [
          0.0,
          1.0
         ],
         "title": {
          "text": "time_index"
         }
        },
        "yaxis": {
         "anchor": "x",
         "domain": [
          0.0,
          1.0
         ],
         "title": {
          "text": "RollingMean"
         }
        },
        "legend": {
         "title": {
          "text": "Factor"
         },
         "tracegroupgap": 0
        },
        "title": {
         "text": "60-Day Rolling Mean of Factor Exposures"
        }
       },
       "config": {
        "plotlyServerURL": "https://plot.ly"
       }
      }
     },
     "metadata": {},
     "output_type": "display_data"
    }
   ],
   "execution_count": 4
  },
  {
   "metadata": {
    "ExecuteTime": {
     "end_time": "2025-08-11T10:13:04.735397Z",
     "start_time": "2025-08-11T10:13:04.734011Z"
    }
   },
   "cell_type": "code",
   "source": "",
   "id": "181a2aa16cee7163",
   "outputs": [],
   "execution_count": null
  },
  {
   "metadata": {},
   "cell_type": "markdown",
   "source": [
    "## 5. Factor Attribution\n",
    "Compute per-factor P&L contributions and predicted portfolio return:\n",
    "\n",
    "$$ C_f(t) = x_f(t)\\,r_f(t),\\quad \\hat{R}(t) = \\sum_f C_f(t) $$"
   ],
   "id": "8e899ab0098f0d14"
  },
  {
   "metadata": {
    "ExecuteTime": {
     "end_time": "2025-08-11T10:13:05.562040Z",
     "start_time": "2025-08-11T10:13:04.778049Z"
    }
   },
   "cell_type": "code",
   "source": [
    "# 5. Load factor returns and perform attribution\n",
    "contrib, pred_returns = pfa.factor_attribution()\n",
    "last_date = contrib.index.max()\n",
    "# Plot contributions for last date\n",
    "bar = contrib.loc[last_date].reset_index(name='Contribution')\n",
    "fig = px.bar(bar, x='index', y='Contribution',\n",
    "             title=f'Factor P&L Contributions on {last_date.date()}')\n",
    "fig.show()"
   ],
   "id": "3bc4f15f7dd8e99",
   "outputs": [
    {
     "data": {
      "application/vnd.plotly.v1+json": {
       "data": [
        {
         "hovertemplate": "index=%{x}<br>Contribution=%{y}<extra></extra>",
         "legendgroup": "",
         "marker": {
          "color": "#636efa",
          "pattern": {
           "shape": ""
          }
         },
         "name": "",
         "orientation": "v",
         "showlegend": false,
         "textposition": "auto",
         "x": [
          "lncap",
          "lncap2",
          "beta",
          "nl_beta",
          "mom_12_1",
          "mom_1m",
          "resid_vol",
          "liquidity",
          "book_to_price",
          "leverage",
          "div_yield",
          "earnings_yield",
          "profitability"
         ],
         "xaxis": "x",
         "y": {
          "dtype": "f8",
          "bdata": "2itnDKukcL+GG0szDYJyP/q67h6V9Wq/38xm5jiBYT+TuTwvlfVeP0/wQRCp+GC/8G3UlSGUIT9kbBmNypjnPt7XgXmfc+i+wINUCmwVTb9LNTA+HTMwv59fxCIydhI/phkTGI9ENz8="
         },
         "yaxis": "y",
         "type": "bar"
        }
       ],
       "layout": {
        "template": {
         "data": {
          "histogram2dcontour": [
           {
            "type": "histogram2dcontour",
            "colorbar": {
             "outlinewidth": 0,
             "ticks": ""
            },
            "colorscale": [
             [
              0.0,
              "#0d0887"
             ],
             [
              0.1111111111111111,
              "#46039f"
             ],
             [
              0.2222222222222222,
              "#7201a8"
             ],
             [
              0.3333333333333333,
              "#9c179e"
             ],
             [
              0.4444444444444444,
              "#bd3786"
             ],
             [
              0.5555555555555556,
              "#d8576b"
             ],
             [
              0.6666666666666666,
              "#ed7953"
             ],
             [
              0.7777777777777778,
              "#fb9f3a"
             ],
             [
              0.8888888888888888,
              "#fdca26"
             ],
             [
              1.0,
              "#f0f921"
             ]
            ]
           }
          ],
          "choropleth": [
           {
            "type": "choropleth",
            "colorbar": {
             "outlinewidth": 0,
             "ticks": ""
            }
           }
          ],
          "histogram2d": [
           {
            "type": "histogram2d",
            "colorbar": {
             "outlinewidth": 0,
             "ticks": ""
            },
            "colorscale": [
             [
              0.0,
              "#0d0887"
             ],
             [
              0.1111111111111111,
              "#46039f"
             ],
             [
              0.2222222222222222,
              "#7201a8"
             ],
             [
              0.3333333333333333,
              "#9c179e"
             ],
             [
              0.4444444444444444,
              "#bd3786"
             ],
             [
              0.5555555555555556,
              "#d8576b"
             ],
             [
              0.6666666666666666,
              "#ed7953"
             ],
             [
              0.7777777777777778,
              "#fb9f3a"
             ],
             [
              0.8888888888888888,
              "#fdca26"
             ],
             [
              1.0,
              "#f0f921"
             ]
            ]
           }
          ],
          "heatmap": [
           {
            "type": "heatmap",
            "colorbar": {
             "outlinewidth": 0,
             "ticks": ""
            },
            "colorscale": [
             [
              0.0,
              "#0d0887"
             ],
             [
              0.1111111111111111,
              "#46039f"
             ],
             [
              0.2222222222222222,
              "#7201a8"
             ],
             [
              0.3333333333333333,
              "#9c179e"
             ],
             [
              0.4444444444444444,
              "#bd3786"
             ],
             [
              0.5555555555555556,
              "#d8576b"
             ],
             [
              0.6666666666666666,
              "#ed7953"
             ],
             [
              0.7777777777777778,
              "#fb9f3a"
             ],
             [
              0.8888888888888888,
              "#fdca26"
             ],
             [
              1.0,
              "#f0f921"
             ]
            ]
           }
          ],
          "contourcarpet": [
           {
            "type": "contourcarpet",
            "colorbar": {
             "outlinewidth": 0,
             "ticks": ""
            }
           }
          ],
          "contour": [
           {
            "type": "contour",
            "colorbar": {
             "outlinewidth": 0,
             "ticks": ""
            },
            "colorscale": [
             [
              0.0,
              "#0d0887"
             ],
             [
              0.1111111111111111,
              "#46039f"
             ],
             [
              0.2222222222222222,
              "#7201a8"
             ],
             [
              0.3333333333333333,
              "#9c179e"
             ],
             [
              0.4444444444444444,
              "#bd3786"
             ],
             [
              0.5555555555555556,
              "#d8576b"
             ],
             [
              0.6666666666666666,
              "#ed7953"
             ],
             [
              0.7777777777777778,
              "#fb9f3a"
             ],
             [
              0.8888888888888888,
              "#fdca26"
             ],
             [
              1.0,
              "#f0f921"
             ]
            ]
           }
          ],
          "surface": [
           {
            "type": "surface",
            "colorbar": {
             "outlinewidth": 0,
             "ticks": ""
            },
            "colorscale": [
             [
              0.0,
              "#0d0887"
             ],
             [
              0.1111111111111111,
              "#46039f"
             ],
             [
              0.2222222222222222,
              "#7201a8"
             ],
             [
              0.3333333333333333,
              "#9c179e"
             ],
             [
              0.4444444444444444,
              "#bd3786"
             ],
             [
              0.5555555555555556,
              "#d8576b"
             ],
             [
              0.6666666666666666,
              "#ed7953"
             ],
             [
              0.7777777777777778,
              "#fb9f3a"
             ],
             [
              0.8888888888888888,
              "#fdca26"
             ],
             [
              1.0,
              "#f0f921"
             ]
            ]
           }
          ],
          "mesh3d": [
           {
            "type": "mesh3d",
            "colorbar": {
             "outlinewidth": 0,
             "ticks": ""
            }
           }
          ],
          "scatter": [
           {
            "marker": {
             "line": {
              "color": "#283442"
             }
            },
            "type": "scatter"
           }
          ],
          "parcoords": [
           {
            "type": "parcoords",
            "line": {
             "colorbar": {
              "outlinewidth": 0,
              "ticks": ""
             }
            }
           }
          ],
          "scatterpolargl": [
           {
            "type": "scatterpolargl",
            "marker": {
             "colorbar": {
              "outlinewidth": 0,
              "ticks": ""
             }
            }
           }
          ],
          "bar": [
           {
            "error_x": {
             "color": "#f2f5fa"
            },
            "error_y": {
             "color": "#f2f5fa"
            },
            "marker": {
             "line": {
              "color": "rgb(17,17,17)",
              "width": 0.5
             },
             "pattern": {
              "fillmode": "overlay",
              "size": 10,
              "solidity": 0.2
             }
            },
            "type": "bar"
           }
          ],
          "scattergeo": [
           {
            "type": "scattergeo",
            "marker": {
             "colorbar": {
              "outlinewidth": 0,
              "ticks": ""
             }
            }
           }
          ],
          "scatterpolar": [
           {
            "type": "scatterpolar",
            "marker": {
             "colorbar": {
              "outlinewidth": 0,
              "ticks": ""
             }
            }
           }
          ],
          "histogram": [
           {
            "marker": {
             "pattern": {
              "fillmode": "overlay",
              "size": 10,
              "solidity": 0.2
             }
            },
            "type": "histogram"
           }
          ],
          "scattergl": [
           {
            "marker": {
             "line": {
              "color": "#283442"
             }
            },
            "type": "scattergl"
           }
          ],
          "scatter3d": [
           {
            "type": "scatter3d",
            "line": {
             "colorbar": {
              "outlinewidth": 0,
              "ticks": ""
             }
            },
            "marker": {
             "colorbar": {
              "outlinewidth": 0,
              "ticks": ""
             }
            }
           }
          ],
          "scattermap": [
           {
            "type": "scattermap",
            "marker": {
             "colorbar": {
              "outlinewidth": 0,
              "ticks": ""
             }
            }
           }
          ],
          "scattermapbox": [
           {
            "type": "scattermapbox",
            "marker": {
             "colorbar": {
              "outlinewidth": 0,
              "ticks": ""
             }
            }
           }
          ],
          "scatterternary": [
           {
            "type": "scatterternary",
            "marker": {
             "colorbar": {
              "outlinewidth": 0,
              "ticks": ""
             }
            }
           }
          ],
          "scattercarpet": [
           {
            "type": "scattercarpet",
            "marker": {
             "colorbar": {
              "outlinewidth": 0,
              "ticks": ""
             }
            }
           }
          ],
          "carpet": [
           {
            "aaxis": {
             "endlinecolor": "#A2B1C6",
             "gridcolor": "#506784",
             "linecolor": "#506784",
             "minorgridcolor": "#506784",
             "startlinecolor": "#A2B1C6"
            },
            "baxis": {
             "endlinecolor": "#A2B1C6",
             "gridcolor": "#506784",
             "linecolor": "#506784",
             "minorgridcolor": "#506784",
             "startlinecolor": "#A2B1C6"
            },
            "type": "carpet"
           }
          ],
          "table": [
           {
            "cells": {
             "fill": {
              "color": "#506784"
             },
             "line": {
              "color": "rgb(17,17,17)"
             }
            },
            "header": {
             "fill": {
              "color": "#2a3f5f"
             },
             "line": {
              "color": "rgb(17,17,17)"
             }
            },
            "type": "table"
           }
          ],
          "barpolar": [
           {
            "marker": {
             "line": {
              "color": "rgb(17,17,17)",
              "width": 0.5
             },
             "pattern": {
              "fillmode": "overlay",
              "size": 10,
              "solidity": 0.2
             }
            },
            "type": "barpolar"
           }
          ],
          "pie": [
           {
            "automargin": true,
            "type": "pie"
           }
          ]
         },
         "layout": {
          "autotypenumbers": "strict",
          "colorway": [
           "#636efa",
           "#EF553B",
           "#00cc96",
           "#ab63fa",
           "#FFA15A",
           "#19d3f3",
           "#FF6692",
           "#B6E880",
           "#FF97FF",
           "#FECB52"
          ],
          "font": {
           "color": "#f2f5fa"
          },
          "hovermode": "closest",
          "hoverlabel": {
           "align": "left"
          },
          "paper_bgcolor": "rgb(17,17,17)",
          "plot_bgcolor": "rgb(17,17,17)",
          "polar": {
           "bgcolor": "rgb(17,17,17)",
           "angularaxis": {
            "gridcolor": "#506784",
            "linecolor": "#506784",
            "ticks": ""
           },
           "radialaxis": {
            "gridcolor": "#506784",
            "linecolor": "#506784",
            "ticks": ""
           }
          },
          "ternary": {
           "bgcolor": "rgb(17,17,17)",
           "aaxis": {
            "gridcolor": "#506784",
            "linecolor": "#506784",
            "ticks": ""
           },
           "baxis": {
            "gridcolor": "#506784",
            "linecolor": "#506784",
            "ticks": ""
           },
           "caxis": {
            "gridcolor": "#506784",
            "linecolor": "#506784",
            "ticks": ""
           }
          },
          "coloraxis": {
           "colorbar": {
            "outlinewidth": 0,
            "ticks": ""
           }
          },
          "colorscale": {
           "sequential": [
            [
             0.0,
             "#0d0887"
            ],
            [
             0.1111111111111111,
             "#46039f"
            ],
            [
             0.2222222222222222,
             "#7201a8"
            ],
            [
             0.3333333333333333,
             "#9c179e"
            ],
            [
             0.4444444444444444,
             "#bd3786"
            ],
            [
             0.5555555555555556,
             "#d8576b"
            ],
            [
             0.6666666666666666,
             "#ed7953"
            ],
            [
             0.7777777777777778,
             "#fb9f3a"
            ],
            [
             0.8888888888888888,
             "#fdca26"
            ],
            [
             1.0,
             "#f0f921"
            ]
           ],
           "sequentialminus": [
            [
             0.0,
             "#0d0887"
            ],
            [
             0.1111111111111111,
             "#46039f"
            ],
            [
             0.2222222222222222,
             "#7201a8"
            ],
            [
             0.3333333333333333,
             "#9c179e"
            ],
            [
             0.4444444444444444,
             "#bd3786"
            ],
            [
             0.5555555555555556,
             "#d8576b"
            ],
            [
             0.6666666666666666,
             "#ed7953"
            ],
            [
             0.7777777777777778,
             "#fb9f3a"
            ],
            [
             0.8888888888888888,
             "#fdca26"
            ],
            [
             1.0,
             "#f0f921"
            ]
           ],
           "diverging": [
            [
             0,
             "#8e0152"
            ],
            [
             0.1,
             "#c51b7d"
            ],
            [
             0.2,
             "#de77ae"
            ],
            [
             0.3,
             "#f1b6da"
            ],
            [
             0.4,
             "#fde0ef"
            ],
            [
             0.5,
             "#f7f7f7"
            ],
            [
             0.6,
             "#e6f5d0"
            ],
            [
             0.7,
             "#b8e186"
            ],
            [
             0.8,
             "#7fbc41"
            ],
            [
             0.9,
             "#4d9221"
            ],
            [
             1,
             "#276419"
            ]
           ]
          },
          "xaxis": {
           "gridcolor": "#283442",
           "linecolor": "#506784",
           "ticks": "",
           "title": {
            "standoff": 15
           },
           "zerolinecolor": "#283442",
           "automargin": true,
           "zerolinewidth": 2
          },
          "yaxis": {
           "gridcolor": "#283442",
           "linecolor": "#506784",
           "ticks": "",
           "title": {
            "standoff": 15
           },
           "zerolinecolor": "#283442",
           "automargin": true,
           "zerolinewidth": 2
          },
          "scene": {
           "xaxis": {
            "backgroundcolor": "rgb(17,17,17)",
            "gridcolor": "#506784",
            "linecolor": "#506784",
            "showbackground": true,
            "ticks": "",
            "zerolinecolor": "#C8D4E3",
            "gridwidth": 2
           },
           "yaxis": {
            "backgroundcolor": "rgb(17,17,17)",
            "gridcolor": "#506784",
            "linecolor": "#506784",
            "showbackground": true,
            "ticks": "",
            "zerolinecolor": "#C8D4E3",
            "gridwidth": 2
           },
           "zaxis": {
            "backgroundcolor": "rgb(17,17,17)",
            "gridcolor": "#506784",
            "linecolor": "#506784",
            "showbackground": true,
            "ticks": "",
            "zerolinecolor": "#C8D4E3",
            "gridwidth": 2
           }
          },
          "shapedefaults": {
           "line": {
            "color": "#f2f5fa"
           }
          },
          "annotationdefaults": {
           "arrowcolor": "#f2f5fa",
           "arrowhead": 0,
           "arrowwidth": 1
          },
          "geo": {
           "bgcolor": "rgb(17,17,17)",
           "landcolor": "rgb(17,17,17)",
           "subunitcolor": "#506784",
           "showland": true,
           "showlakes": true,
           "lakecolor": "rgb(17,17,17)"
          },
          "title": {
           "x": 0.05
          },
          "updatemenudefaults": {
           "bgcolor": "#506784",
           "borderwidth": 0
          },
          "sliderdefaults": {
           "bgcolor": "#C8D4E3",
           "borderwidth": 1,
           "bordercolor": "rgb(17,17,17)",
           "tickwidth": 0
          },
          "mapbox": {
           "style": "dark"
          }
         }
        },
        "xaxis": {
         "anchor": "y",
         "domain": [
          0.0,
          1.0
         ],
         "title": {
          "text": "index"
         }
        },
        "yaxis": {
         "anchor": "x",
         "domain": [
          0.0,
          1.0
         ],
         "title": {
          "text": "Contribution"
         }
        },
        "legend": {
         "tracegroupgap": 0
        },
        "title": {
         "text": "Factor P&L Contributions on 2025-01-29"
        },
        "barmode": "relative"
       },
       "config": {
        "plotlyServerURL": "https://plot.ly"
       }
      }
     },
     "metadata": {},
     "output_type": "display_data"
    }
   ],
   "execution_count": 5
  },
  {
   "cell_type": "markdown",
   "id": "a748da6d",
   "metadata": {},
   "source": [
    "## 6. Cross-Sectional Tail Metrics\n",
    "\n",
    "Because each factor exposure is **z-scored cross-sectionally every day**, the\n",
    "standard deviation of \\(X_{i,f}(t)\\) is forced to be ≈ 1 for *every* factor on\n",
    "*every* date, so a “dispersion” plot is uninformative.\n",
    "\n",
    "Instead we examine the **tails** of the exposure distribution:\n",
    "\n",
    "* **Positive-tail share**\n",
    "  \\[\n",
    "    \\text{tail\\_pos}_f(t)=\\frac{1}{N}\\sum_{i=1}^{N}\n",
    "      \\mathbf 1\\!\\bigl[X_{i,f}(t) > \\tau\\bigr]\n",
    "  \\]\n",
    "\n",
    "* **Negative-tail share**\n",
    "  \\[\n",
    "    \\text{tail\\_neg}_f(t)=\\frac{1}{N}\\sum_{i=1}^{N}\n",
    "      \\mathbf 1\\!\\bigl[X_{i,f}(t) < -\\tau\\bigr]\n",
    "  \\]\n",
    "\n",
    "with threshold \\(\\tau=2\\) ( assets whose exposure is more than\n",
    "two standard-deviations from the mean).\n",
    "A high tail share signals **crowding** or **polarisation** in that factor on\n",
    "date \\(t\\).\n"
   ]
  },
  {
   "cell_type": "code",
   "id": "56a8c1be",
   "metadata": {
    "ExecuteTime": {
     "end_time": "2025-08-11T10:13:05.613983Z",
     "start_time": "2025-08-11T10:13:05.587180Z"
    }
   },
   "source": [
    "# 6. Cross-sectional tail metrics\n",
    "tail_metrics = pfa.exposure_tail_metrics(last_date, tail_cut=2.0)\n",
    "\n",
    "# Bar chart: % of assets in + and – tails\n",
    "import plotly.express as px\n",
    "plot_df = tail_metrics.reset_index().melt(id_vars='index',\n",
    "                                          value_vars=['tail_pos', 'tail_neg'],\n",
    "                                          var_name='Tail', value_name='Percent')\n",
    "fig = px.bar(plot_df,\n",
    "             x='index', y='Percent', color='Tail', barmode='group',\n",
    "             title=f'Fraction of Assets with |Exposure| > 2 on {last_date.date()}',\n",
    "             labels={'index':'Factor'})\n",
    "fig.update_layout(yaxis_tickformat='.0%', yaxis_title='% of Universe')\n",
    "fig.add_hline(y=0, line_color='black')\n",
    "fig.show()\n"
   ],
   "outputs": [
    {
     "data": {
      "application/vnd.plotly.v1+json": {
       "data": [
        {
         "alignmentgroup": "True",
         "hovertemplate": "Tail=tail_pos<br>Factor=%{x}<br>Percent=%{y}<extra></extra>",
         "legendgroup": "tail_pos",
         "marker": {
          "color": "#636efa",
          "pattern": {
           "shape": ""
          }
         },
         "name": "tail_pos",
         "offsetgroup": "tail_pos",
         "orientation": "v",
         "showlegend": true,
         "textposition": "auto",
         "x": [
          "lncap",
          "lncap2",
          "beta",
          "nl_beta",
          "mom_12_1",
          "mom_1m",
          "resid_vol",
          "liquidity",
          "book_to_price",
          "leverage",
          "div_yield",
          "earnings_yield",
          "profitability"
         ],
         "xaxis": "x",
         "y": {
          "dtype": "f8",
          "bdata": "AAAAAAAAAAAAAAAAAAAAABOBXBOBXKM/n3oxn3oxrz+ZT72YT72oPxxl9xtl95s/kGsikGsisD8xn3oxn3rBP1ihM1ihM7g/E4FcE4Fcoz+fejGfejGvP9dEINdEILc/AAAAAAAAAAA="
         },
         "yaxis": "y",
         "type": "bar"
        },
        {
         "alignmentgroup": "True",
         "hovertemplate": "Tail=tail_neg<br>Factor=%{x}<br>Percent=%{y}<extra></extra>",
         "legendgroup": "tail_neg",
         "marker": {
          "color": "#EF553B",
          "pattern": {
           "shape": ""
          }
         },
         "name": "tail_neg",
         "offsetgroup": "tail_neg",
         "orientation": "v",
         "showlegend": true,
         "textposition": "auto",
         "x": [
          "lncap",
          "lncap2",
          "beta",
          "nl_beta",
          "mom_12_1",
          "mom_1m",
          "resid_vol",
          "liquidity",
          "book_to_price",
          "leverage",
          "div_yield",
          "earnings_yield",
          "profitability"
         ],
         "xaxis": "x",
         "y": {
          "dtype": "f8",
          "bdata": "2f1G2f1G2T9paWlpaWnZPxqs0Bms0Hk/AAAAAAAAAAAarNAZrNCJPx4eHh4eHp4/Ecg1Ecg1YT8AAAAAAAAAABHINRHINWE/Ecg1Ecg1gT8AAAAAAAAAABqs0Bms0Jk/HGX3G2X3mz8="
         },
         "yaxis": "y",
         "type": "bar"
        }
       ],
       "layout": {
        "template": {
         "data": {
          "histogram2dcontour": [
           {
            "type": "histogram2dcontour",
            "colorbar": {
             "outlinewidth": 0,
             "ticks": ""
            },
            "colorscale": [
             [
              0.0,
              "#0d0887"
             ],
             [
              0.1111111111111111,
              "#46039f"
             ],
             [
              0.2222222222222222,
              "#7201a8"
             ],
             [
              0.3333333333333333,
              "#9c179e"
             ],
             [
              0.4444444444444444,
              "#bd3786"
             ],
             [
              0.5555555555555556,
              "#d8576b"
             ],
             [
              0.6666666666666666,
              "#ed7953"
             ],
             [
              0.7777777777777778,
              "#fb9f3a"
             ],
             [
              0.8888888888888888,
              "#fdca26"
             ],
             [
              1.0,
              "#f0f921"
             ]
            ]
           }
          ],
          "choropleth": [
           {
            "type": "choropleth",
            "colorbar": {
             "outlinewidth": 0,
             "ticks": ""
            }
           }
          ],
          "histogram2d": [
           {
            "type": "histogram2d",
            "colorbar": {
             "outlinewidth": 0,
             "ticks": ""
            },
            "colorscale": [
             [
              0.0,
              "#0d0887"
             ],
             [
              0.1111111111111111,
              "#46039f"
             ],
             [
              0.2222222222222222,
              "#7201a8"
             ],
             [
              0.3333333333333333,
              "#9c179e"
             ],
             [
              0.4444444444444444,
              "#bd3786"
             ],
             [
              0.5555555555555556,
              "#d8576b"
             ],
             [
              0.6666666666666666,
              "#ed7953"
             ],
             [
              0.7777777777777778,
              "#fb9f3a"
             ],
             [
              0.8888888888888888,
              "#fdca26"
             ],
             [
              1.0,
              "#f0f921"
             ]
            ]
           }
          ],
          "heatmap": [
           {
            "type": "heatmap",
            "colorbar": {
             "outlinewidth": 0,
             "ticks": ""
            },
            "colorscale": [
             [
              0.0,
              "#0d0887"
             ],
             [
              0.1111111111111111,
              "#46039f"
             ],
             [
              0.2222222222222222,
              "#7201a8"
             ],
             [
              0.3333333333333333,
              "#9c179e"
             ],
             [
              0.4444444444444444,
              "#bd3786"
             ],
             [
              0.5555555555555556,
              "#d8576b"
             ],
             [
              0.6666666666666666,
              "#ed7953"
             ],
             [
              0.7777777777777778,
              "#fb9f3a"
             ],
             [
              0.8888888888888888,
              "#fdca26"
             ],
             [
              1.0,
              "#f0f921"
             ]
            ]
           }
          ],
          "contourcarpet": [
           {
            "type": "contourcarpet",
            "colorbar": {
             "outlinewidth": 0,
             "ticks": ""
            }
           }
          ],
          "contour": [
           {
            "type": "contour",
            "colorbar": {
             "outlinewidth": 0,
             "ticks": ""
            },
            "colorscale": [
             [
              0.0,
              "#0d0887"
             ],
             [
              0.1111111111111111,
              "#46039f"
             ],
             [
              0.2222222222222222,
              "#7201a8"
             ],
             [
              0.3333333333333333,
              "#9c179e"
             ],
             [
              0.4444444444444444,
              "#bd3786"
             ],
             [
              0.5555555555555556,
              "#d8576b"
             ],
             [
              0.6666666666666666,
              "#ed7953"
             ],
             [
              0.7777777777777778,
              "#fb9f3a"
             ],
             [
              0.8888888888888888,
              "#fdca26"
             ],
             [
              1.0,
              "#f0f921"
             ]
            ]
           }
          ],
          "surface": [
           {
            "type": "surface",
            "colorbar": {
             "outlinewidth": 0,
             "ticks": ""
            },
            "colorscale": [
             [
              0.0,
              "#0d0887"
             ],
             [
              0.1111111111111111,
              "#46039f"
             ],
             [
              0.2222222222222222,
              "#7201a8"
             ],
             [
              0.3333333333333333,
              "#9c179e"
             ],
             [
              0.4444444444444444,
              "#bd3786"
             ],
             [
              0.5555555555555556,
              "#d8576b"
             ],
             [
              0.6666666666666666,
              "#ed7953"
             ],
             [
              0.7777777777777778,
              "#fb9f3a"
             ],
             [
              0.8888888888888888,
              "#fdca26"
             ],
             [
              1.0,
              "#f0f921"
             ]
            ]
           }
          ],
          "mesh3d": [
           {
            "type": "mesh3d",
            "colorbar": {
             "outlinewidth": 0,
             "ticks": ""
            }
           }
          ],
          "scatter": [
           {
            "marker": {
             "line": {
              "color": "#283442"
             }
            },
            "type": "scatter"
           }
          ],
          "parcoords": [
           {
            "type": "parcoords",
            "line": {
             "colorbar": {
              "outlinewidth": 0,
              "ticks": ""
             }
            }
           }
          ],
          "scatterpolargl": [
           {
            "type": "scatterpolargl",
            "marker": {
             "colorbar": {
              "outlinewidth": 0,
              "ticks": ""
             }
            }
           }
          ],
          "bar": [
           {
            "error_x": {
             "color": "#f2f5fa"
            },
            "error_y": {
             "color": "#f2f5fa"
            },
            "marker": {
             "line": {
              "color": "rgb(17,17,17)",
              "width": 0.5
             },
             "pattern": {
              "fillmode": "overlay",
              "size": 10,
              "solidity": 0.2
             }
            },
            "type": "bar"
           }
          ],
          "scattergeo": [
           {
            "type": "scattergeo",
            "marker": {
             "colorbar": {
              "outlinewidth": 0,
              "ticks": ""
             }
            }
           }
          ],
          "scatterpolar": [
           {
            "type": "scatterpolar",
            "marker": {
             "colorbar": {
              "outlinewidth": 0,
              "ticks": ""
             }
            }
           }
          ],
          "histogram": [
           {
            "marker": {
             "pattern": {
              "fillmode": "overlay",
              "size": 10,
              "solidity": 0.2
             }
            },
            "type": "histogram"
           }
          ],
          "scattergl": [
           {
            "marker": {
             "line": {
              "color": "#283442"
             }
            },
            "type": "scattergl"
           }
          ],
          "scatter3d": [
           {
            "type": "scatter3d",
            "line": {
             "colorbar": {
              "outlinewidth": 0,
              "ticks": ""
             }
            },
            "marker": {
             "colorbar": {
              "outlinewidth": 0,
              "ticks": ""
             }
            }
           }
          ],
          "scattermap": [
           {
            "type": "scattermap",
            "marker": {
             "colorbar": {
              "outlinewidth": 0,
              "ticks": ""
             }
            }
           }
          ],
          "scattermapbox": [
           {
            "type": "scattermapbox",
            "marker": {
             "colorbar": {
              "outlinewidth": 0,
              "ticks": ""
             }
            }
           }
          ],
          "scatterternary": [
           {
            "type": "scatterternary",
            "marker": {
             "colorbar": {
              "outlinewidth": 0,
              "ticks": ""
             }
            }
           }
          ],
          "scattercarpet": [
           {
            "type": "scattercarpet",
            "marker": {
             "colorbar": {
              "outlinewidth": 0,
              "ticks": ""
             }
            }
           }
          ],
          "carpet": [
           {
            "aaxis": {
             "endlinecolor": "#A2B1C6",
             "gridcolor": "#506784",
             "linecolor": "#506784",
             "minorgridcolor": "#506784",
             "startlinecolor": "#A2B1C6"
            },
            "baxis": {
             "endlinecolor": "#A2B1C6",
             "gridcolor": "#506784",
             "linecolor": "#506784",
             "minorgridcolor": "#506784",
             "startlinecolor": "#A2B1C6"
            },
            "type": "carpet"
           }
          ],
          "table": [
           {
            "cells": {
             "fill": {
              "color": "#506784"
             },
             "line": {
              "color": "rgb(17,17,17)"
             }
            },
            "header": {
             "fill": {
              "color": "#2a3f5f"
             },
             "line": {
              "color": "rgb(17,17,17)"
             }
            },
            "type": "table"
           }
          ],
          "barpolar": [
           {
            "marker": {
             "line": {
              "color": "rgb(17,17,17)",
              "width": 0.5
             },
             "pattern": {
              "fillmode": "overlay",
              "size": 10,
              "solidity": 0.2
             }
            },
            "type": "barpolar"
           }
          ],
          "pie": [
           {
            "automargin": true,
            "type": "pie"
           }
          ]
         },
         "layout": {
          "autotypenumbers": "strict",
          "colorway": [
           "#636efa",
           "#EF553B",
           "#00cc96",
           "#ab63fa",
           "#FFA15A",
           "#19d3f3",
           "#FF6692",
           "#B6E880",
           "#FF97FF",
           "#FECB52"
          ],
          "font": {
           "color": "#f2f5fa"
          },
          "hovermode": "closest",
          "hoverlabel": {
           "align": "left"
          },
          "paper_bgcolor": "rgb(17,17,17)",
          "plot_bgcolor": "rgb(17,17,17)",
          "polar": {
           "bgcolor": "rgb(17,17,17)",
           "angularaxis": {
            "gridcolor": "#506784",
            "linecolor": "#506784",
            "ticks": ""
           },
           "radialaxis": {
            "gridcolor": "#506784",
            "linecolor": "#506784",
            "ticks": ""
           }
          },
          "ternary": {
           "bgcolor": "rgb(17,17,17)",
           "aaxis": {
            "gridcolor": "#506784",
            "linecolor": "#506784",
            "ticks": ""
           },
           "baxis": {
            "gridcolor": "#506784",
            "linecolor": "#506784",
            "ticks": ""
           },
           "caxis": {
            "gridcolor": "#506784",
            "linecolor": "#506784",
            "ticks": ""
           }
          },
          "coloraxis": {
           "colorbar": {
            "outlinewidth": 0,
            "ticks": ""
           }
          },
          "colorscale": {
           "sequential": [
            [
             0.0,
             "#0d0887"
            ],
            [
             0.1111111111111111,
             "#46039f"
            ],
            [
             0.2222222222222222,
             "#7201a8"
            ],
            [
             0.3333333333333333,
             "#9c179e"
            ],
            [
             0.4444444444444444,
             "#bd3786"
            ],
            [
             0.5555555555555556,
             "#d8576b"
            ],
            [
             0.6666666666666666,
             "#ed7953"
            ],
            [
             0.7777777777777778,
             "#fb9f3a"
            ],
            [
             0.8888888888888888,
             "#fdca26"
            ],
            [
             1.0,
             "#f0f921"
            ]
           ],
           "sequentialminus": [
            [
             0.0,
             "#0d0887"
            ],
            [
             0.1111111111111111,
             "#46039f"
            ],
            [
             0.2222222222222222,
             "#7201a8"
            ],
            [
             0.3333333333333333,
             "#9c179e"
            ],
            [
             0.4444444444444444,
             "#bd3786"
            ],
            [
             0.5555555555555556,
             "#d8576b"
            ],
            [
             0.6666666666666666,
             "#ed7953"
            ],
            [
             0.7777777777777778,
             "#fb9f3a"
            ],
            [
             0.8888888888888888,
             "#fdca26"
            ],
            [
             1.0,
             "#f0f921"
            ]
           ],
           "diverging": [
            [
             0,
             "#8e0152"
            ],
            [
             0.1,
             "#c51b7d"
            ],
            [
             0.2,
             "#de77ae"
            ],
            [
             0.3,
             "#f1b6da"
            ],
            [
             0.4,
             "#fde0ef"
            ],
            [
             0.5,
             "#f7f7f7"
            ],
            [
             0.6,
             "#e6f5d0"
            ],
            [
             0.7,
             "#b8e186"
            ],
            [
             0.8,
             "#7fbc41"
            ],
            [
             0.9,
             "#4d9221"
            ],
            [
             1,
             "#276419"
            ]
           ]
          },
          "xaxis": {
           "gridcolor": "#283442",
           "linecolor": "#506784",
           "ticks": "",
           "title": {
            "standoff": 15
           },
           "zerolinecolor": "#283442",
           "automargin": true,
           "zerolinewidth": 2
          },
          "yaxis": {
           "gridcolor": "#283442",
           "linecolor": "#506784",
           "ticks": "",
           "title": {
            "standoff": 15
           },
           "zerolinecolor": "#283442",
           "automargin": true,
           "zerolinewidth": 2
          },
          "scene": {
           "xaxis": {
            "backgroundcolor": "rgb(17,17,17)",
            "gridcolor": "#506784",
            "linecolor": "#506784",
            "showbackground": true,
            "ticks": "",
            "zerolinecolor": "#C8D4E3",
            "gridwidth": 2
           },
           "yaxis": {
            "backgroundcolor": "rgb(17,17,17)",
            "gridcolor": "#506784",
            "linecolor": "#506784",
            "showbackground": true,
            "ticks": "",
            "zerolinecolor": "#C8D4E3",
            "gridwidth": 2
           },
           "zaxis": {
            "backgroundcolor": "rgb(17,17,17)",
            "gridcolor": "#506784",
            "linecolor": "#506784",
            "showbackground": true,
            "ticks": "",
            "zerolinecolor": "#C8D4E3",
            "gridwidth": 2
           }
          },
          "shapedefaults": {
           "line": {
            "color": "#f2f5fa"
           }
          },
          "annotationdefaults": {
           "arrowcolor": "#f2f5fa",
           "arrowhead": 0,
           "arrowwidth": 1
          },
          "geo": {
           "bgcolor": "rgb(17,17,17)",
           "landcolor": "rgb(17,17,17)",
           "subunitcolor": "#506784",
           "showland": true,
           "showlakes": true,
           "lakecolor": "rgb(17,17,17)"
          },
          "title": {
           "x": 0.05
          },
          "updatemenudefaults": {
           "bgcolor": "#506784",
           "borderwidth": 0
          },
          "sliderdefaults": {
           "bgcolor": "#C8D4E3",
           "borderwidth": 1,
           "bordercolor": "rgb(17,17,17)",
           "tickwidth": 0
          },
          "mapbox": {
           "style": "dark"
          }
         }
        },
        "xaxis": {
         "anchor": "y",
         "domain": [
          0.0,
          1.0
         ],
         "title": {
          "text": "Factor"
         }
        },
        "yaxis": {
         "anchor": "x",
         "domain": [
          0.0,
          1.0
         ],
         "title": {
          "text": "% of Universe"
         },
         "tickformat": ".0%"
        },
        "legend": {
         "title": {
          "text": "Tail"
         },
         "tracegroupgap": 0
        },
        "title": {
         "text": "Fraction of Assets with |Exposure| > 2 on 2025-01-29"
        },
        "barmode": "group",
        "shapes": [
         {
          "line": {
           "color": "black"
          },
          "type": "line",
          "x0": 0,
          "x1": 1,
          "xref": "x domain",
          "y0": 0,
          "y1": 0,
          "yref": "y"
         }
        ]
       },
       "config": {
        "plotlyServerURL": "https://plot.ly"
       }
      }
     },
     "metadata": {},
     "output_type": "display_data"
    }
   ],
   "execution_count": 6
  },
  {
   "cell_type": "markdown",
   "id": "0670b835",
   "metadata": {},
   "source": [
    "## 7. Exposure Correlation Matrix\n",
    "Examine correlations across assets based on their factor exposures."
   ]
  },
  {
   "cell_type": "code",
   "id": "55fc2d00",
   "metadata": {
    "ExecuteTime": {
     "end_time": "2025-08-11T10:13:05.638897Z",
     "start_time": "2025-08-11T10:13:05.619732Z"
    }
   },
   "source": [
    "# 7. Correlation matrix\n",
    "corr = pfa.correlation_matrix(last_date)\n",
    "fig = px.imshow(corr, labels=dict(x=\"Asset\", y=\"Asset\"), title=f'Exposure Correlation Matrix on {last_date.date()}')\n",
    "fig.show()"
   ],
   "outputs": [
    {
     "data": {
      "application/vnd.plotly.v1+json": {
       "data": [
        {
         "coloraxis": "coloraxis",
         "name": "0",
         "x": [
          "lncap",
          "lncap2",
          "beta",
          "nl_beta",
          "mom_12_1",
          "mom_1m",
          "resid_vol",
          "liquidity",
          "book_to_price",
          "leverage",
          "div_yield",
          "earnings_yield",
          "profitability"
         ],
         "y": [
          "lncap",
          "lncap2",
          "beta",
          "nl_beta",
          "mom_12_1",
          "mom_1m",
          "resid_vol",
          "liquidity",
          "book_to_price",
          "leverage",
          "div_yield",
          "earnings_yield",
          "profitability"
         ],
         "z": {
          "dtype": "f8",
          "bdata": "AAAAAAAA8D8G7Csgh/3vP3WEH2VXZoO/7Ufbu7EPc7/0BpBkNIbPP/oBUkVwCrw/Hl3G45JHrr+63KIq8Evjv09zjl1j8tG/yFEa3ZOttD9U27G50biwv+9Qm4aXKsm/YO6I68lovT8G7Csgh/3vPwAAAAAAAPA/dkhC2m2qhL99jWZZzTB0vyXb3vqlYc8/hJPiL8kQvD+x7BYP+k+uv7kd4U/cMeO/FgEg1/vb0b8G3sjtaMO0P/7v1pUMoLC/lCVqXjHbyL+HXvWSlLK9P3WEH2VXZoO/dkhC2m2qhL8AAAAAAADwP7Al12BSIO8/R0NLhLtVtT+lgLaA8GmSPzzxPeMrOOA/kVDRl0B90j+Qxztt7nq1v7xcY+WZE8C/OisyvM65wb9puyFZQVDFv3NrayOyKrg/7Ufbu7EPc799jWZZzTB0v7Al12BSIO8/AAAAAAAA8D8QMujK7Wm0P9n2rZ47izg/TWD2cD+d4D/qdTyqoJ7TP098n6BYebG/zh9rx3Byvb9Fzkv8z+u+v6dNVdKZR8O/zHuybWa0tD/0BpBkNIbPPyXb3vqlYc8/R0NLhLtVtT8QMujK7Wm0PwAAAAAAAPA/gaD1SlcRuD9zqlCmbsGKP3l6QCz1Y8m/Un7YMhU2y7/XO5eidzXGPxlE+rJ0ULA/swWqotDav79HrI+CdFpqP/oBUkVwCrw/hJPiL8kQvD+lgLaA8GmSP9n2rZ47izg/gaD1SlcRuD8AAAAAAADwP078/BciQ3o/5ecNRk85xL8FJW91DHKcP+yQWe2lh7Q/gLKHHiD5jj/NzCYZe41Tv3LdudWLM7S/Hl3G45JHrr+x7BYP+k+uvzzxPeMrOOA/TWD2cD+d4D9zqlCmbsGKP078/BciQ3o/AAAAAAAA8D89g4knquLgPyTTqza3O6Y/lmHWrqx8sb8JN+h1fM2uv8mDWJYDmqo/M30Kpyjzpz+63KIq8Evjv7kd4U/cMeO/kVDRl0B90j/qdTyqoJ7TP3l6QCz1Y8m/5ecNRk85xL89g4knquLgPwAAAAAAAPA/y2hZ3PZaxz806Z1V6Pi3v64pdkv9xZm/zc7W1OS9zD/1uhbx6NqhP09zjl1j8tG/FgEg1/vb0b+Qxztt7nq1v098n6BYebG/Un7YMhU2y78FJW91DHKcPyTTqza3O6Y/y2hZ3PZaxz8AAAAAAADwP2vI+mKAEdC/6rZWESmz0z+mlHbX3QjVP1LCrOszENy/yFEa3ZOttD8G3sjtaMO0P7xcY+WZE8C/zh9rx3Byvb/XO5eidzXGP+yQWe2lh7Q/lmHWrqx8sb806Z1V6Pi3v2vI+mKAEdC/AAAAAAAA8D/iMxND1M/DP1PO92WG2KA/hzimfdD4ur9U27G50biwv/7v1pUMoLC/OisyvM65wb9Fzkv8z+u+vxlE+rJ0ULA/gLKHHiD5jj8JN+h1fM2uv64pdkv9xZm/6rZWESmz0z/iMxND1M/DPwAAAAAAAPA/Zw/XWCSRmT/Y2wOtlY3Uv+9Qm4aXKsm/lCVqXjHbyL9puyFZQVDFv6dNVdKZR8O/swWqotDav7/NzCYZe41Tv8mDWJYDmqo/zc7W1OS9zD+mlHbX3QjVP1PO92WG2KA/Zw/XWCSRmT8AAAAAAADwP0Sj92XtltM/YO6I68lovT+HXvWSlLK9P3NrayOyKrg/zHuybWa0tD9HrI+CdFpqP3LdudWLM7S/M30Kpyjzpz/1uhbx6NqhP1LCrOszENy/hzimfdD4ur/Y2wOtlY3Uv0Sj92XtltM/AAAAAAAA8D8=",
          "shape": "13, 13"
         },
         "type": "heatmap",
         "xaxis": "x",
         "yaxis": "y",
         "hovertemplate": "Asset: %{x}<br>Asset: %{y}<br>color: %{z}<extra></extra>"
        }
       ],
       "layout": {
        "template": {
         "data": {
          "histogram2dcontour": [
           {
            "type": "histogram2dcontour",
            "colorbar": {
             "outlinewidth": 0,
             "ticks": ""
            },
            "colorscale": [
             [
              0.0,
              "#0d0887"
             ],
             [
              0.1111111111111111,
              "#46039f"
             ],
             [
              0.2222222222222222,
              "#7201a8"
             ],
             [
              0.3333333333333333,
              "#9c179e"
             ],
             [
              0.4444444444444444,
              "#bd3786"
             ],
             [
              0.5555555555555556,
              "#d8576b"
             ],
             [
              0.6666666666666666,
              "#ed7953"
             ],
             [
              0.7777777777777778,
              "#fb9f3a"
             ],
             [
              0.8888888888888888,
              "#fdca26"
             ],
             [
              1.0,
              "#f0f921"
             ]
            ]
           }
          ],
          "choropleth": [
           {
            "type": "choropleth",
            "colorbar": {
             "outlinewidth": 0,
             "ticks": ""
            }
           }
          ],
          "histogram2d": [
           {
            "type": "histogram2d",
            "colorbar": {
             "outlinewidth": 0,
             "ticks": ""
            },
            "colorscale": [
             [
              0.0,
              "#0d0887"
             ],
             [
              0.1111111111111111,
              "#46039f"
             ],
             [
              0.2222222222222222,
              "#7201a8"
             ],
             [
              0.3333333333333333,
              "#9c179e"
             ],
             [
              0.4444444444444444,
              "#bd3786"
             ],
             [
              0.5555555555555556,
              "#d8576b"
             ],
             [
              0.6666666666666666,
              "#ed7953"
             ],
             [
              0.7777777777777778,
              "#fb9f3a"
             ],
             [
              0.8888888888888888,
              "#fdca26"
             ],
             [
              1.0,
              "#f0f921"
             ]
            ]
           }
          ],
          "heatmap": [
           {
            "type": "heatmap",
            "colorbar": {
             "outlinewidth": 0,
             "ticks": ""
            },
            "colorscale": [
             [
              0.0,
              "#0d0887"
             ],
             [
              0.1111111111111111,
              "#46039f"
             ],
             [
              0.2222222222222222,
              "#7201a8"
             ],
             [
              0.3333333333333333,
              "#9c179e"
             ],
             [
              0.4444444444444444,
              "#bd3786"
             ],
             [
              0.5555555555555556,
              "#d8576b"
             ],
             [
              0.6666666666666666,
              "#ed7953"
             ],
             [
              0.7777777777777778,
              "#fb9f3a"
             ],
             [
              0.8888888888888888,
              "#fdca26"
             ],
             [
              1.0,
              "#f0f921"
             ]
            ]
           }
          ],
          "contourcarpet": [
           {
            "type": "contourcarpet",
            "colorbar": {
             "outlinewidth": 0,
             "ticks": ""
            }
           }
          ],
          "contour": [
           {
            "type": "contour",
            "colorbar": {
             "outlinewidth": 0,
             "ticks": ""
            },
            "colorscale": [
             [
              0.0,
              "#0d0887"
             ],
             [
              0.1111111111111111,
              "#46039f"
             ],
             [
              0.2222222222222222,
              "#7201a8"
             ],
             [
              0.3333333333333333,
              "#9c179e"
             ],
             [
              0.4444444444444444,
              "#bd3786"
             ],
             [
              0.5555555555555556,
              "#d8576b"
             ],
             [
              0.6666666666666666,
              "#ed7953"
             ],
             [
              0.7777777777777778,
              "#fb9f3a"
             ],
             [
              0.8888888888888888,
              "#fdca26"
             ],
             [
              1.0,
              "#f0f921"
             ]
            ]
           }
          ],
          "surface": [
           {
            "type": "surface",
            "colorbar": {
             "outlinewidth": 0,
             "ticks": ""
            },
            "colorscale": [
             [
              0.0,
              "#0d0887"
             ],
             [
              0.1111111111111111,
              "#46039f"
             ],
             [
              0.2222222222222222,
              "#7201a8"
             ],
             [
              0.3333333333333333,
              "#9c179e"
             ],
             [
              0.4444444444444444,
              "#bd3786"
             ],
             [
              0.5555555555555556,
              "#d8576b"
             ],
             [
              0.6666666666666666,
              "#ed7953"
             ],
             [
              0.7777777777777778,
              "#fb9f3a"
             ],
             [
              0.8888888888888888,
              "#fdca26"
             ],
             [
              1.0,
              "#f0f921"
             ]
            ]
           }
          ],
          "mesh3d": [
           {
            "type": "mesh3d",
            "colorbar": {
             "outlinewidth": 0,
             "ticks": ""
            }
           }
          ],
          "scatter": [
           {
            "marker": {
             "line": {
              "color": "#283442"
             }
            },
            "type": "scatter"
           }
          ],
          "parcoords": [
           {
            "type": "parcoords",
            "line": {
             "colorbar": {
              "outlinewidth": 0,
              "ticks": ""
             }
            }
           }
          ],
          "scatterpolargl": [
           {
            "type": "scatterpolargl",
            "marker": {
             "colorbar": {
              "outlinewidth": 0,
              "ticks": ""
             }
            }
           }
          ],
          "bar": [
           {
            "error_x": {
             "color": "#f2f5fa"
            },
            "error_y": {
             "color": "#f2f5fa"
            },
            "marker": {
             "line": {
              "color": "rgb(17,17,17)",
              "width": 0.5
             },
             "pattern": {
              "fillmode": "overlay",
              "size": 10,
              "solidity": 0.2
             }
            },
            "type": "bar"
           }
          ],
          "scattergeo": [
           {
            "type": "scattergeo",
            "marker": {
             "colorbar": {
              "outlinewidth": 0,
              "ticks": ""
             }
            }
           }
          ],
          "scatterpolar": [
           {
            "type": "scatterpolar",
            "marker": {
             "colorbar": {
              "outlinewidth": 0,
              "ticks": ""
             }
            }
           }
          ],
          "histogram": [
           {
            "marker": {
             "pattern": {
              "fillmode": "overlay",
              "size": 10,
              "solidity": 0.2
             }
            },
            "type": "histogram"
           }
          ],
          "scattergl": [
           {
            "marker": {
             "line": {
              "color": "#283442"
             }
            },
            "type": "scattergl"
           }
          ],
          "scatter3d": [
           {
            "type": "scatter3d",
            "line": {
             "colorbar": {
              "outlinewidth": 0,
              "ticks": ""
             }
            },
            "marker": {
             "colorbar": {
              "outlinewidth": 0,
              "ticks": ""
             }
            }
           }
          ],
          "scattermap": [
           {
            "type": "scattermap",
            "marker": {
             "colorbar": {
              "outlinewidth": 0,
              "ticks": ""
             }
            }
           }
          ],
          "scattermapbox": [
           {
            "type": "scattermapbox",
            "marker": {
             "colorbar": {
              "outlinewidth": 0,
              "ticks": ""
             }
            }
           }
          ],
          "scatterternary": [
           {
            "type": "scatterternary",
            "marker": {
             "colorbar": {
              "outlinewidth": 0,
              "ticks": ""
             }
            }
           }
          ],
          "scattercarpet": [
           {
            "type": "scattercarpet",
            "marker": {
             "colorbar": {
              "outlinewidth": 0,
              "ticks": ""
             }
            }
           }
          ],
          "carpet": [
           {
            "aaxis": {
             "endlinecolor": "#A2B1C6",
             "gridcolor": "#506784",
             "linecolor": "#506784",
             "minorgridcolor": "#506784",
             "startlinecolor": "#A2B1C6"
            },
            "baxis": {
             "endlinecolor": "#A2B1C6",
             "gridcolor": "#506784",
             "linecolor": "#506784",
             "minorgridcolor": "#506784",
             "startlinecolor": "#A2B1C6"
            },
            "type": "carpet"
           }
          ],
          "table": [
           {
            "cells": {
             "fill": {
              "color": "#506784"
             },
             "line": {
              "color": "rgb(17,17,17)"
             }
            },
            "header": {
             "fill": {
              "color": "#2a3f5f"
             },
             "line": {
              "color": "rgb(17,17,17)"
             }
            },
            "type": "table"
           }
          ],
          "barpolar": [
           {
            "marker": {
             "line": {
              "color": "rgb(17,17,17)",
              "width": 0.5
             },
             "pattern": {
              "fillmode": "overlay",
              "size": 10,
              "solidity": 0.2
             }
            },
            "type": "barpolar"
           }
          ],
          "pie": [
           {
            "automargin": true,
            "type": "pie"
           }
          ]
         },
         "layout": {
          "autotypenumbers": "strict",
          "colorway": [
           "#636efa",
           "#EF553B",
           "#00cc96",
           "#ab63fa",
           "#FFA15A",
           "#19d3f3",
           "#FF6692",
           "#B6E880",
           "#FF97FF",
           "#FECB52"
          ],
          "font": {
           "color": "#f2f5fa"
          },
          "hovermode": "closest",
          "hoverlabel": {
           "align": "left"
          },
          "paper_bgcolor": "rgb(17,17,17)",
          "plot_bgcolor": "rgb(17,17,17)",
          "polar": {
           "bgcolor": "rgb(17,17,17)",
           "angularaxis": {
            "gridcolor": "#506784",
            "linecolor": "#506784",
            "ticks": ""
           },
           "radialaxis": {
            "gridcolor": "#506784",
            "linecolor": "#506784",
            "ticks": ""
           }
          },
          "ternary": {
           "bgcolor": "rgb(17,17,17)",
           "aaxis": {
            "gridcolor": "#506784",
            "linecolor": "#506784",
            "ticks": ""
           },
           "baxis": {
            "gridcolor": "#506784",
            "linecolor": "#506784",
            "ticks": ""
           },
           "caxis": {
            "gridcolor": "#506784",
            "linecolor": "#506784",
            "ticks": ""
           }
          },
          "coloraxis": {
           "colorbar": {
            "outlinewidth": 0,
            "ticks": ""
           }
          },
          "colorscale": {
           "sequential": [
            [
             0.0,
             "#0d0887"
            ],
            [
             0.1111111111111111,
             "#46039f"
            ],
            [
             0.2222222222222222,
             "#7201a8"
            ],
            [
             0.3333333333333333,
             "#9c179e"
            ],
            [
             0.4444444444444444,
             "#bd3786"
            ],
            [
             0.5555555555555556,
             "#d8576b"
            ],
            [
             0.6666666666666666,
             "#ed7953"
            ],
            [
             0.7777777777777778,
             "#fb9f3a"
            ],
            [
             0.8888888888888888,
             "#fdca26"
            ],
            [
             1.0,
             "#f0f921"
            ]
           ],
           "sequentialminus": [
            [
             0.0,
             "#0d0887"
            ],
            [
             0.1111111111111111,
             "#46039f"
            ],
            [
             0.2222222222222222,
             "#7201a8"
            ],
            [
             0.3333333333333333,
             "#9c179e"
            ],
            [
             0.4444444444444444,
             "#bd3786"
            ],
            [
             0.5555555555555556,
             "#d8576b"
            ],
            [
             0.6666666666666666,
             "#ed7953"
            ],
            [
             0.7777777777777778,
             "#fb9f3a"
            ],
            [
             0.8888888888888888,
             "#fdca26"
            ],
            [
             1.0,
             "#f0f921"
            ]
           ],
           "diverging": [
            [
             0,
             "#8e0152"
            ],
            [
             0.1,
             "#c51b7d"
            ],
            [
             0.2,
             "#de77ae"
            ],
            [
             0.3,
             "#f1b6da"
            ],
            [
             0.4,
             "#fde0ef"
            ],
            [
             0.5,
             "#f7f7f7"
            ],
            [
             0.6,
             "#e6f5d0"
            ],
            [
             0.7,
             "#b8e186"
            ],
            [
             0.8,
             "#7fbc41"
            ],
            [
             0.9,
             "#4d9221"
            ],
            [
             1,
             "#276419"
            ]
           ]
          },
          "xaxis": {
           "gridcolor": "#283442",
           "linecolor": "#506784",
           "ticks": "",
           "title": {
            "standoff": 15
           },
           "zerolinecolor": "#283442",
           "automargin": true,
           "zerolinewidth": 2
          },
          "yaxis": {
           "gridcolor": "#283442",
           "linecolor": "#506784",
           "ticks": "",
           "title": {
            "standoff": 15
           },
           "zerolinecolor": "#283442",
           "automargin": true,
           "zerolinewidth": 2
          },
          "scene": {
           "xaxis": {
            "backgroundcolor": "rgb(17,17,17)",
            "gridcolor": "#506784",
            "linecolor": "#506784",
            "showbackground": true,
            "ticks": "",
            "zerolinecolor": "#C8D4E3",
            "gridwidth": 2
           },
           "yaxis": {
            "backgroundcolor": "rgb(17,17,17)",
            "gridcolor": "#506784",
            "linecolor": "#506784",
            "showbackground": true,
            "ticks": "",
            "zerolinecolor": "#C8D4E3",
            "gridwidth": 2
           },
           "zaxis": {
            "backgroundcolor": "rgb(17,17,17)",
            "gridcolor": "#506784",
            "linecolor": "#506784",
            "showbackground": true,
            "ticks": "",
            "zerolinecolor": "#C8D4E3",
            "gridwidth": 2
           }
          },
          "shapedefaults": {
           "line": {
            "color": "#f2f5fa"
           }
          },
          "annotationdefaults": {
           "arrowcolor": "#f2f5fa",
           "arrowhead": 0,
           "arrowwidth": 1
          },
          "geo": {
           "bgcolor": "rgb(17,17,17)",
           "landcolor": "rgb(17,17,17)",
           "subunitcolor": "#506784",
           "showland": true,
           "showlakes": true,
           "lakecolor": "rgb(17,17,17)"
          },
          "title": {
           "x": 0.05
          },
          "updatemenudefaults": {
           "bgcolor": "#506784",
           "borderwidth": 0
          },
          "sliderdefaults": {
           "bgcolor": "#C8D4E3",
           "borderwidth": 1,
           "bordercolor": "rgb(17,17,17)",
           "tickwidth": 0
          },
          "mapbox": {
           "style": "dark"
          }
         }
        },
        "xaxis": {
         "anchor": "y",
         "domain": [
          0.0,
          1.0
         ],
         "scaleanchor": "y",
         "constrain": "domain",
         "title": {
          "text": "Asset"
         }
        },
        "yaxis": {
         "anchor": "x",
         "domain": [
          0.0,
          1.0
         ],
         "autorange": "reversed",
         "constrain": "domain",
         "title": {
          "text": "Asset"
         }
        },
        "coloraxis": {
         "colorscale": [
          [
           0.0,
           "#0d0887"
          ],
          [
           0.1111111111111111,
           "#46039f"
          ],
          [
           0.2222222222222222,
           "#7201a8"
          ],
          [
           0.3333333333333333,
           "#9c179e"
          ],
          [
           0.4444444444444444,
           "#bd3786"
          ],
          [
           0.5555555555555556,
           "#d8576b"
          ],
          [
           0.6666666666666666,
           "#ed7953"
          ],
          [
           0.7777777777777778,
           "#fb9f3a"
          ],
          [
           0.8888888888888888,
           "#fdca26"
          ],
          [
           1.0,
           "#f0f921"
          ]
         ]
        },
        "title": {
         "text": "Exposure Correlation Matrix on 2025-01-29"
        }
       },
       "config": {
        "plotlyServerURL": "https://plot.ly"
       }
      }
     },
     "metadata": {},
     "output_type": "display_data"
    }
   ],
   "execution_count": 7
  },
  {
   "metadata": {
    "ExecuteTime": {
     "end_time": "2025-08-11T10:13:05.670908Z",
     "start_time": "2025-08-11T10:13:05.667881Z"
    }
   },
   "cell_type": "code",
   "source": "pd.Series(np.random.randn(len(contrib.columns)), index=contrib.columns)\n",
   "id": "9dc306ce6244dc16",
   "outputs": [
    {
     "data": {
      "text/plain": [
       "lncap            -1.498978\n",
       "lncap2            1.206049\n",
       "beta             -1.217627\n",
       "nl_beta           0.142504\n",
       "mom_12_1         -0.254858\n",
       "mom_1m            0.171139\n",
       "resid_vol        -0.625156\n",
       "liquidity        -1.742637\n",
       "book_to_price    -0.675716\n",
       "leverage          0.787063\n",
       "div_yield         0.740564\n",
       "earnings_yield   -0.310009\n",
       "profitability     0.551119\n",
       "dtype: float64"
      ]
     },
     "execution_count": 8,
     "metadata": {},
     "output_type": "execute_result"
    }
   ],
   "execution_count": 8
  },
  {
   "cell_type": "markdown",
   "id": "b474f0eb",
   "metadata": {},
   "source": [
    "## 8. Scenario Analysis\n",
    "Simulate portfolio P&L under a hypothetical factor shock:\n",
    "\n",
    "$$ \\Delta \\text{P\\&L}_f = x_f(t)\\,\\Delta r_f^{\\mathrm{shock}} $$"
   ]
  },
  {
   "cell_type": "code",
   "id": "988b22bc",
   "metadata": {
    "ExecuteTime": {
     "end_time": "2025-08-11T10:13:05.753638Z",
     "start_time": "2025-08-11T10:13:05.731848Z"
    }
   },
   "source": [
    "# 8. Scenario analysis\n",
    "shock = pd.Series(np.random.randn(len(contrib.columns)), index=contrib.columns)\n",
    "impact = pfa.scenario_analysis(shock, last_date)\n",
    "impact_df = impact.reset_index(name='PnlImpact')\n",
    "fig = px.bar(impact_df, x='index', y='PnlImpact', title='Hypothetical Shock P&L Impact')\n",
    "fig.show()"
   ],
   "outputs": [
    {
     "data": {
      "application/vnd.plotly.v1+json": {
       "data": [
        {
         "hovertemplate": "index=%{x}<br>PnlImpact=%{y}<extra></extra>",
         "legendgroup": "",
         "marker": {
          "color": "#636efa",
          "pattern": {
           "shape": ""
          }
         },
         "name": "",
         "orientation": "v",
         "showlegend": false,
         "textposition": "auto",
         "x": [
          "lncap",
          "lncap2",
          "beta",
          "nl_beta",
          "mom_12_1",
          "mom_1m",
          "resid_vol",
          "liquidity",
          "book_to_price",
          "leverage",
          "div_yield",
          "earnings_yield",
          "profitability"
         ],
         "xaxis": "x",
         "y": {
          "dtype": "f8",
          "bdata": "DF8bmonp/L/8QE282KXZP5UCDC5MA/K/2l/ZNNSU9b9VzdZi6oDzv/JjtorCg/Q/5A9VaHkZ+r8mITeWpiPXv21AD6iHx9U/tbwZzu2a6z/pdXZy+bPiPyJWa11o/aa/apnZ0NG05L8="
         },
         "yaxis": "y",
         "type": "bar"
        }
       ],
       "layout": {
        "template": {
         "data": {
          "histogram2dcontour": [
           {
            "type": "histogram2dcontour",
            "colorbar": {
             "outlinewidth": 0,
             "ticks": ""
            },
            "colorscale": [
             [
              0.0,
              "#0d0887"
             ],
             [
              0.1111111111111111,
              "#46039f"
             ],
             [
              0.2222222222222222,
              "#7201a8"
             ],
             [
              0.3333333333333333,
              "#9c179e"
             ],
             [
              0.4444444444444444,
              "#bd3786"
             ],
             [
              0.5555555555555556,
              "#d8576b"
             ],
             [
              0.6666666666666666,
              "#ed7953"
             ],
             [
              0.7777777777777778,
              "#fb9f3a"
             ],
             [
              0.8888888888888888,
              "#fdca26"
             ],
             [
              1.0,
              "#f0f921"
             ]
            ]
           }
          ],
          "choropleth": [
           {
            "type": "choropleth",
            "colorbar": {
             "outlinewidth": 0,
             "ticks": ""
            }
           }
          ],
          "histogram2d": [
           {
            "type": "histogram2d",
            "colorbar": {
             "outlinewidth": 0,
             "ticks": ""
            },
            "colorscale": [
             [
              0.0,
              "#0d0887"
             ],
             [
              0.1111111111111111,
              "#46039f"
             ],
             [
              0.2222222222222222,
              "#7201a8"
             ],
             [
              0.3333333333333333,
              "#9c179e"
             ],
             [
              0.4444444444444444,
              "#bd3786"
             ],
             [
              0.5555555555555556,
              "#d8576b"
             ],
             [
              0.6666666666666666,
              "#ed7953"
             ],
             [
              0.7777777777777778,
              "#fb9f3a"
             ],
             [
              0.8888888888888888,
              "#fdca26"
             ],
             [
              1.0,
              "#f0f921"
             ]
            ]
           }
          ],
          "heatmap": [
           {
            "type": "heatmap",
            "colorbar": {
             "outlinewidth": 0,
             "ticks": ""
            },
            "colorscale": [
             [
              0.0,
              "#0d0887"
             ],
             [
              0.1111111111111111,
              "#46039f"
             ],
             [
              0.2222222222222222,
              "#7201a8"
             ],
             [
              0.3333333333333333,
              "#9c179e"
             ],
             [
              0.4444444444444444,
              "#bd3786"
             ],
             [
              0.5555555555555556,
              "#d8576b"
             ],
             [
              0.6666666666666666,
              "#ed7953"
             ],
             [
              0.7777777777777778,
              "#fb9f3a"
             ],
             [
              0.8888888888888888,
              "#fdca26"
             ],
             [
              1.0,
              "#f0f921"
             ]
            ]
           }
          ],
          "contourcarpet": [
           {
            "type": "contourcarpet",
            "colorbar": {
             "outlinewidth": 0,
             "ticks": ""
            }
           }
          ],
          "contour": [
           {
            "type": "contour",
            "colorbar": {
             "outlinewidth": 0,
             "ticks": ""
            },
            "colorscale": [
             [
              0.0,
              "#0d0887"
             ],
             [
              0.1111111111111111,
              "#46039f"
             ],
             [
              0.2222222222222222,
              "#7201a8"
             ],
             [
              0.3333333333333333,
              "#9c179e"
             ],
             [
              0.4444444444444444,
              "#bd3786"
             ],
             [
              0.5555555555555556,
              "#d8576b"
             ],
             [
              0.6666666666666666,
              "#ed7953"
             ],
             [
              0.7777777777777778,
              "#fb9f3a"
             ],
             [
              0.8888888888888888,
              "#fdca26"
             ],
             [
              1.0,
              "#f0f921"
             ]
            ]
           }
          ],
          "surface": [
           {
            "type": "surface",
            "colorbar": {
             "outlinewidth": 0,
             "ticks": ""
            },
            "colorscale": [
             [
              0.0,
              "#0d0887"
             ],
             [
              0.1111111111111111,
              "#46039f"
             ],
             [
              0.2222222222222222,
              "#7201a8"
             ],
             [
              0.3333333333333333,
              "#9c179e"
             ],
             [
              0.4444444444444444,
              "#bd3786"
             ],
             [
              0.5555555555555556,
              "#d8576b"
             ],
             [
              0.6666666666666666,
              "#ed7953"
             ],
             [
              0.7777777777777778,
              "#fb9f3a"
             ],
             [
              0.8888888888888888,
              "#fdca26"
             ],
             [
              1.0,
              "#f0f921"
             ]
            ]
           }
          ],
          "mesh3d": [
           {
            "type": "mesh3d",
            "colorbar": {
             "outlinewidth": 0,
             "ticks": ""
            }
           }
          ],
          "scatter": [
           {
            "marker": {
             "line": {
              "color": "#283442"
             }
            },
            "type": "scatter"
           }
          ],
          "parcoords": [
           {
            "type": "parcoords",
            "line": {
             "colorbar": {
              "outlinewidth": 0,
              "ticks": ""
             }
            }
           }
          ],
          "scatterpolargl": [
           {
            "type": "scatterpolargl",
            "marker": {
             "colorbar": {
              "outlinewidth": 0,
              "ticks": ""
             }
            }
           }
          ],
          "bar": [
           {
            "error_x": {
             "color": "#f2f5fa"
            },
            "error_y": {
             "color": "#f2f5fa"
            },
            "marker": {
             "line": {
              "color": "rgb(17,17,17)",
              "width": 0.5
             },
             "pattern": {
              "fillmode": "overlay",
              "size": 10,
              "solidity": 0.2
             }
            },
            "type": "bar"
           }
          ],
          "scattergeo": [
           {
            "type": "scattergeo",
            "marker": {
             "colorbar": {
              "outlinewidth": 0,
              "ticks": ""
             }
            }
           }
          ],
          "scatterpolar": [
           {
            "type": "scatterpolar",
            "marker": {
             "colorbar": {
              "outlinewidth": 0,
              "ticks": ""
             }
            }
           }
          ],
          "histogram": [
           {
            "marker": {
             "pattern": {
              "fillmode": "overlay",
              "size": 10,
              "solidity": 0.2
             }
            },
            "type": "histogram"
           }
          ],
          "scattergl": [
           {
            "marker": {
             "line": {
              "color": "#283442"
             }
            },
            "type": "scattergl"
           }
          ],
          "scatter3d": [
           {
            "type": "scatter3d",
            "line": {
             "colorbar": {
              "outlinewidth": 0,
              "ticks": ""
             }
            },
            "marker": {
             "colorbar": {
              "outlinewidth": 0,
              "ticks": ""
             }
            }
           }
          ],
          "scattermap": [
           {
            "type": "scattermap",
            "marker": {
             "colorbar": {
              "outlinewidth": 0,
              "ticks": ""
             }
            }
           }
          ],
          "scattermapbox": [
           {
            "type": "scattermapbox",
            "marker": {
             "colorbar": {
              "outlinewidth": 0,
              "ticks": ""
             }
            }
           }
          ],
          "scatterternary": [
           {
            "type": "scatterternary",
            "marker": {
             "colorbar": {
              "outlinewidth": 0,
              "ticks": ""
             }
            }
           }
          ],
          "scattercarpet": [
           {
            "type": "scattercarpet",
            "marker": {
             "colorbar": {
              "outlinewidth": 0,
              "ticks": ""
             }
            }
           }
          ],
          "carpet": [
           {
            "aaxis": {
             "endlinecolor": "#A2B1C6",
             "gridcolor": "#506784",
             "linecolor": "#506784",
             "minorgridcolor": "#506784",
             "startlinecolor": "#A2B1C6"
            },
            "baxis": {
             "endlinecolor": "#A2B1C6",
             "gridcolor": "#506784",
             "linecolor": "#506784",
             "minorgridcolor": "#506784",
             "startlinecolor": "#A2B1C6"
            },
            "type": "carpet"
           }
          ],
          "table": [
           {
            "cells": {
             "fill": {
              "color": "#506784"
             },
             "line": {
              "color": "rgb(17,17,17)"
             }
            },
            "header": {
             "fill": {
              "color": "#2a3f5f"
             },
             "line": {
              "color": "rgb(17,17,17)"
             }
            },
            "type": "table"
           }
          ],
          "barpolar": [
           {
            "marker": {
             "line": {
              "color": "rgb(17,17,17)",
              "width": 0.5
             },
             "pattern": {
              "fillmode": "overlay",
              "size": 10,
              "solidity": 0.2
             }
            },
            "type": "barpolar"
           }
          ],
          "pie": [
           {
            "automargin": true,
            "type": "pie"
           }
          ]
         },
         "layout": {
          "autotypenumbers": "strict",
          "colorway": [
           "#636efa",
           "#EF553B",
           "#00cc96",
           "#ab63fa",
           "#FFA15A",
           "#19d3f3",
           "#FF6692",
           "#B6E880",
           "#FF97FF",
           "#FECB52"
          ],
          "font": {
           "color": "#f2f5fa"
          },
          "hovermode": "closest",
          "hoverlabel": {
           "align": "left"
          },
          "paper_bgcolor": "rgb(17,17,17)",
          "plot_bgcolor": "rgb(17,17,17)",
          "polar": {
           "bgcolor": "rgb(17,17,17)",
           "angularaxis": {
            "gridcolor": "#506784",
            "linecolor": "#506784",
            "ticks": ""
           },
           "radialaxis": {
            "gridcolor": "#506784",
            "linecolor": "#506784",
            "ticks": ""
           }
          },
          "ternary": {
           "bgcolor": "rgb(17,17,17)",
           "aaxis": {
            "gridcolor": "#506784",
            "linecolor": "#506784",
            "ticks": ""
           },
           "baxis": {
            "gridcolor": "#506784",
            "linecolor": "#506784",
            "ticks": ""
           },
           "caxis": {
            "gridcolor": "#506784",
            "linecolor": "#506784",
            "ticks": ""
           }
          },
          "coloraxis": {
           "colorbar": {
            "outlinewidth": 0,
            "ticks": ""
           }
          },
          "colorscale": {
           "sequential": [
            [
             0.0,
             "#0d0887"
            ],
            [
             0.1111111111111111,
             "#46039f"
            ],
            [
             0.2222222222222222,
             "#7201a8"
            ],
            [
             0.3333333333333333,
             "#9c179e"
            ],
            [
             0.4444444444444444,
             "#bd3786"
            ],
            [
             0.5555555555555556,
             "#d8576b"
            ],
            [
             0.6666666666666666,
             "#ed7953"
            ],
            [
             0.7777777777777778,
             "#fb9f3a"
            ],
            [
             0.8888888888888888,
             "#fdca26"
            ],
            [
             1.0,
             "#f0f921"
            ]
           ],
           "sequentialminus": [
            [
             0.0,
             "#0d0887"
            ],
            [
             0.1111111111111111,
             "#46039f"
            ],
            [
             0.2222222222222222,
             "#7201a8"
            ],
            [
             0.3333333333333333,
             "#9c179e"
            ],
            [
             0.4444444444444444,
             "#bd3786"
            ],
            [
             0.5555555555555556,
             "#d8576b"
            ],
            [
             0.6666666666666666,
             "#ed7953"
            ],
            [
             0.7777777777777778,
             "#fb9f3a"
            ],
            [
             0.8888888888888888,
             "#fdca26"
            ],
            [
             1.0,
             "#f0f921"
            ]
           ],
           "diverging": [
            [
             0,
             "#8e0152"
            ],
            [
             0.1,
             "#c51b7d"
            ],
            [
             0.2,
             "#de77ae"
            ],
            [
             0.3,
             "#f1b6da"
            ],
            [
             0.4,
             "#fde0ef"
            ],
            [
             0.5,
             "#f7f7f7"
            ],
            [
             0.6,
             "#e6f5d0"
            ],
            [
             0.7,
             "#b8e186"
            ],
            [
             0.8,
             "#7fbc41"
            ],
            [
             0.9,
             "#4d9221"
            ],
            [
             1,
             "#276419"
            ]
           ]
          },
          "xaxis": {
           "gridcolor": "#283442",
           "linecolor": "#506784",
           "ticks": "",
           "title": {
            "standoff": 15
           },
           "zerolinecolor": "#283442",
           "automargin": true,
           "zerolinewidth": 2
          },
          "yaxis": {
           "gridcolor": "#283442",
           "linecolor": "#506784",
           "ticks": "",
           "title": {
            "standoff": 15
           },
           "zerolinecolor": "#283442",
           "automargin": true,
           "zerolinewidth": 2
          },
          "scene": {
           "xaxis": {
            "backgroundcolor": "rgb(17,17,17)",
            "gridcolor": "#506784",
            "linecolor": "#506784",
            "showbackground": true,
            "ticks": "",
            "zerolinecolor": "#C8D4E3",
            "gridwidth": 2
           },
           "yaxis": {
            "backgroundcolor": "rgb(17,17,17)",
            "gridcolor": "#506784",
            "linecolor": "#506784",
            "showbackground": true,
            "ticks": "",
            "zerolinecolor": "#C8D4E3",
            "gridwidth": 2
           },
           "zaxis": {
            "backgroundcolor": "rgb(17,17,17)",
            "gridcolor": "#506784",
            "linecolor": "#506784",
            "showbackground": true,
            "ticks": "",
            "zerolinecolor": "#C8D4E3",
            "gridwidth": 2
           }
          },
          "shapedefaults": {
           "line": {
            "color": "#f2f5fa"
           }
          },
          "annotationdefaults": {
           "arrowcolor": "#f2f5fa",
           "arrowhead": 0,
           "arrowwidth": 1
          },
          "geo": {
           "bgcolor": "rgb(17,17,17)",
           "landcolor": "rgb(17,17,17)",
           "subunitcolor": "#506784",
           "showland": true,
           "showlakes": true,
           "lakecolor": "rgb(17,17,17)"
          },
          "title": {
           "x": 0.05
          },
          "updatemenudefaults": {
           "bgcolor": "#506784",
           "borderwidth": 0
          },
          "sliderdefaults": {
           "bgcolor": "#C8D4E3",
           "borderwidth": 1,
           "bordercolor": "rgb(17,17,17)",
           "tickwidth": 0
          },
          "mapbox": {
           "style": "dark"
          }
         }
        },
        "xaxis": {
         "anchor": "y",
         "domain": [
          0.0,
          1.0
         ],
         "title": {
          "text": "index"
         }
        },
        "yaxis": {
         "anchor": "x",
         "domain": [
          0.0,
          1.0
         ],
         "title": {
          "text": "PnlImpact"
         }
        },
        "legend": {
         "tracegroupgap": 0
        },
        "title": {
         "text": "Hypothetical Shock P&L Impact"
        },
        "barmode": "relative"
       },
       "config": {
        "plotlyServerURL": "https://plot.ly"
       }
      }
     },
     "metadata": {},
     "output_type": "display_data"
    }
   ],
   "execution_count": 9
  },
  {
   "cell_type": "markdown",
   "id": "79ebf4e8",
   "metadata": {},
   "source": [
    "## 9. Estimating Realized Factor Premia via Cross‐Sectional Regression\n",
    "\n",
    "In practice we want to recover the *realized* factor returns (risk premia) $\\beta_f(t)$ on each date $t$ by exploiting the cross‐section of asset returns and exposures.  This is the classic Fama–MacBeth (1973) “second‐pass” regression applied daily.\n",
    "\n",
    "---\n",
    "\n",
    "### Model Specification\n",
    "\n",
    "We assume that on date $t$, each asset’s excess return $r_i(t)$ is driven by its exposures $X_{i,f}(t)$ to $K$ risk factors plus idiosyncratic noise:\n",
    "\n",
    "$$\n",
    "r_i(t) \\;=\\; \\alpha(t)\\;+\\;\\sum_{f=1}^K X_{i,f}(t)\\,\\beta_f(t)\\;+\\;\\varepsilon_i(t),\n",
    "$$\n",
    "\n",
    "where:\n",
    "\n",
    "- $\\alpha(t)$ is the cross‐sectional intercept capturing any common shift (“alpha”) not explained by the factors.\n",
    "- $\\beta_f(t)$ is the *realized* daily risk premium for factor $f$ at date $t$.\n",
    "- $\\varepsilon_i(t)$ is the idiosyncratic residual for asset $i$ on date $t$.\n",
    "\n",
    "---\n",
    "\n",
    "### Estimation Procedure\n",
    "\n",
    "1. **Snapshot Data**\n",
    "   - Build matrix $X(t)\\in\\mathbb{R}^{N\\times K}$ with row $i$ = $[X_{i,1}(t),\\dots,X_{i,K}(t)]$.\n",
    "   - Stack returns into vector $\\mathbf{r}(t)\\in\\mathbb{R}^N$.\n",
    "\n",
    "2. **Add Intercept**\n",
    "   - Prepend a column of ones to $X(t)$ to estimate $\\alpha(t)$ simultaneously with $\\beta(t)$.\n",
    "\n",
    "3. **Weighted Least Squares** (optional)\n",
    "   - If you have asset‐level weights $w_i$ (e.g.\\ market cap), solve\n",
    "     $$\n",
    "     \\min_{\\alpha,\\beta}\\;\n",
    "     \\bigl[\\mathbf{r}(t) - \\alpha\\,\\mathbf{1} - X(t)\\,\\beta\\bigr]^\\top\n",
    "     \\,\\mathrm{diag}(w)\\,\n",
    "     \\bigl[\\mathbf{r}(t) - \\alpha\\,\\mathbf{1} - X(t)\\,\\beta\\bigr].\n",
    "     $$\n",
    "   - Otherwise use ordinary OLS.\n",
    "\n",
    "4. **Robust Inference**\n",
    "   - Compute heteroskedasticity‐consistent (HC1) standard errors for valid $t$‐tests even if residuals exhibit non‐constant variance.\n",
    "\n",
    "5. **Diagnostic Checks**\n",
    "   - **Condition Number** of $X^\\top X$ to flag multicollinearity among factors.\n",
    "   - **R-squared** to gauge how well the factors explain the cross‐section of returns.\n",
    "\n",
    "---\n",
    "\n",
    "### Economic Interpretation\n",
    "\n",
    "- **$\\beta_f(t)$**: tells you *ex‐post* how much you would have earned per unit of exposure to factor $f$ on that day.\n",
    "- **$\\alpha(t)$**: measures any systematic return not captured by your factor set—often interpreted as model misspecification or omitted factors.\n",
    "- **Residuals $\\varepsilon_i(t)$**: idiosyncratic shocks; aggregating them weighted by your portfolio weights gives your specific‐risk P&L.\n",
    "\n",
    "---\n",
    "\n",
    "### References\n",
    "\n",
    "- Fama, E. F. & MacBeth, J. D. (1973). “Risk, Return, and Equilibrium: Empirical Tests,” *Journal of Political Economy*, 81(3), 607–636.\n",
    "- Cochrane, J. H. (2005). *Asset Pricing* (Chapter 6: “The Cross‐Section of Expected Returns”), Princeton University Press.\n",
    "- Axioma/Barra white paper (2006). “Axioma Risk Models: Construction and Implementation,” Axioma, Inc.\n"
   ]
  },
  {
   "cell_type": "code",
   "id": "184f7a7c",
   "metadata": {
    "ExecuteTime": {
     "end_time": "2025-08-11T10:13:55.904110Z",
     "start_time": "2025-08-11T10:13:05.775867Z"
    }
   },
   "source": [
    "# 9. Estimate realized factor premia and visualize\n",
    "\n",
    "\n",
    "\n",
    "# 2) Estimate factor premia with robust errors\n",
    "res = pfa.estimate_realized_factor_premia(last_date, asset_weights=None)\n",
    "\n",
    "# 3) Prepare DataFrame for plotting\n",
    "premia = res['premia']\n",
    "stderr = res['stderr']\n",
    "plot_df = pd.DataFrame({\n",
    "    'Factor': premia.index,\n",
    "    'EstimatedReturn': premia.values,\n",
    "    'StdErr': stderr.values\n",
    "})\n",
    "\n",
    "# 4) Plot with error bars\n",
    "import plotly.express as px\n",
    "\n",
    "fig = px.bar(\n",
    "    plot_df,\n",
    "    x='Factor',\n",
    "    y='EstimatedReturn',\n",
    "    error_y='StdErr',\n",
    "    title=f'Realized Factor Premia on {last_date.date()}',\n",
    "    labels={'EstimatedReturn': 'Estimated Premium', 'Factor': 'Factor'}\n",
    ")\n",
    "fig.add_hline(y=0, line_dash=\"dash\", line_color=\"black\")\n",
    "fig.update_layout(yaxis_title='Premium', xaxis_title='Factor')\n",
    "fig.show()\n"
   ],
   "outputs": [
    {
     "data": {
      "application/vnd.plotly.v1+json": {
       "data": [
        {
         "error_y": {
          "array": {
           "dtype": "f8",
           "bdata": "IzeXtAIJWD/0088J1yWcP+m73c6dI5w/27smxC1eaD9LrUvai7RoP8l4udlrFU4/LaHHBI90UT/6Vtn2mG9RP9s1zZyXBFY/8KT4tkRaUj8LtxCDkgVRPw/8My+77Ek/H0nHHBwlVD+LU5Uch0pUPw=="
          }
         },
         "hovertemplate": "Factor=%{x}<br>Estimated Premium=%{y}<extra></extra>",
         "legendgroup": "",
         "marker": {
          "color": "#636efa",
          "pattern": {
           "shape": ""
          }
         },
         "name": "",
         "orientation": "v",
         "showlegend": false,
         "textposition": "auto",
         "x": [
          "alpha",
          "lncap",
          "lncap2",
          "beta",
          "nl_beta",
          "mom_12_1",
          "mom_1m",
          "resid_vol",
          "liquidity",
          "book_to_price",
          "leverage",
          "div_yield",
          "earnings_yield",
          "profitability"
         ],
         "xaxis": "x",
         "y": {
          "dtype": "f8",
          "bdata": "gIOAhE3naL+Cg8WgVdaLv1vC9G8HyI4/NA25LeARar8G+KnA9gxiP76pvSzKa10/Hhcqsa0ncT8aZ0vbojxLP6x+eVN540g/8WEDMgztNb8oiZ8GMGxHP6wSr/zKiPI+GPllTY6wWz/pdiDAN1JHvw=="
         },
         "yaxis": "y",
         "type": "bar"
        }
       ],
       "layout": {
        "template": {
         "data": {
          "histogram2dcontour": [
           {
            "type": "histogram2dcontour",
            "colorbar": {
             "outlinewidth": 0,
             "ticks": ""
            },
            "colorscale": [
             [
              0.0,
              "#0d0887"
             ],
             [
              0.1111111111111111,
              "#46039f"
             ],
             [
              0.2222222222222222,
              "#7201a8"
             ],
             [
              0.3333333333333333,
              "#9c179e"
             ],
             [
              0.4444444444444444,
              "#bd3786"
             ],
             [
              0.5555555555555556,
              "#d8576b"
             ],
             [
              0.6666666666666666,
              "#ed7953"
             ],
             [
              0.7777777777777778,
              "#fb9f3a"
             ],
             [
              0.8888888888888888,
              "#fdca26"
             ],
             [
              1.0,
              "#f0f921"
             ]
            ]
           }
          ],
          "choropleth": [
           {
            "type": "choropleth",
            "colorbar": {
             "outlinewidth": 0,
             "ticks": ""
            }
           }
          ],
          "histogram2d": [
           {
            "type": "histogram2d",
            "colorbar": {
             "outlinewidth": 0,
             "ticks": ""
            },
            "colorscale": [
             [
              0.0,
              "#0d0887"
             ],
             [
              0.1111111111111111,
              "#46039f"
             ],
             [
              0.2222222222222222,
              "#7201a8"
             ],
             [
              0.3333333333333333,
              "#9c179e"
             ],
             [
              0.4444444444444444,
              "#bd3786"
             ],
             [
              0.5555555555555556,
              "#d8576b"
             ],
             [
              0.6666666666666666,
              "#ed7953"
             ],
             [
              0.7777777777777778,
              "#fb9f3a"
             ],
             [
              0.8888888888888888,
              "#fdca26"
             ],
             [
              1.0,
              "#f0f921"
             ]
            ]
           }
          ],
          "heatmap": [
           {
            "type": "heatmap",
            "colorbar": {
             "outlinewidth": 0,
             "ticks": ""
            },
            "colorscale": [
             [
              0.0,
              "#0d0887"
             ],
             [
              0.1111111111111111,
              "#46039f"
             ],
             [
              0.2222222222222222,
              "#7201a8"
             ],
             [
              0.3333333333333333,
              "#9c179e"
             ],
             [
              0.4444444444444444,
              "#bd3786"
             ],
             [
              0.5555555555555556,
              "#d8576b"
             ],
             [
              0.6666666666666666,
              "#ed7953"
             ],
             [
              0.7777777777777778,
              "#fb9f3a"
             ],
             [
              0.8888888888888888,
              "#fdca26"
             ],
             [
              1.0,
              "#f0f921"
             ]
            ]
           }
          ],
          "contourcarpet": [
           {
            "type": "contourcarpet",
            "colorbar": {
             "outlinewidth": 0,
             "ticks": ""
            }
           }
          ],
          "contour": [
           {
            "type": "contour",
            "colorbar": {
             "outlinewidth": 0,
             "ticks": ""
            },
            "colorscale": [
             [
              0.0,
              "#0d0887"
             ],
             [
              0.1111111111111111,
              "#46039f"
             ],
             [
              0.2222222222222222,
              "#7201a8"
             ],
             [
              0.3333333333333333,
              "#9c179e"
             ],
             [
              0.4444444444444444,
              "#bd3786"
             ],
             [
              0.5555555555555556,
              "#d8576b"
             ],
             [
              0.6666666666666666,
              "#ed7953"
             ],
             [
              0.7777777777777778,
              "#fb9f3a"
             ],
             [
              0.8888888888888888,
              "#fdca26"
             ],
             [
              1.0,
              "#f0f921"
             ]
            ]
           }
          ],
          "surface": [
           {
            "type": "surface",
            "colorbar": {
             "outlinewidth": 0,
             "ticks": ""
            },
            "colorscale": [
             [
              0.0,
              "#0d0887"
             ],
             [
              0.1111111111111111,
              "#46039f"
             ],
             [
              0.2222222222222222,
              "#7201a8"
             ],
             [
              0.3333333333333333,
              "#9c179e"
             ],
             [
              0.4444444444444444,
              "#bd3786"
             ],
             [
              0.5555555555555556,
              "#d8576b"
             ],
             [
              0.6666666666666666,
              "#ed7953"
             ],
             [
              0.7777777777777778,
              "#fb9f3a"
             ],
             [
              0.8888888888888888,
              "#fdca26"
             ],
             [
              1.0,
              "#f0f921"
             ]
            ]
           }
          ],
          "mesh3d": [
           {
            "type": "mesh3d",
            "colorbar": {
             "outlinewidth": 0,
             "ticks": ""
            }
           }
          ],
          "scatter": [
           {
            "marker": {
             "line": {
              "color": "#283442"
             }
            },
            "type": "scatter"
           }
          ],
          "parcoords": [
           {
            "type": "parcoords",
            "line": {
             "colorbar": {
              "outlinewidth": 0,
              "ticks": ""
             }
            }
           }
          ],
          "scatterpolargl": [
           {
            "type": "scatterpolargl",
            "marker": {
             "colorbar": {
              "outlinewidth": 0,
              "ticks": ""
             }
            }
           }
          ],
          "bar": [
           {
            "error_x": {
             "color": "#f2f5fa"
            },
            "error_y": {
             "color": "#f2f5fa"
            },
            "marker": {
             "line": {
              "color": "rgb(17,17,17)",
              "width": 0.5
             },
             "pattern": {
              "fillmode": "overlay",
              "size": 10,
              "solidity": 0.2
             }
            },
            "type": "bar"
           }
          ],
          "scattergeo": [
           {
            "type": "scattergeo",
            "marker": {
             "colorbar": {
              "outlinewidth": 0,
              "ticks": ""
             }
            }
           }
          ],
          "scatterpolar": [
           {
            "type": "scatterpolar",
            "marker": {
             "colorbar": {
              "outlinewidth": 0,
              "ticks": ""
             }
            }
           }
          ],
          "histogram": [
           {
            "marker": {
             "pattern": {
              "fillmode": "overlay",
              "size": 10,
              "solidity": 0.2
             }
            },
            "type": "histogram"
           }
          ],
          "scattergl": [
           {
            "marker": {
             "line": {
              "color": "#283442"
             }
            },
            "type": "scattergl"
           }
          ],
          "scatter3d": [
           {
            "type": "scatter3d",
            "line": {
             "colorbar": {
              "outlinewidth": 0,
              "ticks": ""
             }
            },
            "marker": {
             "colorbar": {
              "outlinewidth": 0,
              "ticks": ""
             }
            }
           }
          ],
          "scattermap": [
           {
            "type": "scattermap",
            "marker": {
             "colorbar": {
              "outlinewidth": 0,
              "ticks": ""
             }
            }
           }
          ],
          "scattermapbox": [
           {
            "type": "scattermapbox",
            "marker": {
             "colorbar": {
              "outlinewidth": 0,
              "ticks": ""
             }
            }
           }
          ],
          "scatterternary": [
           {
            "type": "scatterternary",
            "marker": {
             "colorbar": {
              "outlinewidth": 0,
              "ticks": ""
             }
            }
           }
          ],
          "scattercarpet": [
           {
            "type": "scattercarpet",
            "marker": {
             "colorbar": {
              "outlinewidth": 0,
              "ticks": ""
             }
            }
           }
          ],
          "carpet": [
           {
            "aaxis": {
             "endlinecolor": "#A2B1C6",
             "gridcolor": "#506784",
             "linecolor": "#506784",
             "minorgridcolor": "#506784",
             "startlinecolor": "#A2B1C6"
            },
            "baxis": {
             "endlinecolor": "#A2B1C6",
             "gridcolor": "#506784",
             "linecolor": "#506784",
             "minorgridcolor": "#506784",
             "startlinecolor": "#A2B1C6"
            },
            "type": "carpet"
           }
          ],
          "table": [
           {
            "cells": {
             "fill": {
              "color": "#506784"
             },
             "line": {
              "color": "rgb(17,17,17)"
             }
            },
            "header": {
             "fill": {
              "color": "#2a3f5f"
             },
             "line": {
              "color": "rgb(17,17,17)"
             }
            },
            "type": "table"
           }
          ],
          "barpolar": [
           {
            "marker": {
             "line": {
              "color": "rgb(17,17,17)",
              "width": 0.5
             },
             "pattern": {
              "fillmode": "overlay",
              "size": 10,
              "solidity": 0.2
             }
            },
            "type": "barpolar"
           }
          ],
          "pie": [
           {
            "automargin": true,
            "type": "pie"
           }
          ]
         },
         "layout": {
          "autotypenumbers": "strict",
          "colorway": [
           "#636efa",
           "#EF553B",
           "#00cc96",
           "#ab63fa",
           "#FFA15A",
           "#19d3f3",
           "#FF6692",
           "#B6E880",
           "#FF97FF",
           "#FECB52"
          ],
          "font": {
           "color": "#f2f5fa"
          },
          "hovermode": "closest",
          "hoverlabel": {
           "align": "left"
          },
          "paper_bgcolor": "rgb(17,17,17)",
          "plot_bgcolor": "rgb(17,17,17)",
          "polar": {
           "bgcolor": "rgb(17,17,17)",
           "angularaxis": {
            "gridcolor": "#506784",
            "linecolor": "#506784",
            "ticks": ""
           },
           "radialaxis": {
            "gridcolor": "#506784",
            "linecolor": "#506784",
            "ticks": ""
           }
          },
          "ternary": {
           "bgcolor": "rgb(17,17,17)",
           "aaxis": {
            "gridcolor": "#506784",
            "linecolor": "#506784",
            "ticks": ""
           },
           "baxis": {
            "gridcolor": "#506784",
            "linecolor": "#506784",
            "ticks": ""
           },
           "caxis": {
            "gridcolor": "#506784",
            "linecolor": "#506784",
            "ticks": ""
           }
          },
          "coloraxis": {
           "colorbar": {
            "outlinewidth": 0,
            "ticks": ""
           }
          },
          "colorscale": {
           "sequential": [
            [
             0.0,
             "#0d0887"
            ],
            [
             0.1111111111111111,
             "#46039f"
            ],
            [
             0.2222222222222222,
             "#7201a8"
            ],
            [
             0.3333333333333333,
             "#9c179e"
            ],
            [
             0.4444444444444444,
             "#bd3786"
            ],
            [
             0.5555555555555556,
             "#d8576b"
            ],
            [
             0.6666666666666666,
             "#ed7953"
            ],
            [
             0.7777777777777778,
             "#fb9f3a"
            ],
            [
             0.8888888888888888,
             "#fdca26"
            ],
            [
             1.0,
             "#f0f921"
            ]
           ],
           "sequentialminus": [
            [
             0.0,
             "#0d0887"
            ],
            [
             0.1111111111111111,
             "#46039f"
            ],
            [
             0.2222222222222222,
             "#7201a8"
            ],
            [
             0.3333333333333333,
             "#9c179e"
            ],
            [
             0.4444444444444444,
             "#bd3786"
            ],
            [
             0.5555555555555556,
             "#d8576b"
            ],
            [
             0.6666666666666666,
             "#ed7953"
            ],
            [
             0.7777777777777778,
             "#fb9f3a"
            ],
            [
             0.8888888888888888,
             "#fdca26"
            ],
            [
             1.0,
             "#f0f921"
            ]
           ],
           "diverging": [
            [
             0,
             "#8e0152"
            ],
            [
             0.1,
             "#c51b7d"
            ],
            [
             0.2,
             "#de77ae"
            ],
            [
             0.3,
             "#f1b6da"
            ],
            [
             0.4,
             "#fde0ef"
            ],
            [
             0.5,
             "#f7f7f7"
            ],
            [
             0.6,
             "#e6f5d0"
            ],
            [
             0.7,
             "#b8e186"
            ],
            [
             0.8,
             "#7fbc41"
            ],
            [
             0.9,
             "#4d9221"
            ],
            [
             1,
             "#276419"
            ]
           ]
          },
          "xaxis": {
           "gridcolor": "#283442",
           "linecolor": "#506784",
           "ticks": "",
           "title": {
            "standoff": 15
           },
           "zerolinecolor": "#283442",
           "automargin": true,
           "zerolinewidth": 2
          },
          "yaxis": {
           "gridcolor": "#283442",
           "linecolor": "#506784",
           "ticks": "",
           "title": {
            "standoff": 15
           },
           "zerolinecolor": "#283442",
           "automargin": true,
           "zerolinewidth": 2
          },
          "scene": {
           "xaxis": {
            "backgroundcolor": "rgb(17,17,17)",
            "gridcolor": "#506784",
            "linecolor": "#506784",
            "showbackground": true,
            "ticks": "",
            "zerolinecolor": "#C8D4E3",
            "gridwidth": 2
           },
           "yaxis": {
            "backgroundcolor": "rgb(17,17,17)",
            "gridcolor": "#506784",
            "linecolor": "#506784",
            "showbackground": true,
            "ticks": "",
            "zerolinecolor": "#C8D4E3",
            "gridwidth": 2
           },
           "zaxis": {
            "backgroundcolor": "rgb(17,17,17)",
            "gridcolor": "#506784",
            "linecolor": "#506784",
            "showbackground": true,
            "ticks": "",
            "zerolinecolor": "#C8D4E3",
            "gridwidth": 2
           }
          },
          "shapedefaults": {
           "line": {
            "color": "#f2f5fa"
           }
          },
          "annotationdefaults": {
           "arrowcolor": "#f2f5fa",
           "arrowhead": 0,
           "arrowwidth": 1
          },
          "geo": {
           "bgcolor": "rgb(17,17,17)",
           "landcolor": "rgb(17,17,17)",
           "subunitcolor": "#506784",
           "showland": true,
           "showlakes": true,
           "lakecolor": "rgb(17,17,17)"
          },
          "title": {
           "x": 0.05
          },
          "updatemenudefaults": {
           "bgcolor": "#506784",
           "borderwidth": 0
          },
          "sliderdefaults": {
           "bgcolor": "#C8D4E3",
           "borderwidth": 1,
           "bordercolor": "rgb(17,17,17)",
           "tickwidth": 0
          },
          "mapbox": {
           "style": "dark"
          }
         }
        },
        "xaxis": {
         "anchor": "y",
         "domain": [
          0.0,
          1.0
         ],
         "title": {
          "text": "Factor"
         }
        },
        "yaxis": {
         "anchor": "x",
         "domain": [
          0.0,
          1.0
         ],
         "title": {
          "text": "Premium"
         }
        },
        "legend": {
         "tracegroupgap": 0
        },
        "title": {
         "text": "Realized Factor Premia on 2025-01-29"
        },
        "barmode": "relative",
        "shapes": [
         {
          "line": {
           "color": "black",
           "dash": "dash"
          },
          "type": "line",
          "x0": 0,
          "x1": 1,
          "xref": "x domain",
          "y0": 0,
          "y1": 0,
          "yref": "y"
         }
        ]
       },
       "config": {
        "plotlyServerURL": "https://plot.ly"
       }
      }
     },
     "metadata": {},
     "output_type": "display_data"
    }
   ],
   "execution_count": 10
  },
  {
   "metadata": {},
   "cell_type": "markdown",
   "source": [
    "## Computing the Factor Covariance Matrix\n",
    "\n",
    "In order to forecast portfolio risk and allocate risk budgets, we need an ex‐ante estimate of the factor covariance matrix $\\Sigma_f(t)$. Below are three common estimators used in Axioma/Barra-style risk models:\n",
    "\n",
    "---\n",
    "\n",
    "### 1. Rolling-Window Sample Covariance\n",
    "Let $\\mathbf{r}_t = [r_{1,t}, \\dots, r_{K,t}]^\\top$ be the vector of $K$ factor returns at time $t$. Over a lookback window of $W$ days, the rolling-window sample covariance is\n",
    "\n",
    "$$\n",
    "\\widehat{\\Sigma}_{\\text{sample}}(t)\n",
    "= \\frac{1}{W - 1}\n",
    "\\sum_{k = t - W + 1}^{t}\n",
    "\\bigl(\\mathbf{r}_k - \\bar{\\mathbf r}\\bigr)\\,\n",
    "\\bigl(\\mathbf{r}_k - \\bar{\\mathbf r}\\bigr)^\\top,\n",
    "$$\n",
    "\n",
    "where $\\bar{\\mathbf r}$ is the time-series mean of each column of returns.\n",
    "\n",
    "---\n",
    "\n",
    "### 2. Exponentially-Weighted Covariance (EWMA)\n",
    "Axioma typically applies an EWMA estimator with half-life $h$ (often 63 days). Define weights\n",
    "\n",
    "$$\n",
    "\\omega_k = \\exp\\!\\bigl(-\\ln(2)\\,\\frac{t - k}{h}\\bigr),\n",
    "\\qquad k = 1,\\dots,t,\n",
    "$$\n",
    "\n",
    "and then\n",
    "\n",
    "$$\n",
    "\\widehat{\\Sigma}_{\\mathrm{EWMA}}(t)\n",
    "= \\frac{\\sum_{k=1}^t \\omega_k\\,\n",
    "       \\bigl(\\mathbf{r}_k - \\bar{\\mathbf r}\\bigr)\n",
    "       \\bigl(\\mathbf{r}_k - \\bar{\\mathbf r}\\bigr)^\\top}\n",
    "       {\\sum_{k=1}^t \\omega_k}.\n",
    "$$\n",
    "\n",
    "---\n",
    "\n",
    "### 3. Shrinkage Toward a Constant-Correlation Target\n",
    "Barra stabilizes the EWMA estimate by shrinking toward a constant-correlation target. Let:\n",
    "\n",
    "- $\\Sigma_0 = \\widehat{\\Sigma}_{\\mathrm{EWMA}}(t)$\n",
    "- $D = \\mathrm{diag}(\\Sigma_0)$\n",
    "- $\\bar\\rho =$ average off-diagonal correlation in $\\Sigma_0$\n",
    "\n",
    "The constant-correlation target is\n",
    "\n",
    "$$\n",
    "T\n",
    "= \\sqrt{D}\\,\\bigl(\\bar\\rho\\,\\mathbf{1}\\mathbf{1}^\\top + (1-\\bar\\rho)\\,I\\bigr)\\,\\sqrt{D},\n",
    "$$\n",
    "\n",
    "and the shrunk covariance is\n",
    "\n",
    "$$\n",
    "\\Sigma_{\\mathrm{shrunk}}(t)\n",
    "= \\lambda\\,\\Sigma_0 \\;+\\;(1 - \\lambda)\\,T,\n",
    "$$\n",
    "\n",
    "where $\\lambda\\in[0,1]$ controls the shrinkage intensity.\n",
    "\n",
    "---\n",
    "\n",
    "#### Putting It All Together\n",
    "In practice, generate a full time-series of $\\Sigma_f(t)$ for each rebalancing date using your chosen method (`sample`, `ewma`, or `ewma+shrinkage`), then feed $\\Sigma_f(t)$ into your ex-ante risk and risk-contribution calculations.\n",
    "\n",
    "\n"
   ],
   "id": "b03d64d91c924e9"
  },
  {
   "metadata": {},
   "cell_type": "markdown",
   "source": [
    "Barra’s **constant-correlation** shrinkage is a pragmatic, domain-driven choice rather than a purely statistical optimum like Ledoit–Wolf. The reasons they (and Axioma) do it this way are:\n",
    "\n",
    "---\n",
    "\n",
    "### Business-driven target\n",
    "\n",
    "A constant-correlation matrix\n",
    "\n",
    "$$\n",
    "T_{ij} = \\bar\\rho\\,\\sigma_i\\,\\sigma_j\n",
    "$$\n",
    "\n",
    "reflects the idea that, absent strong evidence to the contrary, all factors tend to move together to some baseline degree $\\bar\\rho$.\n",
    "This ties back to economic beliefs (e.g. in a systemic “beta” regime, everything co-moves) rather than just the data.\n",
    "\n",
    "---\n",
    "\n",
    "### Stability of off-diagonals\n",
    "\n",
    "Raw sample or EWMA covariances (especially with limited history) suffer noisy off-diagonal estimates.\n",
    "Shrinking toward a simple constant-correlation target aggressively tames that noise, producing more stable risk estimates.\n",
    "\n",
    "---\n",
    "\n",
    "### Domain simplicity and interpretability\n",
    "\n",
    "The single parameter $\\bar\\rho$ is easy to explain and calibrate (e.g. to a long-term average).\n",
    "Ledoit–Wolf’s optimum shrinkage intensity and target are data-driven and can fluctuate wildly if market regimes shift, whereas Barra’s approach remains consistent unless you deliberately re-estimate $\\bar\\rho$.\n",
    "\n",
    "---\n",
    "\n",
    "### Historical lineage and implementation\n",
    "\n",
    "Barra’s risk model predates modern random-matrix theory-based estimators. Their teams built in a constant-correlation or single-index target because it aligned with how their clients understood and managed factor risk.\n",
    "It was efficient to compute and easy to embed in production, long before Ledoit–Wolf routines were common in statistical packages."
   ],
   "id": "9ae9ec287ceadf13"
  },
  {
   "metadata": {
    "ExecuteTime": {
     "end_time": "2025-08-11T10:22:22.133155Z",
     "start_time": "2025-08-11T10:21:39.105537Z"
    }
   },
   "cell_type": "code",
   "source": [
    "\n",
    "# Compute the three variants of Σ_f(t) for the most recent date\n",
    "cov_sample  = pfa.compute_factor_covariance(method='sample', window=252)\n",
    "cov_ewma    = pfa.compute_factor_covariance(method='ewma',   halflife=63)\n",
    "cov_shrunk  = pfa.compute_factor_covariance(method='ewma',   halflife=63, shrinkage=0.8)\n",
    "\n",
    "# Visualize each as a heatmap\n",
    "import plotly.express as px\n",
    "\n",
    "fig1 = px.imshow(\n",
    "    cov_sample,\n",
    "    labels={'x':'Factor i','y':'Factor j','color':'Covariance'},\n",
    "    title='Rolling‐Window Sample Covariance (Latest)'\n",
    ")\n",
    "fig1.show()\n",
    "\n",
    "fig2 = px.imshow(\n",
    "    cov_ewma,\n",
    "    labels={'x':'Factor i','y':'Factor j','color':'Covariance'},\n",
    "    title='EWMA Covariance (h=63d)'\n",
    ")\n",
    "fig2.show()\n",
    "\n",
    "fig3 = px.imshow(\n",
    "    cov_shrunk,\n",
    "    labels={'x':'Factor i','y':'Factor j','color':'Covariance'},\n",
    "    title='Shrunk EWMA Covariance (λ=0.8)'\n",
    ")\n",
    "fig3.show()"
   ],
   "id": "19c85ba64dd212ee",
   "outputs": [
    {
     "data": {
      "application/vnd.plotly.v1+json": {
       "data": [
        {
         "coloraxis": "coloraxis",
         "name": "0",
         "x": [
          "lncap",
          "lncap2",
          "beta",
          "nl_beta",
          "mom_12_1",
          "mom_1m",
          "resid_vol",
          "liquidity",
          "book_to_price",
          "leverage",
          "div_yield",
          "earnings_yield",
          "profitability"
         ],
         "y": [
          "lncap",
          "lncap2",
          "beta",
          "nl_beta",
          "mom_12_1",
          "mom_1m",
          "resid_vol",
          "liquidity",
          "book_to_price",
          "leverage",
          "div_yield",
          "earnings_yield",
          "profitability"
         ],
         "z": {
          "dtype": "f8",
          "bdata": "vP5i2oc/Yz/DOUldfapiv2gC2F8vp9a+FCLRGd1H5j6mynbKKm+zvlE9+uY6Hdw+L67B15Uo2D6f3AVKn6jtPk3P3mItfry+3P2/2T9F+L5vqdKhPxjjPhhNt8ryYeu+wUvl0v+y6T7DOUldfapivz35ycZ3ImI/AgxdmHYB0j7z9Z6QKQLjvrXRkdFnZ74+KSGF5r+E2L7LvtN5y6HZvtVoyNCUduS+/RXzNUTCtj7d/uHDaj33PlfX406zluK+SqqErMoh6j4NTu9AfHXovmgC2F8vp9a+AgxdmHYB0j4SoZMyCLUAP5TpbCHBC/m+8VSNg1LIwD4C+NnmDUq5vogN7Rphr84+8h/TWe7boD64nAkW77yuPrf0ea9cHHk+KOaoXi81rT6oItuJBeu/PkLofGUVLaK+FCLRGd1H5j7z9Z6QKQLjvpTpbCHBC/m+tw+A2Dxz+j5gF5DRSzi1vrv1pOi/VpA+sDYZCII7or6ONAAxbfeQPm4mxM2ic1q+ZNtZf+Rapr4sP0yYQpW4vq1X1GB41Lq+2bNBjZXLtT6mynbKKm+zvrXRkdFnZ74+8VSNg1LIwD5gF5DRSzi1vqlXL6ld6uI+AilzJzx8tD7eHVO8WCvBPr4DmhRHB70+KXIa+/U8rL6hv9dfF2msvlLmL6iCkLC+WYSpgDWikr4lQ3WHQPKaPlE9+uY6Hdw+KSGF5r+E2L4C+NnmDUq5vrv1pOi/VpA+AilzJzx8tD410CAvyDrnPg/4sA/v5Jk+ODWE+78kpD7SXehVeSCcvs+JEchwLYo+XYZARBG1ob79qsAyJ7aUPoZf6P2lqHW+L67B15Uo2D7LvtN5y6HZvogN7Rphr84+sDYZCII7or7eHVO8WCvBPg/4sA/v5Jk+AIokW5PA4D6tmYLwVy66vmJXCNx83ZU+sq0CgfNtsL6qK7xvpWKuvkj4GJScmqY+vWLp1AKHmD6f3AVKn6jtPtVoyNCUduS+8h/TWe7boD6ONAAxbfeQPr4DmhRHB70+ODWE+78kpD6tmYLwVy66vq1zcuMvO+A+9bVrXslitL5fIMy1vDCqvvb5W4AViHQ+EmaxfcLNqb7N4CTy+B2qPk3P3mItfry+/RXzNUTCtj64nAkW77yuPm4mxM2ic1q+KXIa+/U8rL7SXehVeSCcvmJXCNx83ZU+9bVrXslitL5/qWdDlynPPhGSfL3AGb0+slsS4gPPab62Uj7XmRGWPnxn5J59w5s+3P2/2T9F+L7d/uHDaj33Prf0ea9cHHk+ZNtZf+Rapr6hv9dfF2msvs+JEchwLYo+sq0CgfNtsL5fIMy1vDCqvhGSfL3AGb0+y4xaWbEjxT51GRwgNvKGvlDUV0TUgZM+3rOiJnlum75vqdKhPxjjPlfX406zluK+KOaoXi81rT4sP0yYQpW4vlLmL6iCkLC+XYZARBG1ob6qK7xvpWKuvvb5W4AViHQ+slsS4gPPab51GRwgNvKGvoH/QotFiro+4DsS3OtlgD5zeJPVP4uOvhhNt8ryYeu+SqqErMoh6j6oItuJBeu/Pq1X1GB41Lq+WYSpgDWikr79qsAyJ7aUPkj4GJScmqY+EmaxfcLNqb62Uj7XmRGWPlDUV0TUgZM+4DsS3OtlgD5zmi1Y3SzNPm+9R6dHWrm+wUvl0v+y6T4NTu9AfHXovkLofGUVLaK+2bNBjZXLtT4lQ3WHQPKaPoZf6P2lqHW+vWLp1AKHmD7N4CTy+B2qPnxn5J59w5s+3rOiJnlum75zeJPVP4uOvm+9R6dHWrm+P6mZSbXiwz4=",
          "shape": "13, 13"
         },
         "type": "heatmap",
         "xaxis": "x",
         "yaxis": "y",
         "hovertemplate": "Factor i: %{x}<br>Factor j: %{y}<br>Covariance: %{z}<extra></extra>"
        }
       ],
       "layout": {
        "template": {
         "data": {
          "histogram2dcontour": [
           {
            "type": "histogram2dcontour",
            "colorbar": {
             "outlinewidth": 0,
             "ticks": ""
            },
            "colorscale": [
             [
              0.0,
              "#0d0887"
             ],
             [
              0.1111111111111111,
              "#46039f"
             ],
             [
              0.2222222222222222,
              "#7201a8"
             ],
             [
              0.3333333333333333,
              "#9c179e"
             ],
             [
              0.4444444444444444,
              "#bd3786"
             ],
             [
              0.5555555555555556,
              "#d8576b"
             ],
             [
              0.6666666666666666,
              "#ed7953"
             ],
             [
              0.7777777777777778,
              "#fb9f3a"
             ],
             [
              0.8888888888888888,
              "#fdca26"
             ],
             [
              1.0,
              "#f0f921"
             ]
            ]
           }
          ],
          "choropleth": [
           {
            "type": "choropleth",
            "colorbar": {
             "outlinewidth": 0,
             "ticks": ""
            }
           }
          ],
          "histogram2d": [
           {
            "type": "histogram2d",
            "colorbar": {
             "outlinewidth": 0,
             "ticks": ""
            },
            "colorscale": [
             [
              0.0,
              "#0d0887"
             ],
             [
              0.1111111111111111,
              "#46039f"
             ],
             [
              0.2222222222222222,
              "#7201a8"
             ],
             [
              0.3333333333333333,
              "#9c179e"
             ],
             [
              0.4444444444444444,
              "#bd3786"
             ],
             [
              0.5555555555555556,
              "#d8576b"
             ],
             [
              0.6666666666666666,
              "#ed7953"
             ],
             [
              0.7777777777777778,
              "#fb9f3a"
             ],
             [
              0.8888888888888888,
              "#fdca26"
             ],
             [
              1.0,
              "#f0f921"
             ]
            ]
           }
          ],
          "heatmap": [
           {
            "type": "heatmap",
            "colorbar": {
             "outlinewidth": 0,
             "ticks": ""
            },
            "colorscale": [
             [
              0.0,
              "#0d0887"
             ],
             [
              0.1111111111111111,
              "#46039f"
             ],
             [
              0.2222222222222222,
              "#7201a8"
             ],
             [
              0.3333333333333333,
              "#9c179e"
             ],
             [
              0.4444444444444444,
              "#bd3786"
             ],
             [
              0.5555555555555556,
              "#d8576b"
             ],
             [
              0.6666666666666666,
              "#ed7953"
             ],
             [
              0.7777777777777778,
              "#fb9f3a"
             ],
             [
              0.8888888888888888,
              "#fdca26"
             ],
             [
              1.0,
              "#f0f921"
             ]
            ]
           }
          ],
          "contourcarpet": [
           {
            "type": "contourcarpet",
            "colorbar": {
             "outlinewidth": 0,
             "ticks": ""
            }
           }
          ],
          "contour": [
           {
            "type": "contour",
            "colorbar": {
             "outlinewidth": 0,
             "ticks": ""
            },
            "colorscale": [
             [
              0.0,
              "#0d0887"
             ],
             [
              0.1111111111111111,
              "#46039f"
             ],
             [
              0.2222222222222222,
              "#7201a8"
             ],
             [
              0.3333333333333333,
              "#9c179e"
             ],
             [
              0.4444444444444444,
              "#bd3786"
             ],
             [
              0.5555555555555556,
              "#d8576b"
             ],
             [
              0.6666666666666666,
              "#ed7953"
             ],
             [
              0.7777777777777778,
              "#fb9f3a"
             ],
             [
              0.8888888888888888,
              "#fdca26"
             ],
             [
              1.0,
              "#f0f921"
             ]
            ]
           }
          ],
          "surface": [
           {
            "type": "surface",
            "colorbar": {
             "outlinewidth": 0,
             "ticks": ""
            },
            "colorscale": [
             [
              0.0,
              "#0d0887"
             ],
             [
              0.1111111111111111,
              "#46039f"
             ],
             [
              0.2222222222222222,
              "#7201a8"
             ],
             [
              0.3333333333333333,
              "#9c179e"
             ],
             [
              0.4444444444444444,
              "#bd3786"
             ],
             [
              0.5555555555555556,
              "#d8576b"
             ],
             [
              0.6666666666666666,
              "#ed7953"
             ],
             [
              0.7777777777777778,
              "#fb9f3a"
             ],
             [
              0.8888888888888888,
              "#fdca26"
             ],
             [
              1.0,
              "#f0f921"
             ]
            ]
           }
          ],
          "mesh3d": [
           {
            "type": "mesh3d",
            "colorbar": {
             "outlinewidth": 0,
             "ticks": ""
            }
           }
          ],
          "scatter": [
           {
            "marker": {
             "line": {
              "color": "#283442"
             }
            },
            "type": "scatter"
           }
          ],
          "parcoords": [
           {
            "type": "parcoords",
            "line": {
             "colorbar": {
              "outlinewidth": 0,
              "ticks": ""
             }
            }
           }
          ],
          "scatterpolargl": [
           {
            "type": "scatterpolargl",
            "marker": {
             "colorbar": {
              "outlinewidth": 0,
              "ticks": ""
             }
            }
           }
          ],
          "bar": [
           {
            "error_x": {
             "color": "#f2f5fa"
            },
            "error_y": {
             "color": "#f2f5fa"
            },
            "marker": {
             "line": {
              "color": "rgb(17,17,17)",
              "width": 0.5
             },
             "pattern": {
              "fillmode": "overlay",
              "size": 10,
              "solidity": 0.2
             }
            },
            "type": "bar"
           }
          ],
          "scattergeo": [
           {
            "type": "scattergeo",
            "marker": {
             "colorbar": {
              "outlinewidth": 0,
              "ticks": ""
             }
            }
           }
          ],
          "scatterpolar": [
           {
            "type": "scatterpolar",
            "marker": {
             "colorbar": {
              "outlinewidth": 0,
              "ticks": ""
             }
            }
           }
          ],
          "histogram": [
           {
            "marker": {
             "pattern": {
              "fillmode": "overlay",
              "size": 10,
              "solidity": 0.2
             }
            },
            "type": "histogram"
           }
          ],
          "scattergl": [
           {
            "marker": {
             "line": {
              "color": "#283442"
             }
            },
            "type": "scattergl"
           }
          ],
          "scatter3d": [
           {
            "type": "scatter3d",
            "line": {
             "colorbar": {
              "outlinewidth": 0,
              "ticks": ""
             }
            },
            "marker": {
             "colorbar": {
              "outlinewidth": 0,
              "ticks": ""
             }
            }
           }
          ],
          "scattermap": [
           {
            "type": "scattermap",
            "marker": {
             "colorbar": {
              "outlinewidth": 0,
              "ticks": ""
             }
            }
           }
          ],
          "scattermapbox": [
           {
            "type": "scattermapbox",
            "marker": {
             "colorbar": {
              "outlinewidth": 0,
              "ticks": ""
             }
            }
           }
          ],
          "scatterternary": [
           {
            "type": "scatterternary",
            "marker": {
             "colorbar": {
              "outlinewidth": 0,
              "ticks": ""
             }
            }
           }
          ],
          "scattercarpet": [
           {
            "type": "scattercarpet",
            "marker": {
             "colorbar": {
              "outlinewidth": 0,
              "ticks": ""
             }
            }
           }
          ],
          "carpet": [
           {
            "aaxis": {
             "endlinecolor": "#A2B1C6",
             "gridcolor": "#506784",
             "linecolor": "#506784",
             "minorgridcolor": "#506784",
             "startlinecolor": "#A2B1C6"
            },
            "baxis": {
             "endlinecolor": "#A2B1C6",
             "gridcolor": "#506784",
             "linecolor": "#506784",
             "minorgridcolor": "#506784",
             "startlinecolor": "#A2B1C6"
            },
            "type": "carpet"
           }
          ],
          "table": [
           {
            "cells": {
             "fill": {
              "color": "#506784"
             },
             "line": {
              "color": "rgb(17,17,17)"
             }
            },
            "header": {
             "fill": {
              "color": "#2a3f5f"
             },
             "line": {
              "color": "rgb(17,17,17)"
             }
            },
            "type": "table"
           }
          ],
          "barpolar": [
           {
            "marker": {
             "line": {
              "color": "rgb(17,17,17)",
              "width": 0.5
             },
             "pattern": {
              "fillmode": "overlay",
              "size": 10,
              "solidity": 0.2
             }
            },
            "type": "barpolar"
           }
          ],
          "pie": [
           {
            "automargin": true,
            "type": "pie"
           }
          ]
         },
         "layout": {
          "autotypenumbers": "strict",
          "colorway": [
           "#636efa",
           "#EF553B",
           "#00cc96",
           "#ab63fa",
           "#FFA15A",
           "#19d3f3",
           "#FF6692",
           "#B6E880",
           "#FF97FF",
           "#FECB52"
          ],
          "font": {
           "color": "#f2f5fa"
          },
          "hovermode": "closest",
          "hoverlabel": {
           "align": "left"
          },
          "paper_bgcolor": "rgb(17,17,17)",
          "plot_bgcolor": "rgb(17,17,17)",
          "polar": {
           "bgcolor": "rgb(17,17,17)",
           "angularaxis": {
            "gridcolor": "#506784",
            "linecolor": "#506784",
            "ticks": ""
           },
           "radialaxis": {
            "gridcolor": "#506784",
            "linecolor": "#506784",
            "ticks": ""
           }
          },
          "ternary": {
           "bgcolor": "rgb(17,17,17)",
           "aaxis": {
            "gridcolor": "#506784",
            "linecolor": "#506784",
            "ticks": ""
           },
           "baxis": {
            "gridcolor": "#506784",
            "linecolor": "#506784",
            "ticks": ""
           },
           "caxis": {
            "gridcolor": "#506784",
            "linecolor": "#506784",
            "ticks": ""
           }
          },
          "coloraxis": {
           "colorbar": {
            "outlinewidth": 0,
            "ticks": ""
           }
          },
          "colorscale": {
           "sequential": [
            [
             0.0,
             "#0d0887"
            ],
            [
             0.1111111111111111,
             "#46039f"
            ],
            [
             0.2222222222222222,
             "#7201a8"
            ],
            [
             0.3333333333333333,
             "#9c179e"
            ],
            [
             0.4444444444444444,
             "#bd3786"
            ],
            [
             0.5555555555555556,
             "#d8576b"
            ],
            [
             0.6666666666666666,
             "#ed7953"
            ],
            [
             0.7777777777777778,
             "#fb9f3a"
            ],
            [
             0.8888888888888888,
             "#fdca26"
            ],
            [
             1.0,
             "#f0f921"
            ]
           ],
           "sequentialminus": [
            [
             0.0,
             "#0d0887"
            ],
            [
             0.1111111111111111,
             "#46039f"
            ],
            [
             0.2222222222222222,
             "#7201a8"
            ],
            [
             0.3333333333333333,
             "#9c179e"
            ],
            [
             0.4444444444444444,
             "#bd3786"
            ],
            [
             0.5555555555555556,
             "#d8576b"
            ],
            [
             0.6666666666666666,
             "#ed7953"
            ],
            [
             0.7777777777777778,
             "#fb9f3a"
            ],
            [
             0.8888888888888888,
             "#fdca26"
            ],
            [
             1.0,
             "#f0f921"
            ]
           ],
           "diverging": [
            [
             0,
             "#8e0152"
            ],
            [
             0.1,
             "#c51b7d"
            ],
            [
             0.2,
             "#de77ae"
            ],
            [
             0.3,
             "#f1b6da"
            ],
            [
             0.4,
             "#fde0ef"
            ],
            [
             0.5,
             "#f7f7f7"
            ],
            [
             0.6,
             "#e6f5d0"
            ],
            [
             0.7,
             "#b8e186"
            ],
            [
             0.8,
             "#7fbc41"
            ],
            [
             0.9,
             "#4d9221"
            ],
            [
             1,
             "#276419"
            ]
           ]
          },
          "xaxis": {
           "gridcolor": "#283442",
           "linecolor": "#506784",
           "ticks": "",
           "title": {
            "standoff": 15
           },
           "zerolinecolor": "#283442",
           "automargin": true,
           "zerolinewidth": 2
          },
          "yaxis": {
           "gridcolor": "#283442",
           "linecolor": "#506784",
           "ticks": "",
           "title": {
            "standoff": 15
           },
           "zerolinecolor": "#283442",
           "automargin": true,
           "zerolinewidth": 2
          },
          "scene": {
           "xaxis": {
            "backgroundcolor": "rgb(17,17,17)",
            "gridcolor": "#506784",
            "linecolor": "#506784",
            "showbackground": true,
            "ticks": "",
            "zerolinecolor": "#C8D4E3",
            "gridwidth": 2
           },
           "yaxis": {
            "backgroundcolor": "rgb(17,17,17)",
            "gridcolor": "#506784",
            "linecolor": "#506784",
            "showbackground": true,
            "ticks": "",
            "zerolinecolor": "#C8D4E3",
            "gridwidth": 2
           },
           "zaxis": {
            "backgroundcolor": "rgb(17,17,17)",
            "gridcolor": "#506784",
            "linecolor": "#506784",
            "showbackground": true,
            "ticks": "",
            "zerolinecolor": "#C8D4E3",
            "gridwidth": 2
           }
          },
          "shapedefaults": {
           "line": {
            "color": "#f2f5fa"
           }
          },
          "annotationdefaults": {
           "arrowcolor": "#f2f5fa",
           "arrowhead": 0,
           "arrowwidth": 1
          },
          "geo": {
           "bgcolor": "rgb(17,17,17)",
           "landcolor": "rgb(17,17,17)",
           "subunitcolor": "#506784",
           "showland": true,
           "showlakes": true,
           "lakecolor": "rgb(17,17,17)"
          },
          "title": {
           "x": 0.05
          },
          "updatemenudefaults": {
           "bgcolor": "#506784",
           "borderwidth": 0
          },
          "sliderdefaults": {
           "bgcolor": "#C8D4E3",
           "borderwidth": 1,
           "bordercolor": "rgb(17,17,17)",
           "tickwidth": 0
          },
          "mapbox": {
           "style": "dark"
          }
         }
        },
        "xaxis": {
         "anchor": "y",
         "domain": [
          0.0,
          1.0
         ],
         "scaleanchor": "y",
         "constrain": "domain",
         "title": {
          "text": "Factor i"
         }
        },
        "yaxis": {
         "anchor": "x",
         "domain": [
          0.0,
          1.0
         ],
         "autorange": "reversed",
         "constrain": "domain",
         "title": {
          "text": "Factor j"
         }
        },
        "coloraxis": {
         "colorbar": {
          "title": {
           "text": "Covariance"
          }
         },
         "colorscale": [
          [
           0.0,
           "#0d0887"
          ],
          [
           0.1111111111111111,
           "#46039f"
          ],
          [
           0.2222222222222222,
           "#7201a8"
          ],
          [
           0.3333333333333333,
           "#9c179e"
          ],
          [
           0.4444444444444444,
           "#bd3786"
          ],
          [
           0.5555555555555556,
           "#d8576b"
          ],
          [
           0.6666666666666666,
           "#ed7953"
          ],
          [
           0.7777777777777778,
           "#fb9f3a"
          ],
          [
           0.8888888888888888,
           "#fdca26"
          ],
          [
           1.0,
           "#f0f921"
          ]
         ]
        },
        "title": {
         "text": "Rolling‐Window Sample Covariance (Latest)"
        }
       },
       "config": {
        "plotlyServerURL": "https://plot.ly"
       }
      }
     },
     "metadata": {},
     "output_type": "display_data"
    },
    {
     "data": {
      "application/vnd.plotly.v1+json": {
       "data": [
        {
         "coloraxis": "coloraxis",
         "name": "0",
         "x": [
          "lncap",
          "lncap2",
          "beta",
          "nl_beta",
          "mom_12_1",
          "mom_1m",
          "resid_vol",
          "liquidity",
          "book_to_price",
          "leverage",
          "div_yield",
          "earnings_yield",
          "profitability"
         ],
         "y": [
          "lncap",
          "lncap2",
          "beta",
          "nl_beta",
          "mom_12_1",
          "mom_1m",
          "resid_vol",
          "liquidity",
          "book_to_price",
          "leverage",
          "div_yield",
          "earnings_yield",
          "profitability"
         ],
         "z": {
          "dtype": "f8",
          "bdata": "GLQ9680dYj84ZwDWGnphv04r2KCONdY+bJtwLFWB5D4rEumyDhvWPj6PaD3Orus+i/9JaItOx75o8V3ZHfwBP0/sHP0SZtc+EtTxrT9+875hxu9q3/TnPmZ5Dk9W0u6+MtCcpwPr8T44ZwDWGnphv08P/fBT5WA/4HDWdZrQ177FO2Ka1OXivjW6b28S3tO+CtfYC5fc6L4dIHgPkKDAPk5w4ggGkP6+r0yrH+wJ174lyNoaVqjyPq0DXLloR+e+BmpJfBE07T5XdxIDygfxvk4r2KCONdY+4HDWdZrQ174jkENjYiMBP/iVLvB4Jfi+8pq/Cjg5wD4ZYYCRdZyuvlfmFZb+DNA+jsEAVyiecz6Ws1TQDVGyPruNc3PaLIi+LvrZ17MXrT67fb6THbC9PnKQX5uetaa+bJtwLFWB5D7FO2Ka1OXivviVLvB4Jfi+QgmQ3k99+T56N8HELwWuvmU/+EuVuZC+BiOHl2Gvhz7gysKFPXxWPhSzwoz2h3i+wa/feAJrpb7PgGti7vS6vqCntqPyK7O+ir10uw7itj4rEumyDhvWPjW6b28S3tO+8pq/Cjg5wD56N8HELwWuvi3fn0jE++I+Cf0WyjF9lz5U7zJbuPfEPgBUKcWvp7Q+cuWC7Dxkq74eosjVose0vvyRTu1+tKu+qdhbTPCEmL5sLmHwbPyEPj6PaD3Orus+CtfYC5fc6L4ZYYCRdZyuvmU/+EuVuZC+Cf0WyjF9lz6YTkQvc/noPmP8KsADypI+c/odgbfTlT4kF+we/cuSviVZvQs+y50+7sciH/VEn75eI7jPepOoPtoivfzTZ6a+i/9JaItOx74dIHgPkKDAPlfmFZb+DNA+BiOHl2Gvhz5U7zJbuPfEPmP8KsADypI+YoS5LEW34z55cWit9InBviAAPyrFQ5c+doxKzhrWub5CHYeqB9Gzvj91ljYin6o+E5ag4obyoD5o8V3ZHfwBP05w4ggGkP6+jsEAVyiecz7gysKFPXxWPgBUKcWvp7Q+c/odgbfTlT55cWit9InBvptrDGXf/98+V7uSwhOcsr4GukZ8F2yrvpIEhn13S5k+mDyBHYWNq77NERFES7GnPk/sHP0SZtc+r0yrH+wJ176Ws1TQDVGyPhSzwoz2h3i+cuWC7Dxkq74kF+we/cuSviAAPyrFQ5c+V7uSwhOcsr6sWweNwAvRPkGgqCrPW74+cTxWvKCtVL77BDvx8RuaPpcpjNK89qY+EtTxrT9+874lyNoaVqjyPruNc3PaLIi+wa/feAJrpb4eosjVose0viVZvQs+y50+doxKzhrWub4GukZ8F2yrvkGgqCrPW74+ke/F3Mtkxj7mThTqXI9kPldu3PwNc5c+VekEM5dQnb5hxu9q3/TnPq0DXLloR+e+LvrZ17MXrT7PgGti7vS6vvyRTu1+tKu+7sciH/VEn75CHYeqB9GzvpIEhn13S5k+cTxWvKCtVL7mThTqXI9kPlbwqMc+Lb0+V51hyiWujz5o7bw/wLqOvmZ5Dk9W0u6+BmpJfBE07T67fb6THbC9PqCntqPyK7O+qdhbTPCEmL5eI7jPepOoPj91ljYin6o+mDyBHYWNq777BDvx8RuaPldu3PwNc5c+V51hyiWujz5/8/Dhbp7PPuSs2j7fYrq+MtCcpwPr8T5XdxIDygfxvnKQX5uetaa+ir10uw7itj5sLmHwbPyEPtoivfzTZ6a+E5ag4obyoD7NERFES7GnPpcpjNK89qY+VekEM5dQnb5o7bw/wLqOvuSs2j7fYrq+6SJXQmtcxD4=",
          "shape": "13, 13"
         },
         "type": "heatmap",
         "xaxis": "x",
         "yaxis": "y",
         "hovertemplate": "Factor i: %{x}<br>Factor j: %{y}<br>Covariance: %{z}<extra></extra>"
        }
       ],
       "layout": {
        "template": {
         "data": {
          "histogram2dcontour": [
           {
            "type": "histogram2dcontour",
            "colorbar": {
             "outlinewidth": 0,
             "ticks": ""
            },
            "colorscale": [
             [
              0.0,
              "#0d0887"
             ],
             [
              0.1111111111111111,
              "#46039f"
             ],
             [
              0.2222222222222222,
              "#7201a8"
             ],
             [
              0.3333333333333333,
              "#9c179e"
             ],
             [
              0.4444444444444444,
              "#bd3786"
             ],
             [
              0.5555555555555556,
              "#d8576b"
             ],
             [
              0.6666666666666666,
              "#ed7953"
             ],
             [
              0.7777777777777778,
              "#fb9f3a"
             ],
             [
              0.8888888888888888,
              "#fdca26"
             ],
             [
              1.0,
              "#f0f921"
             ]
            ]
           }
          ],
          "choropleth": [
           {
            "type": "choropleth",
            "colorbar": {
             "outlinewidth": 0,
             "ticks": ""
            }
           }
          ],
          "histogram2d": [
           {
            "type": "histogram2d",
            "colorbar": {
             "outlinewidth": 0,
             "ticks": ""
            },
            "colorscale": [
             [
              0.0,
              "#0d0887"
             ],
             [
              0.1111111111111111,
              "#46039f"
             ],
             [
              0.2222222222222222,
              "#7201a8"
             ],
             [
              0.3333333333333333,
              "#9c179e"
             ],
             [
              0.4444444444444444,
              "#bd3786"
             ],
             [
              0.5555555555555556,
              "#d8576b"
             ],
             [
              0.6666666666666666,
              "#ed7953"
             ],
             [
              0.7777777777777778,
              "#fb9f3a"
             ],
             [
              0.8888888888888888,
              "#fdca26"
             ],
             [
              1.0,
              "#f0f921"
             ]
            ]
           }
          ],
          "heatmap": [
           {
            "type": "heatmap",
            "colorbar": {
             "outlinewidth": 0,
             "ticks": ""
            },
            "colorscale": [
             [
              0.0,
              "#0d0887"
             ],
             [
              0.1111111111111111,
              "#46039f"
             ],
             [
              0.2222222222222222,
              "#7201a8"
             ],
             [
              0.3333333333333333,
              "#9c179e"
             ],
             [
              0.4444444444444444,
              "#bd3786"
             ],
             [
              0.5555555555555556,
              "#d8576b"
             ],
             [
              0.6666666666666666,
              "#ed7953"
             ],
             [
              0.7777777777777778,
              "#fb9f3a"
             ],
             [
              0.8888888888888888,
              "#fdca26"
             ],
             [
              1.0,
              "#f0f921"
             ]
            ]
           }
          ],
          "contourcarpet": [
           {
            "type": "contourcarpet",
            "colorbar": {
             "outlinewidth": 0,
             "ticks": ""
            }
           }
          ],
          "contour": [
           {
            "type": "contour",
            "colorbar": {
             "outlinewidth": 0,
             "ticks": ""
            },
            "colorscale": [
             [
              0.0,
              "#0d0887"
             ],
             [
              0.1111111111111111,
              "#46039f"
             ],
             [
              0.2222222222222222,
              "#7201a8"
             ],
             [
              0.3333333333333333,
              "#9c179e"
             ],
             [
              0.4444444444444444,
              "#bd3786"
             ],
             [
              0.5555555555555556,
              "#d8576b"
             ],
             [
              0.6666666666666666,
              "#ed7953"
             ],
             [
              0.7777777777777778,
              "#fb9f3a"
             ],
             [
              0.8888888888888888,
              "#fdca26"
             ],
             [
              1.0,
              "#f0f921"
             ]
            ]
           }
          ],
          "surface": [
           {
            "type": "surface",
            "colorbar": {
             "outlinewidth": 0,
             "ticks": ""
            },
            "colorscale": [
             [
              0.0,
              "#0d0887"
             ],
             [
              0.1111111111111111,
              "#46039f"
             ],
             [
              0.2222222222222222,
              "#7201a8"
             ],
             [
              0.3333333333333333,
              "#9c179e"
             ],
             [
              0.4444444444444444,
              "#bd3786"
             ],
             [
              0.5555555555555556,
              "#d8576b"
             ],
             [
              0.6666666666666666,
              "#ed7953"
             ],
             [
              0.7777777777777778,
              "#fb9f3a"
             ],
             [
              0.8888888888888888,
              "#fdca26"
             ],
             [
              1.0,
              "#f0f921"
             ]
            ]
           }
          ],
          "mesh3d": [
           {
            "type": "mesh3d",
            "colorbar": {
             "outlinewidth": 0,
             "ticks": ""
            }
           }
          ],
          "scatter": [
           {
            "marker": {
             "line": {
              "color": "#283442"
             }
            },
            "type": "scatter"
           }
          ],
          "parcoords": [
           {
            "type": "parcoords",
            "line": {
             "colorbar": {
              "outlinewidth": 0,
              "ticks": ""
             }
            }
           }
          ],
          "scatterpolargl": [
           {
            "type": "scatterpolargl",
            "marker": {
             "colorbar": {
              "outlinewidth": 0,
              "ticks": ""
             }
            }
           }
          ],
          "bar": [
           {
            "error_x": {
             "color": "#f2f5fa"
            },
            "error_y": {
             "color": "#f2f5fa"
            },
            "marker": {
             "line": {
              "color": "rgb(17,17,17)",
              "width": 0.5
             },
             "pattern": {
              "fillmode": "overlay",
              "size": 10,
              "solidity": 0.2
             }
            },
            "type": "bar"
           }
          ],
          "scattergeo": [
           {
            "type": "scattergeo",
            "marker": {
             "colorbar": {
              "outlinewidth": 0,
              "ticks": ""
             }
            }
           }
          ],
          "scatterpolar": [
           {
            "type": "scatterpolar",
            "marker": {
             "colorbar": {
              "outlinewidth": 0,
              "ticks": ""
             }
            }
           }
          ],
          "histogram": [
           {
            "marker": {
             "pattern": {
              "fillmode": "overlay",
              "size": 10,
              "solidity": 0.2
             }
            },
            "type": "histogram"
           }
          ],
          "scattergl": [
           {
            "marker": {
             "line": {
              "color": "#283442"
             }
            },
            "type": "scattergl"
           }
          ],
          "scatter3d": [
           {
            "type": "scatter3d",
            "line": {
             "colorbar": {
              "outlinewidth": 0,
              "ticks": ""
             }
            },
            "marker": {
             "colorbar": {
              "outlinewidth": 0,
              "ticks": ""
             }
            }
           }
          ],
          "scattermap": [
           {
            "type": "scattermap",
            "marker": {
             "colorbar": {
              "outlinewidth": 0,
              "ticks": ""
             }
            }
           }
          ],
          "scattermapbox": [
           {
            "type": "scattermapbox",
            "marker": {
             "colorbar": {
              "outlinewidth": 0,
              "ticks": ""
             }
            }
           }
          ],
          "scatterternary": [
           {
            "type": "scatterternary",
            "marker": {
             "colorbar": {
              "outlinewidth": 0,
              "ticks": ""
             }
            }
           }
          ],
          "scattercarpet": [
           {
            "type": "scattercarpet",
            "marker": {
             "colorbar": {
              "outlinewidth": 0,
              "ticks": ""
             }
            }
           }
          ],
          "carpet": [
           {
            "aaxis": {
             "endlinecolor": "#A2B1C6",
             "gridcolor": "#506784",
             "linecolor": "#506784",
             "minorgridcolor": "#506784",
             "startlinecolor": "#A2B1C6"
            },
            "baxis": {
             "endlinecolor": "#A2B1C6",
             "gridcolor": "#506784",
             "linecolor": "#506784",
             "minorgridcolor": "#506784",
             "startlinecolor": "#A2B1C6"
            },
            "type": "carpet"
           }
          ],
          "table": [
           {
            "cells": {
             "fill": {
              "color": "#506784"
             },
             "line": {
              "color": "rgb(17,17,17)"
             }
            },
            "header": {
             "fill": {
              "color": "#2a3f5f"
             },
             "line": {
              "color": "rgb(17,17,17)"
             }
            },
            "type": "table"
           }
          ],
          "barpolar": [
           {
            "marker": {
             "line": {
              "color": "rgb(17,17,17)",
              "width": 0.5
             },
             "pattern": {
              "fillmode": "overlay",
              "size": 10,
              "solidity": 0.2
             }
            },
            "type": "barpolar"
           }
          ],
          "pie": [
           {
            "automargin": true,
            "type": "pie"
           }
          ]
         },
         "layout": {
          "autotypenumbers": "strict",
          "colorway": [
           "#636efa",
           "#EF553B",
           "#00cc96",
           "#ab63fa",
           "#FFA15A",
           "#19d3f3",
           "#FF6692",
           "#B6E880",
           "#FF97FF",
           "#FECB52"
          ],
          "font": {
           "color": "#f2f5fa"
          },
          "hovermode": "closest",
          "hoverlabel": {
           "align": "left"
          },
          "paper_bgcolor": "rgb(17,17,17)",
          "plot_bgcolor": "rgb(17,17,17)",
          "polar": {
           "bgcolor": "rgb(17,17,17)",
           "angularaxis": {
            "gridcolor": "#506784",
            "linecolor": "#506784",
            "ticks": ""
           },
           "radialaxis": {
            "gridcolor": "#506784",
            "linecolor": "#506784",
            "ticks": ""
           }
          },
          "ternary": {
           "bgcolor": "rgb(17,17,17)",
           "aaxis": {
            "gridcolor": "#506784",
            "linecolor": "#506784",
            "ticks": ""
           },
           "baxis": {
            "gridcolor": "#506784",
            "linecolor": "#506784",
            "ticks": ""
           },
           "caxis": {
            "gridcolor": "#506784",
            "linecolor": "#506784",
            "ticks": ""
           }
          },
          "coloraxis": {
           "colorbar": {
            "outlinewidth": 0,
            "ticks": ""
           }
          },
          "colorscale": {
           "sequential": [
            [
             0.0,
             "#0d0887"
            ],
            [
             0.1111111111111111,
             "#46039f"
            ],
            [
             0.2222222222222222,
             "#7201a8"
            ],
            [
             0.3333333333333333,
             "#9c179e"
            ],
            [
             0.4444444444444444,
             "#bd3786"
            ],
            [
             0.5555555555555556,
             "#d8576b"
            ],
            [
             0.6666666666666666,
             "#ed7953"
            ],
            [
             0.7777777777777778,
             "#fb9f3a"
            ],
            [
             0.8888888888888888,
             "#fdca26"
            ],
            [
             1.0,
             "#f0f921"
            ]
           ],
           "sequentialminus": [
            [
             0.0,
             "#0d0887"
            ],
            [
             0.1111111111111111,
             "#46039f"
            ],
            [
             0.2222222222222222,
             "#7201a8"
            ],
            [
             0.3333333333333333,
             "#9c179e"
            ],
            [
             0.4444444444444444,
             "#bd3786"
            ],
            [
             0.5555555555555556,
             "#d8576b"
            ],
            [
             0.6666666666666666,
             "#ed7953"
            ],
            [
             0.7777777777777778,
             "#fb9f3a"
            ],
            [
             0.8888888888888888,
             "#fdca26"
            ],
            [
             1.0,
             "#f0f921"
            ]
           ],
           "diverging": [
            [
             0,
             "#8e0152"
            ],
            [
             0.1,
             "#c51b7d"
            ],
            [
             0.2,
             "#de77ae"
            ],
            [
             0.3,
             "#f1b6da"
            ],
            [
             0.4,
             "#fde0ef"
            ],
            [
             0.5,
             "#f7f7f7"
            ],
            [
             0.6,
             "#e6f5d0"
            ],
            [
             0.7,
             "#b8e186"
            ],
            [
             0.8,
             "#7fbc41"
            ],
            [
             0.9,
             "#4d9221"
            ],
            [
             1,
             "#276419"
            ]
           ]
          },
          "xaxis": {
           "gridcolor": "#283442",
           "linecolor": "#506784",
           "ticks": "",
           "title": {
            "standoff": 15
           },
           "zerolinecolor": "#283442",
           "automargin": true,
           "zerolinewidth": 2
          },
          "yaxis": {
           "gridcolor": "#283442",
           "linecolor": "#506784",
           "ticks": "",
           "title": {
            "standoff": 15
           },
           "zerolinecolor": "#283442",
           "automargin": true,
           "zerolinewidth": 2
          },
          "scene": {
           "xaxis": {
            "backgroundcolor": "rgb(17,17,17)",
            "gridcolor": "#506784",
            "linecolor": "#506784",
            "showbackground": true,
            "ticks": "",
            "zerolinecolor": "#C8D4E3",
            "gridwidth": 2
           },
           "yaxis": {
            "backgroundcolor": "rgb(17,17,17)",
            "gridcolor": "#506784",
            "linecolor": "#506784",
            "showbackground": true,
            "ticks": "",
            "zerolinecolor": "#C8D4E3",
            "gridwidth": 2
           },
           "zaxis": {
            "backgroundcolor": "rgb(17,17,17)",
            "gridcolor": "#506784",
            "linecolor": "#506784",
            "showbackground": true,
            "ticks": "",
            "zerolinecolor": "#C8D4E3",
            "gridwidth": 2
           }
          },
          "shapedefaults": {
           "line": {
            "color": "#f2f5fa"
           }
          },
          "annotationdefaults": {
           "arrowcolor": "#f2f5fa",
           "arrowhead": 0,
           "arrowwidth": 1
          },
          "geo": {
           "bgcolor": "rgb(17,17,17)",
           "landcolor": "rgb(17,17,17)",
           "subunitcolor": "#506784",
           "showland": true,
           "showlakes": true,
           "lakecolor": "rgb(17,17,17)"
          },
          "title": {
           "x": 0.05
          },
          "updatemenudefaults": {
           "bgcolor": "#506784",
           "borderwidth": 0
          },
          "sliderdefaults": {
           "bgcolor": "#C8D4E3",
           "borderwidth": 1,
           "bordercolor": "rgb(17,17,17)",
           "tickwidth": 0
          },
          "mapbox": {
           "style": "dark"
          }
         }
        },
        "xaxis": {
         "anchor": "y",
         "domain": [
          0.0,
          1.0
         ],
         "scaleanchor": "y",
         "constrain": "domain",
         "title": {
          "text": "Factor i"
         }
        },
        "yaxis": {
         "anchor": "x",
         "domain": [
          0.0,
          1.0
         ],
         "autorange": "reversed",
         "constrain": "domain",
         "title": {
          "text": "Factor j"
         }
        },
        "coloraxis": {
         "colorbar": {
          "title": {
           "text": "Covariance"
          }
         },
         "colorscale": [
          [
           0.0,
           "#0d0887"
          ],
          [
           0.1111111111111111,
           "#46039f"
          ],
          [
           0.2222222222222222,
           "#7201a8"
          ],
          [
           0.3333333333333333,
           "#9c179e"
          ],
          [
           0.4444444444444444,
           "#bd3786"
          ],
          [
           0.5555555555555556,
           "#d8576b"
          ],
          [
           0.6666666666666666,
           "#ed7953"
          ],
          [
           0.7777777777777778,
           "#fb9f3a"
          ],
          [
           0.8888888888888888,
           "#fdca26"
          ],
          [
           1.0,
           "#f0f921"
          ]
         ]
        },
        "title": {
         "text": "EWMA Covariance (h=63d)"
        }
       },
       "config": {
        "plotlyServerURL": "https://plot.ly"
       }
      }
     },
     "metadata": {},
     "output_type": "display_data"
    },
    {
     "data": {
      "application/vnd.plotly.v1+json": {
       "data": [
        {
         "coloraxis": "coloraxis",
         "name": "0",
         "x": [
          "lncap",
          "lncap2",
          "beta",
          "nl_beta",
          "mom_12_1",
          "mom_1m",
          "resid_vol",
          "liquidity",
          "book_to_price",
          "leverage",
          "div_yield",
          "earnings_yield",
          "profitability"
         ],
         "y": [
          "lncap",
          "lncap2",
          "beta",
          "nl_beta",
          "mom_12_1",
          "mom_1m",
          "resid_vol",
          "liquidity",
          "book_to_price",
          "leverage",
          "div_yield",
          "earnings_yield",
          "profitability"
         ],
         "z": {
          "dtype": "f8",
          "bdata": "X10WVADGXD+ytTqYLytcv1uy2W1BScY+4VHx24sY2z4OvPXdtmXMPoIYfOWpJeQ+/OTwQh7Ayb4Rl6pexfn7PkWrgjQdYtA+/5rLgFoR8L6wqxqMuWbiPnTeNOMxyOm+O16XPCzE6z6ytTqYLytcv5s5Rr+11Vo/L9L4zvly2b72INU9ZeDhvucb3c+oQtO+Ong/UOnR5b5vQy6Q18KpPsiPuakDOfm+NaQD0cmv1L4NDYFjIvDsPv2mTbVlXOO+NRWbWMxG5j5+FhcVyx7svluy2W1BScY+L9L4zvly2b6o8rpsRTj7Psg0U2igffO+yUz4UytDuD6VzZE6tmCsvsLnuRRB0cg+leuzf/FpYr5XG3KB6AirPqAvX6F+tIq+QI/cybjJpT5lISJnDKi2PigQ19NY7KO+4VHx24sY2z72INU9ZeDhvsg0U2igffO+IbwBW+s99D66ahKQovCqvtE/CG1HFpS+roTugjQebD5EHmx99vlwvgRm28UTpoG+SMIf1uC4or71cM3sxzS2vmUHT4/aR7C+HbKjeaeMsT4OvPXdtmXMPucb3c+oQtO+yUz4UytDuD66ahKQovCqvgEYqY2IJt4+dNRgxJJljT5V98KyzlHAPiR1Isj6aK8+6aP0btUbp76CrtOLuhuxvppRTAIy8qa+Y8+PJgXrlb5DegUNxC96PoIYfOWpJeQ+Ong/UOnR5b6VzZE6tmCsvtE/CG1HFpS+dNRgxJJljT5F8BxMNNXjPs5PZDlxuIU+t2kh7YZoiz5YsqMVpseRvpoYeqPLnJU+BxZE1zfPmr7WM8Y8IFeiPj+Lszjx+6K+/OTwQh7Ayb5vQy6Q18KpPsLnuRRB0cg+roTugjQebD5V98KyzlHAPs5PZDlxuIU+a1dwDlZQ3z5eyYlVmOW8vnyY2EzVLJA+9qEfaawptb7P7ISjb0Cwvqa/h4O9H6Q+CBcsQ5M7mT4Rl6pexfn7PsiPuakDOfm+leuzf/FpYr5EHmx99vlwviR1Isj6aK8+t2kh7YZoiz5eyYlVmOW8vs/k7ttgadk+4MIP/Xzfrr4pE/acydOmviY0Z1LJzJI+nmAhD2YZp75rMlYWGhuiPkWrgjQdYtA+NaQD0cmv1L5XG3KB6AirPgRm28UTpoG+6aP0btUbp75YsqMVpseRvnyY2EzVLJA+4MIP/Xzfrr6vrqDCvBLLPtmEyw5Z9rc+nnvs8L2nYL6DtFygLliTPkqhHXmDwKE+/5rLgFoR8L4NDYFjIvDsPqAvX6F+tIq+SMIf1uC4or6CrtOLuhuxvpoYeqPLnJU+9qEfaawptb4pE/acydOmvtmEyw5Z9rc+Wh5g6I/IwT5yswijXE5TPsR93gdUgpE+c3ky3Y10mL6wqxqMuWbiPv2mTbVlXOO+QI/cybjJpT71cM3sxzS2vppRTAIy8qa+BxZE1zfPmr7P7ISjb0CwviY0Z1LJzJI+nnvs8L2nYL5yswijXE5TPuIp9m2FK7c+udYfXl9Thz56zdVCEjSKvnTeNOMxyOm+NRWbWMxG5j5lISJnDKi2PmUHT4/aR7C+Y8+PJgXrlb7WM8Y8IFeiPqa/h4O9H6Q+nmAhD2YZp76DtFygLliTPsR93gdUgpE+udYfXl9Thz58PIzG/xvJPsBrpDo1aLW+O16XPCzE6z5+FhcVyx7svigQ19NY7KO+HbKjeaeMsT5DegUNxC96Pj+Lszjx+6K+CBcsQ5M7mT5rMlYWGhuiPkqhHXmDwKE+c3ky3Y10mL56zdVCEjSKvsBrpDo1aLW+QbiUJlErwD4=",
          "shape": "13, 13"
         },
         "type": "heatmap",
         "xaxis": "x",
         "yaxis": "y",
         "hovertemplate": "Factor i: %{x}<br>Factor j: %{y}<br>Covariance: %{z}<extra></extra>"
        }
       ],
       "layout": {
        "template": {
         "data": {
          "histogram2dcontour": [
           {
            "type": "histogram2dcontour",
            "colorbar": {
             "outlinewidth": 0,
             "ticks": ""
            },
            "colorscale": [
             [
              0.0,
              "#0d0887"
             ],
             [
              0.1111111111111111,
              "#46039f"
             ],
             [
              0.2222222222222222,
              "#7201a8"
             ],
             [
              0.3333333333333333,
              "#9c179e"
             ],
             [
              0.4444444444444444,
              "#bd3786"
             ],
             [
              0.5555555555555556,
              "#d8576b"
             ],
             [
              0.6666666666666666,
              "#ed7953"
             ],
             [
              0.7777777777777778,
              "#fb9f3a"
             ],
             [
              0.8888888888888888,
              "#fdca26"
             ],
             [
              1.0,
              "#f0f921"
             ]
            ]
           }
          ],
          "choropleth": [
           {
            "type": "choropleth",
            "colorbar": {
             "outlinewidth": 0,
             "ticks": ""
            }
           }
          ],
          "histogram2d": [
           {
            "type": "histogram2d",
            "colorbar": {
             "outlinewidth": 0,
             "ticks": ""
            },
            "colorscale": [
             [
              0.0,
              "#0d0887"
             ],
             [
              0.1111111111111111,
              "#46039f"
             ],
             [
              0.2222222222222222,
              "#7201a8"
             ],
             [
              0.3333333333333333,
              "#9c179e"
             ],
             [
              0.4444444444444444,
              "#bd3786"
             ],
             [
              0.5555555555555556,
              "#d8576b"
             ],
             [
              0.6666666666666666,
              "#ed7953"
             ],
             [
              0.7777777777777778,
              "#fb9f3a"
             ],
             [
              0.8888888888888888,
              "#fdca26"
             ],
             [
              1.0,
              "#f0f921"
             ]
            ]
           }
          ],
          "heatmap": [
           {
            "type": "heatmap",
            "colorbar": {
             "outlinewidth": 0,
             "ticks": ""
            },
            "colorscale": [
             [
              0.0,
              "#0d0887"
             ],
             [
              0.1111111111111111,
              "#46039f"
             ],
             [
              0.2222222222222222,
              "#7201a8"
             ],
             [
              0.3333333333333333,
              "#9c179e"
             ],
             [
              0.4444444444444444,
              "#bd3786"
             ],
             [
              0.5555555555555556,
              "#d8576b"
             ],
             [
              0.6666666666666666,
              "#ed7953"
             ],
             [
              0.7777777777777778,
              "#fb9f3a"
             ],
             [
              0.8888888888888888,
              "#fdca26"
             ],
             [
              1.0,
              "#f0f921"
             ]
            ]
           }
          ],
          "contourcarpet": [
           {
            "type": "contourcarpet",
            "colorbar": {
             "outlinewidth": 0,
             "ticks": ""
            }
           }
          ],
          "contour": [
           {
            "type": "contour",
            "colorbar": {
             "outlinewidth": 0,
             "ticks": ""
            },
            "colorscale": [
             [
              0.0,
              "#0d0887"
             ],
             [
              0.1111111111111111,
              "#46039f"
             ],
             [
              0.2222222222222222,
              "#7201a8"
             ],
             [
              0.3333333333333333,
              "#9c179e"
             ],
             [
              0.4444444444444444,
              "#bd3786"
             ],
             [
              0.5555555555555556,
              "#d8576b"
             ],
             [
              0.6666666666666666,
              "#ed7953"
             ],
             [
              0.7777777777777778,
              "#fb9f3a"
             ],
             [
              0.8888888888888888,
              "#fdca26"
             ],
             [
              1.0,
              "#f0f921"
             ]
            ]
           }
          ],
          "surface": [
           {
            "type": "surface",
            "colorbar": {
             "outlinewidth": 0,
             "ticks": ""
            },
            "colorscale": [
             [
              0.0,
              "#0d0887"
             ],
             [
              0.1111111111111111,
              "#46039f"
             ],
             [
              0.2222222222222222,
              "#7201a8"
             ],
             [
              0.3333333333333333,
              "#9c179e"
             ],
             [
              0.4444444444444444,
              "#bd3786"
             ],
             [
              0.5555555555555556,
              "#d8576b"
             ],
             [
              0.6666666666666666,
              "#ed7953"
             ],
             [
              0.7777777777777778,
              "#fb9f3a"
             ],
             [
              0.8888888888888888,
              "#fdca26"
             ],
             [
              1.0,
              "#f0f921"
             ]
            ]
           }
          ],
          "mesh3d": [
           {
            "type": "mesh3d",
            "colorbar": {
             "outlinewidth": 0,
             "ticks": ""
            }
           }
          ],
          "scatter": [
           {
            "marker": {
             "line": {
              "color": "#283442"
             }
            },
            "type": "scatter"
           }
          ],
          "parcoords": [
           {
            "type": "parcoords",
            "line": {
             "colorbar": {
              "outlinewidth": 0,
              "ticks": ""
             }
            }
           }
          ],
          "scatterpolargl": [
           {
            "type": "scatterpolargl",
            "marker": {
             "colorbar": {
              "outlinewidth": 0,
              "ticks": ""
             }
            }
           }
          ],
          "bar": [
           {
            "error_x": {
             "color": "#f2f5fa"
            },
            "error_y": {
             "color": "#f2f5fa"
            },
            "marker": {
             "line": {
              "color": "rgb(17,17,17)",
              "width": 0.5
             },
             "pattern": {
              "fillmode": "overlay",
              "size": 10,
              "solidity": 0.2
             }
            },
            "type": "bar"
           }
          ],
          "scattergeo": [
           {
            "type": "scattergeo",
            "marker": {
             "colorbar": {
              "outlinewidth": 0,
              "ticks": ""
             }
            }
           }
          ],
          "scatterpolar": [
           {
            "type": "scatterpolar",
            "marker": {
             "colorbar": {
              "outlinewidth": 0,
              "ticks": ""
             }
            }
           }
          ],
          "histogram": [
           {
            "marker": {
             "pattern": {
              "fillmode": "overlay",
              "size": 10,
              "solidity": 0.2
             }
            },
            "type": "histogram"
           }
          ],
          "scattergl": [
           {
            "marker": {
             "line": {
              "color": "#283442"
             }
            },
            "type": "scattergl"
           }
          ],
          "scatter3d": [
           {
            "type": "scatter3d",
            "line": {
             "colorbar": {
              "outlinewidth": 0,
              "ticks": ""
             }
            },
            "marker": {
             "colorbar": {
              "outlinewidth": 0,
              "ticks": ""
             }
            }
           }
          ],
          "scattermap": [
           {
            "type": "scattermap",
            "marker": {
             "colorbar": {
              "outlinewidth": 0,
              "ticks": ""
             }
            }
           }
          ],
          "scattermapbox": [
           {
            "type": "scattermapbox",
            "marker": {
             "colorbar": {
              "outlinewidth": 0,
              "ticks": ""
             }
            }
           }
          ],
          "scatterternary": [
           {
            "type": "scatterternary",
            "marker": {
             "colorbar": {
              "outlinewidth": 0,
              "ticks": ""
             }
            }
           }
          ],
          "scattercarpet": [
           {
            "type": "scattercarpet",
            "marker": {
             "colorbar": {
              "outlinewidth": 0,
              "ticks": ""
             }
            }
           }
          ],
          "carpet": [
           {
            "aaxis": {
             "endlinecolor": "#A2B1C6",
             "gridcolor": "#506784",
             "linecolor": "#506784",
             "minorgridcolor": "#506784",
             "startlinecolor": "#A2B1C6"
            },
            "baxis": {
             "endlinecolor": "#A2B1C6",
             "gridcolor": "#506784",
             "linecolor": "#506784",
             "minorgridcolor": "#506784",
             "startlinecolor": "#A2B1C6"
            },
            "type": "carpet"
           }
          ],
          "table": [
           {
            "cells": {
             "fill": {
              "color": "#506784"
             },
             "line": {
              "color": "rgb(17,17,17)"
             }
            },
            "header": {
             "fill": {
              "color": "#2a3f5f"
             },
             "line": {
              "color": "rgb(17,17,17)"
             }
            },
            "type": "table"
           }
          ],
          "barpolar": [
           {
            "marker": {
             "line": {
              "color": "rgb(17,17,17)",
              "width": 0.5
             },
             "pattern": {
              "fillmode": "overlay",
              "size": 10,
              "solidity": 0.2
             }
            },
            "type": "barpolar"
           }
          ],
          "pie": [
           {
            "automargin": true,
            "type": "pie"
           }
          ]
         },
         "layout": {
          "autotypenumbers": "strict",
          "colorway": [
           "#636efa",
           "#EF553B",
           "#00cc96",
           "#ab63fa",
           "#FFA15A",
           "#19d3f3",
           "#FF6692",
           "#B6E880",
           "#FF97FF",
           "#FECB52"
          ],
          "font": {
           "color": "#f2f5fa"
          },
          "hovermode": "closest",
          "hoverlabel": {
           "align": "left"
          },
          "paper_bgcolor": "rgb(17,17,17)",
          "plot_bgcolor": "rgb(17,17,17)",
          "polar": {
           "bgcolor": "rgb(17,17,17)",
           "angularaxis": {
            "gridcolor": "#506784",
            "linecolor": "#506784",
            "ticks": ""
           },
           "radialaxis": {
            "gridcolor": "#506784",
            "linecolor": "#506784",
            "ticks": ""
           }
          },
          "ternary": {
           "bgcolor": "rgb(17,17,17)",
           "aaxis": {
            "gridcolor": "#506784",
            "linecolor": "#506784",
            "ticks": ""
           },
           "baxis": {
            "gridcolor": "#506784",
            "linecolor": "#506784",
            "ticks": ""
           },
           "caxis": {
            "gridcolor": "#506784",
            "linecolor": "#506784",
            "ticks": ""
           }
          },
          "coloraxis": {
           "colorbar": {
            "outlinewidth": 0,
            "ticks": ""
           }
          },
          "colorscale": {
           "sequential": [
            [
             0.0,
             "#0d0887"
            ],
            [
             0.1111111111111111,
             "#46039f"
            ],
            [
             0.2222222222222222,
             "#7201a8"
            ],
            [
             0.3333333333333333,
             "#9c179e"
            ],
            [
             0.4444444444444444,
             "#bd3786"
            ],
            [
             0.5555555555555556,
             "#d8576b"
            ],
            [
             0.6666666666666666,
             "#ed7953"
            ],
            [
             0.7777777777777778,
             "#fb9f3a"
            ],
            [
             0.8888888888888888,
             "#fdca26"
            ],
            [
             1.0,
             "#f0f921"
            ]
           ],
           "sequentialminus": [
            [
             0.0,
             "#0d0887"
            ],
            [
             0.1111111111111111,
             "#46039f"
            ],
            [
             0.2222222222222222,
             "#7201a8"
            ],
            [
             0.3333333333333333,
             "#9c179e"
            ],
            [
             0.4444444444444444,
             "#bd3786"
            ],
            [
             0.5555555555555556,
             "#d8576b"
            ],
            [
             0.6666666666666666,
             "#ed7953"
            ],
            [
             0.7777777777777778,
             "#fb9f3a"
            ],
            [
             0.8888888888888888,
             "#fdca26"
            ],
            [
             1.0,
             "#f0f921"
            ]
           ],
           "diverging": [
            [
             0,
             "#8e0152"
            ],
            [
             0.1,
             "#c51b7d"
            ],
            [
             0.2,
             "#de77ae"
            ],
            [
             0.3,
             "#f1b6da"
            ],
            [
             0.4,
             "#fde0ef"
            ],
            [
             0.5,
             "#f7f7f7"
            ],
            [
             0.6,
             "#e6f5d0"
            ],
            [
             0.7,
             "#b8e186"
            ],
            [
             0.8,
             "#7fbc41"
            ],
            [
             0.9,
             "#4d9221"
            ],
            [
             1,
             "#276419"
            ]
           ]
          },
          "xaxis": {
           "gridcolor": "#283442",
           "linecolor": "#506784",
           "ticks": "",
           "title": {
            "standoff": 15
           },
           "zerolinecolor": "#283442",
           "automargin": true,
           "zerolinewidth": 2
          },
          "yaxis": {
           "gridcolor": "#283442",
           "linecolor": "#506784",
           "ticks": "",
           "title": {
            "standoff": 15
           },
           "zerolinecolor": "#283442",
           "automargin": true,
           "zerolinewidth": 2
          },
          "scene": {
           "xaxis": {
            "backgroundcolor": "rgb(17,17,17)",
            "gridcolor": "#506784",
            "linecolor": "#506784",
            "showbackground": true,
            "ticks": "",
            "zerolinecolor": "#C8D4E3",
            "gridwidth": 2
           },
           "yaxis": {
            "backgroundcolor": "rgb(17,17,17)",
            "gridcolor": "#506784",
            "linecolor": "#506784",
            "showbackground": true,
            "ticks": "",
            "zerolinecolor": "#C8D4E3",
            "gridwidth": 2
           },
           "zaxis": {
            "backgroundcolor": "rgb(17,17,17)",
            "gridcolor": "#506784",
            "linecolor": "#506784",
            "showbackground": true,
            "ticks": "",
            "zerolinecolor": "#C8D4E3",
            "gridwidth": 2
           }
          },
          "shapedefaults": {
           "line": {
            "color": "#f2f5fa"
           }
          },
          "annotationdefaults": {
           "arrowcolor": "#f2f5fa",
           "arrowhead": 0,
           "arrowwidth": 1
          },
          "geo": {
           "bgcolor": "rgb(17,17,17)",
           "landcolor": "rgb(17,17,17)",
           "subunitcolor": "#506784",
           "showland": true,
           "showlakes": true,
           "lakecolor": "rgb(17,17,17)"
          },
          "title": {
           "x": 0.05
          },
          "updatemenudefaults": {
           "bgcolor": "#506784",
           "borderwidth": 0
          },
          "sliderdefaults": {
           "bgcolor": "#C8D4E3",
           "borderwidth": 1,
           "bordercolor": "rgb(17,17,17)",
           "tickwidth": 0
          },
          "mapbox": {
           "style": "dark"
          }
         }
        },
        "xaxis": {
         "anchor": "y",
         "domain": [
          0.0,
          1.0
         ],
         "scaleanchor": "y",
         "constrain": "domain",
         "title": {
          "text": "Factor i"
         }
        },
        "yaxis": {
         "anchor": "x",
         "domain": [
          0.0,
          1.0
         ],
         "autorange": "reversed",
         "constrain": "domain",
         "title": {
          "text": "Factor j"
         }
        },
        "coloraxis": {
         "colorbar": {
          "title": {
           "text": "Covariance"
          }
         },
         "colorscale": [
          [
           0.0,
           "#0d0887"
          ],
          [
           0.1111111111111111,
           "#46039f"
          ],
          [
           0.2222222222222222,
           "#7201a8"
          ],
          [
           0.3333333333333333,
           "#9c179e"
          ],
          [
           0.4444444444444444,
           "#bd3786"
          ],
          [
           0.5555555555555556,
           "#d8576b"
          ],
          [
           0.6666666666666666,
           "#ed7953"
          ],
          [
           0.7777777777777778,
           "#fb9f3a"
          ],
          [
           0.8888888888888888,
           "#fdca26"
          ],
          [
           1.0,
           "#f0f921"
          ]
         ]
        },
        "title": {
         "text": "Shrunk EWMA Covariance (λ=0.8)"
        }
       },
       "config": {
        "plotlyServerURL": "https://plot.ly"
       }
      }
     },
     "metadata": {},
     "output_type": "display_data"
    }
   ],
   "execution_count": 31
  },
  {
   "metadata": {
    "ExecuteTime": {
     "end_time": "2025-08-11T10:13:56.062948Z",
     "start_time": "2025-08-11T10:13:56.059634Z"
    }
   },
   "cell_type": "code",
   "source": "pfa.portfolio_weights",
   "id": "39e8701cc6cee44",
   "outputs": [
    {
     "data": {
      "text/plain": [
       "BBG000N9MNX3    0.074286\n",
       "BBG000B9XRY4    0.098472\n",
       "BBG000BVPV84    0.161695\n",
       "BBG009S39JX6    0.218856\n",
       "BBG000BBJQV0    0.194392\n",
       "BBG000BPH459    0.208248\n",
       "BBG000MM2P62    0.044051\n",
       "Name: weight, dtype: float64"
      ]
     },
     "execution_count": 12,
     "metadata": {},
     "output_type": "execute_result"
    }
   ],
   "execution_count": 12
  },
  {
   "metadata": {},
   "cell_type": "code",
   "outputs": [],
   "execution_count": null,
   "source": "",
   "id": "adb0b587edd03e67"
  },
  {
   "metadata": {},
   "cell_type": "code",
   "outputs": [],
   "execution_count": null,
   "source": [
    "def implied_returns_from_portfolio(cov_matrix: pd.DataFrame,\n",
    "                                   portfolio_weights: pd.Series,\n",
    "                                   risk_aversion: float = 2.5) -> pd.Series:\n",
    "    \"\"\"\n",
    "    Inverse-optimisation: recover the expected-return vector μ that would make\n",
    "    `portfolio_weights` the mean–variance optimal portfolio for a given\n",
    "    risk-aversion γ.\n",
    "\n",
    "    Mean–variance FOC\n",
    "    -----------------\n",
    "        μ  =  γ · Σ · w_opt\n",
    "\n",
    "    Parameters\n",
    "    ----------\n",
    "    cov_matrix : pd.DataFrame\n",
    "        Σ  (assets × assets or factors × factors).\n",
    "    portfolio_weights : pd.Series\n",
    "        w_opt  (must align with Σ's index).\n",
    "    risk_aversion : float, default 2.5\n",
    "        γ  (higher ⇒ more risk-averse).\n",
    "\n",
    "    Returns\n",
    "    -------\n",
    "    pd.Series\n",
    "        Implied expected returns μ (same index as Σ).\n",
    "    \"\"\"\n",
    "    # align\n",
    "    w = portfolio_weights.reindex(cov_matrix.index).fillna(0.0).values\n",
    "    mu = risk_aversion * (cov_matrix.values @ w)\n",
    "    return pd.Series(mu, index=cov_matrix.index, name=\"weights\")"
   ],
   "id": "21bc2aa32d8c6291"
  },
  {
   "metadata": {},
   "cell_type": "code",
   "outputs": [],
   "execution_count": null,
   "source": [
    "from factorinvesting.src.portfolio_models import FixedCovariance,EmpiricalPrior,FixedMu\n",
    "\n",
    "implied_factor_return_df=implied_returns_from_portfolio(portfolio_weights=pfa.portfolio_exposure_df.loc[last_date],\n",
    "                               cov_matrix=cov_shrunk,\n",
    "                               )\n",
    "\n",
    "\n",
    "\n"
   ],
   "id": "bb4aef0c36a21722"
  },
  {
   "metadata": {},
   "cell_type": "code",
   "outputs": [],
   "execution_count": null,
   "source": [
    "from skfolio.utils.equations import equations_to_matrix\n",
    "\n",
    "# ---------- 1. Convert text views to P & q ----------------------\n",
    "def to_pick_matrix(groups: np.ndarray,\n",
    "                   equations: list[str],\n",
    "                   *,\n",
    "                   sum_to_one: bool = True,\n",
    "                   raise_if_group_missing: bool = False):\n",
    "    \"\"\"\n",
    "    Wrapper around `equations_to_matrix` that returns the BL\n",
    "    equality-view objects P (k×n) and q (k,).\n",
    "    Any inequality views are returned separately so you can\n",
    "    pass them as hard constraints to the optimiser.\n",
    "    \"\"\"\n",
    "    A_eq, b_eq, A_le, b_le = equations_to_matrix(\n",
    "        groups=groups,\n",
    "        equations=equations,\n",
    "        sum_to_one=sum_to_one,\n",
    "        raise_if_group_missing=raise_if_group_missing,\n",
    "    )\n",
    "\n",
    "    # Equality views are P r == q\n",
    "    P, q = A_eq, b_eq\n",
    "\n",
    "    # A_le r <= b_le can be held for the optimiser\n",
    "    return P, q, A_le, b_le\n",
    "# ---------- 2. Meucci-style Black-Litterman core ----------------\n",
    "def black_litterman(pi: np.ndarray,\n",
    "                    Sigma: np.ndarray,\n",
    "                    P: np.ndarray,\n",
    "                    q: np.ndarray,\n",
    "                    c: float | np.ndarray = 0.10):\n",
    "    \"\"\"\n",
    "    Posterior mean & covariance, Meucci parametrisation.\n",
    "    \"\"\"\n",
    "    if P.size == 0:          # no equality views\n",
    "        return pi.copy(), Sigma.copy()\n",
    "\n",
    "     # --- Ω according to Meucci: Ω_i = (1-c_i)/c_i · diag(PΣPᵀ)_i\n",
    "    diag_prior = np.diag(P @ Sigma @ P.T)         # k-vector\n",
    "    # handle scalar vs vector c\n",
    "    ratio = (1.0 - c) / c                         # → 0 when c = 1\n",
    "    Omega = np.diag(ratio * diag_prior)\n",
    "\n",
    "    M = P @ Sigma @ P.T + Omega\n",
    "    K = np.linalg.inv(M)\n",
    "\n",
    "    mu_bl = pi + Sigma @ P.T @ K @ (q - P @ pi)\n",
    "    Sigma_bl = Sigma - Sigma @ P.T @ K @ P @ Sigma\n",
    "\n",
    "    return mu_bl, Sigma_bl\n",
    "# ---------- 3. One-liner convenience ----------------------------\n",
    "def bl_from_text_views(pi, Sigma, equations, c=0.10, **kw):\n",
    "    \"\"\"\n",
    "    Full pipeline: text ➜ matrices ➜ BL posterior.\n",
    "    Returns:\n",
    "        mu_bl, Sigma_bl, A_le, b_le\n",
    "    The last two can be added as constraints in most optimisers.\n",
    "    \"\"\"\n",
    "    groups=np.asarray([Sigma.columns.tolist()])\n",
    "    P, q, A_le, b_le = to_pick_matrix(groups, equations, **kw)\n",
    "\n",
    "    mu_bl, Sigma_bl = black_litterman(pi.values, Sigma.values, P, q, c)\n",
    "\n",
    "    mu_bl=pd.Series(mu_bl,index=implied_factor_return_df.index,name=\"weights\")\n",
    "    Sigma_bl=pd.DataFrame(index=cov_shrunk.index,columns=cov_shrunk.columns,data=Sigma_bl)\n",
    "\n",
    "    return mu_bl, Sigma_bl, A_le, b_le"
   ],
   "id": "7a1d933cafa93c63"
  },
  {
   "metadata": {},
   "cell_type": "code",
   "outputs": [],
   "execution_count": null,
   "source": [
    "\n",
    "equations = [\n",
    "    \"beta == 20\",      # inequality, goes to the optimiser\n",
    "]\n",
    "\n",
    "# 2. Posterior inputs for the optimiser\n",
    "\n",
    "\n",
    "\n",
    "bl_returns, bl_cov, A_le, b_le = bl_from_text_views(\n",
    "    implied_factor_return_df, cov_shrunk,  equations, c=0.0000010, sum_to_one=True\n",
    ")"
   ],
   "id": "c9c383845fee02aa"
  },
  {
   "metadata": {
    "ExecuteTime": {
     "end_time": "2025-08-11T10:13:56.878451Z",
     "start_time": "2025-08-11T10:13:56.874075Z"
    }
   },
   "cell_type": "code",
   "source": [
    "\n",
    "bl_returns-implied_factor_return_df"
   ],
   "id": "d90aad366e9d9f57",
   "outputs": [
    {
     "data": {
      "text/plain": [
       "lncap             2.046867e-06\n",
       "lncap2           -4.674738e-06\n",
       "beta              1.999998e-05\n",
       "nl_beta          -1.432097e-05\n",
       "mom_12_1          1.114186e-06\n",
       "mom_1m           -6.515877e-07\n",
       "resid_vol         2.279348e-06\n",
       "liquidity        -2.642523e-08\n",
       "book_to_price     6.207512e-07\n",
       "leverage         -1.532950e-07\n",
       "div_yield         5.002779e-07\n",
       "earnings_yield    1.040438e-06\n",
       "profitability    -4.574611e-07\n",
       "Name: weights, dtype: float64"
      ]
     },
     "execution_count": 20,
     "metadata": {},
     "output_type": "execute_result"
    }
   ],
   "execution_count": 20
  },
  {
   "metadata": {
    "ExecuteTime": {
     "end_time": "2025-08-11T10:13:56.947857Z",
     "start_time": "2025-08-11T10:13:56.943007Z"
    }
   },
   "cell_type": "code",
   "source": [
    "\n",
    "def factor_to_asset_df(mu_f: pd.Series,\n",
    "                       Sigma_f: pd.DataFrame,\n",
    "                       B: pd.DataFrame,\n",
    "                       alpha: pd.Series | None = None,\n",
    "                       spec_var: pd.Series | None = None\n",
    "                      ) -> tuple[pd.Series, pd.DataFrame]:\n",
    "    \"\"\"\n",
    "    Expand a *factor* model (in pandas objects) to *asset* mean & covariance.\n",
    "\n",
    "    Parameters\n",
    "    ----------\n",
    "    mu_f      : Series      (k,)      expected factor returns\n",
    "    Sigma_f   : DataFrame   (k,k)     factor covariance\n",
    "    B         : DataFrame   (n,k)     asset × factor exposure matrix\n",
    "    alpha     : Series      (n,)      asset alphas; default 0\n",
    "    spec_var  : Series      (n,)      specific variances σ²_spec; default 0\n",
    "\n",
    "    Returns\n",
    "    -------\n",
    "    mu_a      : Series      (n,)      asset expected returns\n",
    "    Sigma_a   : DataFrame   (n,n)     asset covariance matrix\n",
    "    \"\"\"\n",
    "\n",
    "    # 1. Align factor names\n",
    "    factor_names = mu_f.index\n",
    "    Sigma_f = Sigma_f.reindex(index=factor_names, columns=factor_names)\n",
    "    B       = B.reindex(columns=factor_names).fillna(0.0)\n",
    "\n",
    "    # 2. Align asset names\n",
    "    asset_names = B.index\n",
    "    if alpha is None:\n",
    "        alpha = pd.Series(0.0, index=asset_names)\n",
    "    else:\n",
    "        alpha = alpha.reindex(asset_names).fillna(0.0)\n",
    "\n",
    "    if spec_var is None:\n",
    "        spec_var = pd.Series(0.0, index=asset_names)\n",
    "    else:\n",
    "        spec_var = spec_var.reindex(asset_names).fillna(0.0)\n",
    "\n",
    "    # 3. Compute\n",
    "    mu_a    = B.dot(mu_f) + alpha\n",
    "    factor_cov_asset = B.dot(Sigma_f).dot(B.T)\n",
    "    D       = pd.DataFrame(np.diag(spec_var), index=asset_names, columns=asset_names)\n",
    "    Sigma_a = factor_cov_asset + D\n",
    "\n",
    "    return mu_a, Sigma_a\n",
    "\n",
    "asset_returns,asset_covariance=factor_to_asset_df(mu_f=bl_returns, Sigma_f=bl_cov,\n",
    "                                               B=pfa.exposures_df.loc[last_date],\n",
    "                                               )"
   ],
   "id": "15a4a105dd808081",
   "outputs": [],
   "execution_count": 21
  },
  {
   "metadata": {
    "ExecuteTime": {
     "end_time": "2025-08-11T10:13:56.990652Z",
     "start_time": "2025-08-11T10:13:56.986707Z"
    }
   },
   "cell_type": "code",
   "source": "asset_returns",
   "id": "8e0c28bb8e9ebff9",
   "outputs": [
    {
     "data": {
      "text/plain": [
       "unique_identifier\n",
       "BBG000BS5CM9    0.000354\n",
       "BBG01Q08MMR1    0.000181\n",
       "BBG01NK9ZXT4    0.000298\n",
       "BBG01G9JKWV5    0.000361\n",
       "BBG0113JGQF0    0.000235\n",
       "                  ...   \n",
       "BBG000BKFZM4    0.000244\n",
       "BBG000BKL348    0.000233\n",
       "BBG000BKR1D6    0.000185\n",
       "BBG000BKTFN2    0.000227\n",
       "BBG000BKVJK4    0.000332\n",
       "Length: 476, dtype: float64"
      ]
     },
     "execution_count": 22,
     "metadata": {},
     "output_type": "execute_result"
    }
   ],
   "execution_count": 22
  },
  {
   "metadata": {
    "ExecuteTime": {
     "end_time": "2025-08-11T10:13:57.041301Z",
     "start_time": "2025-08-11T10:13:57.032598Z"
    }
   },
   "cell_type": "code",
   "source": "asset_covariance",
   "id": "961194dcecfc017b",
   "outputs": [
    {
     "data": {
      "text/plain": [
       "unique_identifier  BBG000BS5CM9  BBG01Q08MMR1  BBG01NK9ZXT4  BBG01G9JKWV5  \\\n",
       "unique_identifier                                                           \n",
       "BBG000BS5CM9          -0.000265     -0.000173     -0.000263     -0.000344   \n",
       "BBG01Q08MMR1          -0.000173     -0.000097     -0.000155     -0.000195   \n",
       "BBG01NK9ZXT4          -0.000263     -0.000155     -0.000224     -0.000268   \n",
       "BBG01G9JKWV5          -0.000344     -0.000195     -0.000268     -0.000237   \n",
       "BBG0113JGQF0          -0.000257     -0.000138     -0.000216     -0.000238   \n",
       "...                         ...           ...           ...           ...   \n",
       "BBG000BKFZM4          -0.000184     -0.000107     -0.000150     -0.000151   \n",
       "BBG000BKL348          -0.000300     -0.000171     -0.000261     -0.000328   \n",
       "BBG000BKR1D6          -0.000178     -0.000094     -0.000141     -0.000158   \n",
       "BBG000BKTFN2          -0.000249     -0.000145     -0.000222     -0.000292   \n",
       "BBG000BKVJK4          -0.000364     -0.000210     -0.000313     -0.000359   \n",
       "\n",
       "unique_identifier  BBG0113JGQF0  BBG00YRJXKB1  BBG00MRHG523  BBG00KXRCDP0  \\\n",
       "unique_identifier                                                           \n",
       "BBG000BS5CM9          -0.000257     -0.000377     -0.000307     -0.000262   \n",
       "BBG01Q08MMR1          -0.000138     -0.000212     -0.000163     -0.000139   \n",
       "BBG01NK9ZXT4          -0.000216     -0.000283     -0.000252     -0.000209   \n",
       "BBG01G9JKWV5          -0.000238     -0.000258     -0.000292     -0.000226   \n",
       "BBG0113JGQF0          -0.000125     -0.000234     -0.000217     -0.000164   \n",
       "...                         ...           ...           ...           ...   \n",
       "BBG000BKFZM4          -0.000135     -0.000144     -0.000176     -0.000141   \n",
       "BBG000BKL348          -0.000241     -0.000388     -0.000266     -0.000214   \n",
       "BBG000BKR1D6          -0.000126     -0.000153     -0.000149     -0.000125   \n",
       "BBG000BKTFN2          -0.000206     -0.000317     -0.000235     -0.000187   \n",
       "BBG000BKVJK4          -0.000272     -0.000424     -0.000327     -0.000268   \n",
       "\n",
       "unique_identifier  BBG00HVVB499  BBG00FQH6BS9  ...  BBG000BJSBJ0  \\\n",
       "unique_identifier                              ...                 \n",
       "BBG000BS5CM9          -0.000228     -0.000269  ...     -0.000063   \n",
       "BBG01Q08MMR1          -0.000130     -0.000159  ...     -0.000042   \n",
       "BBG01NK9ZXT4          -0.000204     -0.000246  ...     -0.000050   \n",
       "BBG01G9JKWV5          -0.000256     -0.000324  ...     -0.000058   \n",
       "BBG0113JGQF0          -0.000191     -0.000248  ...     -0.000067   \n",
       "...                         ...           ...  ...           ...   \n",
       "BBG000BKFZM4          -0.000149     -0.000182  ...     -0.000038   \n",
       "BBG000BKL348          -0.000198     -0.000260  ...     -0.000051   \n",
       "BBG000BKR1D6          -0.000135     -0.000159  ...     -0.000040   \n",
       "BBG000BKTFN2          -0.000168     -0.000225  ...     -0.000047   \n",
       "BBG000BKVJK4          -0.000271     -0.000330  ...     -0.000068   \n",
       "\n",
       "unique_identifier  BBG000BK2F42  BBG000BK67C7  BBG000BK6MB5  BBG000BKCFC2  \\\n",
       "unique_identifier                                                           \n",
       "BBG000BS5CM9          -0.000186     -0.000146 -3.012328e-05     -0.000251   \n",
       "BBG01Q08MMR1          -0.000109     -0.000089 -6.334163e-07     -0.000147   \n",
       "BBG01NK9ZXT4          -0.000156     -0.000128 -5.992906e-07     -0.000214   \n",
       "BBG01G9JKWV5          -0.000180     -0.000170  4.112084e-05     -0.000263   \n",
       "BBG0113JGQF0          -0.000160     -0.000147  5.351021e-05     -0.000223   \n",
       "...                         ...           ...           ...           ...   \n",
       "BBG000BKFZM4          -0.000104     -0.000102  2.500008e-05     -0.000172   \n",
       "BBG000BKL348          -0.000178     -0.000131 -2.928234e-06     -0.000206   \n",
       "BBG000BKR1D6          -0.000101     -0.000088  8.671101e-06     -0.000138   \n",
       "BBG000BKTFN2          -0.000168     -0.000114 -7.183962e-06     -0.000186   \n",
       "BBG000BKVJK4          -0.000197     -0.000176  1.573409e-05     -0.000283   \n",
       "\n",
       "unique_identifier  BBG000BKFZM4  BBG000BKL348  BBG000BKR1D6  BBG000BKTFN2  \\\n",
       "unique_identifier                                                           \n",
       "BBG000BS5CM9          -0.000184     -0.000300     -0.000178     -0.000249   \n",
       "BBG01Q08MMR1          -0.000107     -0.000171     -0.000094     -0.000145   \n",
       "BBG01NK9ZXT4          -0.000150     -0.000261     -0.000141     -0.000222   \n",
       "BBG01G9JKWV5          -0.000151     -0.000328     -0.000158     -0.000292   \n",
       "BBG0113JGQF0          -0.000135     -0.000241     -0.000126     -0.000206   \n",
       "...                         ...           ...           ...           ...   \n",
       "BBG000BKFZM4          -0.000078     -0.000194     -0.000091     -0.000168   \n",
       "BBG000BKL348          -0.000194     -0.000264     -0.000168     -0.000226   \n",
       "BBG000BKR1D6          -0.000091     -0.000168     -0.000073     -0.000148   \n",
       "BBG000BKTFN2          -0.000168     -0.000226     -0.000148     -0.000179   \n",
       "BBG000BKVJK4          -0.000210     -0.000347     -0.000196     -0.000310   \n",
       "\n",
       "unique_identifier  BBG000BKVJK4  \n",
       "unique_identifier                \n",
       "BBG000BS5CM9          -0.000364  \n",
       "BBG01Q08MMR1          -0.000210  \n",
       "BBG01NK9ZXT4          -0.000313  \n",
       "BBG01G9JKWV5          -0.000359  \n",
       "BBG0113JGQF0          -0.000272  \n",
       "...                         ...  \n",
       "BBG000BKFZM4          -0.000210  \n",
       "BBG000BKL348          -0.000347  \n",
       "BBG000BKR1D6          -0.000196  \n",
       "BBG000BKTFN2          -0.000310  \n",
       "BBG000BKVJK4          -0.000397  \n",
       "\n",
       "[476 rows x 476 columns]"
      ],
      "text/html": [
       "<div>\n",
       "<style scoped>\n",
       "    .dataframe tbody tr th:only-of-type {\n",
       "        vertical-align: middle;\n",
       "    }\n",
       "\n",
       "    .dataframe tbody tr th {\n",
       "        vertical-align: top;\n",
       "    }\n",
       "\n",
       "    .dataframe thead th {\n",
       "        text-align: right;\n",
       "    }\n",
       "</style>\n",
       "<table border=\"1\" class=\"dataframe\">\n",
       "  <thead>\n",
       "    <tr style=\"text-align: right;\">\n",
       "      <th>unique_identifier</th>\n",
       "      <th>BBG000BS5CM9</th>\n",
       "      <th>BBG01Q08MMR1</th>\n",
       "      <th>BBG01NK9ZXT4</th>\n",
       "      <th>BBG01G9JKWV5</th>\n",
       "      <th>BBG0113JGQF0</th>\n",
       "      <th>BBG00YRJXKB1</th>\n",
       "      <th>BBG00MRHG523</th>\n",
       "      <th>BBG00KXRCDP0</th>\n",
       "      <th>BBG00HVVB499</th>\n",
       "      <th>BBG00FQH6BS9</th>\n",
       "      <th>...</th>\n",
       "      <th>BBG000BJSBJ0</th>\n",
       "      <th>BBG000BK2F42</th>\n",
       "      <th>BBG000BK67C7</th>\n",
       "      <th>BBG000BK6MB5</th>\n",
       "      <th>BBG000BKCFC2</th>\n",
       "      <th>BBG000BKFZM4</th>\n",
       "      <th>BBG000BKL348</th>\n",
       "      <th>BBG000BKR1D6</th>\n",
       "      <th>BBG000BKTFN2</th>\n",
       "      <th>BBG000BKVJK4</th>\n",
       "    </tr>\n",
       "    <tr>\n",
       "      <th>unique_identifier</th>\n",
       "      <th></th>\n",
       "      <th></th>\n",
       "      <th></th>\n",
       "      <th></th>\n",
       "      <th></th>\n",
       "      <th></th>\n",
       "      <th></th>\n",
       "      <th></th>\n",
       "      <th></th>\n",
       "      <th></th>\n",
       "      <th></th>\n",
       "      <th></th>\n",
       "      <th></th>\n",
       "      <th></th>\n",
       "      <th></th>\n",
       "      <th></th>\n",
       "      <th></th>\n",
       "      <th></th>\n",
       "      <th></th>\n",
       "      <th></th>\n",
       "      <th></th>\n",
       "    </tr>\n",
       "  </thead>\n",
       "  <tbody>\n",
       "    <tr>\n",
       "      <th>BBG000BS5CM9</th>\n",
       "      <td>-0.000265</td>\n",
       "      <td>-0.000173</td>\n",
       "      <td>-0.000263</td>\n",
       "      <td>-0.000344</td>\n",
       "      <td>-0.000257</td>\n",
       "      <td>-0.000377</td>\n",
       "      <td>-0.000307</td>\n",
       "      <td>-0.000262</td>\n",
       "      <td>-0.000228</td>\n",
       "      <td>-0.000269</td>\n",
       "      <td>...</td>\n",
       "      <td>-0.000063</td>\n",
       "      <td>-0.000186</td>\n",
       "      <td>-0.000146</td>\n",
       "      <td>-3.012328e-05</td>\n",
       "      <td>-0.000251</td>\n",
       "      <td>-0.000184</td>\n",
       "      <td>-0.000300</td>\n",
       "      <td>-0.000178</td>\n",
       "      <td>-0.000249</td>\n",
       "      <td>-0.000364</td>\n",
       "    </tr>\n",
       "    <tr>\n",
       "      <th>BBG01Q08MMR1</th>\n",
       "      <td>-0.000173</td>\n",
       "      <td>-0.000097</td>\n",
       "      <td>-0.000155</td>\n",
       "      <td>-0.000195</td>\n",
       "      <td>-0.000138</td>\n",
       "      <td>-0.000212</td>\n",
       "      <td>-0.000163</td>\n",
       "      <td>-0.000139</td>\n",
       "      <td>-0.000130</td>\n",
       "      <td>-0.000159</td>\n",
       "      <td>...</td>\n",
       "      <td>-0.000042</td>\n",
       "      <td>-0.000109</td>\n",
       "      <td>-0.000089</td>\n",
       "      <td>-6.334163e-07</td>\n",
       "      <td>-0.000147</td>\n",
       "      <td>-0.000107</td>\n",
       "      <td>-0.000171</td>\n",
       "      <td>-0.000094</td>\n",
       "      <td>-0.000145</td>\n",
       "      <td>-0.000210</td>\n",
       "    </tr>\n",
       "    <tr>\n",
       "      <th>BBG01NK9ZXT4</th>\n",
       "      <td>-0.000263</td>\n",
       "      <td>-0.000155</td>\n",
       "      <td>-0.000224</td>\n",
       "      <td>-0.000268</td>\n",
       "      <td>-0.000216</td>\n",
       "      <td>-0.000283</td>\n",
       "      <td>-0.000252</td>\n",
       "      <td>-0.000209</td>\n",
       "      <td>-0.000204</td>\n",
       "      <td>-0.000246</td>\n",
       "      <td>...</td>\n",
       "      <td>-0.000050</td>\n",
       "      <td>-0.000156</td>\n",
       "      <td>-0.000128</td>\n",
       "      <td>-5.992906e-07</td>\n",
       "      <td>-0.000214</td>\n",
       "      <td>-0.000150</td>\n",
       "      <td>-0.000261</td>\n",
       "      <td>-0.000141</td>\n",
       "      <td>-0.000222</td>\n",
       "      <td>-0.000313</td>\n",
       "    </tr>\n",
       "    <tr>\n",
       "      <th>BBG01G9JKWV5</th>\n",
       "      <td>-0.000344</td>\n",
       "      <td>-0.000195</td>\n",
       "      <td>-0.000268</td>\n",
       "      <td>-0.000237</td>\n",
       "      <td>-0.000238</td>\n",
       "      <td>-0.000258</td>\n",
       "      <td>-0.000292</td>\n",
       "      <td>-0.000226</td>\n",
       "      <td>-0.000256</td>\n",
       "      <td>-0.000324</td>\n",
       "      <td>...</td>\n",
       "      <td>-0.000058</td>\n",
       "      <td>-0.000180</td>\n",
       "      <td>-0.000170</td>\n",
       "      <td>4.112084e-05</td>\n",
       "      <td>-0.000263</td>\n",
       "      <td>-0.000151</td>\n",
       "      <td>-0.000328</td>\n",
       "      <td>-0.000158</td>\n",
       "      <td>-0.000292</td>\n",
       "      <td>-0.000359</td>\n",
       "    </tr>\n",
       "    <tr>\n",
       "      <th>BBG0113JGQF0</th>\n",
       "      <td>-0.000257</td>\n",
       "      <td>-0.000138</td>\n",
       "      <td>-0.000216</td>\n",
       "      <td>-0.000238</td>\n",
       "      <td>-0.000125</td>\n",
       "      <td>-0.000234</td>\n",
       "      <td>-0.000217</td>\n",
       "      <td>-0.000164</td>\n",
       "      <td>-0.000191</td>\n",
       "      <td>-0.000248</td>\n",
       "      <td>...</td>\n",
       "      <td>-0.000067</td>\n",
       "      <td>-0.000160</td>\n",
       "      <td>-0.000147</td>\n",
       "      <td>5.351021e-05</td>\n",
       "      <td>-0.000223</td>\n",
       "      <td>-0.000135</td>\n",
       "      <td>-0.000241</td>\n",
       "      <td>-0.000126</td>\n",
       "      <td>-0.000206</td>\n",
       "      <td>-0.000272</td>\n",
       "    </tr>\n",
       "    <tr>\n",
       "      <th>...</th>\n",
       "      <td>...</td>\n",
       "      <td>...</td>\n",
       "      <td>...</td>\n",
       "      <td>...</td>\n",
       "      <td>...</td>\n",
       "      <td>...</td>\n",
       "      <td>...</td>\n",
       "      <td>...</td>\n",
       "      <td>...</td>\n",
       "      <td>...</td>\n",
       "      <td>...</td>\n",
       "      <td>...</td>\n",
       "      <td>...</td>\n",
       "      <td>...</td>\n",
       "      <td>...</td>\n",
       "      <td>...</td>\n",
       "      <td>...</td>\n",
       "      <td>...</td>\n",
       "      <td>...</td>\n",
       "      <td>...</td>\n",
       "      <td>...</td>\n",
       "    </tr>\n",
       "    <tr>\n",
       "      <th>BBG000BKFZM4</th>\n",
       "      <td>-0.000184</td>\n",
       "      <td>-0.000107</td>\n",
       "      <td>-0.000150</td>\n",
       "      <td>-0.000151</td>\n",
       "      <td>-0.000135</td>\n",
       "      <td>-0.000144</td>\n",
       "      <td>-0.000176</td>\n",
       "      <td>-0.000141</td>\n",
       "      <td>-0.000149</td>\n",
       "      <td>-0.000182</td>\n",
       "      <td>...</td>\n",
       "      <td>-0.000038</td>\n",
       "      <td>-0.000104</td>\n",
       "      <td>-0.000102</td>\n",
       "      <td>2.500008e-05</td>\n",
       "      <td>-0.000172</td>\n",
       "      <td>-0.000078</td>\n",
       "      <td>-0.000194</td>\n",
       "      <td>-0.000091</td>\n",
       "      <td>-0.000168</td>\n",
       "      <td>-0.000210</td>\n",
       "    </tr>\n",
       "    <tr>\n",
       "      <th>BBG000BKL348</th>\n",
       "      <td>-0.000300</td>\n",
       "      <td>-0.000171</td>\n",
       "      <td>-0.000261</td>\n",
       "      <td>-0.000328</td>\n",
       "      <td>-0.000241</td>\n",
       "      <td>-0.000388</td>\n",
       "      <td>-0.000266</td>\n",
       "      <td>-0.000214</td>\n",
       "      <td>-0.000198</td>\n",
       "      <td>-0.000260</td>\n",
       "      <td>...</td>\n",
       "      <td>-0.000051</td>\n",
       "      <td>-0.000178</td>\n",
       "      <td>-0.000131</td>\n",
       "      <td>-2.928234e-06</td>\n",
       "      <td>-0.000206</td>\n",
       "      <td>-0.000194</td>\n",
       "      <td>-0.000264</td>\n",
       "      <td>-0.000168</td>\n",
       "      <td>-0.000226</td>\n",
       "      <td>-0.000347</td>\n",
       "    </tr>\n",
       "    <tr>\n",
       "      <th>BBG000BKR1D6</th>\n",
       "      <td>-0.000178</td>\n",
       "      <td>-0.000094</td>\n",
       "      <td>-0.000141</td>\n",
       "      <td>-0.000158</td>\n",
       "      <td>-0.000126</td>\n",
       "      <td>-0.000153</td>\n",
       "      <td>-0.000149</td>\n",
       "      <td>-0.000125</td>\n",
       "      <td>-0.000135</td>\n",
       "      <td>-0.000159</td>\n",
       "      <td>...</td>\n",
       "      <td>-0.000040</td>\n",
       "      <td>-0.000101</td>\n",
       "      <td>-0.000088</td>\n",
       "      <td>8.671101e-06</td>\n",
       "      <td>-0.000138</td>\n",
       "      <td>-0.000091</td>\n",
       "      <td>-0.000168</td>\n",
       "      <td>-0.000073</td>\n",
       "      <td>-0.000148</td>\n",
       "      <td>-0.000196</td>\n",
       "    </tr>\n",
       "    <tr>\n",
       "      <th>BBG000BKTFN2</th>\n",
       "      <td>-0.000249</td>\n",
       "      <td>-0.000145</td>\n",
       "      <td>-0.000222</td>\n",
       "      <td>-0.000292</td>\n",
       "      <td>-0.000206</td>\n",
       "      <td>-0.000317</td>\n",
       "      <td>-0.000235</td>\n",
       "      <td>-0.000187</td>\n",
       "      <td>-0.000168</td>\n",
       "      <td>-0.000225</td>\n",
       "      <td>...</td>\n",
       "      <td>-0.000047</td>\n",
       "      <td>-0.000168</td>\n",
       "      <td>-0.000114</td>\n",
       "      <td>-7.183962e-06</td>\n",
       "      <td>-0.000186</td>\n",
       "      <td>-0.000168</td>\n",
       "      <td>-0.000226</td>\n",
       "      <td>-0.000148</td>\n",
       "      <td>-0.000179</td>\n",
       "      <td>-0.000310</td>\n",
       "    </tr>\n",
       "    <tr>\n",
       "      <th>BBG000BKVJK4</th>\n",
       "      <td>-0.000364</td>\n",
       "      <td>-0.000210</td>\n",
       "      <td>-0.000313</td>\n",
       "      <td>-0.000359</td>\n",
       "      <td>-0.000272</td>\n",
       "      <td>-0.000424</td>\n",
       "      <td>-0.000327</td>\n",
       "      <td>-0.000268</td>\n",
       "      <td>-0.000271</td>\n",
       "      <td>-0.000330</td>\n",
       "      <td>...</td>\n",
       "      <td>-0.000068</td>\n",
       "      <td>-0.000197</td>\n",
       "      <td>-0.000176</td>\n",
       "      <td>1.573409e-05</td>\n",
       "      <td>-0.000283</td>\n",
       "      <td>-0.000210</td>\n",
       "      <td>-0.000347</td>\n",
       "      <td>-0.000196</td>\n",
       "      <td>-0.000310</td>\n",
       "      <td>-0.000397</td>\n",
       "    </tr>\n",
       "  </tbody>\n",
       "</table>\n",
       "<p>476 rows × 476 columns</p>\n",
       "</div>"
      ]
     },
     "execution_count": 23,
     "metadata": {},
     "output_type": "execute_result"
    }
   ],
   "execution_count": 23
  },
  {
   "metadata": {
    "ExecuteTime": {
     "end_time": "2025-08-11T10:13:57.145771Z",
     "start_time": "2025-08-11T10:13:57.142467Z"
    }
   },
   "cell_type": "code",
   "source": [
    "implied_asset_return=implied_factor_return_df=implied_returns_from_portfolio(portfolio_weights=pfa.portfolio_weights,\n",
    "                               cov_matrix=asset_covariance,\n",
    "                               )\n",
    "(implied_asset_return-asset_returns)"
   ],
   "id": "2a425c9b28110158",
   "outputs": [
    {
     "data": {
      "text/plain": [
       "unique_identifier\n",
       "BBG000BS5CM9   -0.000016\n",
       "BBG01Q08MMR1   -0.000008\n",
       "BBG01NK9ZXT4   -0.000011\n",
       "BBG01G9JKWV5   -0.000009\n",
       "BBG0113JGQF0   -0.000008\n",
       "                  ...   \n",
       "BBG000BKFZM4   -0.000012\n",
       "BBG000BKL348   -0.000007\n",
       "BBG000BKR1D6   -0.000005\n",
       "BBG000BKTFN2   -0.000009\n",
       "BBG000BKVJK4   -0.000012\n",
       "Length: 476, dtype: float64"
      ]
     },
     "execution_count": 24,
     "metadata": {},
     "output_type": "execute_result"
    }
   ],
   "execution_count": 24
  },
  {
   "metadata": {
    "ExecuteTime": {
     "end_time": "2025-08-11T10:13:57.174993Z",
     "start_time": "2025-08-11T10:13:57.171196Z"
    }
   },
   "cell_type": "code",
   "source": "implied_asset_return",
   "id": "b79cdfd474acea29",
   "outputs": [
    {
     "data": {
      "text/plain": [
       "unique_identifier\n",
       "BBG000BS5CM9    0.000338\n",
       "BBG01Q08MMR1    0.000173\n",
       "BBG01NK9ZXT4    0.000287\n",
       "BBG01G9JKWV5    0.000352\n",
       "BBG0113JGQF0    0.000227\n",
       "                  ...   \n",
       "BBG000BKFZM4    0.000232\n",
       "BBG000BKL348    0.000226\n",
       "BBG000BKR1D6    0.000180\n",
       "BBG000BKTFN2    0.000218\n",
       "BBG000BKVJK4    0.000320\n",
       "Name: weights, Length: 476, dtype: float64"
      ]
     },
     "execution_count": 25,
     "metadata": {},
     "output_type": "execute_result"
    }
   ],
   "execution_count": 25
  },
  {
   "metadata": {
    "ExecuteTime": {
     "end_time": "2025-08-11T10:13:57.248387Z",
     "start_time": "2025-08-11T10:13:57.244635Z"
    }
   },
   "cell_type": "code",
   "source": "asset_returns",
   "id": "9ee7c4bd9d955013",
   "outputs": [
    {
     "data": {
      "text/plain": [
       "unique_identifier\n",
       "BBG000BS5CM9    0.000354\n",
       "BBG01Q08MMR1    0.000181\n",
       "BBG01NK9ZXT4    0.000298\n",
       "BBG01G9JKWV5    0.000361\n",
       "BBG0113JGQF0    0.000235\n",
       "                  ...   \n",
       "BBG000BKFZM4    0.000244\n",
       "BBG000BKL348    0.000233\n",
       "BBG000BKR1D6    0.000185\n",
       "BBG000BKTFN2    0.000227\n",
       "BBG000BKVJK4    0.000332\n",
       "Length: 476, dtype: float64"
      ]
     },
     "execution_count": 26,
     "metadata": {},
     "output_type": "execute_result"
    }
   ],
   "execution_count": 26
  }
 ],
 "metadata": {
  "kernelspec": {
   "name": "python3",
   "language": "python",
   "display_name": "Python 3 (ipykernel)"
  }
 },
 "nbformat": 4,
 "nbformat_minor": 5
}
